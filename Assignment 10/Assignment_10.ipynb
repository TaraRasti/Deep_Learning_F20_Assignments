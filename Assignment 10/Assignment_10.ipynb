{
  "nbformat": 4,
  "nbformat_minor": 0,
  "metadata": {
    "colab": {
      "name": "Assignment 10.ipynb",
      "provenance": [],
      "mount_file_id": "1tZZuIbFw9ZL8dxZTVzTc_tB0s9qtLY5I",
      "authorship_tag": "ABX9TyPhm3I6wMFVgmD20DRsuqyA",
      "include_colab_link": true
    },
    "kernelspec": {
      "name": "python3",
      "display_name": "Python 3"
    },
    "accelerator": "GPU"
  },
  "cells": [
    {
      "cell_type": "markdown",
      "metadata": {
        "id": "view-in-github",
        "colab_type": "text"
      },
      "source": [
        "<a href=\"https://colab.research.google.com/github/TaraRasti/Deep_Learning_F20_Assignments/blob/master/Assignment%2010/Assignment_10.ipynb\" target=\"_parent\"><img src=\"https://colab.research.google.com/assets/colab-badge.svg\" alt=\"Open In Colab\"/></a>"
      ]
    },
    {
      "cell_type": "code",
      "metadata": {
        "colab": {
          "base_uri": "https://localhost:8080/"
        },
        "id": "Bis1iZ8CcEbn",
        "outputId": "4f411e5d-2cfa-4cab-b3f9-9a0c169fc440"
      },
      "source": [
        "!pip install optuna"
      ],
      "execution_count": 20,
      "outputs": [
        {
          "output_type": "stream",
          "text": [
            "Collecting optuna\n",
            "\u001b[?25l  Downloading https://files.pythonhosted.org/packages/91/88/9c53460b97c61bce926dfe9dce51e4887c283416ff89ed30af0b73f44efa/optuna-2.5.0-py3-none-any.whl (287kB)\n",
            "\u001b[K     |████████████████████████████████| 296kB 10.6MB/s \n",
            "\u001b[?25hCollecting cliff\n",
            "\u001b[?25l  Downloading https://files.pythonhosted.org/packages/0f/8f/3c74fa4b6c3db1051b495385f5302fc5d5aa0f180d40ce3e9a13c82f8c82/cliff-3.6.0-py3-none-any.whl (79kB)\n",
            "\u001b[K     |████████████████████████████████| 81kB 7.2MB/s \n",
            "\u001b[?25hCollecting cmaes>=0.6.0\n",
            "  Downloading https://files.pythonhosted.org/packages/ed/68/eb3c281fbf3eac3574792826a8697714c3ddb9fa923f0bd77dc55dc04115/cmaes-0.8.0-py3-none-any.whl\n",
            "Collecting alembic\n",
            "\u001b[?25l  Downloading https://files.pythonhosted.org/packages/a9/53/daab5c96e22e9ed1c9f8ca4e3256e72213ade42d519b6254c32e59610967/alembic-1.5.4.tar.gz (1.1MB)\n",
            "\u001b[K     |████████████████████████████████| 1.1MB 10.0MB/s \n",
            "\u001b[?25hRequirement already satisfied: scipy!=1.4.0 in /usr/local/lib/python3.6/dist-packages (from optuna) (1.4.1)\n",
            "Requirement already satisfied: numpy in /usr/local/lib/python3.6/dist-packages (from optuna) (1.19.5)\n",
            "Requirement already satisfied: joblib in /usr/local/lib/python3.6/dist-packages (from optuna) (1.0.0)\n",
            "Requirement already satisfied: tqdm in /usr/local/lib/python3.6/dist-packages (from optuna) (4.41.1)\n",
            "Requirement already satisfied: packaging>=20.0 in /usr/local/lib/python3.6/dist-packages (from optuna) (20.9)\n",
            "Collecting colorlog\n",
            "  Downloading https://files.pythonhosted.org/packages/5e/39/0230290df0519d528d8d0ffdfd900150ed24e0076d13b1f19e279444aab1/colorlog-4.7.2-py2.py3-none-any.whl\n",
            "Requirement already satisfied: sqlalchemy>=1.1.0 in /usr/local/lib/python3.6/dist-packages (from optuna) (1.3.23)\n",
            "Requirement already satisfied: PyYAML>=3.12 in /usr/local/lib/python3.6/dist-packages (from cliff->optuna) (3.13)\n",
            "Requirement already satisfied: pyparsing>=2.1.0 in /usr/local/lib/python3.6/dist-packages (from cliff->optuna) (2.4.7)\n",
            "Collecting stevedore>=2.0.1\n",
            "\u001b[?25l  Downloading https://files.pythonhosted.org/packages/d4/49/b602307aeac3df3384ff1fcd05da9c0376c622a6c48bb5325f28ab165b57/stevedore-3.3.0-py3-none-any.whl (49kB)\n",
            "\u001b[K     |████████████████████████████████| 51kB 7.3MB/s \n",
            "\u001b[?25hCollecting cmd2!=0.8.3,>=0.8.0\n",
            "\u001b[?25l  Downloading https://files.pythonhosted.org/packages/15/8b/15061b32332bb35ea2a2f6263d0f616779d576e82739ec8e7fcf3c94abf5/cmd2-1.5.0-py3-none-any.whl (133kB)\n",
            "\u001b[K     |████████████████████████████████| 143kB 36.1MB/s \n",
            "\u001b[?25hCollecting pbr!=2.1.0,>=2.0.0\n",
            "\u001b[?25l  Downloading https://files.pythonhosted.org/packages/fb/48/69046506f6ac61c1eaa9a0d42d22d54673b69e176d30ca98e3f61513e980/pbr-5.5.1-py2.py3-none-any.whl (106kB)\n",
            "\u001b[K     |████████████████████████████████| 112kB 36.7MB/s \n",
            "\u001b[?25hCollecting PrettyTable<0.8,>=0.7.2\n",
            "  Downloading https://files.pythonhosted.org/packages/ef/30/4b0746848746ed5941f052479e7c23d2b56d174b82f4fd34a25e389831f5/prettytable-0.7.2.tar.bz2\n",
            "Collecting Mako\n",
            "\u001b[?25l  Downloading https://files.pythonhosted.org/packages/5c/db/2d2d88b924aa4674a080aae83b59ea19d593250bfe5ed789947c21736785/Mako-1.1.4.tar.gz (479kB)\n",
            "\u001b[K     |████████████████████████████████| 481kB 33.9MB/s \n",
            "\u001b[?25hCollecting python-editor>=0.3\n",
            "  Downloading https://files.pythonhosted.org/packages/c6/d3/201fc3abe391bbae6606e6f1d598c15d367033332bd54352b12f35513717/python_editor-1.0.4-py3-none-any.whl\n",
            "Requirement already satisfied: python-dateutil in /usr/local/lib/python3.6/dist-packages (from alembic->optuna) (2.8.1)\n",
            "Requirement already satisfied: importlib-metadata>=1.7.0; python_version < \"3.8\" in /usr/local/lib/python3.6/dist-packages (from stevedore>=2.0.1->cliff->optuna) (3.4.0)\n",
            "Requirement already satisfied: wcwidth>=0.1.7 in /usr/local/lib/python3.6/dist-packages (from cmd2!=0.8.3,>=0.8.0->cliff->optuna) (0.2.5)\n",
            "Requirement already satisfied: attrs>=16.3.0 in /usr/local/lib/python3.6/dist-packages (from cmd2!=0.8.3,>=0.8.0->cliff->optuna) (20.3.0)\n",
            "Collecting colorama>=0.3.7\n",
            "  Downloading https://files.pythonhosted.org/packages/44/98/5b86278fbbf250d239ae0ecb724f8572af1c91f4a11edf4d36a206189440/colorama-0.4.4-py2.py3-none-any.whl\n",
            "Collecting pyperclip>=1.6\n",
            "  Downloading https://files.pythonhosted.org/packages/6f/4c/0b1d507ad7e8bc31d690d04b4f475e74c2002d060f7994ce8c09612df707/pyperclip-1.8.1.tar.gz\n",
            "Requirement already satisfied: MarkupSafe>=0.9.2 in /usr/local/lib/python3.6/dist-packages (from Mako->alembic->optuna) (1.1.1)\n",
            "Requirement already satisfied: six>=1.5 in /usr/local/lib/python3.6/dist-packages (from python-dateutil->alembic->optuna) (1.15.0)\n",
            "Requirement already satisfied: zipp>=0.5 in /usr/local/lib/python3.6/dist-packages (from importlib-metadata>=1.7.0; python_version < \"3.8\"->stevedore>=2.0.1->cliff->optuna) (3.4.0)\n",
            "Requirement already satisfied: typing-extensions>=3.6.4; python_version < \"3.8\" in /usr/local/lib/python3.6/dist-packages (from importlib-metadata>=1.7.0; python_version < \"3.8\"->stevedore>=2.0.1->cliff->optuna) (3.7.4.3)\n",
            "Building wheels for collected packages: alembic, PrettyTable, Mako, pyperclip\n",
            "  Building wheel for alembic (setup.py) ... \u001b[?25l\u001b[?25hdone\n",
            "  Created wheel for alembic: filename=alembic-1.5.4-py2.py3-none-any.whl size=156314 sha256=753808f351582954e68e4896a79badfd03a2e61ae2211744a4a7355a96483e0c\n",
            "  Stored in directory: /root/.cache/pip/wheels/fd/2d/ec/5a1b1e2363ed68392d292d215facf588d5448198edd8078bc1\n",
            "  Building wheel for PrettyTable (setup.py) ... \u001b[?25l\u001b[?25hdone\n",
            "  Created wheel for PrettyTable: filename=prettytable-0.7.2-cp36-none-any.whl size=13702 sha256=a53744d922078379af7facc24e22ea05f90b9b7c939b0863a0167d02999897eb\n",
            "  Stored in directory: /root/.cache/pip/wheels/80/34/1c/3967380d9676d162cb59513bd9dc862d0584e045a162095606\n",
            "  Building wheel for Mako (setup.py) ... \u001b[?25l\u001b[?25hdone\n",
            "  Created wheel for Mako: filename=Mako-1.1.4-py2.py3-none-any.whl size=75675 sha256=e5f201f18a8b3cffa7cb8e02b0d949e8e3ff0aba915a7e94c4b209afaa3fd7f6\n",
            "  Stored in directory: /root/.cache/pip/wheels/ad/10/d3/aeb26e20d19045e2a68e5d3cbb57432e11b5d9c92c99f98d47\n",
            "  Building wheel for pyperclip (setup.py) ... \u001b[?25l\u001b[?25hdone\n",
            "  Created wheel for pyperclip: filename=pyperclip-1.8.1-cp36-none-any.whl size=11120 sha256=2098fc961ce658e9f23ca870f99d5d5df2daf459cb4f1df94c0e0d6544ebf305\n",
            "  Stored in directory: /root/.cache/pip/wheels/44/10/3a/c830e9bb3db2c93274ea1f213a41fabde0d8cf3794251fad0c\n",
            "Successfully built alembic PrettyTable Mako pyperclip\n",
            "Installing collected packages: pbr, stevedore, colorama, pyperclip, cmd2, PrettyTable, cliff, cmaes, Mako, python-editor, alembic, colorlog, optuna\n",
            "  Found existing installation: prettytable 2.0.0\n",
            "    Uninstalling prettytable-2.0.0:\n",
            "      Successfully uninstalled prettytable-2.0.0\n",
            "Successfully installed Mako-1.1.4 PrettyTable-0.7.2 alembic-1.5.4 cliff-3.6.0 cmaes-0.8.0 cmd2-1.5.0 colorama-0.4.4 colorlog-4.7.2 optuna-2.5.0 pbr-5.5.1 pyperclip-1.8.1 python-editor-1.0.4 stevedore-3.3.0\n"
          ],
          "name": "stdout"
        }
      ]
    },
    {
      "cell_type": "code",
      "metadata": {
        "id": "-dcGz2g5cEeC"
      },
      "source": [
        "import numpy as np\n",
        "import torch\n",
        "import torch.nn as nn\n",
        "import torch.nn.functional as F\n",
        "import torch.utils.data\n",
        "from torch.autograd import Variable\n",
        "import torchvision\n",
        "from torchvision import datasets, models, transforms\n",
        "import torch.optim as optim\n",
        "import optuna\n",
        "from optuna.pruners import ThresholdPruner"
      ],
      "execution_count": 21,
      "outputs": []
    },
    {
      "cell_type": "code",
      "metadata": {
        "id": "CuXGYfiZcEiN"
      },
      "source": [
        "transforms = transforms.Compose([\n",
        "        transforms.ToTensor()\n",
        "    ])\n",
        "data_dir='/content/data'\n",
        "\n",
        "train_ds = torchvision.datasets.FashionMNIST(root = data_dir, train=True, download=True, transform=transforms)\n",
        "val_ds = torchvision.datasets.FashionMNIST(root = data_dir, train=False, download=True, transform=transforms)"
      ],
      "execution_count": 22,
      "outputs": []
    },
    {
      "cell_type": "code",
      "metadata": {
        "id": "f8j_RnG1cEke"
      },
      "source": [
        "loss_function = nn.CrossEntropyLoss()"
      ],
      "execution_count": 23,
      "outputs": []
    },
    {
      "cell_type": "code",
      "metadata": {
        "id": "rnuLmmAcz7Ob"
      },
      "source": [
        "class Net(nn.Module): \n",
        "  def __init__(self):\n",
        "      super(Net, self).__init__()\n",
        "      self.conv1 = nn.Conv2d(1, 20, 5, 1) \n",
        "      self.conv2 = nn.Conv2d(20, 50, 5, 1) \n",
        "      self.fc1 = nn.Linear(4*4*50, 500) \n",
        "      self.fc2 = nn.Linear(500, 10)\n",
        "\n",
        "  def forward(self, x):\n",
        "      x = F.relu(self.conv1(x))\n",
        "      x = F.max_pool2d(x, 2, 2)\n",
        "      x = F.relu(self.conv2(x))\n",
        "      x = F.max_pool2d(x, 2, 2)\n",
        "      x = x.view(-1, 4*4*50)\n",
        "      x = F.relu(self.fc1(x))\n",
        "      x = self.fc2(x)\n",
        "      return F.log_softmax(x, dim=1)"
      ],
      "execution_count": 24,
      "outputs": []
    },
    {
      "cell_type": "code",
      "metadata": {
        "id": "i-525PlmcEo8"
      },
      "source": [
        "def train(trial,epochs,optimizer,train_loader,cnn,device):\n",
        "    epoch_loss = []\n",
        "    epoch_acc = []\n",
        "    for epoch in range(epochs):\n",
        "        running_loss = []\n",
        "        running_acc = []\n",
        "        for local_batch, local_labels in train_loader:\n",
        "            local_batch, local_labels = local_batch.to(device), local_labels.to(device)\n",
        "            optimizer.zero_grad()\n",
        "            outputs = cnn(local_batch)\n",
        "            loss = loss_function(outputs, local_labels)\n",
        "            loss.backward()\n",
        "            optimizer.step()\n",
        "            running_loss += [loss.item()]\n",
        "            _, predicted = torch.max(outputs, 1)\n",
        "            running_acc += [(predicted == local_labels).sum().item()/train_loader.batch_size]\n",
        "        \n",
        "        epoch_acc.append(np.mean(running_acc))\n",
        "        epoch_loss.append(np.mean(running_loss))\n",
        "        print('[{:d}] loss: {:7.5f} - acc {:7.5f}'.format(epoch + 1,epoch_loss[-1],epoch_acc[-1]))\n",
        "        if len(epoch_loss) > 4:\n",
        "            print('var: ',np.var(epoch_loss[-5:]))\n",
        "            trial.report(np.var(epoch_loss[-5:]), epoch)\n",
        "            if trial.should_prune():\n",
        "                raise optuna.TrialPruned()\n",
        "                \n",
        "    return epoch_loss[-1]"
      ],
      "execution_count": 25,
      "outputs": []
    },
    {
      "cell_type": "code",
      "metadata": {
        "id": "yacbOd5bcErD"
      },
      "source": [
        "opt_func = [optim.SGD, optim.Adam, optim.RMSprop]\n",
        "def objective(trial):\n",
        "    use_cuda = torch.cuda.is_available()\n",
        "    device = torch.device(\"cuda:0\" if use_cuda else \"cpu\")\n",
        "    print(device)\n",
        "    torch.backends.cudnn.benchmark = True\n",
        "    opt_id = trial.suggest_categorical(\"optimizer\",range(len(opt_func)))\n",
        "    optim.Adam\n",
        "    batch_sz = 2**trial.suggest_int('batch_size',4,6,1)\n",
        "\n",
        "    train_loader = torch.utils.data.DataLoader(train_ds, batch_size=batch_sz, shuffle=True)\n",
        "    cnn = Net()\n",
        "    cnn.to(device)\n",
        "    optimizer= opt_func[opt_id](cnn.parameters(),lr=0.01)\n",
        "    print(opt_func[opt_id])\n",
        "    intermediate_value=train(trial,\n",
        "                             trial.suggest_int('num_epoch',30,70,20),\n",
        "                             optimizer,\n",
        "                             train_loader,\n",
        "                             cnn,\n",
        "                             device)\n",
        "\n",
        "    return intermediate_value"
      ],
      "execution_count": 26,
      "outputs": []
    },
    {
      "cell_type": "code",
      "metadata": {
        "colab": {
          "base_uri": "https://localhost:8080/"
        },
        "id": "9hizg1-Icdyh",
        "outputId": "a2ddc45f-a55c-4552-e150-bd743221e119"
      },
      "source": [
        "study = optuna.create_study(pruner=ThresholdPruner(lower=0.01))\n",
        "study.optimize(objective, n_trials=50)"
      ],
      "execution_count": 27,
      "outputs": [
        {
          "output_type": "stream",
          "text": [
            "\u001b[32m[I 2021-02-05 09:07:12,452]\u001b[0m A new study created in memory with name: no-name-b4f402f2-654f-48ec-a898-8ad18cc28b28\u001b[0m\n"
          ],
          "name": "stderr"
        },
        {
          "output_type": "stream",
          "text": [
            "cuda:0\n",
            "<class 'torch.optim.sgd.SGD'>\n",
            "[1] loss: 0.94100 - acc 0.65582\n",
            "[2] loss: 0.57559 - acc 0.78667\n",
            "[3] loss: 0.48434 - acc 0.82242\n",
            "[4] loss: 0.43360 - acc 0.84260\n",
            "[5] loss: 0.39815 - acc 0.85595\n",
            "var:  0.03861727310046161\n"
          ],
          "name": "stdout"
        },
        {
          "output_type": "stream",
          "text": [
            "\u001b[32m[I 2021-02-05 09:08:26,931]\u001b[0m Trial 0 pruned. \u001b[0m\n"
          ],
          "name": "stderr"
        },
        {
          "output_type": "stream",
          "text": [
            "[6] loss: 0.37186 - acc 0.86582\n",
            "var:  0.005195595892725764\n",
            "cuda:0\n",
            "<class 'torch.optim.sgd.SGD'>\n",
            "[1] loss: 0.83012 - acc 0.70070\n",
            "[2] loss: 0.48050 - acc 0.82260\n",
            "[3] loss: 0.40847 - acc 0.85130\n",
            "[4] loss: 0.36606 - acc 0.86663\n",
            "[5] loss: 0.33568 - acc 0.87775\n",
            "var:  0.03228454197313356\n"
          ],
          "name": "stdout"
        },
        {
          "output_type": "stream",
          "text": [
            "\u001b[32m[I 2021-02-05 09:10:13,670]\u001b[0m Trial 1 pruned. \u001b[0m\n"
          ],
          "name": "stderr"
        },
        {
          "output_type": "stream",
          "text": [
            "[6] loss: 0.31599 - acc 0.88353\n",
            "var:  0.003431686757064398\n",
            "cuda:0\n",
            "<class 'torch.optim.sgd.SGD'>\n",
            "[1] loss: 0.98942 - acc 0.63667\n",
            "[2] loss: 0.57942 - acc 0.78250\n",
            "[3] loss: 0.49017 - acc 0.82105\n",
            "[4] loss: 0.43737 - acc 0.84137\n",
            "[5] loss: 0.40021 - acc 0.85533\n",
            "var:  0.045671938522933206\n"
          ],
          "name": "stdout"
        },
        {
          "output_type": "stream",
          "text": [
            "\u001b[32m[I 2021-02-05 09:11:28,200]\u001b[0m Trial 2 pruned. \u001b[0m\n"
          ],
          "name": "stderr"
        },
        {
          "output_type": "stream",
          "text": [
            "[6] loss: 0.37425 - acc 0.86518\n",
            "var:  0.005308648924274258\n",
            "cuda:0\n",
            "<class 'torch.optim.adam.Adam'>\n",
            "[1] loss: 0.54698 - acc 0.79583\n",
            "[2] loss: 0.45663 - acc 0.83090\n",
            "[3] loss: 0.43389 - acc 0.84053\n",
            "[4] loss: 0.43918 - acc 0.83908\n"
          ],
          "name": "stdout"
        },
        {
          "output_type": "stream",
          "text": [
            "\u001b[32m[I 2021-02-05 09:13:17,712]\u001b[0m Trial 3 pruned. \u001b[0m\n"
          ],
          "name": "stderr"
        },
        {
          "output_type": "stream",
          "text": [
            "[5] loss: 0.42403 - acc 0.84267\n",
            "var:  0.001997200404849385\n",
            "cuda:0\n",
            "<class 'torch.optim.sgd.SGD'>\n",
            "[1] loss: 0.82787 - acc 0.69158\n",
            "[2] loss: 0.47588 - acc 0.82617\n",
            "[3] loss: 0.40043 - acc 0.85595\n",
            "[4] loss: 0.35970 - acc 0.86863\n",
            "[5] loss: 0.33295 - acc 0.87932\n",
            "var:  0.032690372631519894\n"
          ],
          "name": "stdout"
        },
        {
          "output_type": "stream",
          "text": [
            "\u001b[32m[I 2021-02-05 09:15:04,176]\u001b[0m Trial 4 pruned. \u001b[0m\n"
          ],
          "name": "stderr"
        },
        {
          "output_type": "stream",
          "text": [
            "[6] loss: 0.31186 - acc 0.88633\n",
            "var:  0.00336131937497875\n",
            "cuda:0\n",
            "<class 'torch.optim.sgd.SGD'>\n",
            "[1] loss: 0.80487 - acc 0.70378\n",
            "[2] loss: 0.48336 - acc 0.82157\n",
            "[3] loss: 0.40843 - acc 0.85153\n",
            "[4] loss: 0.36404 - acc 0.86698\n",
            "[5] loss: 0.33569 - acc 0.87757\n",
            "var:  0.028988032031896212\n"
          ],
          "name": "stdout"
        },
        {
          "output_type": "stream",
          "text": [
            "\u001b[32m[I 2021-02-05 09:16:50,773]\u001b[0m Trial 5 pruned. \u001b[0m\n"
          ],
          "name": "stderr"
        },
        {
          "output_type": "stream",
          "text": [
            "[6] loss: 0.31414 - acc 0.88590\n",
            "var:  0.003608181926116542\n",
            "cuda:0\n",
            "<class 'torch.optim.rmsprop.RMSprop'>\n",
            "[1] loss: 5.38919 - acc 0.79529\n",
            "[2] loss: 0.40829 - acc 0.84938\n",
            "[3] loss: 0.36996 - acc 0.86449\n",
            "[4] loss: 0.34899 - acc 0.87057\n",
            "[5] loss: 0.34127 - acc 0.87602\n",
            "var:  4.0359199693491785\n"
          ],
          "name": "stdout"
        },
        {
          "output_type": "stream",
          "text": [
            "\u001b[32m[I 2021-02-05 09:17:52,853]\u001b[0m Trial 6 pruned. \u001b[0m\n"
          ],
          "name": "stderr"
        },
        {
          "output_type": "stream",
          "text": [
            "[6] loss: 0.33789 - acc 0.87733\n",
            "var:  0.0006768097224227573\n",
            "cuda:0\n",
            "<class 'torch.optim.sgd.SGD'>\n",
            "[1] loss: 0.94024 - acc 0.65855\n",
            "[2] loss: 0.58848 - acc 0.77947\n",
            "[3] loss: 0.50058 - acc 0.81730\n",
            "[4] loss: 0.44924 - acc 0.83670\n",
            "[5] loss: 0.41338 - acc 0.85185\n",
            "var:  0.03619939570492374\n"
          ],
          "name": "stdout"
        },
        {
          "output_type": "stream",
          "text": [
            "\u001b[32m[I 2021-02-05 09:19:06,700]\u001b[0m Trial 7 pruned. \u001b[0m\n"
          ],
          "name": "stderr"
        },
        {
          "output_type": "stream",
          "text": [
            "[6] loss: 0.38636 - acc 0.85972\n",
            "var:  0.005115274146934464\n",
            "cuda:0\n",
            "<class 'torch.optim.rmsprop.RMSprop'>\n",
            "[1] loss: 2.16861 - acc 0.79700\n",
            "[2] loss: 0.48828 - acc 0.82688\n",
            "[3] loss: 0.49066 - acc 0.82900\n",
            "[4] loss: 0.49847 - acc 0.82403\n",
            "[5] loss: 0.49949 - acc 0.82668\n",
            "var:  0.4485908400073975\n"
          ],
          "name": "stdout"
        },
        {
          "output_type": "stream",
          "text": [
            "\u001b[32m[I 2021-02-05 09:21:11,151]\u001b[0m Trial 8 pruned. \u001b[0m\n"
          ],
          "name": "stderr"
        },
        {
          "output_type": "stream",
          "text": [
            "[6] loss: 0.50388 - acc 0.82468\n",
            "var:  3.365955653921865e-05\n",
            "cuda:0\n",
            "<class 'torch.optim.sgd.SGD'>\n",
            "[1] loss: 0.80330 - acc 0.70602\n",
            "[2] loss: 0.47687 - acc 0.82483\n",
            "[3] loss: 0.40489 - acc 0.85190\n",
            "[4] loss: 0.36315 - acc 0.86823\n",
            "[5] loss: 0.33523 - acc 0.87702\n",
            "var:  0.028945882544492034\n"
          ],
          "name": "stdout"
        },
        {
          "output_type": "stream",
          "text": [
            "\u001b[32m[I 2021-02-05 09:22:58,075]\u001b[0m Trial 9 pruned. \u001b[0m\n"
          ],
          "name": "stderr"
        },
        {
          "output_type": "stream",
          "text": [
            "[6] loss: 0.31432 - acc 0.88585\n",
            "var:  0.0033199400232619787\n",
            "cuda:0\n",
            "<class 'torch.optim.rmsprop.RMSprop'>\n",
            "[1] loss: 3.35048 - acc 0.78596\n",
            "[2] loss: 0.43060 - acc 0.83930\n",
            "[3] loss: 0.39422 - acc 0.85468\n",
            "[4] loss: 0.36582 - acc 0.86359\n",
            "[5] loss: 0.35493 - acc 0.86785\n",
            "var:  1.406413552117785\n"
          ],
          "name": "stdout"
        },
        {
          "output_type": "stream",
          "text": [
            "\u001b[32m[I 2021-02-05 09:24:00,249]\u001b[0m Trial 10 pruned. \u001b[0m\n"
          ],
          "name": "stderr"
        },
        {
          "output_type": "stream",
          "text": [
            "[6] loss: 0.34812 - acc 0.87139\n",
            "var:  0.0009200814494409317\n",
            "cuda:0\n",
            "<class 'torch.optim.rmsprop.RMSprop'>\n",
            "[1] loss: 7.10337 - acc 0.78163\n",
            "[2] loss: 0.42409 - acc 0.84447\n",
            "[3] loss: 0.38041 - acc 0.86242\n",
            "[4] loss: 0.35882 - acc 0.86814\n",
            "[5] loss: 0.34704 - acc 0.87124\n",
            "var:  7.238473866718087\n"
          ],
          "name": "stdout"
        },
        {
          "output_type": "stream",
          "text": [
            "\u001b[32m[I 2021-02-05 09:25:02,302]\u001b[0m Trial 11 pruned. \u001b[0m\n"
          ],
          "name": "stderr"
        },
        {
          "output_type": "stream",
          "text": [
            "[6] loss: 0.33882 - acc 0.87425\n",
            "var:  0.0009316198881171899\n",
            "cuda:0\n",
            "<class 'torch.optim.rmsprop.RMSprop'>\n",
            "[1] loss: 2.41876 - acc 0.76546\n",
            "[2] loss: 0.46525 - acc 0.82653\n",
            "[3] loss: 0.40438 - acc 0.84741\n",
            "[4] loss: 0.37992 - acc 0.85709\n",
            "[5] loss: 0.36786 - acc 0.86297\n",
            "var:  0.6503818814067891\n"
          ],
          "name": "stdout"
        },
        {
          "output_type": "stream",
          "text": [
            "\u001b[32m[I 2021-02-05 09:26:04,431]\u001b[0m Trial 12 pruned. \u001b[0m\n"
          ],
          "name": "stderr"
        },
        {
          "output_type": "stream",
          "text": [
            "[6] loss: 0.35719 - acc 0.86739\n",
            "var:  0.0014833217690020093\n",
            "cuda:0\n",
            "<class 'torch.optim.rmsprop.RMSprop'>\n",
            "[1] loss: 5.16517 - acc 0.76088\n",
            "[2] loss: 0.44808 - acc 0.83289\n",
            "[3] loss: 0.38655 - acc 0.85604\n",
            "[4] loss: 0.35911 - acc 0.86712\n",
            "[5] loss: 0.34948 - acc 0.87075\n",
            "var:  3.6559550934138967\n"
          ],
          "name": "stdout"
        },
        {
          "output_type": "stream",
          "text": [
            "\u001b[32m[I 2021-02-05 09:27:06,507]\u001b[0m Trial 13 pruned. \u001b[0m\n"
          ],
          "name": "stderr"
        },
        {
          "output_type": "stream",
          "text": [
            "[6] loss: 0.34013 - acc 0.87523\n",
            "var:  0.0015160791233463898\n",
            "cuda:0\n",
            "<class 'torch.optim.rmsprop.RMSprop'>\n",
            "[1] loss: 1.55049 - acc 0.72933\n",
            "[2] loss: 0.45562 - acc 0.83145\n",
            "[3] loss: 0.42974 - acc 0.84358\n",
            "[4] loss: 0.41927 - acc 0.84573\n",
            "[5] loss: 0.41330 - acc 0.84938\n",
            "var:  0.2012735823210381\n"
          ],
          "name": "stdout"
        },
        {
          "output_type": "stream",
          "text": [
            "\u001b[32m[I 2021-02-05 09:28:29,121]\u001b[0m Trial 14 pruned. \u001b[0m\n"
          ],
          "name": "stderr"
        },
        {
          "output_type": "stream",
          "text": [
            "[6] loss: 0.41347 - acc 0.84918\n",
            "var:  0.0002508860174339149\n",
            "cuda:0\n",
            "<class 'torch.optim.rmsprop.RMSprop'>\n",
            "[1] loss: 1.50731 - acc 0.77432\n",
            "[2] loss: 0.44839 - acc 0.83602\n",
            "[3] loss: 0.43086 - acc 0.84090\n",
            "[4] loss: 0.41918 - acc 0.84637\n",
            "[5] loss: 0.41486 - acc 0.85062\n",
            "var:  0.18640840744841444\n"
          ],
          "name": "stdout"
        },
        {
          "output_type": "stream",
          "text": [
            "\u001b[32m[I 2021-02-05 09:29:52,291]\u001b[0m Trial 15 pruned. \u001b[0m\n"
          ],
          "name": "stderr"
        },
        {
          "output_type": "stream",
          "text": [
            "[6] loss: 0.41132 - acc 0.85035\n",
            "var:  0.00018101620645283163\n",
            "cuda:0\n",
            "<class 'torch.optim.adam.Adam'>\n",
            "[1] loss: 0.51280 - acc 0.80873\n",
            "[2] loss: 0.41571 - acc 0.84628\n",
            "[3] loss: 0.38831 - acc 0.85567\n",
            "[4] loss: 0.37920 - acc 0.85897\n"
          ],
          "name": "stdout"
        },
        {
          "output_type": "stream",
          "text": [
            "\u001b[32m[I 2021-02-05 09:31:03,836]\u001b[0m Trial 16 pruned. \u001b[0m\n"
          ],
          "name": "stderr"
        },
        {
          "output_type": "stream",
          "text": [
            "[5] loss: 0.36821 - acc 0.86282\n",
            "var:  0.0027450419603810964\n",
            "cuda:0\n",
            "<class 'torch.optim.rmsprop.RMSprop'>\n",
            "[1] loss: 3.23411 - acc 0.75713\n",
            "[2] loss: 0.45832 - acc 0.83158\n",
            "[3] loss: 0.43362 - acc 0.84057\n",
            "[4] loss: 0.41951 - acc 0.84665\n",
            "[5] loss: 0.41595 - acc 0.84927\n",
            "var:  1.2566455738431965\n"
          ],
          "name": "stdout"
        },
        {
          "output_type": "stream",
          "text": [
            "\u001b[32m[I 2021-02-05 09:32:26,266]\u001b[0m Trial 17 pruned. \u001b[0m\n"
          ],
          "name": "stderr"
        },
        {
          "output_type": "stream",
          "text": [
            "[6] loss: 0.40899 - acc 0.85158\n",
            "var:  0.0003054459675006388\n",
            "cuda:0\n",
            "<class 'torch.optim.rmsprop.RMSprop'>\n",
            "[1] loss: 1.24191 - acc 0.77920\n",
            "[2] loss: 0.48822 - acc 0.82372\n",
            "[3] loss: 0.48416 - acc 0.82470\n",
            "[4] loss: 0.48170 - acc 0.82542\n",
            "[5] loss: 0.48712 - acc 0.82482\n",
            "var:  0.09159752774470743\n"
          ],
          "name": "stdout"
        },
        {
          "output_type": "stream",
          "text": [
            "\u001b[32m[I 2021-02-05 09:34:30,840]\u001b[0m Trial 18 pruned. \u001b[0m\n"
          ],
          "name": "stderr"
        },
        {
          "output_type": "stream",
          "text": [
            "[6] loss: 0.48643 - acc 0.82638\n",
            "var:  5.429847300419616e-06\n",
            "cuda:0\n",
            "<class 'torch.optim.adam.Adam'>\n",
            "[1] loss: 0.52546 - acc 0.80697\n",
            "[2] loss: 0.44443 - acc 0.83723\n",
            "[3] loss: 0.43396 - acc 0.84180\n",
            "[4] loss: 0.42910 - acc 0.84745\n"
          ],
          "name": "stdout"
        },
        {
          "output_type": "stream",
          "text": [
            "\u001b[32m[I 2021-02-05 09:36:20,289]\u001b[0m Trial 19 pruned. \u001b[0m\n"
          ],
          "name": "stderr"
        },
        {
          "output_type": "stream",
          "text": [
            "[5] loss: 0.42550 - acc 0.84752\n",
            "var:  0.0014009447522216588\n",
            "cuda:0\n",
            "<class 'torch.optim.rmsprop.RMSprop'>\n",
            "[1] loss: 2.82952 - acc 0.78113\n",
            "[2] loss: 0.49655 - acc 0.82262\n",
            "[3] loss: 0.47793 - acc 0.83058\n",
            "[4] loss: 0.48449 - acc 0.82868\n",
            "[5] loss: 0.53225 - acc 0.80562\n",
            "var:  0.8702538755357526\n"
          ],
          "name": "stdout"
        },
        {
          "output_type": "stream",
          "text": [
            "\u001b[32m[I 2021-02-05 09:38:25,050]\u001b[0m Trial 20 pruned. \u001b[0m\n"
          ],
          "name": "stderr"
        },
        {
          "output_type": "stream",
          "text": [
            "[6] loss: 0.53256 - acc 0.80258\n",
            "var:  0.0005452848610768517\n",
            "cuda:0\n",
            "<class 'torch.optim.rmsprop.RMSprop'>\n",
            "[1] loss: 2.14694 - acc 0.77565\n",
            "[2] loss: 0.44528 - acc 0.84105\n",
            "[3] loss: 0.41594 - acc 0.84873\n",
            "[4] loss: 0.41166 - acc 0.85145\n",
            "[5] loss: 0.41153 - acc 0.85245\n",
            "var:  0.4767219403935853\n"
          ],
          "name": "stdout"
        },
        {
          "output_type": "stream",
          "text": [
            "\u001b[32m[I 2021-02-05 09:39:47,647]\u001b[0m Trial 21 pruned. \u001b[0m\n"
          ],
          "name": "stderr"
        },
        {
          "output_type": "stream",
          "text": [
            "[6] loss: 0.40444 - acc 0.85557\n",
            "var:  0.00020277245112250837\n",
            "cuda:0\n",
            "<class 'torch.optim.rmsprop.RMSprop'>\n",
            "[1] loss: 2.07482 - acc 0.77968\n",
            "[2] loss: 0.48309 - acc 0.82523\n",
            "[3] loss: 0.47516 - acc 0.82845\n",
            "[4] loss: 0.48251 - acc 0.82917\n",
            "[5] loss: 0.49400 - acc 0.82383\n",
            "var:  0.40510809354514504\n"
          ],
          "name": "stdout"
        },
        {
          "output_type": "stream",
          "text": [
            "\u001b[32m[I 2021-02-05 09:41:52,331]\u001b[0m Trial 22 pruned. \u001b[0m\n"
          ],
          "name": "stderr"
        },
        {
          "output_type": "stream",
          "text": [
            "[6] loss: 0.49206 - acc 0.82598\n",
            "var:  4.734662893162392e-05\n",
            "cuda:0\n",
            "<class 'torch.optim.rmsprop.RMSprop'>\n",
            "[1] loss: 1.64554 - acc 0.79748\n",
            "[2] loss: 0.48096 - acc 0.83013\n",
            "[3] loss: 0.48240 - acc 0.82913\n",
            "[4] loss: 0.48756 - acc 0.83082\n",
            "[5] loss: 0.50376 - acc 0.82707\n",
            "var:  0.21419917523182425\n"
          ],
          "name": "stdout"
        },
        {
          "output_type": "stream",
          "text": [
            "\u001b[32m[I 2021-02-05 09:43:55,985]\u001b[0m Trial 23 pruned. \u001b[0m\n"
          ],
          "name": "stderr"
        },
        {
          "output_type": "stream",
          "text": [
            "[6] loss: 0.50334 - acc 0.82710\n",
            "var:  9.994457427436781e-05\n",
            "cuda:0\n",
            "<class 'torch.optim.rmsprop.RMSprop'>\n",
            "[1] loss: 1.88281 - acc 0.76603\n",
            "[2] loss: 0.48229 - acc 0.82740\n",
            "[3] loss: 0.48070 - acc 0.82855\n",
            "[4] loss: 0.47819 - acc 0.83092\n",
            "[5] loss: 0.48802 - acc 0.82953\n",
            "var:  0.31383982512019104\n"
          ],
          "name": "stdout"
        },
        {
          "output_type": "stream",
          "text": [
            "\u001b[32m[I 2021-02-05 09:46:00,153]\u001b[0m Trial 24 pruned. \u001b[0m\n"
          ],
          "name": "stderr"
        },
        {
          "output_type": "stream",
          "text": [
            "[6] loss: 0.48889 - acc 0.82878\n",
            "var:  1.736138401519575e-05\n",
            "cuda:0\n",
            "<class 'torch.optim.rmsprop.RMSprop'>\n",
            "[1] loss: 2.12312 - acc 0.77633\n",
            "[2] loss: 0.49494 - acc 0.81935\n",
            "[3] loss: 0.48852 - acc 0.82505\n",
            "[4] loss: 0.48909 - acc 0.82550\n",
            "[5] loss: 0.48911 - acc 0.82695\n",
            "var:  0.4265198905202915\n"
          ],
          "name": "stdout"
        },
        {
          "output_type": "stream",
          "text": [
            "\u001b[32m[I 2021-02-05 09:48:03,849]\u001b[0m Trial 25 pruned. \u001b[0m\n"
          ],
          "name": "stderr"
        },
        {
          "output_type": "stream",
          "text": [
            "[6] loss: 0.49126 - acc 0.82685\n",
            "var:  5.619186089177772e-06\n",
            "cuda:0\n",
            "<class 'torch.optim.rmsprop.RMSprop'>\n",
            "[1] loss: 2.01582 - acc 0.79720\n",
            "[2] loss: 0.48396 - acc 0.82838\n",
            "[3] loss: 0.48729 - acc 0.83023\n",
            "[4] loss: 0.49011 - acc 0.83050\n",
            "[5] loss: 0.48808 - acc 0.83110\n",
            "var:  0.37379412081132146\n"
          ],
          "name": "stdout"
        },
        {
          "output_type": "stream",
          "text": [
            "\u001b[32m[I 2021-02-05 09:50:08,411]\u001b[0m Trial 26 pruned. \u001b[0m\n"
          ],
          "name": "stderr"
        },
        {
          "output_type": "stream",
          "text": [
            "[6] loss: 0.49674 - acc 0.82965\n",
            "var:  1.800000395941153e-05\n",
            "cuda:0\n",
            "<class 'torch.optim.rmsprop.RMSprop'>\n",
            "[1] loss: 1.07822 - acc 0.78510\n",
            "[2] loss: 0.49809 - acc 0.82002\n",
            "[3] loss: 0.49555 - acc 0.82125\n",
            "[4] loss: 0.50111 - acc 0.81792\n",
            "[5] loss: 0.50315 - acc 0.81803\n",
            "var:  0.053598926213643525\n"
          ],
          "name": "stdout"
        },
        {
          "output_type": "stream",
          "text": [
            "\u001b[32m[I 2021-02-05 09:52:12,409]\u001b[0m Trial 27 pruned. \u001b[0m\n"
          ],
          "name": "stderr"
        },
        {
          "output_type": "stream",
          "text": [
            "[6] loss: 0.51209 - acc 0.81455\n",
            "var:  3.217624939808938e-05\n",
            "cuda:0\n",
            "<class 'torch.optim.adam.Adam'>\n",
            "[1] loss: 0.53254 - acc 0.80295\n",
            "[2] loss: 0.44651 - acc 0.83542\n",
            "[3] loss: 0.43462 - acc 0.83935\n",
            "[4] loss: 0.42580 - acc 0.84290\n"
          ],
          "name": "stdout"
        },
        {
          "output_type": "stream",
          "text": [
            "\u001b[32m[I 2021-02-05 09:54:01,131]\u001b[0m Trial 28 pruned. \u001b[0m\n"
          ],
          "name": "stderr"
        },
        {
          "output_type": "stream",
          "text": [
            "[5] loss: 0.42155 - acc 0.84397\n",
            "var:  0.0016864888544198982\n",
            "cuda:0\n",
            "<class 'torch.optim.rmsprop.RMSprop'>\n",
            "[1] loss: 1.56027 - acc 0.79138\n",
            "[2] loss: 0.47977 - acc 0.83150\n",
            "[3] loss: 0.47395 - acc 0.83333\n",
            "[4] loss: 0.48894 - acc 0.82877\n",
            "[5] loss: 0.48160 - acc 0.83128\n",
            "var:  0.1863704913683481\n"
          ],
          "name": "stdout"
        },
        {
          "output_type": "stream",
          "text": [
            "\u001b[32m[I 2021-02-05 09:56:05,129]\u001b[0m Trial 29 pruned. \u001b[0m\n"
          ],
          "name": "stderr"
        },
        {
          "output_type": "stream",
          "text": [
            "[6] loss: 0.49156 - acc 0.82908\n",
            "var:  4.052826702047065e-05\n",
            "cuda:0\n",
            "<class 'torch.optim.rmsprop.RMSprop'>\n",
            "[1] loss: 1.68606 - acc 0.76372\n",
            "[2] loss: 0.48173 - acc 0.82775\n",
            "[3] loss: 0.47416 - acc 0.83105\n",
            "[4] loss: 0.48472 - acc 0.83103\n",
            "[5] loss: 0.48694 - acc 0.82892\n",
            "var:  0.23202356026547138\n"
          ],
          "name": "stdout"
        },
        {
          "output_type": "stream",
          "text": [
            "\u001b[32m[I 2021-02-05 09:58:09,314]\u001b[0m Trial 30 pruned. \u001b[0m\n"
          ],
          "name": "stderr"
        },
        {
          "output_type": "stream",
          "text": [
            "[6] loss: 0.48989 - acc 0.82605\n",
            "var:  2.8921341149213374e-05\n",
            "cuda:0\n",
            "<class 'torch.optim.rmsprop.RMSprop'>\n",
            "[1] loss: 1.37093 - acc 0.77473\n",
            "[2] loss: 0.49305 - acc 0.82240\n",
            "[3] loss: 0.48653 - acc 0.82555\n",
            "[4] loss: 0.48833 - acc 0.82505\n",
            "[5] loss: 0.50476 - acc 0.82020\n",
            "var:  0.12331503924414704\n"
          ],
          "name": "stdout"
        },
        {
          "output_type": "stream",
          "text": [
            "\u001b[32m[I 2021-02-05 10:00:13,567]\u001b[0m Trial 31 pruned. \u001b[0m\n"
          ],
          "name": "stderr"
        },
        {
          "output_type": "stream",
          "text": [
            "[6] loss: 0.49975 - acc 0.82167\n",
            "var:  4.728325715780659e-05\n",
            "cuda:0\n",
            "<class 'torch.optim.rmsprop.RMSprop'>\n",
            "[1] loss: 1.31465 - acc 0.77462\n",
            "[2] loss: 0.50959 - acc 0.81893\n",
            "[3] loss: 0.49971 - acc 0.82030\n",
            "[4] loss: 0.50662 - acc 0.82042\n",
            "[5] loss: 0.50115 - acc 0.81802\n",
            "var:  0.10508921046477693\n"
          ],
          "name": "stdout"
        },
        {
          "output_type": "stream",
          "text": [
            "\u001b[32m[I 2021-02-05 10:02:17,680]\u001b[0m Trial 32 pruned. \u001b[0m\n"
          ],
          "name": "stderr"
        },
        {
          "output_type": "stream",
          "text": [
            "[6] loss: 0.49938 - acc 0.82257\n",
            "var:  1.6708164721034203e-05\n",
            "cuda:0\n",
            "<class 'torch.optim.rmsprop.RMSprop'>\n",
            "[1] loss: 2.07331 - acc 0.78490\n",
            "[2] loss: 0.47287 - acc 0.82758\n",
            "[3] loss: 0.46950 - acc 0.83312\n",
            "[4] loss: 0.47215 - acc 0.83302\n",
            "[5] loss: 0.48283 - acc 0.82818\n",
            "var:  0.4090924473875643\n"
          ],
          "name": "stdout"
        },
        {
          "output_type": "stream",
          "text": [
            "\u001b[32m[I 2021-02-05 10:04:21,896]\u001b[0m Trial 33 pruned. \u001b[0m\n"
          ],
          "name": "stderr"
        },
        {
          "output_type": "stream",
          "text": [
            "[6] loss: 0.48705 - acc 0.83030\n",
            "var:  4.6330195730953335e-05\n",
            "cuda:0\n",
            "<class 'torch.optim.rmsprop.RMSprop'>\n",
            "[1] loss: 1.82955 - acc 0.76893\n",
            "[2] loss: 0.49061 - acc 0.82348\n",
            "[3] loss: 0.48395 - acc 0.82817\n",
            "[4] loss: 0.47471 - acc 0.83027\n",
            "[5] loss: 0.48098 - acc 0.83082\n",
            "var:  0.2903258788205573\n"
          ],
          "name": "stdout"
        },
        {
          "output_type": "stream",
          "text": [
            "\u001b[32m[I 2021-02-05 10:06:25,798]\u001b[0m Trial 34 pruned. \u001b[0m\n"
          ],
          "name": "stderr"
        },
        {
          "output_type": "stream",
          "text": [
            "[6] loss: 0.48361 - acc 0.83168\n",
            "var:  2.6350325066171995e-05\n",
            "cuda:0\n",
            "<class 'torch.optim.rmsprop.RMSprop'>\n",
            "[1] loss: 1.51374 - acc 0.77972\n",
            "[2] loss: 0.47904 - acc 0.82597\n",
            "[3] loss: 0.47813 - acc 0.82827\n",
            "[4] loss: 0.48071 - acc 0.82712\n",
            "[5] loss: 0.49597 - acc 0.82543\n",
            "var:  0.16987677089708836\n"
          ],
          "name": "stdout"
        },
        {
          "output_type": "stream",
          "text": [
            "\u001b[32m[I 2021-02-05 10:08:29,361]\u001b[0m Trial 35 pruned. \u001b[0m\n"
          ],
          "name": "stderr"
        },
        {
          "output_type": "stream",
          "text": [
            "[6] loss: 0.50517 - acc 0.82547\n",
            "var:  0.00011783564659907921\n",
            "cuda:0\n",
            "<class 'torch.optim.rmsprop.RMSprop'>\n",
            "[1] loss: 2.65409 - acc 0.77638\n",
            "[2] loss: 0.47681 - acc 0.83018\n",
            "[3] loss: 0.48644 - acc 0.82630\n",
            "[4] loss: 0.48881 - acc 0.82608\n",
            "[5] loss: 0.55486 - acc 0.79327\n",
            "var:  0.7419895308377031\n"
          ],
          "name": "stdout"
        },
        {
          "output_type": "stream",
          "text": [
            "\u001b[32m[I 2021-02-05 10:10:33,109]\u001b[0m Trial 36 pruned. \u001b[0m\n"
          ],
          "name": "stderr"
        },
        {
          "output_type": "stream",
          "text": [
            "[6] loss: 0.53385 - acc 0.80200\n",
            "var:  0.0009340732398973794\n",
            "cuda:0\n",
            "<class 'torch.optim.adam.Adam'>\n",
            "[1] loss: 0.55611 - acc 0.79348\n",
            "[2] loss: 0.46712 - acc 0.82768\n",
            "[3] loss: 0.46163 - acc 0.82877\n",
            "[4] loss: 0.45630 - acc 0.83205\n"
          ],
          "name": "stdout"
        },
        {
          "output_type": "stream",
          "text": [
            "\u001b[32m[I 2021-02-05 10:12:19,192]\u001b[0m Trial 37 pruned. \u001b[0m\n"
          ],
          "name": "stderr"
        },
        {
          "output_type": "stream",
          "text": [
            "[5] loss: 0.43745 - acc 0.83680\n",
            "var:  0.0017153251176977534\n",
            "cuda:0\n",
            "<class 'torch.optim.sgd.SGD'>\n",
            "[1] loss: 0.82299 - acc 0.70197\n",
            "[2] loss: 0.49157 - acc 0.81987\n",
            "[3] loss: 0.41537 - acc 0.84882\n",
            "[4] loss: 0.36940 - acc 0.86552\n",
            "[5] loss: 0.33876 - acc 0.87692\n",
            "var:  0.030769180097974858\n"
          ],
          "name": "stdout"
        },
        {
          "output_type": "stream",
          "text": [
            "\u001b[32m[I 2021-02-05 10:14:01,793]\u001b[0m Trial 38 pruned. \u001b[0m\n"
          ],
          "name": "stderr"
        },
        {
          "output_type": "stream",
          "text": [
            "[6] loss: 0.31799 - acc 0.88390\n",
            "var:  0.003827788745135824\n",
            "cuda:0\n",
            "<class 'torch.optim.rmsprop.RMSprop'>\n",
            "[1] loss: 2.27927 - acc 0.78652\n",
            "[2] loss: 0.42773 - acc 0.84552\n",
            "[3] loss: 0.40715 - acc 0.85565\n",
            "[4] loss: 0.39372 - acc 0.85988\n",
            "[5] loss: 0.39363 - acc 0.86037\n",
            "var:  0.5618843678209076\n"
          ],
          "name": "stdout"
        },
        {
          "output_type": "stream",
          "text": [
            "\u001b[32m[I 2021-02-05 10:15:21,255]\u001b[0m Trial 39 pruned. \u001b[0m\n"
          ],
          "name": "stderr"
        },
        {
          "output_type": "stream",
          "text": [
            "[6] loss: 0.39346 - acc 0.86088\n",
            "var:  0.00017868764840002808\n",
            "cuda:0\n",
            "<class 'torch.optim.rmsprop.RMSprop'>\n",
            "[1] loss: 1.88132 - acc 0.78248\n",
            "[2] loss: 0.47967 - acc 0.82837\n",
            "[3] loss: 0.47601 - acc 0.83158\n",
            "[4] loss: 0.47578 - acc 0.83103\n",
            "[5] loss: 0.47860 - acc 0.83007\n",
            "var:  0.3153069768137846\n"
          ],
          "name": "stdout"
        },
        {
          "output_type": "stream",
          "text": [
            "\u001b[32m[I 2021-02-05 10:17:20,876]\u001b[0m Trial 40 pruned. \u001b[0m\n"
          ],
          "name": "stderr"
        },
        {
          "output_type": "stream",
          "text": [
            "[6] loss: 0.49040 - acc 0.82758\n",
            "var:  2.8787148781148426e-05\n",
            "cuda:0\n",
            "<class 'torch.optim.rmsprop.RMSprop'>\n",
            "[1] loss: 1.40958 - acc 0.74968\n",
            "[2] loss: 0.49883 - acc 0.82012\n",
            "[3] loss: 0.49581 - acc 0.82752\n",
            "[4] loss: 0.47640 - acc 0.82920\n",
            "[5] loss: 0.48429 - acc 0.82977\n",
            "var:  0.13570902257900613\n"
          ],
          "name": "stdout"
        },
        {
          "output_type": "stream",
          "text": [
            "\u001b[32m[I 2021-02-05 10:19:24,668]\u001b[0m Trial 41 pruned. \u001b[0m\n"
          ],
          "name": "stderr"
        },
        {
          "output_type": "stream",
          "text": [
            "[6] loss: 0.49323 - acc 0.82678\n",
            "var:  6.78872005848539e-05\n",
            "cuda:0\n",
            "<class 'torch.optim.rmsprop.RMSprop'>\n",
            "[1] loss: 2.86327 - acc 0.77393\n",
            "[2] loss: 0.49724 - acc 0.82230\n",
            "[3] loss: 0.48816 - acc 0.82705\n",
            "[4] loss: 0.49452 - acc 0.82820\n",
            "[5] loss: 0.49748 - acc 0.82617\n",
            "var:  0.8978933660679896\n"
          ],
          "name": "stdout"
        },
        {
          "output_type": "stream",
          "text": [
            "\u001b[32m[I 2021-02-05 10:21:27,257]\u001b[0m Trial 42 pruned. \u001b[0m\n"
          ],
          "name": "stderr"
        },
        {
          "output_type": "stream",
          "text": [
            "[6] loss: 0.50437 - acc 0.82485\n",
            "var:  2.737077936651759e-05\n",
            "cuda:0\n",
            "<class 'torch.optim.rmsprop.RMSprop'>\n",
            "[1] loss: 1.94457 - acc 0.75777\n",
            "[2] loss: 0.48997 - acc 0.82435\n",
            "[3] loss: 0.48833 - acc 0.82467\n",
            "[4] loss: 0.48519 - acc 0.82720\n",
            "[5] loss: 0.48411 - acc 0.82670\n",
            "var:  0.3399742157491074\n"
          ],
          "name": "stdout"
        },
        {
          "output_type": "stream",
          "text": [
            "\u001b[32m[I 2021-02-05 10:23:28,878]\u001b[0m Trial 43 pruned. \u001b[0m\n"
          ],
          "name": "stderr"
        },
        {
          "output_type": "stream",
          "text": [
            "[6] loss: 0.50080 - acc 0.82627\n",
            "var:  3.5346790860663616e-05\n",
            "cuda:0\n",
            "<class 'torch.optim.rmsprop.RMSprop'>\n",
            "[1] loss: 4.44829 - acc 0.76332\n",
            "[2] loss: 0.48365 - acc 0.82770\n",
            "[3] loss: 0.47386 - acc 0.83097\n",
            "[4] loss: 0.47293 - acc 0.83283\n",
            "[5] loss: 0.47904 - acc 0.83358\n",
            "var:  2.5229280287523808\n"
          ],
          "name": "stdout"
        },
        {
          "output_type": "stream",
          "text": [
            "\u001b[32m[I 2021-02-05 10:25:32,981]\u001b[0m Trial 44 pruned. \u001b[0m\n"
          ],
          "name": "stderr"
        },
        {
          "output_type": "stream",
          "text": [
            "[6] loss: 0.51028 - acc 0.83243\n",
            "var:  0.00018821474704027033\n",
            "cuda:0\n",
            "<class 'torch.optim.sgd.SGD'>\n",
            "[1] loss: 0.79796 - acc 0.70422\n",
            "[2] loss: 0.47417 - acc 0.82545\n",
            "[3] loss: 0.40241 - acc 0.85503\n",
            "[4] loss: 0.36199 - acc 0.86808\n",
            "[5] loss: 0.33438 - acc 0.87922\n",
            "var:  0.02842349969450774\n"
          ],
          "name": "stdout"
        },
        {
          "output_type": "stream",
          "text": [
            "\u001b[32m[I 2021-02-05 10:27:21,866]\u001b[0m Trial 45 pruned. \u001b[0m\n"
          ],
          "name": "stderr"
        },
        {
          "output_type": "stream",
          "text": [
            "[6] loss: 0.31306 - acc 0.88528\n",
            "var:  0.0032437018707823714\n",
            "cuda:0\n",
            "<class 'torch.optim.rmsprop.RMSprop'>\n",
            "[1] loss: 2.14165 - acc 0.77912\n",
            "[2] loss: 0.48922 - acc 0.82633\n",
            "[3] loss: 0.50003 - acc 0.82310\n",
            "[4] loss: 0.49887 - acc 0.82610\n",
            "[5] loss: 0.48876 - acc 0.82927\n",
            "var:  0.43426899167901745\n"
          ],
          "name": "stdout"
        },
        {
          "output_type": "stream",
          "text": [
            "\u001b[32m[I 2021-02-05 10:29:27,455]\u001b[0m Trial 46 pruned. \u001b[0m\n"
          ],
          "name": "stderr"
        },
        {
          "output_type": "stream",
          "text": [
            "[6] loss: 0.52399 - acc 0.82272\n",
            "var:  0.00016385965194797085\n",
            "cuda:0\n",
            "<class 'torch.optim.rmsprop.RMSprop'>\n",
            "[1] loss: 1.98123 - acc 0.77573\n",
            "[2] loss: 0.49644 - acc 0.82357\n",
            "[3] loss: 0.48819 - acc 0.82098\n",
            "[4] loss: 0.49250 - acc 0.82117\n",
            "[5] loss: 0.50465 - acc 0.82148\n",
            "var:  0.35323947768196257\n"
          ],
          "name": "stdout"
        },
        {
          "output_type": "stream",
          "text": [
            "\u001b[32m[I 2021-02-05 10:31:34,794]\u001b[0m Trial 47 pruned. \u001b[0m\n"
          ],
          "name": "stderr"
        },
        {
          "output_type": "stream",
          "text": [
            "[6] loss: 0.49666 - acc 0.82130\n",
            "var:  2.9641329663658462e-05\n",
            "cuda:0\n",
            "<class 'torch.optim.rmsprop.RMSprop'>\n",
            "[1] loss: 2.08622 - acc 0.76457\n",
            "[2] loss: 0.48624 - acc 0.82397\n",
            "[3] loss: 0.48290 - acc 0.82552\n",
            "[4] loss: 0.49521 - acc 0.82333\n",
            "[5] loss: 0.48946 - acc 0.82548\n",
            "var:  0.4084751141207638\n"
          ],
          "name": "stdout"
        },
        {
          "output_type": "stream",
          "text": [
            "\u001b[32m[I 2021-02-05 10:33:41,325]\u001b[0m Trial 48 pruned. \u001b[0m\n"
          ],
          "name": "stderr"
        },
        {
          "output_type": "stream",
          "text": [
            "[6] loss: 0.49424 - acc 0.82615\n",
            "var:  2.1848217512171677e-05\n",
            "cuda:0\n",
            "<class 'torch.optim.rmsprop.RMSprop'>\n",
            "[1] loss: 2.61477 - acc 0.79260\n",
            "[2] loss: 0.49084 - acc 0.82298\n",
            "[3] loss: 0.48649 - acc 0.83005\n",
            "[4] loss: 0.48921 - acc 0.82855\n",
            "[5] loss: 0.48950 - acc 0.82730\n",
            "var:  0.7230156621077786\n"
          ],
          "name": "stdout"
        },
        {
          "output_type": "stream",
          "text": [
            "\u001b[32m[I 2021-02-05 10:35:48,678]\u001b[0m Trial 49 pruned. \u001b[0m\n"
          ],
          "name": "stderr"
        },
        {
          "output_type": "stream",
          "text": [
            "[6] loss: 0.49285 - acc 0.82888\n",
            "var:  4.358804284210479e-06\n"
          ],
          "name": "stdout"
        }
      ]
    },
    {
      "cell_type": "code",
      "metadata": {
        "colab": {
          "base_uri": "https://localhost:8080/",
          "height": 1000
        },
        "id": "42MPMNtocf2A",
        "outputId": "765f04cd-36b4-4635-f42d-4805813b1145"
      },
      "source": [
        "study.trials_dataframe()"
      ],
      "execution_count": 28,
      "outputs": [
        {
          "output_type": "execute_result",
          "data": {
            "text/html": [
              "<div>\n",
              "<style scoped>\n",
              "    .dataframe tbody tr th:only-of-type {\n",
              "        vertical-align: middle;\n",
              "    }\n",
              "\n",
              "    .dataframe tbody tr th {\n",
              "        vertical-align: top;\n",
              "    }\n",
              "\n",
              "    .dataframe thead th {\n",
              "        text-align: right;\n",
              "    }\n",
              "</style>\n",
              "<table border=\"1\" class=\"dataframe\">\n",
              "  <thead>\n",
              "    <tr style=\"text-align: right;\">\n",
              "      <th></th>\n",
              "      <th>number</th>\n",
              "      <th>value</th>\n",
              "      <th>datetime_start</th>\n",
              "      <th>datetime_complete</th>\n",
              "      <th>duration</th>\n",
              "      <th>params_batch_size</th>\n",
              "      <th>params_num_epoch</th>\n",
              "      <th>params_optimizer</th>\n",
              "      <th>state</th>\n",
              "    </tr>\n",
              "  </thead>\n",
              "  <tbody>\n",
              "    <tr>\n",
              "      <th>0</th>\n",
              "      <td>0</td>\n",
              "      <td>0.005196</td>\n",
              "      <td>2021-02-05 09:07:12.456076</td>\n",
              "      <td>2021-02-05 09:08:26.931179</td>\n",
              "      <td>0 days 00:01:14.475103</td>\n",
              "      <td>5</td>\n",
              "      <td>30</td>\n",
              "      <td>0</td>\n",
              "      <td>PRUNED</td>\n",
              "    </tr>\n",
              "    <tr>\n",
              "      <th>1</th>\n",
              "      <td>1</td>\n",
              "      <td>0.003432</td>\n",
              "      <td>2021-02-05 09:08:26.932154</td>\n",
              "      <td>2021-02-05 09:10:13.670581</td>\n",
              "      <td>0 days 00:01:46.738427</td>\n",
              "      <td>4</td>\n",
              "      <td>30</td>\n",
              "      <td>0</td>\n",
              "      <td>PRUNED</td>\n",
              "    </tr>\n",
              "    <tr>\n",
              "      <th>2</th>\n",
              "      <td>2</td>\n",
              "      <td>0.005309</td>\n",
              "      <td>2021-02-05 09:10:13.671719</td>\n",
              "      <td>2021-02-05 09:11:28.200186</td>\n",
              "      <td>0 days 00:01:14.528467</td>\n",
              "      <td>5</td>\n",
              "      <td>70</td>\n",
              "      <td>0</td>\n",
              "      <td>PRUNED</td>\n",
              "    </tr>\n",
              "    <tr>\n",
              "      <th>3</th>\n",
              "      <td>3</td>\n",
              "      <td>0.001997</td>\n",
              "      <td>2021-02-05 09:11:28.201229</td>\n",
              "      <td>2021-02-05 09:13:17.712347</td>\n",
              "      <td>0 days 00:01:49.511118</td>\n",
              "      <td>4</td>\n",
              "      <td>30</td>\n",
              "      <td>1</td>\n",
              "      <td>PRUNED</td>\n",
              "    </tr>\n",
              "    <tr>\n",
              "      <th>4</th>\n",
              "      <td>4</td>\n",
              "      <td>0.003361</td>\n",
              "      <td>2021-02-05 09:13:17.713588</td>\n",
              "      <td>2021-02-05 09:15:04.176130</td>\n",
              "      <td>0 days 00:01:46.462542</td>\n",
              "      <td>4</td>\n",
              "      <td>70</td>\n",
              "      <td>0</td>\n",
              "      <td>PRUNED</td>\n",
              "    </tr>\n",
              "    <tr>\n",
              "      <th>5</th>\n",
              "      <td>5</td>\n",
              "      <td>0.003608</td>\n",
              "      <td>2021-02-05 09:15:04.177345</td>\n",
              "      <td>2021-02-05 09:16:50.773815</td>\n",
              "      <td>0 days 00:01:46.596470</td>\n",
              "      <td>4</td>\n",
              "      <td>70</td>\n",
              "      <td>0</td>\n",
              "      <td>PRUNED</td>\n",
              "    </tr>\n",
              "    <tr>\n",
              "      <th>6</th>\n",
              "      <td>6</td>\n",
              "      <td>0.000677</td>\n",
              "      <td>2021-02-05 09:16:50.774945</td>\n",
              "      <td>2021-02-05 09:17:52.853416</td>\n",
              "      <td>0 days 00:01:02.078471</td>\n",
              "      <td>6</td>\n",
              "      <td>50</td>\n",
              "      <td>2</td>\n",
              "      <td>PRUNED</td>\n",
              "    </tr>\n",
              "    <tr>\n",
              "      <th>7</th>\n",
              "      <td>7</td>\n",
              "      <td>0.005115</td>\n",
              "      <td>2021-02-05 09:17:52.855038</td>\n",
              "      <td>2021-02-05 09:19:06.700644</td>\n",
              "      <td>0 days 00:01:13.845606</td>\n",
              "      <td>5</td>\n",
              "      <td>50</td>\n",
              "      <td>0</td>\n",
              "      <td>PRUNED</td>\n",
              "    </tr>\n",
              "    <tr>\n",
              "      <th>8</th>\n",
              "      <td>8</td>\n",
              "      <td>0.000034</td>\n",
              "      <td>2021-02-05 09:19:06.701781</td>\n",
              "      <td>2021-02-05 09:21:11.151137</td>\n",
              "      <td>0 days 00:02:04.449356</td>\n",
              "      <td>4</td>\n",
              "      <td>30</td>\n",
              "      <td>2</td>\n",
              "      <td>PRUNED</td>\n",
              "    </tr>\n",
              "    <tr>\n",
              "      <th>9</th>\n",
              "      <td>9</td>\n",
              "      <td>0.003320</td>\n",
              "      <td>2021-02-05 09:21:11.152208</td>\n",
              "      <td>2021-02-05 09:22:58.075405</td>\n",
              "      <td>0 days 00:01:46.923197</td>\n",
              "      <td>4</td>\n",
              "      <td>50</td>\n",
              "      <td>0</td>\n",
              "      <td>PRUNED</td>\n",
              "    </tr>\n",
              "    <tr>\n",
              "      <th>10</th>\n",
              "      <td>10</td>\n",
              "      <td>0.000920</td>\n",
              "      <td>2021-02-05 09:22:58.076567</td>\n",
              "      <td>2021-02-05 09:24:00.249750</td>\n",
              "      <td>0 days 00:01:02.173183</td>\n",
              "      <td>6</td>\n",
              "      <td>30</td>\n",
              "      <td>2</td>\n",
              "      <td>PRUNED</td>\n",
              "    </tr>\n",
              "    <tr>\n",
              "      <th>11</th>\n",
              "      <td>11</td>\n",
              "      <td>0.000932</td>\n",
              "      <td>2021-02-05 09:24:00.250824</td>\n",
              "      <td>2021-02-05 09:25:02.302241</td>\n",
              "      <td>0 days 00:01:02.051417</td>\n",
              "      <td>6</td>\n",
              "      <td>50</td>\n",
              "      <td>2</td>\n",
              "      <td>PRUNED</td>\n",
              "    </tr>\n",
              "    <tr>\n",
              "      <th>12</th>\n",
              "      <td>12</td>\n",
              "      <td>0.001483</td>\n",
              "      <td>2021-02-05 09:25:02.303356</td>\n",
              "      <td>2021-02-05 09:26:04.430956</td>\n",
              "      <td>0 days 00:01:02.127600</td>\n",
              "      <td>6</td>\n",
              "      <td>50</td>\n",
              "      <td>2</td>\n",
              "      <td>PRUNED</td>\n",
              "    </tr>\n",
              "    <tr>\n",
              "      <th>13</th>\n",
              "      <td>13</td>\n",
              "      <td>0.001516</td>\n",
              "      <td>2021-02-05 09:26:04.432130</td>\n",
              "      <td>2021-02-05 09:27:06.507305</td>\n",
              "      <td>0 days 00:01:02.075175</td>\n",
              "      <td>6</td>\n",
              "      <td>50</td>\n",
              "      <td>2</td>\n",
              "      <td>PRUNED</td>\n",
              "    </tr>\n",
              "    <tr>\n",
              "      <th>14</th>\n",
              "      <td>14</td>\n",
              "      <td>0.000251</td>\n",
              "      <td>2021-02-05 09:27:06.508374</td>\n",
              "      <td>2021-02-05 09:28:29.120995</td>\n",
              "      <td>0 days 00:01:22.612621</td>\n",
              "      <td>5</td>\n",
              "      <td>30</td>\n",
              "      <td>2</td>\n",
              "      <td>PRUNED</td>\n",
              "    </tr>\n",
              "    <tr>\n",
              "      <th>15</th>\n",
              "      <td>15</td>\n",
              "      <td>0.000181</td>\n",
              "      <td>2021-02-05 09:28:29.122731</td>\n",
              "      <td>2021-02-05 09:29:52.291204</td>\n",
              "      <td>0 days 00:01:23.168473</td>\n",
              "      <td>5</td>\n",
              "      <td>30</td>\n",
              "      <td>2</td>\n",
              "      <td>PRUNED</td>\n",
              "    </tr>\n",
              "    <tr>\n",
              "      <th>16</th>\n",
              "      <td>16</td>\n",
              "      <td>0.002745</td>\n",
              "      <td>2021-02-05 09:29:52.292341</td>\n",
              "      <td>2021-02-05 09:31:03.836132</td>\n",
              "      <td>0 days 00:01:11.543791</td>\n",
              "      <td>5</td>\n",
              "      <td>30</td>\n",
              "      <td>1</td>\n",
              "      <td>PRUNED</td>\n",
              "    </tr>\n",
              "    <tr>\n",
              "      <th>17</th>\n",
              "      <td>17</td>\n",
              "      <td>0.000305</td>\n",
              "      <td>2021-02-05 09:31:03.837378</td>\n",
              "      <td>2021-02-05 09:32:26.266470</td>\n",
              "      <td>0 days 00:01:22.429092</td>\n",
              "      <td>5</td>\n",
              "      <td>30</td>\n",
              "      <td>2</td>\n",
              "      <td>PRUNED</td>\n",
              "    </tr>\n",
              "    <tr>\n",
              "      <th>18</th>\n",
              "      <td>18</td>\n",
              "      <td>0.000005</td>\n",
              "      <td>2021-02-05 09:32:26.267644</td>\n",
              "      <td>2021-02-05 09:34:30.840329</td>\n",
              "      <td>0 days 00:02:04.572685</td>\n",
              "      <td>4</td>\n",
              "      <td>30</td>\n",
              "      <td>2</td>\n",
              "      <td>PRUNED</td>\n",
              "    </tr>\n",
              "    <tr>\n",
              "      <th>19</th>\n",
              "      <td>19</td>\n",
              "      <td>0.001401</td>\n",
              "      <td>2021-02-05 09:34:30.841325</td>\n",
              "      <td>2021-02-05 09:36:20.289423</td>\n",
              "      <td>0 days 00:01:49.448098</td>\n",
              "      <td>4</td>\n",
              "      <td>30</td>\n",
              "      <td>1</td>\n",
              "      <td>PRUNED</td>\n",
              "    </tr>\n",
              "    <tr>\n",
              "      <th>20</th>\n",
              "      <td>20</td>\n",
              "      <td>0.000545</td>\n",
              "      <td>2021-02-05 09:36:20.290443</td>\n",
              "      <td>2021-02-05 09:38:25.049996</td>\n",
              "      <td>0 days 00:02:04.759553</td>\n",
              "      <td>4</td>\n",
              "      <td>30</td>\n",
              "      <td>2</td>\n",
              "      <td>PRUNED</td>\n",
              "    </tr>\n",
              "    <tr>\n",
              "      <th>21</th>\n",
              "      <td>21</td>\n",
              "      <td>0.000203</td>\n",
              "      <td>2021-02-05 09:38:25.052032</td>\n",
              "      <td>2021-02-05 09:39:47.647343</td>\n",
              "      <td>0 days 00:01:22.595311</td>\n",
              "      <td>5</td>\n",
              "      <td>30</td>\n",
              "      <td>2</td>\n",
              "      <td>PRUNED</td>\n",
              "    </tr>\n",
              "    <tr>\n",
              "      <th>22</th>\n",
              "      <td>22</td>\n",
              "      <td>0.000047</td>\n",
              "      <td>2021-02-05 09:39:47.648592</td>\n",
              "      <td>2021-02-05 09:41:52.331898</td>\n",
              "      <td>0 days 00:02:04.683306</td>\n",
              "      <td>4</td>\n",
              "      <td>30</td>\n",
              "      <td>2</td>\n",
              "      <td>PRUNED</td>\n",
              "    </tr>\n",
              "    <tr>\n",
              "      <th>23</th>\n",
              "      <td>23</td>\n",
              "      <td>0.000100</td>\n",
              "      <td>2021-02-05 09:41:52.333231</td>\n",
              "      <td>2021-02-05 09:43:55.985575</td>\n",
              "      <td>0 days 00:02:03.652344</td>\n",
              "      <td>4</td>\n",
              "      <td>30</td>\n",
              "      <td>2</td>\n",
              "      <td>PRUNED</td>\n",
              "    </tr>\n",
              "    <tr>\n",
              "      <th>24</th>\n",
              "      <td>24</td>\n",
              "      <td>0.000017</td>\n",
              "      <td>2021-02-05 09:43:55.986719</td>\n",
              "      <td>2021-02-05 09:46:00.153337</td>\n",
              "      <td>0 days 00:02:04.166618</td>\n",
              "      <td>4</td>\n",
              "      <td>30</td>\n",
              "      <td>2</td>\n",
              "      <td>PRUNED</td>\n",
              "    </tr>\n",
              "    <tr>\n",
              "      <th>25</th>\n",
              "      <td>25</td>\n",
              "      <td>0.000006</td>\n",
              "      <td>2021-02-05 09:46:00.154631</td>\n",
              "      <td>2021-02-05 09:48:03.848956</td>\n",
              "      <td>0 days 00:02:03.694325</td>\n",
              "      <td>4</td>\n",
              "      <td>30</td>\n",
              "      <td>2</td>\n",
              "      <td>PRUNED</td>\n",
              "    </tr>\n",
              "    <tr>\n",
              "      <th>26</th>\n",
              "      <td>26</td>\n",
              "      <td>0.000018</td>\n",
              "      <td>2021-02-05 09:48:03.850138</td>\n",
              "      <td>2021-02-05 09:50:08.411467</td>\n",
              "      <td>0 days 00:02:04.561329</td>\n",
              "      <td>4</td>\n",
              "      <td>50</td>\n",
              "      <td>2</td>\n",
              "      <td>PRUNED</td>\n",
              "    </tr>\n",
              "    <tr>\n",
              "      <th>27</th>\n",
              "      <td>27</td>\n",
              "      <td>0.000032</td>\n",
              "      <td>2021-02-05 09:50:08.412470</td>\n",
              "      <td>2021-02-05 09:52:12.409103</td>\n",
              "      <td>0 days 00:02:03.996633</td>\n",
              "      <td>4</td>\n",
              "      <td>30</td>\n",
              "      <td>2</td>\n",
              "      <td>PRUNED</td>\n",
              "    </tr>\n",
              "    <tr>\n",
              "      <th>28</th>\n",
              "      <td>28</td>\n",
              "      <td>0.001686</td>\n",
              "      <td>2021-02-05 09:52:12.410365</td>\n",
              "      <td>2021-02-05 09:54:01.130958</td>\n",
              "      <td>0 days 00:01:48.720593</td>\n",
              "      <td>4</td>\n",
              "      <td>30</td>\n",
              "      <td>1</td>\n",
              "      <td>PRUNED</td>\n",
              "    </tr>\n",
              "    <tr>\n",
              "      <th>29</th>\n",
              "      <td>29</td>\n",
              "      <td>0.000041</td>\n",
              "      <td>2021-02-05 09:54:01.132154</td>\n",
              "      <td>2021-02-05 09:56:05.129384</td>\n",
              "      <td>0 days 00:02:03.997230</td>\n",
              "      <td>4</td>\n",
              "      <td>30</td>\n",
              "      <td>2</td>\n",
              "      <td>PRUNED</td>\n",
              "    </tr>\n",
              "    <tr>\n",
              "      <th>30</th>\n",
              "      <td>30</td>\n",
              "      <td>0.000029</td>\n",
              "      <td>2021-02-05 09:56:05.130422</td>\n",
              "      <td>2021-02-05 09:58:09.314537</td>\n",
              "      <td>0 days 00:02:04.184115</td>\n",
              "      <td>4</td>\n",
              "      <td>50</td>\n",
              "      <td>2</td>\n",
              "      <td>PRUNED</td>\n",
              "    </tr>\n",
              "    <tr>\n",
              "      <th>31</th>\n",
              "      <td>31</td>\n",
              "      <td>0.000047</td>\n",
              "      <td>2021-02-05 09:58:09.316188</td>\n",
              "      <td>2021-02-05 10:00:13.567676</td>\n",
              "      <td>0 days 00:02:04.251488</td>\n",
              "      <td>4</td>\n",
              "      <td>50</td>\n",
              "      <td>2</td>\n",
              "      <td>PRUNED</td>\n",
              "    </tr>\n",
              "    <tr>\n",
              "      <th>32</th>\n",
              "      <td>32</td>\n",
              "      <td>0.000017</td>\n",
              "      <td>2021-02-05 10:00:13.569877</td>\n",
              "      <td>2021-02-05 10:02:17.680720</td>\n",
              "      <td>0 days 00:02:04.110843</td>\n",
              "      <td>4</td>\n",
              "      <td>50</td>\n",
              "      <td>2</td>\n",
              "      <td>PRUNED</td>\n",
              "    </tr>\n",
              "    <tr>\n",
              "      <th>33</th>\n",
              "      <td>33</td>\n",
              "      <td>0.000046</td>\n",
              "      <td>2021-02-05 10:02:17.681712</td>\n",
              "      <td>2021-02-05 10:04:21.896528</td>\n",
              "      <td>0 days 00:02:04.214816</td>\n",
              "      <td>4</td>\n",
              "      <td>50</td>\n",
              "      <td>2</td>\n",
              "      <td>PRUNED</td>\n",
              "    </tr>\n",
              "    <tr>\n",
              "      <th>34</th>\n",
              "      <td>34</td>\n",
              "      <td>0.000026</td>\n",
              "      <td>2021-02-05 10:04:21.897736</td>\n",
              "      <td>2021-02-05 10:06:25.798114</td>\n",
              "      <td>0 days 00:02:03.900378</td>\n",
              "      <td>4</td>\n",
              "      <td>70</td>\n",
              "      <td>2</td>\n",
              "      <td>PRUNED</td>\n",
              "    </tr>\n",
              "    <tr>\n",
              "      <th>35</th>\n",
              "      <td>35</td>\n",
              "      <td>0.000118</td>\n",
              "      <td>2021-02-05 10:06:25.799362</td>\n",
              "      <td>2021-02-05 10:08:29.361238</td>\n",
              "      <td>0 days 00:02:03.561876</td>\n",
              "      <td>4</td>\n",
              "      <td>50</td>\n",
              "      <td>2</td>\n",
              "      <td>PRUNED</td>\n",
              "    </tr>\n",
              "    <tr>\n",
              "      <th>36</th>\n",
              "      <td>36</td>\n",
              "      <td>0.000934</td>\n",
              "      <td>2021-02-05 10:08:29.362334</td>\n",
              "      <td>2021-02-05 10:10:33.109763</td>\n",
              "      <td>0 days 00:02:03.747429</td>\n",
              "      <td>4</td>\n",
              "      <td>30</td>\n",
              "      <td>2</td>\n",
              "      <td>PRUNED</td>\n",
              "    </tr>\n",
              "    <tr>\n",
              "      <th>37</th>\n",
              "      <td>37</td>\n",
              "      <td>0.001715</td>\n",
              "      <td>2021-02-05 10:10:33.110868</td>\n",
              "      <td>2021-02-05 10:12:19.192773</td>\n",
              "      <td>0 days 00:01:46.081905</td>\n",
              "      <td>4</td>\n",
              "      <td>70</td>\n",
              "      <td>1</td>\n",
              "      <td>PRUNED</td>\n",
              "    </tr>\n",
              "    <tr>\n",
              "      <th>38</th>\n",
              "      <td>38</td>\n",
              "      <td>0.003828</td>\n",
              "      <td>2021-02-05 10:12:19.194399</td>\n",
              "      <td>2021-02-05 10:14:01.793603</td>\n",
              "      <td>0 days 00:01:42.599204</td>\n",
              "      <td>4</td>\n",
              "      <td>50</td>\n",
              "      <td>0</td>\n",
              "      <td>PRUNED</td>\n",
              "    </tr>\n",
              "    <tr>\n",
              "      <th>39</th>\n",
              "      <td>39</td>\n",
              "      <td>0.000179</td>\n",
              "      <td>2021-02-05 10:14:01.794717</td>\n",
              "      <td>2021-02-05 10:15:21.255178</td>\n",
              "      <td>0 days 00:01:19.460461</td>\n",
              "      <td>5</td>\n",
              "      <td>30</td>\n",
              "      <td>2</td>\n",
              "      <td>PRUNED</td>\n",
              "    </tr>\n",
              "    <tr>\n",
              "      <th>40</th>\n",
              "      <td>40</td>\n",
              "      <td>0.000029</td>\n",
              "      <td>2021-02-05 10:15:21.256232</td>\n",
              "      <td>2021-02-05 10:17:20.876855</td>\n",
              "      <td>0 days 00:01:59.620623</td>\n",
              "      <td>4</td>\n",
              "      <td>50</td>\n",
              "      <td>2</td>\n",
              "      <td>PRUNED</td>\n",
              "    </tr>\n",
              "    <tr>\n",
              "      <th>41</th>\n",
              "      <td>41</td>\n",
              "      <td>0.000068</td>\n",
              "      <td>2021-02-05 10:17:20.878009</td>\n",
              "      <td>2021-02-05 10:19:24.668161</td>\n",
              "      <td>0 days 00:02:03.790152</td>\n",
              "      <td>4</td>\n",
              "      <td>50</td>\n",
              "      <td>2</td>\n",
              "      <td>PRUNED</td>\n",
              "    </tr>\n",
              "    <tr>\n",
              "      <th>42</th>\n",
              "      <td>42</td>\n",
              "      <td>0.000027</td>\n",
              "      <td>2021-02-05 10:19:24.669641</td>\n",
              "      <td>2021-02-05 10:21:27.257924</td>\n",
              "      <td>0 days 00:02:02.588283</td>\n",
              "      <td>4</td>\n",
              "      <td>50</td>\n",
              "      <td>2</td>\n",
              "      <td>PRUNED</td>\n",
              "    </tr>\n",
              "    <tr>\n",
              "      <th>43</th>\n",
              "      <td>43</td>\n",
              "      <td>0.000035</td>\n",
              "      <td>2021-02-05 10:21:27.259357</td>\n",
              "      <td>2021-02-05 10:23:28.878311</td>\n",
              "      <td>0 days 00:02:01.618954</td>\n",
              "      <td>4</td>\n",
              "      <td>50</td>\n",
              "      <td>2</td>\n",
              "      <td>PRUNED</td>\n",
              "    </tr>\n",
              "    <tr>\n",
              "      <th>44</th>\n",
              "      <td>44</td>\n",
              "      <td>0.000188</td>\n",
              "      <td>2021-02-05 10:23:28.880172</td>\n",
              "      <td>2021-02-05 10:25:32.981412</td>\n",
              "      <td>0 days 00:02:04.101240</td>\n",
              "      <td>4</td>\n",
              "      <td>50</td>\n",
              "      <td>2</td>\n",
              "      <td>PRUNED</td>\n",
              "    </tr>\n",
              "    <tr>\n",
              "      <th>45</th>\n",
              "      <td>45</td>\n",
              "      <td>0.003244</td>\n",
              "      <td>2021-02-05 10:25:32.983186</td>\n",
              "      <td>2021-02-05 10:27:21.866178</td>\n",
              "      <td>0 days 00:01:48.882992</td>\n",
              "      <td>4</td>\n",
              "      <td>50</td>\n",
              "      <td>0</td>\n",
              "      <td>PRUNED</td>\n",
              "    </tr>\n",
              "    <tr>\n",
              "      <th>46</th>\n",
              "      <td>46</td>\n",
              "      <td>0.000164</td>\n",
              "      <td>2021-02-05 10:27:21.867500</td>\n",
              "      <td>2021-02-05 10:29:27.455573</td>\n",
              "      <td>0 days 00:02:05.588073</td>\n",
              "      <td>4</td>\n",
              "      <td>70</td>\n",
              "      <td>2</td>\n",
              "      <td>PRUNED</td>\n",
              "    </tr>\n",
              "    <tr>\n",
              "      <th>47</th>\n",
              "      <td>47</td>\n",
              "      <td>0.000030</td>\n",
              "      <td>2021-02-05 10:29:27.456755</td>\n",
              "      <td>2021-02-05 10:31:34.794192</td>\n",
              "      <td>0 days 00:02:07.337437</td>\n",
              "      <td>4</td>\n",
              "      <td>50</td>\n",
              "      <td>2</td>\n",
              "      <td>PRUNED</td>\n",
              "    </tr>\n",
              "    <tr>\n",
              "      <th>48</th>\n",
              "      <td>48</td>\n",
              "      <td>0.000022</td>\n",
              "      <td>2021-02-05 10:31:34.795344</td>\n",
              "      <td>2021-02-05 10:33:41.325303</td>\n",
              "      <td>0 days 00:02:06.529959</td>\n",
              "      <td>4</td>\n",
              "      <td>30</td>\n",
              "      <td>2</td>\n",
              "      <td>PRUNED</td>\n",
              "    </tr>\n",
              "    <tr>\n",
              "      <th>49</th>\n",
              "      <td>49</td>\n",
              "      <td>0.000004</td>\n",
              "      <td>2021-02-05 10:33:41.326565</td>\n",
              "      <td>2021-02-05 10:35:48.678710</td>\n",
              "      <td>0 days 00:02:07.352145</td>\n",
              "      <td>4</td>\n",
              "      <td>50</td>\n",
              "      <td>2</td>\n",
              "      <td>PRUNED</td>\n",
              "    </tr>\n",
              "  </tbody>\n",
              "</table>\n",
              "</div>"
            ],
            "text/plain": [
              "    number     value  ... params_optimizer   state\n",
              "0        0  0.005196  ...                0  PRUNED\n",
              "1        1  0.003432  ...                0  PRUNED\n",
              "2        2  0.005309  ...                0  PRUNED\n",
              "3        3  0.001997  ...                1  PRUNED\n",
              "4        4  0.003361  ...                0  PRUNED\n",
              "5        5  0.003608  ...                0  PRUNED\n",
              "6        6  0.000677  ...                2  PRUNED\n",
              "7        7  0.005115  ...                0  PRUNED\n",
              "8        8  0.000034  ...                2  PRUNED\n",
              "9        9  0.003320  ...                0  PRUNED\n",
              "10      10  0.000920  ...                2  PRUNED\n",
              "11      11  0.000932  ...                2  PRUNED\n",
              "12      12  0.001483  ...                2  PRUNED\n",
              "13      13  0.001516  ...                2  PRUNED\n",
              "14      14  0.000251  ...                2  PRUNED\n",
              "15      15  0.000181  ...                2  PRUNED\n",
              "16      16  0.002745  ...                1  PRUNED\n",
              "17      17  0.000305  ...                2  PRUNED\n",
              "18      18  0.000005  ...                2  PRUNED\n",
              "19      19  0.001401  ...                1  PRUNED\n",
              "20      20  0.000545  ...                2  PRUNED\n",
              "21      21  0.000203  ...                2  PRUNED\n",
              "22      22  0.000047  ...                2  PRUNED\n",
              "23      23  0.000100  ...                2  PRUNED\n",
              "24      24  0.000017  ...                2  PRUNED\n",
              "25      25  0.000006  ...                2  PRUNED\n",
              "26      26  0.000018  ...                2  PRUNED\n",
              "27      27  0.000032  ...                2  PRUNED\n",
              "28      28  0.001686  ...                1  PRUNED\n",
              "29      29  0.000041  ...                2  PRUNED\n",
              "30      30  0.000029  ...                2  PRUNED\n",
              "31      31  0.000047  ...                2  PRUNED\n",
              "32      32  0.000017  ...                2  PRUNED\n",
              "33      33  0.000046  ...                2  PRUNED\n",
              "34      34  0.000026  ...                2  PRUNED\n",
              "35      35  0.000118  ...                2  PRUNED\n",
              "36      36  0.000934  ...                2  PRUNED\n",
              "37      37  0.001715  ...                1  PRUNED\n",
              "38      38  0.003828  ...                0  PRUNED\n",
              "39      39  0.000179  ...                2  PRUNED\n",
              "40      40  0.000029  ...                2  PRUNED\n",
              "41      41  0.000068  ...                2  PRUNED\n",
              "42      42  0.000027  ...                2  PRUNED\n",
              "43      43  0.000035  ...                2  PRUNED\n",
              "44      44  0.000188  ...                2  PRUNED\n",
              "45      45  0.003244  ...                0  PRUNED\n",
              "46      46  0.000164  ...                2  PRUNED\n",
              "47      47  0.000030  ...                2  PRUNED\n",
              "48      48  0.000022  ...                2  PRUNED\n",
              "49      49  0.000004  ...                2  PRUNED\n",
              "\n",
              "[50 rows x 9 columns]"
            ]
          },
          "metadata": {
            "tags": []
          },
          "execution_count": 28
        }
      ]
    }
  ]
}