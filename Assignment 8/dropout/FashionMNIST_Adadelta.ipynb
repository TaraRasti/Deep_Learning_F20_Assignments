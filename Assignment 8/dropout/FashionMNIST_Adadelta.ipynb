{
  "nbformat": 4,
  "nbformat_minor": 0,
  "metadata": {
    "colab": {
      "name": "FashionMNIST-Adadelta.ipynb",
      "provenance": [],
      "collapsed_sections": [],
      "mount_file_id": "1f2CU4gX7LjcPTv_fVBX4TQMevSNSTj3H",
      "authorship_tag": "ABX9TyMMiWZX9z9/sxdGuyz+JMlQ",
      "include_colab_link": true
    },
    "kernelspec": {
      "name": "python3",
      "display_name": "Python 3"
    },
    "accelerator": "GPU"
  },
  "cells": [
    {
      "cell_type": "markdown",
      "metadata": {
        "id": "view-in-github",
        "colab_type": "text"
      },
      "source": [
        "<a href=\"https://colab.research.google.com/github/TaraRasti/Deep_Learning_F20_Assignments/blob/master/Assignment%208/dropout/FashionMNIST_Adadelta.ipynb\" target=\"_parent\"><img src=\"https://colab.research.google.com/assets/colab-badge.svg\" alt=\"Open In Colab\"/></a>"
      ]
    },
    {
      "cell_type": "code",
      "metadata": {
        "id": "rnRxA4R5BsVS"
      },
      "source": [
        "import numpy as np\n",
        "import pandas as pd \n",
        "import torch\n",
        "import torch.nn as nn\n",
        "import torch.nn.functional as F\n",
        "import torch.utils.data\n",
        "from torch.autograd import Variable\n",
        "from sklearn.model_selection import train_test_split"
      ],
      "execution_count": 1,
      "outputs": []
    },
    {
      "cell_type": "code",
      "metadata": {
        "colab": {
          "base_uri": "https://localhost:8080/"
        },
        "id": "VDcWQ-ZbDA1T",
        "outputId": "7f4aec96-0467-437f-a0d6-e34c38817dc9"
      },
      "source": [
        "train = pd.read_csv('/content/drive/MyDrive/fashion-mnist_train.csv')\n",
        "print(train.shape)"
      ],
      "execution_count": 2,
      "outputs": [
        {
          "output_type": "stream",
          "text": [
            "(60000, 785)\n"
          ],
          "name": "stdout"
        }
      ]
    },
    {
      "cell_type": "code",
      "metadata": {
        "colab": {
          "base_uri": "https://localhost:8080/"
        },
        "id": "MpsFbS4MDlZh",
        "outputId": "cb7ddb92-60c0-49d2-bdcd-ec677549c128"
      },
      "source": [
        "test = pd.read_csv('/content/drive/MyDrive/fashion-mnist_test.csv')\n",
        "print(test.shape)"
      ],
      "execution_count": 3,
      "outputs": [
        {
          "output_type": "stream",
          "text": [
            "(10000, 785)\n"
          ],
          "name": "stdout"
        }
      ]
    },
    {
      "cell_type": "code",
      "metadata": {
        "colab": {
          "base_uri": "https://localhost:8080/"
        },
        "id": "wGiJmMXXDvDl",
        "outputId": "bb9556a2-4d5d-4f5c-8300-a6ff44f8fe9f"
      },
      "source": [
        "y_train = train['label'].values\n",
        "X_train = train.drop(['label'],1).values\n",
        "y_test = test['label'].values\n",
        "X_test = test.drop(['label'],1).values\n",
        "print('y test shape : ',y_test.shape)\n",
        "print('X test shape : ',X_test.shape)\n",
        "print('y train shape : ',y_train.shape)\n",
        "print('X train shape : ',X_train.shape)"
      ],
      "execution_count": 4,
      "outputs": [
        {
          "output_type": "stream",
          "text": [
            "y test shape :  (10000,)\n",
            "X test shape :  (10000, 784)\n",
            "y train shape :  (60000,)\n",
            "X train shape :  (60000, 784)\n"
          ],
          "name": "stdout"
        }
      ]
    },
    {
      "cell_type": "code",
      "metadata": {
        "colab": {
          "base_uri": "https://localhost:8080/"
        },
        "id": "SygbBvc9ErHm",
        "outputId": "0b70269f-85a1-4d49-d115-953dc7f09b8b"
      },
      "source": [
        "BATCH_SIZE = 32\n",
        "\n",
        "\n",
        "torch_X_train = torch.from_numpy(X_train).type(torch.LongTensor)\n",
        "torch_y_train = torch.from_numpy(y_train).type(torch.LongTensor)\n",
        "\n",
        "torch_X_test = torch.from_numpy(X_test).type(torch.LongTensor)\n",
        "torch_y_test = torch.from_numpy(y_test).type(torch.LongTensor)\n",
        "\n",
        "torch_X_train = torch_X_train.view(-1, 1,28,28).float()\n",
        "torch_X_test = torch_X_test.view(-1,1,28,28).float()\n",
        "print(torch_X_train.shape)\n",
        "print(torch_X_test.shape)\n",
        "\n",
        "train = torch.utils.data.TensorDataset(torch_X_train,torch_y_train)\n",
        "test = torch.utils.data.TensorDataset(torch_X_test,torch_y_test)\n",
        "\n",
        "train_loader = torch.utils.data.DataLoader(train, batch_size = BATCH_SIZE, shuffle = False)\n",
        "test_loader = torch.utils.data.DataLoader(test, batch_size = BATCH_SIZE, shuffle = False)"
      ],
      "execution_count": 5,
      "outputs": [
        {
          "output_type": "stream",
          "text": [
            "torch.Size([60000, 1, 28, 28])\n",
            "torch.Size([10000, 1, 28, 28])\n"
          ],
          "name": "stdout"
        }
      ]
    },
    {
      "cell_type": "code",
      "metadata": {
        "id": "2fDK5YCHFIP1"
      },
      "source": [
        "def fit(model, train_loader):\n",
        "    optimizer = torch.optim.Adadelta(model.parameters(),lr=0.001)\n",
        "    error = nn.CrossEntropyLoss()\n",
        "    EPOCHS = 5\n",
        "    model.train()\n",
        "    for epoch in range(EPOCHS):\n",
        "        correct = 0\n",
        "        for batch_idx, (X_batch, y_batch) in enumerate(train_loader):\n",
        "            var_X_batch = Variable(X_batch).float()\n",
        "            var_y_batch = Variable(y_batch)\n",
        "            optimizer.zero_grad()\n",
        "            output = model(var_X_batch)\n",
        "            loss = error(output, var_y_batch)\n",
        "            loss.backward()\n",
        "            optimizer.step()\n",
        "\n",
        "         \n",
        "            predicted = torch.max(output.data, 1)[1] \n",
        "            correct += (predicted == var_y_batch).sum()\n",
        "      \n",
        "            if batch_idx % 50 == 0:\n",
        "                print('Epoch : {} [{}/{} ({:.0f}%)]\\tLoss: {:.6f}\\t Accuracy:{:.3f}%'.format(\n",
        "                    epoch, batch_idx*len(X_batch), len(train_loader.dataset), 100.*batch_idx / len(train_loader), loss.item(), float(correct*100) / float(BATCH_SIZE*(batch_idx+1))))"
      ],
      "execution_count": 6,
      "outputs": []
    },
    {
      "cell_type": "code",
      "metadata": {
        "colab": {
          "base_uri": "https://localhost:8080/"
        },
        "id": "ICiL0NH7EPZD",
        "outputId": "70e600c4-7128-4f03-9d37-40d8a932b85b"
      },
      "source": [
        "class CNN(nn.Module):\n",
        "    def __init__(self):\n",
        "        super(CNN, self).__init__()\n",
        "        self.conv1 = nn.Conv2d(1, 32, kernel_size=5)\n",
        "        self.conv2 = nn.Conv2d(32, 32, kernel_size=5)\n",
        "        self.conv3 = nn.Conv2d(32,64, kernel_size=5)\n",
        "        self.fc1 = nn.Linear(3*3*64, 256)\n",
        "        self.fc2 = nn.Linear(256, 10)\n",
        "\n",
        "    def forward(self, x):\n",
        "        x = F.relu(self.conv1(x))\n",
        "        x = F.relu(F.max_pool2d(self.conv2(x), 2))\n",
        "        x = F.dropout(x, p=0.2, training=self.training)\n",
        "        x = F.relu(F.max_pool2d(self.conv3(x),2))\n",
        "        x = F.dropout(x, p=0.3, training=self.training)\n",
        "        x = x.view(-1,3*3*64 )\n",
        "        x = F.relu(self.fc1(x))\n",
        "        x = F.dropout(x, training=self.training)\n",
        "        x = self.fc2(x)\n",
        "        return F.log_softmax(x, dim=1)\n",
        " \n",
        "cnn = CNN()\n",
        "print(cnn)\n",
        "\n",
        "it = iter(train_loader)\n",
        "X_batch, y_batch = next(it)\n",
        "print(cnn.forward(X_batch).shape)"
      ],
      "execution_count": 7,
      "outputs": [
        {
          "output_type": "stream",
          "text": [
            "CNN(\n",
            "  (conv1): Conv2d(1, 32, kernel_size=(5, 5), stride=(1, 1))\n",
            "  (conv2): Conv2d(32, 32, kernel_size=(5, 5), stride=(1, 1))\n",
            "  (conv3): Conv2d(32, 64, kernel_size=(5, 5), stride=(1, 1))\n",
            "  (fc1): Linear(in_features=576, out_features=256, bias=True)\n",
            "  (fc2): Linear(in_features=256, out_features=10, bias=True)\n",
            ")\n",
            "torch.Size([32, 10])\n"
          ],
          "name": "stdout"
        }
      ]
    },
    {
      "cell_type": "code",
      "metadata": {
        "colab": {
          "base_uri": "https://localhost:8080/"
        },
        "id": "Fhc-0GXPE-6O",
        "outputId": "57b36760-f651-41c4-9a9f-3d885f57f268"
      },
      "source": [
        "fit(cnn,train_loader)"
      ],
      "execution_count": 15,
      "outputs": [
        {
          "output_type": "stream",
          "text": [
            "Epoch : 0 [0/60000 (0%)]\tLoss: 0.618451\t Accuracy:81.250%\n",
            "Epoch : 0 [1600/60000 (3%)]\tLoss: 0.771554\t Accuracy:76.593%\n",
            "Epoch : 0 [3200/60000 (5%)]\tLoss: 0.809784\t Accuracy:76.949%\n",
            "Epoch : 0 [4800/60000 (8%)]\tLoss: 0.470975\t Accuracy:76.987%\n",
            "Epoch : 0 [6400/60000 (11%)]\tLoss: 0.748241\t Accuracy:77.052%\n",
            "Epoch : 0 [8000/60000 (13%)]\tLoss: 0.845336\t Accuracy:76.892%\n",
            "Epoch : 0 [9600/60000 (16%)]\tLoss: 0.398520\t Accuracy:76.765%\n",
            "Epoch : 0 [11200/60000 (19%)]\tLoss: 0.767568\t Accuracy:76.638%\n",
            "Epoch : 0 [12800/60000 (21%)]\tLoss: 0.768210\t Accuracy:76.629%\n",
            "Epoch : 0 [14400/60000 (24%)]\tLoss: 0.789740\t Accuracy:76.677%\n",
            "Epoch : 0 [16000/60000 (27%)]\tLoss: 0.681403\t Accuracy:76.509%\n",
            "Epoch : 0 [17600/60000 (29%)]\tLoss: 0.451766\t Accuracy:76.475%\n",
            "Epoch : 0 [19200/60000 (32%)]\tLoss: 0.641349\t Accuracy:76.279%\n",
            "Epoch : 0 [20800/60000 (35%)]\tLoss: 0.601214\t Accuracy:76.152%\n",
            "Epoch : 0 [22400/60000 (37%)]\tLoss: 0.543192\t Accuracy:76.106%\n",
            "Epoch : 0 [24000/60000 (40%)]\tLoss: 0.495574\t Accuracy:76.165%\n",
            "Epoch : 0 [25600/60000 (43%)]\tLoss: 0.714381\t Accuracy:76.127%\n",
            "Epoch : 0 [27200/60000 (45%)]\tLoss: 0.540658\t Accuracy:76.043%\n",
            "Epoch : 0 [28800/60000 (48%)]\tLoss: 0.646301\t Accuracy:75.988%\n",
            "Epoch : 0 [30400/60000 (51%)]\tLoss: 0.662148\t Accuracy:76.055%\n",
            "Epoch : 0 [32000/60000 (53%)]\tLoss: 0.772424\t Accuracy:76.015%\n",
            "Epoch : 0 [33600/60000 (56%)]\tLoss: 0.735017\t Accuracy:76.094%\n",
            "Epoch : 0 [35200/60000 (59%)]\tLoss: 0.771910\t Accuracy:76.081%\n",
            "Epoch : 0 [36800/60000 (61%)]\tLoss: 0.755306\t Accuracy:76.059%\n",
            "Epoch : 0 [38400/60000 (64%)]\tLoss: 0.525236\t Accuracy:76.077%\n",
            "Epoch : 0 [40000/60000 (67%)]\tLoss: 0.428581\t Accuracy:76.154%\n",
            "Epoch : 0 [41600/60000 (69%)]\tLoss: 0.736840\t Accuracy:76.177%\n",
            "Epoch : 0 [43200/60000 (72%)]\tLoss: 0.836640\t Accuracy:76.145%\n",
            "Epoch : 0 [44800/60000 (75%)]\tLoss: 0.565572\t Accuracy:76.144%\n",
            "Epoch : 0 [46400/60000 (77%)]\tLoss: 0.725915\t Accuracy:76.111%\n",
            "Epoch : 0 [48000/60000 (80%)]\tLoss: 0.752569\t Accuracy:76.162%\n",
            "Epoch : 0 [49600/60000 (83%)]\tLoss: 0.808912\t Accuracy:76.181%\n",
            "Epoch : 0 [51200/60000 (85%)]\tLoss: 0.387396\t Accuracy:76.249%\n",
            "Epoch : 0 [52800/60000 (88%)]\tLoss: 0.650878\t Accuracy:76.245%\n",
            "Epoch : 0 [54400/60000 (91%)]\tLoss: 0.517849\t Accuracy:76.238%\n",
            "Epoch : 0 [56000/60000 (93%)]\tLoss: 0.952761\t Accuracy:76.239%\n",
            "Epoch : 0 [57600/60000 (96%)]\tLoss: 0.429475\t Accuracy:76.255%\n",
            "Epoch : 0 [59200/60000 (99%)]\tLoss: 0.538492\t Accuracy:76.254%\n",
            "Epoch : 1 [0/60000 (0%)]\tLoss: 0.681553\t Accuracy:65.625%\n",
            "Epoch : 1 [1600/60000 (3%)]\tLoss: 0.586167\t Accuracy:75.613%\n",
            "Epoch : 1 [3200/60000 (5%)]\tLoss: 1.012797\t Accuracy:75.774%\n",
            "Epoch : 1 [4800/60000 (8%)]\tLoss: 0.493307\t Accuracy:76.159%\n",
            "Epoch : 1 [6400/60000 (11%)]\tLoss: 0.791028\t Accuracy:76.446%\n",
            "Epoch : 1 [8000/60000 (13%)]\tLoss: 0.911337\t Accuracy:76.370%\n",
            "Epoch : 1 [9600/60000 (16%)]\tLoss: 0.503614\t Accuracy:76.516%\n",
            "Epoch : 1 [11200/60000 (19%)]\tLoss: 0.484359\t Accuracy:76.772%\n",
            "Epoch : 1 [12800/60000 (21%)]\tLoss: 0.883486\t Accuracy:76.496%\n",
            "Epoch : 1 [14400/60000 (24%)]\tLoss: 0.742941\t Accuracy:76.642%\n",
            "Epoch : 1 [16000/60000 (27%)]\tLoss: 0.584434\t Accuracy:76.747%\n",
            "Epoch : 1 [17600/60000 (29%)]\tLoss: 0.485099\t Accuracy:76.781%\n",
            "Epoch : 1 [19200/60000 (32%)]\tLoss: 0.567422\t Accuracy:76.690%\n",
            "Epoch : 1 [20800/60000 (35%)]\tLoss: 0.626635\t Accuracy:76.575%\n",
            "Epoch : 1 [22400/60000 (37%)]\tLoss: 0.648480\t Accuracy:76.560%\n",
            "Epoch : 1 [24000/60000 (40%)]\tLoss: 0.507199\t Accuracy:76.602%\n",
            "Epoch : 1 [25600/60000 (43%)]\tLoss: 0.500846\t Accuracy:76.631%\n",
            "Epoch : 1 [27200/60000 (45%)]\tLoss: 0.522191\t Accuracy:76.539%\n",
            "Epoch : 1 [28800/60000 (48%)]\tLoss: 0.645263\t Accuracy:76.484%\n",
            "Epoch : 1 [30400/60000 (51%)]\tLoss: 0.587862\t Accuracy:76.538%\n",
            "Epoch : 1 [32000/60000 (53%)]\tLoss: 0.718161\t Accuracy:76.436%\n",
            "Epoch : 1 [33600/60000 (56%)]\tLoss: 0.527177\t Accuracy:76.472%\n",
            "Epoch : 1 [35200/60000 (59%)]\tLoss: 0.793196\t Accuracy:76.490%\n",
            "Epoch : 1 [36800/60000 (61%)]\tLoss: 0.698612\t Accuracy:76.398%\n",
            "Epoch : 1 [38400/60000 (64%)]\tLoss: 0.590753\t Accuracy:76.434%\n",
            "Epoch : 1 [40000/60000 (67%)]\tLoss: 0.334185\t Accuracy:76.476%\n",
            "Epoch : 1 [41600/60000 (69%)]\tLoss: 0.712428\t Accuracy:76.494%\n",
            "Epoch : 1 [43200/60000 (72%)]\tLoss: 0.619120\t Accuracy:76.490%\n",
            "Epoch : 1 [44800/60000 (75%)]\tLoss: 0.531137\t Accuracy:76.506%\n",
            "Epoch : 1 [46400/60000 (77%)]\tLoss: 0.623519\t Accuracy:76.510%\n",
            "Epoch : 1 [48000/60000 (80%)]\tLoss: 0.723777\t Accuracy:76.522%\n",
            "Epoch : 1 [49600/60000 (83%)]\tLoss: 0.909083\t Accuracy:76.539%\n",
            "Epoch : 1 [51200/60000 (85%)]\tLoss: 0.350078\t Accuracy:76.593%\n",
            "Epoch : 1 [52800/60000 (88%)]\tLoss: 0.638747\t Accuracy:76.601%\n",
            "Epoch : 1 [54400/60000 (91%)]\tLoss: 0.512890\t Accuracy:76.551%\n",
            "Epoch : 1 [56000/60000 (93%)]\tLoss: 0.932683\t Accuracy:76.590%\n",
            "Epoch : 1 [57600/60000 (96%)]\tLoss: 0.325514\t Accuracy:76.589%\n",
            "Epoch : 1 [59200/60000 (99%)]\tLoss: 0.584618\t Accuracy:76.599%\n",
            "Epoch : 2 [0/60000 (0%)]\tLoss: 0.624481\t Accuracy:81.250%\n",
            "Epoch : 2 [1600/60000 (3%)]\tLoss: 0.604143\t Accuracy:77.696%\n",
            "Epoch : 2 [3200/60000 (5%)]\tLoss: 0.847986\t Accuracy:77.785%\n",
            "Epoch : 2 [4800/60000 (8%)]\tLoss: 0.523483\t Accuracy:77.463%\n",
            "Epoch : 2 [6400/60000 (11%)]\tLoss: 0.759217\t Accuracy:77.363%\n",
            "Epoch : 2 [8000/60000 (13%)]\tLoss: 0.792853\t Accuracy:77.154%\n",
            "Epoch : 2 [9600/60000 (16%)]\tLoss: 0.533156\t Accuracy:76.941%\n",
            "Epoch : 2 [11200/60000 (19%)]\tLoss: 0.690604\t Accuracy:76.950%\n",
            "Epoch : 2 [12800/60000 (21%)]\tLoss: 0.876786\t Accuracy:76.870%\n",
            "Epoch : 2 [14400/60000 (24%)]\tLoss: 0.977748\t Accuracy:77.037%\n",
            "Epoch : 2 [16000/60000 (27%)]\tLoss: 0.471590\t Accuracy:77.046%\n",
            "Epoch : 2 [17600/60000 (29%)]\tLoss: 0.490795\t Accuracy:77.042%\n",
            "Epoch : 2 [19200/60000 (32%)]\tLoss: 0.452451\t Accuracy:76.919%\n",
            "Epoch : 2 [20800/60000 (35%)]\tLoss: 0.549781\t Accuracy:76.882%\n",
            "Epoch : 2 [22400/60000 (37%)]\tLoss: 0.645792\t Accuracy:76.832%\n",
            "Epoch : 2 [24000/60000 (40%)]\tLoss: 0.432428\t Accuracy:76.739%\n",
            "Epoch : 2 [25600/60000 (43%)]\tLoss: 0.687178\t Accuracy:76.748%\n",
            "Epoch : 2 [27200/60000 (45%)]\tLoss: 0.513818\t Accuracy:76.708%\n",
            "Epoch : 2 [28800/60000 (48%)]\tLoss: 0.891644\t Accuracy:76.700%\n",
            "Epoch : 2 [30400/60000 (51%)]\tLoss: 0.655087\t Accuracy:76.735%\n",
            "Epoch : 2 [32000/60000 (53%)]\tLoss: 0.704339\t Accuracy:76.664%\n",
            "Epoch : 2 [33600/60000 (56%)]\tLoss: 0.450351\t Accuracy:76.707%\n",
            "Epoch : 2 [35200/60000 (59%)]\tLoss: 0.772071\t Accuracy:76.791%\n",
            "Epoch : 2 [36800/60000 (61%)]\tLoss: 0.765926\t Accuracy:76.738%\n",
            "Epoch : 2 [38400/60000 (64%)]\tLoss: 0.671365\t Accuracy:76.756%\n",
            "Epoch : 2 [40000/60000 (67%)]\tLoss: 0.360004\t Accuracy:76.814%\n",
            "Epoch : 2 [41600/60000 (69%)]\tLoss: 0.727858\t Accuracy:76.818%\n",
            "Epoch : 2 [43200/60000 (72%)]\tLoss: 0.868500\t Accuracy:76.853%\n",
            "Epoch : 2 [44800/60000 (75%)]\tLoss: 0.376822\t Accuracy:76.840%\n",
            "Epoch : 2 [46400/60000 (77%)]\tLoss: 0.587402\t Accuracy:76.887%\n",
            "Epoch : 2 [48000/60000 (80%)]\tLoss: 0.627373\t Accuracy:76.936%\n",
            "Epoch : 2 [49600/60000 (83%)]\tLoss: 0.824218\t Accuracy:76.962%\n",
            "Epoch : 2 [51200/60000 (85%)]\tLoss: 0.325287\t Accuracy:76.999%\n",
            "Epoch : 2 [52800/60000 (88%)]\tLoss: 0.671860\t Accuracy:77.014%\n",
            "Epoch : 2 [54400/60000 (91%)]\tLoss: 0.571283\t Accuracy:76.980%\n",
            "Epoch : 2 [56000/60000 (93%)]\tLoss: 1.025156\t Accuracy:76.933%\n",
            "Epoch : 2 [57600/60000 (96%)]\tLoss: 0.448662\t Accuracy:76.942%\n",
            "Epoch : 2 [59200/60000 (99%)]\tLoss: 0.551748\t Accuracy:76.948%\n",
            "Epoch : 3 [0/60000 (0%)]\tLoss: 0.670304\t Accuracy:62.500%\n",
            "Epoch : 3 [1600/60000 (3%)]\tLoss: 0.783446\t Accuracy:75.919%\n",
            "Epoch : 3 [3200/60000 (5%)]\tLoss: 0.869152\t Accuracy:76.702%\n",
            "Epoch : 3 [4800/60000 (8%)]\tLoss: 0.554687\t Accuracy:76.966%\n",
            "Epoch : 3 [6400/60000 (11%)]\tLoss: 1.026161\t Accuracy:77.503%\n",
            "Epoch : 3 [8000/60000 (13%)]\tLoss: 0.775577\t Accuracy:77.303%\n",
            "Epoch : 3 [9600/60000 (16%)]\tLoss: 0.547754\t Accuracy:77.305%\n",
            "Epoch : 3 [11200/60000 (19%)]\tLoss: 0.571182\t Accuracy:77.181%\n",
            "Epoch : 3 [12800/60000 (21%)]\tLoss: 0.832957\t Accuracy:77.182%\n",
            "Epoch : 3 [14400/60000 (24%)]\tLoss: 0.901987\t Accuracy:77.314%\n",
            "Epoch : 3 [16000/60000 (27%)]\tLoss: 0.518511\t Accuracy:77.408%\n",
            "Epoch : 3 [17600/60000 (29%)]\tLoss: 0.397719\t Accuracy:77.382%\n",
            "Epoch : 3 [19200/60000 (32%)]\tLoss: 0.548590\t Accuracy:77.319%\n",
            "Epoch : 3 [20800/60000 (35%)]\tLoss: 0.639446\t Accuracy:77.333%\n",
            "Epoch : 3 [22400/60000 (37%)]\tLoss: 0.519651\t Accuracy:77.309%\n",
            "Epoch : 3 [24000/60000 (40%)]\tLoss: 0.606445\t Accuracy:77.355%\n",
            "Epoch : 3 [25600/60000 (43%)]\tLoss: 0.867742\t Accuracy:77.431%\n",
            "Epoch : 3 [27200/60000 (45%)]\tLoss: 0.651588\t Accuracy:77.280%\n",
            "Epoch : 3 [28800/60000 (48%)]\tLoss: 0.678740\t Accuracy:77.244%\n",
            "Epoch : 3 [30400/60000 (51%)]\tLoss: 0.710815\t Accuracy:77.251%\n",
            "Epoch : 3 [32000/60000 (53%)]\tLoss: 0.650365\t Accuracy:77.223%\n",
            "Epoch : 3 [33600/60000 (56%)]\tLoss: 0.557504\t Accuracy:77.257%\n",
            "Epoch : 3 [35200/60000 (59%)]\tLoss: 0.691565\t Accuracy:77.242%\n",
            "Epoch : 3 [36800/60000 (61%)]\tLoss: 0.659625\t Accuracy:77.221%\n",
            "Epoch : 3 [38400/60000 (64%)]\tLoss: 0.597912\t Accuracy:77.227%\n",
            "Epoch : 3 [40000/60000 (67%)]\tLoss: 0.267712\t Accuracy:77.228%\n",
            "Epoch : 3 [41600/60000 (69%)]\tLoss: 0.629233\t Accuracy:77.284%\n",
            "Epoch : 3 [43200/60000 (72%)]\tLoss: 0.654103\t Accuracy:77.255%\n",
            "Epoch : 3 [44800/60000 (75%)]\tLoss: 0.485726\t Accuracy:77.248%\n",
            "Epoch : 3 [46400/60000 (77%)]\tLoss: 0.565868\t Accuracy:77.201%\n",
            "Epoch : 3 [48000/60000 (80%)]\tLoss: 0.851904\t Accuracy:77.171%\n",
            "Epoch : 3 [49600/60000 (83%)]\tLoss: 0.600544\t Accuracy:77.208%\n",
            "Epoch : 3 [51200/60000 (85%)]\tLoss: 0.475732\t Accuracy:77.200%\n",
            "Epoch : 3 [52800/60000 (88%)]\tLoss: 0.545694\t Accuracy:77.143%\n",
            "Epoch : 3 [54400/60000 (91%)]\tLoss: 0.623541\t Accuracy:77.081%\n",
            "Epoch : 3 [56000/60000 (93%)]\tLoss: 1.067813\t Accuracy:77.099%\n",
            "Epoch : 3 [57600/60000 (96%)]\tLoss: 0.525876\t Accuracy:77.101%\n",
            "Epoch : 3 [59200/60000 (99%)]\tLoss: 0.528498\t Accuracy:77.134%\n",
            "Epoch : 4 [0/60000 (0%)]\tLoss: 0.725890\t Accuracy:68.750%\n",
            "Epoch : 4 [1600/60000 (3%)]\tLoss: 0.831649\t Accuracy:76.961%\n",
            "Epoch : 4 [3200/60000 (5%)]\tLoss: 0.828032\t Accuracy:77.785%\n",
            "Epoch : 4 [4800/60000 (8%)]\tLoss: 0.616583\t Accuracy:78.022%\n",
            "Epoch : 4 [6400/60000 (11%)]\tLoss: 0.716143\t Accuracy:77.985%\n",
            "Epoch : 4 [8000/60000 (13%)]\tLoss: 0.787429\t Accuracy:77.963%\n",
            "Epoch : 4 [9600/60000 (16%)]\tLoss: 0.455149\t Accuracy:77.793%\n",
            "Epoch : 4 [11200/60000 (19%)]\tLoss: 0.569544\t Accuracy:77.813%\n",
            "Epoch : 4 [12800/60000 (21%)]\tLoss: 0.949141\t Accuracy:77.829%\n",
            "Epoch : 4 [14400/60000 (24%)]\tLoss: 0.671825\t Accuracy:77.903%\n",
            "Epoch : 4 [16000/60000 (27%)]\tLoss: 0.528189\t Accuracy:77.975%\n",
            "Epoch : 4 [17600/60000 (29%)]\tLoss: 0.477004\t Accuracy:78.012%\n",
            "Epoch : 4 [19200/60000 (32%)]\tLoss: 0.519935\t Accuracy:77.922%\n",
            "Epoch : 4 [20800/60000 (35%)]\tLoss: 0.536337\t Accuracy:77.914%\n",
            "Epoch : 4 [22400/60000 (37%)]\tLoss: 0.518311\t Accuracy:77.849%\n",
            "Epoch : 4 [24000/60000 (40%)]\tLoss: 0.420116\t Accuracy:77.879%\n",
            "Epoch : 4 [25600/60000 (43%)]\tLoss: 0.514957\t Accuracy:77.969%\n",
            "Epoch : 4 [27200/60000 (45%)]\tLoss: 0.538458\t Accuracy:77.989%\n",
            "Epoch : 4 [28800/60000 (48%)]\tLoss: 0.819158\t Accuracy:78.004%\n",
            "Epoch : 4 [30400/60000 (51%)]\tLoss: 0.730861\t Accuracy:77.928%\n",
            "Epoch : 4 [32000/60000 (53%)]\tLoss: 0.687187\t Accuracy:77.875%\n",
            "Epoch : 4 [33600/60000 (56%)]\tLoss: 0.599484\t Accuracy:77.944%\n",
            "Epoch : 4 [35200/60000 (59%)]\tLoss: 0.908161\t Accuracy:77.909%\n",
            "Epoch : 4 [36800/60000 (61%)]\tLoss: 0.633738\t Accuracy:77.864%\n",
            "Epoch : 4 [38400/60000 (64%)]\tLoss: 0.633264\t Accuracy:77.849%\n",
            "Epoch : 4 [40000/60000 (67%)]\tLoss: 0.271243\t Accuracy:77.835%\n",
            "Epoch : 4 [41600/60000 (69%)]\tLoss: 0.509194\t Accuracy:77.842%\n",
            "Epoch : 4 [43200/60000 (72%)]\tLoss: 0.598937\t Accuracy:77.831%\n",
            "Epoch : 4 [44800/60000 (75%)]\tLoss: 0.427614\t Accuracy:77.851%\n",
            "Epoch : 4 [46400/60000 (77%)]\tLoss: 0.567756\t Accuracy:77.793%\n",
            "Epoch : 4 [48000/60000 (80%)]\tLoss: 0.724342\t Accuracy:77.800%\n",
            "Epoch : 4 [49600/60000 (83%)]\tLoss: 0.662833\t Accuracy:77.782%\n",
            "Epoch : 4 [51200/60000 (85%)]\tLoss: 0.304933\t Accuracy:77.801%\n",
            "Epoch : 4 [52800/60000 (88%)]\tLoss: 0.529215\t Accuracy:77.809%\n",
            "Epoch : 4 [54400/60000 (91%)]\tLoss: 0.451581\t Accuracy:77.785%\n",
            "Epoch : 4 [56000/60000 (93%)]\tLoss: 0.869061\t Accuracy:77.822%\n",
            "Epoch : 4 [57600/60000 (96%)]\tLoss: 0.387399\t Accuracy:77.820%\n",
            "Epoch : 4 [59200/60000 (99%)]\tLoss: 0.450211\t Accuracy:77.816%\n"
          ],
          "name": "stdout"
        }
      ]
    },
    {
      "cell_type": "code",
      "metadata": {
        "id": "d5NF6JqxFCkn"
      },
      "source": [
        "def evaluate(model):\n",
        "    correct = 0 \n",
        "    for test_imgs, test_labels in test_loader:\n",
        "        test_imgs = Variable(test_imgs).float()\n",
        "        output = model(test_imgs)\n",
        "        predicted = torch.max(output,1)[1]\n",
        "        correct += (predicted == test_labels).sum()\n",
        "    print(\"Test accuracy:{:.3f} \".format( float(correct) / (len(test_loader)*BATCH_SIZE)))"
      ],
      "execution_count": 16,
      "outputs": []
    },
    {
      "cell_type": "code",
      "metadata": {
        "colab": {
          "base_uri": "https://localhost:8080/"
        },
        "id": "kVbIBS9QHhij",
        "outputId": "d3c1b4d4-a8cd-49b3-b2a1-3341b587dd1a"
      },
      "source": [
        "evaluate(cnn)"
      ],
      "execution_count": 17,
      "outputs": [
        {
          "output_type": "stream",
          "text": [
            "Test accuracy:0.776 \n"
          ],
          "name": "stdout"
        }
      ]
    },
    {
      "cell_type": "code",
      "metadata": {
        "id": "U1RmhvygHosQ"
      },
      "source": [
        ""
      ],
      "execution_count": 10,
      "outputs": []
    }
  ]
}