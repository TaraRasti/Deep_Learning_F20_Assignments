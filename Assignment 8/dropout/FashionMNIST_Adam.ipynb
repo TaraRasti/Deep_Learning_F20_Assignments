{
  "nbformat": 4,
  "nbformat_minor": 0,
  "metadata": {
    "colab": {
      "name": "FashionMNIST-Adam.ipynb",
      "provenance": [],
      "collapsed_sections": [],
      "mount_file_id": "1f2CU4gX7LjcPTv_fVBX4TQMevSNSTj3H",
      "authorship_tag": "ABX9TyPrqwI94OgDmlPkWhIfTx/R",
      "include_colab_link": true
    },
    "kernelspec": {
      "name": "python3",
      "display_name": "Python 3"
    }
  },
  "cells": [
    {
      "cell_type": "markdown",
      "metadata": {
        "id": "view-in-github",
        "colab_type": "text"
      },
      "source": [
        "<a href=\"https://colab.research.google.com/github/TaraRasti/Deep_Learning_F20_Assignments/blob/master/Assignment%208/dropout/FashionMNIST_Adam.ipynb\" target=\"_parent\"><img src=\"https://colab.research.google.com/assets/colab-badge.svg\" alt=\"Open In Colab\"/></a>"
      ]
    },
    {
      "cell_type": "code",
      "metadata": {
        "id": "rnRxA4R5BsVS"
      },
      "source": [
        "import numpy as np\n",
        "import pandas as pd \n",
        "import torch\n",
        "import torch.nn as nn\n",
        "import torch.nn.functional as F\n",
        "import torch.utils.data\n",
        "from torch.autograd import Variable\n",
        "from sklearn.model_selection import train_test_split"
      ],
      "execution_count": 2,
      "outputs": []
    },
    {
      "cell_type": "code",
      "metadata": {
        "colab": {
          "base_uri": "https://localhost:8080/"
        },
        "id": "VDcWQ-ZbDA1T",
        "outputId": "303b3b5f-7648-4ad0-b049-d147edf96cae"
      },
      "source": [
        "train = pd.read_csv('/content/drive/MyDrive/fashion-mnist_train.csv')\n",
        "print(train.shape)"
      ],
      "execution_count": 3,
      "outputs": [
        {
          "output_type": "stream",
          "text": [
            "(60000, 785)\n"
          ],
          "name": "stdout"
        }
      ]
    },
    {
      "cell_type": "code",
      "metadata": {
        "colab": {
          "base_uri": "https://localhost:8080/"
        },
        "id": "MpsFbS4MDlZh",
        "outputId": "98064b70-76f6-4ec2-e4ec-40f3e7b3767a"
      },
      "source": [
        "test = pd.read_csv('/content/drive/MyDrive/fashion-mnist_test.csv')\n",
        "print(test.shape)"
      ],
      "execution_count": 4,
      "outputs": [
        {
          "output_type": "stream",
          "text": [
            "(10000, 785)\n"
          ],
          "name": "stdout"
        }
      ]
    },
    {
      "cell_type": "code",
      "metadata": {
        "colab": {
          "base_uri": "https://localhost:8080/"
        },
        "id": "wGiJmMXXDvDl",
        "outputId": "dca2a47a-5fe8-4c4a-cbab-4d00093f784e"
      },
      "source": [
        "y_train = train['label'].values\n",
        "X_train = train.drop(['label'],1).values\n",
        "y_test = test['label'].values\n",
        "X_test = test.drop(['label'],1).values\n",
        "print('y test shape : ',y_test.shape)\n",
        "print('X test shape : ',X_test.shape)\n",
        "print('y train shape : ',y_train.shape)\n",
        "print('X train shape : ',X_train.shape)"
      ],
      "execution_count": 5,
      "outputs": [
        {
          "output_type": "stream",
          "text": [
            "y test shape :  (10000,)\n",
            "X test shape :  (10000, 784)\n",
            "y train shape :  (60000,)\n",
            "X train shape :  (60000, 784)\n"
          ],
          "name": "stdout"
        }
      ]
    },
    {
      "cell_type": "code",
      "metadata": {
        "colab": {
          "base_uri": "https://localhost:8080/"
        },
        "id": "SygbBvc9ErHm",
        "outputId": "6c58ad68-1012-4920-f925-49231f672271"
      },
      "source": [
        "BATCH_SIZE = 32\n",
        "\n",
        "torch_X_train = torch_X_train.view(-1, 1,28,28).float()\n",
        "torch_X_test = torch_X_test.view(-1,1,28,28).float()\n",
        "print(torch_X_train.shape)\n",
        "print(torch_X_test.shape)\n",
        "\n",
        "train = torch.utils.data.TensorDataset(torch_X_train,torch_y_train)\n",
        "test = torch.utils.data.TensorDataset(torch_X_test,torch_y_test)\n",
        "\n",
        "train_loader = torch.utils.data.DataLoader(train, batch_size = BATCH_SIZE, shuffle = False)\n",
        "test_loader = torch.utils.data.DataLoader(test, batch_size = BATCH_SIZE, shuffle = False)"
      ],
      "execution_count": 9,
      "outputs": [
        {
          "output_type": "stream",
          "text": [
            "torch.Size([60000, 1, 28, 28])\n",
            "torch.Size([10000, 1, 28, 28])\n"
          ],
          "name": "stdout"
        }
      ]
    },
    {
      "cell_type": "code",
      "metadata": {
        "id": "2fDK5YCHFIP1"
      },
      "source": [
        "def fit(model, train_loader):\n",
        "    optimizer = torch.optim.Adam(model.parameters())\n",
        "    error = nn.CrossEntropyLoss()\n",
        "    EPOCHS = 5\n",
        "    model.train()\n",
        "    for epoch in range(EPOCHS):\n",
        "        correct = 0\n",
        "        for batch_idx, (X_batch, y_batch) in enumerate(train_loader):\n",
        "            var_X_batch = Variable(X_batch).float()\n",
        "            var_y_batch = Variable(y_batch)\n",
        "            optimizer.zero_grad()\n",
        "            output = model(var_X_batch)\n",
        "            loss = error(output, var_y_batch)\n",
        "            loss.backward()\n",
        "            optimizer.step()\n",
        "\n",
        "         \n",
        "            predicted = torch.max(output.data, 1)[1] \n",
        "            correct += (predicted == var_y_batch).sum()\n",
        "      \n",
        "            if batch_idx % 50 == 0:\n",
        "                print('Epoch : {} [{}/{} ({:.0f}%)]\\tLoss: {:.6f}\\t Accuracy:{:.3f}%'.format(\n",
        "                    epoch, batch_idx*len(X_batch), len(train_loader.dataset), 100.*batch_idx / len(train_loader), loss.item(), float(correct*100) / float(BATCH_SIZE*(batch_idx+1))))"
      ],
      "execution_count": 12,
      "outputs": []
    },
    {
      "cell_type": "code",
      "metadata": {
        "colab": {
          "base_uri": "https://localhost:8080/"
        },
        "id": "ICiL0NH7EPZD",
        "outputId": "74feb0bd-9c56-4271-e67c-da284b2e1087"
      },
      "source": [
        "class CNN(nn.Module):\n",
        "    def __init__(self):\n",
        "        super(CNN, self).__init__()\n",
        "        self.conv1 = nn.Conv2d(1, 32, kernel_size=5)\n",
        "        self.conv2 = nn.Conv2d(32, 32, kernel_size=5)\n",
        "        self.conv3 = nn.Conv2d(32,64, kernel_size=5)\n",
        "        self.fc1 = nn.Linear(3*3*64, 256)\n",
        "        self.fc2 = nn.Linear(256, 10)\n",
        "\n",
        "    def forward(self, x):\n",
        "        x = F.relu(self.conv1(x))\n",
        "        x = F.relu(F.max_pool2d(self.conv2(x), 2))\n",
        "        x = F.dropout(x, p=0.2, training=self.training)\n",
        "        x = F.relu(F.max_pool2d(self.conv3(x),2))\n",
        "        x = F.dropout(x, p=0.3, training=self.training)\n",
        "        x = x.view(-1,3*3*64 )\n",
        "        x = F.relu(self.fc1(x))\n",
        "        x = F.dropout(x, training=self.training)\n",
        "        x = self.fc2(x)\n",
        "        return F.log_softmax(x, dim=1)\n",
        " \n",
        "cnn = CNN()\n",
        "print(cnn)\n",
        "\n",
        "it = iter(train_loader)\n",
        "X_batch, y_batch = next(it)\n",
        "print(cnn.forward(X_batch).shape)"
      ],
      "execution_count": 13,
      "outputs": [
        {
          "output_type": "stream",
          "text": [
            "CNN(\n",
            "  (conv1): Conv2d(1, 32, kernel_size=(5, 5), stride=(1, 1))\n",
            "  (conv2): Conv2d(32, 32, kernel_size=(5, 5), stride=(1, 1))\n",
            "  (conv3): Conv2d(32, 64, kernel_size=(5, 5), stride=(1, 1))\n",
            "  (fc1): Linear(in_features=576, out_features=256, bias=True)\n",
            "  (fc2): Linear(in_features=256, out_features=10, bias=True)\n",
            ")\n",
            "torch.Size([32, 10])\n"
          ],
          "name": "stdout"
        }
      ]
    },
    {
      "cell_type": "code",
      "metadata": {
        "colab": {
          "base_uri": "https://localhost:8080/"
        },
        "id": "Fhc-0GXPE-6O",
        "outputId": "7de17b0a-1a77-4381-f780-c7480188ab47"
      },
      "source": [
        "fit(cnn,train_loader)"
      ],
      "execution_count": 14,
      "outputs": [
        {
          "output_type": "stream",
          "text": [
            "Epoch : 0 [0/60000 (0%)]\tLoss: 13.644171\t Accuracy:3.125%\n",
            "Epoch : 0 [1600/60000 (3%)]\tLoss: 1.173018\t Accuracy:35.968%\n",
            "Epoch : 0 [3200/60000 (5%)]\tLoss: 1.242868\t Accuracy:50.495%\n",
            "Epoch : 0 [4800/60000 (8%)]\tLoss: 0.712533\t Accuracy:56.623%\n",
            "Epoch : 0 [6400/60000 (11%)]\tLoss: 0.926103\t Accuracy:60.370%\n",
            "Epoch : 0 [8000/60000 (13%)]\tLoss: 1.467777\t Accuracy:62.674%\n",
            "Epoch : 0 [9600/60000 (16%)]\tLoss: 0.562799\t Accuracy:64.545%\n",
            "Epoch : 0 [11200/60000 (19%)]\tLoss: 0.668852\t Accuracy:66.026%\n",
            "Epoch : 0 [12800/60000 (21%)]\tLoss: 0.949386\t Accuracy:67.051%\n",
            "Epoch : 0 [14400/60000 (24%)]\tLoss: 0.967023\t Accuracy:68.057%\n",
            "Epoch : 0 [16000/60000 (27%)]\tLoss: 0.554034\t Accuracy:68.900%\n",
            "Epoch : 0 [17600/60000 (29%)]\tLoss: 0.518291\t Accuracy:69.657%\n",
            "Epoch : 0 [19200/60000 (32%)]\tLoss: 0.479473\t Accuracy:70.133%\n",
            "Epoch : 0 [20800/60000 (35%)]\tLoss: 0.435681\t Accuracy:70.709%\n",
            "Epoch : 0 [22400/60000 (37%)]\tLoss: 0.603964\t Accuracy:71.238%\n",
            "Epoch : 0 [24000/60000 (40%)]\tLoss: 0.511564\t Accuracy:71.671%\n",
            "Epoch : 0 [25600/60000 (43%)]\tLoss: 0.298181\t Accuracy:72.199%\n",
            "Epoch : 0 [27200/60000 (45%)]\tLoss: 0.629170\t Accuracy:72.521%\n",
            "Epoch : 0 [28800/60000 (48%)]\tLoss: 0.533195\t Accuracy:72.863%\n",
            "Epoch : 0 [30400/60000 (51%)]\tLoss: 0.558226\t Accuracy:73.229%\n",
            "Epoch : 0 [32000/60000 (53%)]\tLoss: 0.709964\t Accuracy:73.498%\n",
            "Epoch : 0 [33600/60000 (56%)]\tLoss: 0.806792\t Accuracy:73.843%\n",
            "Epoch : 0 [35200/60000 (59%)]\tLoss: 0.609926\t Accuracy:74.080%\n",
            "Epoch : 0 [36800/60000 (61%)]\tLoss: 0.592799\t Accuracy:74.346%\n",
            "Epoch : 0 [38400/60000 (64%)]\tLoss: 0.515126\t Accuracy:74.610%\n",
            "Epoch : 0 [40000/60000 (67%)]\tLoss: 0.593899\t Accuracy:74.848%\n",
            "Epoch : 0 [41600/60000 (69%)]\tLoss: 0.642404\t Accuracy:75.072%\n",
            "Epoch : 0 [43200/60000 (72%)]\tLoss: 0.610884\t Accuracy:75.291%\n",
            "Epoch : 0 [44800/60000 (75%)]\tLoss: 0.442618\t Accuracy:75.526%\n",
            "Epoch : 0 [46400/60000 (77%)]\tLoss: 0.389812\t Accuracy:75.696%\n",
            "Epoch : 0 [48000/60000 (80%)]\tLoss: 0.410638\t Accuracy:75.893%\n",
            "Epoch : 0 [49600/60000 (83%)]\tLoss: 0.517204\t Accuracy:76.126%\n",
            "Epoch : 0 [51200/60000 (85%)]\tLoss: 0.210193\t Accuracy:76.364%\n",
            "Epoch : 0 [52800/60000 (88%)]\tLoss: 0.613885\t Accuracy:76.527%\n",
            "Epoch : 0 [54400/60000 (91%)]\tLoss: 0.307612\t Accuracy:76.694%\n",
            "Epoch : 0 [56000/60000 (93%)]\tLoss: 0.774415\t Accuracy:76.804%\n",
            "Epoch : 0 [57600/60000 (96%)]\tLoss: 0.187552\t Accuracy:76.987%\n",
            "Epoch : 0 [59200/60000 (99%)]\tLoss: 0.550112\t Accuracy:77.112%\n",
            "Epoch : 1 [0/60000 (0%)]\tLoss: 0.639784\t Accuracy:78.125%\n",
            "Epoch : 1 [1600/60000 (3%)]\tLoss: 0.503653\t Accuracy:82.292%\n",
            "Epoch : 1 [3200/60000 (5%)]\tLoss: 0.632857\t Accuracy:83.509%\n",
            "Epoch : 1 [4800/60000 (8%)]\tLoss: 0.442344\t Accuracy:83.568%\n",
            "Epoch : 1 [6400/60000 (11%)]\tLoss: 0.453232\t Accuracy:83.660%\n",
            "Epoch : 1 [8000/60000 (13%)]\tLoss: 0.636935\t Accuracy:83.503%\n",
            "Epoch : 1 [9600/60000 (16%)]\tLoss: 0.326946\t Accuracy:83.430%\n",
            "Epoch : 1 [11200/60000 (19%)]\tLoss: 0.574309\t Accuracy:83.253%\n",
            "Epoch : 1 [12800/60000 (21%)]\tLoss: 0.695880\t Accuracy:83.214%\n",
            "Epoch : 1 [14400/60000 (24%)]\tLoss: 0.642831\t Accuracy:83.225%\n",
            "Epoch : 1 [16000/60000 (27%)]\tLoss: 0.247403\t Accuracy:83.246%\n",
            "Epoch : 1 [17600/60000 (29%)]\tLoss: 0.375025\t Accuracy:83.292%\n",
            "Epoch : 1 [19200/60000 (32%)]\tLoss: 0.293884\t Accuracy:83.304%\n",
            "Epoch : 1 [20800/60000 (35%)]\tLoss: 0.622687\t Accuracy:83.295%\n",
            "Epoch : 1 [22400/60000 (37%)]\tLoss: 0.447475\t Accuracy:83.256%\n",
            "Epoch : 1 [24000/60000 (40%)]\tLoss: 0.294771\t Accuracy:83.443%\n",
            "Epoch : 1 [25600/60000 (43%)]\tLoss: 0.227709\t Accuracy:83.470%\n",
            "Epoch : 1 [27200/60000 (45%)]\tLoss: 0.321102\t Accuracy:83.457%\n",
            "Epoch : 1 [28800/60000 (48%)]\tLoss: 0.488425\t Accuracy:83.383%\n",
            "Epoch : 1 [30400/60000 (51%)]\tLoss: 0.351738\t Accuracy:83.422%\n",
            "Epoch : 1 [32000/60000 (53%)]\tLoss: 0.321935\t Accuracy:83.407%\n",
            "Epoch : 1 [33600/60000 (56%)]\tLoss: 0.649356\t Accuracy:83.432%\n",
            "Epoch : 1 [35200/60000 (59%)]\tLoss: 0.504776\t Accuracy:83.441%\n",
            "Epoch : 1 [36800/60000 (61%)]\tLoss: 0.382632\t Accuracy:83.417%\n",
            "Epoch : 1 [38400/60000 (64%)]\tLoss: 0.403866\t Accuracy:83.490%\n",
            "Epoch : 1 [40000/60000 (67%)]\tLoss: 0.396602\t Accuracy:83.543%\n",
            "Epoch : 1 [41600/60000 (69%)]\tLoss: 0.375905\t Accuracy:83.616%\n",
            "Epoch : 1 [43200/60000 (72%)]\tLoss: 0.799119\t Accuracy:83.667%\n",
            "Epoch : 1 [44800/60000 (75%)]\tLoss: 0.377511\t Accuracy:83.690%\n",
            "Epoch : 1 [46400/60000 (77%)]\tLoss: 0.212581\t Accuracy:83.710%\n",
            "Epoch : 1 [48000/60000 (80%)]\tLoss: 0.485252\t Accuracy:83.690%\n",
            "Epoch : 1 [49600/60000 (83%)]\tLoss: 0.383377\t Accuracy:83.732%\n",
            "Epoch : 1 [51200/60000 (85%)]\tLoss: 0.190983\t Accuracy:83.823%\n",
            "Epoch : 1 [52800/60000 (88%)]\tLoss: 0.571124\t Accuracy:83.851%\n",
            "Epoch : 1 [54400/60000 (91%)]\tLoss: 0.289713\t Accuracy:83.875%\n",
            "Epoch : 1 [56000/60000 (93%)]\tLoss: 0.692957\t Accuracy:83.907%\n",
            "Epoch : 1 [57600/60000 (96%)]\tLoss: 0.172140\t Accuracy:83.938%\n",
            "Epoch : 1 [59200/60000 (99%)]\tLoss: 0.272665\t Accuracy:83.987%\n",
            "Epoch : 2 [0/60000 (0%)]\tLoss: 0.547097\t Accuracy:90.625%\n",
            "Epoch : 2 [1600/60000 (3%)]\tLoss: 0.421867\t Accuracy:84.191%\n",
            "Epoch : 2 [3200/60000 (5%)]\tLoss: 0.580257\t Accuracy:85.210%\n",
            "Epoch : 2 [4800/60000 (8%)]\tLoss: 0.287322\t Accuracy:85.596%\n",
            "Epoch : 2 [6400/60000 (11%)]\tLoss: 0.439489\t Accuracy:85.075%\n",
            "Epoch : 2 [8000/60000 (13%)]\tLoss: 0.431218\t Accuracy:84.960%\n",
            "Epoch : 2 [9600/60000 (16%)]\tLoss: 0.382368\t Accuracy:84.967%\n",
            "Epoch : 2 [11200/60000 (19%)]\tLoss: 0.372208\t Accuracy:84.954%\n",
            "Epoch : 2 [12800/60000 (21%)]\tLoss: 0.683967\t Accuracy:85.076%\n",
            "Epoch : 2 [14400/60000 (24%)]\tLoss: 0.549419\t Accuracy:85.089%\n",
            "Epoch : 2 [16000/60000 (27%)]\tLoss: 0.404280\t Accuracy:85.055%\n",
            "Epoch : 2 [17600/60000 (29%)]\tLoss: 0.352258\t Accuracy:85.050%\n",
            "Epoch : 2 [19200/60000 (32%)]\tLoss: 0.263847\t Accuracy:84.973%\n",
            "Epoch : 2 [20800/60000 (35%)]\tLoss: 0.724462\t Accuracy:85.013%\n",
            "Epoch : 2 [22400/60000 (37%)]\tLoss: 0.392753\t Accuracy:84.883%\n",
            "Epoch : 2 [24000/60000 (40%)]\tLoss: 0.367032\t Accuracy:84.945%\n",
            "Epoch : 2 [25600/60000 (43%)]\tLoss: 0.274244\t Accuracy:84.968%\n",
            "Epoch : 2 [27200/60000 (45%)]\tLoss: 0.520079\t Accuracy:84.944%\n",
            "Epoch : 2 [28800/60000 (48%)]\tLoss: 0.375030\t Accuracy:84.920%\n",
            "Epoch : 2 [30400/60000 (51%)]\tLoss: 0.373296\t Accuracy:85.026%\n",
            "Epoch : 2 [32000/60000 (53%)]\tLoss: 0.481660\t Accuracy:84.978%\n",
            "Epoch : 2 [33600/60000 (56%)]\tLoss: 0.504836\t Accuracy:85.044%\n",
            "Epoch : 2 [35200/60000 (59%)]\tLoss: 0.536167\t Accuracy:85.019%\n",
            "Epoch : 2 [36800/60000 (61%)]\tLoss: 0.510930\t Accuracy:84.997%\n",
            "Epoch : 2 [38400/60000 (64%)]\tLoss: 0.472009\t Accuracy:85.023%\n",
            "Epoch : 2 [40000/60000 (67%)]\tLoss: 0.351556\t Accuracy:85.047%\n",
            "Epoch : 2 [41600/60000 (69%)]\tLoss: 0.507493\t Accuracy:85.084%\n",
            "Epoch : 2 [43200/60000 (72%)]\tLoss: 0.714069\t Accuracy:85.106%\n",
            "Epoch : 2 [44800/60000 (75%)]\tLoss: 0.347579\t Accuracy:85.118%\n",
            "Epoch : 2 [46400/60000 (77%)]\tLoss: 0.342478\t Accuracy:85.135%\n",
            "Epoch : 2 [48000/60000 (80%)]\tLoss: 0.299292\t Accuracy:85.137%\n",
            "Epoch : 2 [49600/60000 (83%)]\tLoss: 0.310684\t Accuracy:85.151%\n",
            "Epoch : 2 [51200/60000 (85%)]\tLoss: 0.173945\t Accuracy:85.158%\n",
            "Epoch : 2 [52800/60000 (88%)]\tLoss: 0.493460\t Accuracy:85.164%\n",
            "Epoch : 2 [54400/60000 (91%)]\tLoss: 0.356426\t Accuracy:85.148%\n",
            "Epoch : 2 [56000/60000 (93%)]\tLoss: 0.767031\t Accuracy:85.128%\n",
            "Epoch : 2 [57600/60000 (96%)]\tLoss: 0.317525\t Accuracy:85.128%\n",
            "Epoch : 2 [59200/60000 (99%)]\tLoss: 0.280932\t Accuracy:85.165%\n",
            "Epoch : 3 [0/60000 (0%)]\tLoss: 0.389880\t Accuracy:87.500%\n",
            "Epoch : 3 [1600/60000 (3%)]\tLoss: 0.401169\t Accuracy:84.498%\n",
            "Epoch : 3 [3200/60000 (5%)]\tLoss: 0.510304\t Accuracy:85.149%\n",
            "Epoch : 3 [4800/60000 (8%)]\tLoss: 0.493909\t Accuracy:85.989%\n",
            "Epoch : 3 [6400/60000 (11%)]\tLoss: 0.342916\t Accuracy:85.759%\n",
            "Epoch : 3 [8000/60000 (13%)]\tLoss: 0.667984\t Accuracy:85.794%\n",
            "Epoch : 3 [9600/60000 (16%)]\tLoss: 0.281365\t Accuracy:85.662%\n",
            "Epoch : 3 [11200/60000 (19%)]\tLoss: 0.391517\t Accuracy:85.488%\n",
            "Epoch : 3 [12800/60000 (21%)]\tLoss: 0.907863\t Accuracy:85.279%\n",
            "Epoch : 3 [14400/60000 (24%)]\tLoss: 0.510664\t Accuracy:85.283%\n",
            "Epoch : 3 [16000/60000 (27%)]\tLoss: 0.305412\t Accuracy:85.248%\n",
            "Epoch : 3 [17600/60000 (29%)]\tLoss: 0.212635\t Accuracy:85.339%\n",
            "Epoch : 3 [19200/60000 (32%)]\tLoss: 0.369213\t Accuracy:85.311%\n",
            "Epoch : 3 [20800/60000 (35%)]\tLoss: 0.836285\t Accuracy:85.325%\n",
            "Epoch : 3 [22400/60000 (37%)]\tLoss: 0.232163\t Accuracy:85.329%\n",
            "Epoch : 3 [24000/60000 (40%)]\tLoss: 0.320639\t Accuracy:85.257%\n",
            "Epoch : 3 [25600/60000 (43%)]\tLoss: 0.162202\t Accuracy:85.366%\n",
            "Epoch : 3 [27200/60000 (45%)]\tLoss: 0.330150\t Accuracy:85.275%\n",
            "Epoch : 3 [28800/60000 (48%)]\tLoss: 0.516478\t Accuracy:85.214%\n",
            "Epoch : 3 [30400/60000 (51%)]\tLoss: 0.309909\t Accuracy:85.252%\n",
            "Epoch : 3 [32000/60000 (53%)]\tLoss: 0.359881\t Accuracy:85.287%\n",
            "Epoch : 3 [33600/60000 (56%)]\tLoss: 0.735857\t Accuracy:85.294%\n",
            "Epoch : 3 [35200/60000 (59%)]\tLoss: 0.378809\t Accuracy:85.283%\n",
            "Epoch : 3 [36800/60000 (61%)]\tLoss: 0.493640\t Accuracy:85.298%\n",
            "Epoch : 3 [38400/60000 (64%)]\tLoss: 0.410558\t Accuracy:85.364%\n",
            "Epoch : 3 [40000/60000 (67%)]\tLoss: 0.430935\t Accuracy:85.442%\n",
            "Epoch : 3 [41600/60000 (69%)]\tLoss: 0.666527\t Accuracy:85.461%\n",
            "Epoch : 3 [43200/60000 (72%)]\tLoss: 0.834542\t Accuracy:85.478%\n",
            "Epoch : 3 [44800/60000 (75%)]\tLoss: 0.470186\t Accuracy:85.481%\n",
            "Epoch : 3 [46400/60000 (77%)]\tLoss: 0.510199\t Accuracy:85.478%\n",
            "Epoch : 3 [48000/60000 (80%)]\tLoss: 0.293632\t Accuracy:85.501%\n",
            "Epoch : 3 [49600/60000 (83%)]\tLoss: 0.249511\t Accuracy:85.574%\n",
            "Epoch : 3 [51200/60000 (85%)]\tLoss: 0.113037\t Accuracy:85.630%\n",
            "Epoch : 3 [52800/60000 (88%)]\tLoss: 0.452151\t Accuracy:85.651%\n",
            "Epoch : 3 [54400/60000 (91%)]\tLoss: 0.318219\t Accuracy:85.621%\n",
            "Epoch : 3 [56000/60000 (93%)]\tLoss: 0.406590\t Accuracy:85.589%\n",
            "Epoch : 3 [57600/60000 (96%)]\tLoss: 0.153990\t Accuracy:85.610%\n",
            "Epoch : 3 [59200/60000 (99%)]\tLoss: 0.441065\t Accuracy:85.631%\n",
            "Epoch : 4 [0/60000 (0%)]\tLoss: 0.516247\t Accuracy:87.500%\n",
            "Epoch : 4 [1600/60000 (3%)]\tLoss: 0.276450\t Accuracy:84.436%\n",
            "Epoch : 4 [3200/60000 (5%)]\tLoss: 0.561029\t Accuracy:85.984%\n",
            "Epoch : 4 [4800/60000 (8%)]\tLoss: 0.383053\t Accuracy:86.320%\n",
            "Epoch : 4 [6400/60000 (11%)]\tLoss: 0.477840\t Accuracy:86.474%\n",
            "Epoch : 4 [8000/60000 (13%)]\tLoss: 0.666672\t Accuracy:86.081%\n",
            "Epoch : 4 [9600/60000 (16%)]\tLoss: 0.393442\t Accuracy:86.005%\n",
            "Epoch : 4 [11200/60000 (19%)]\tLoss: 0.243278\t Accuracy:85.897%\n",
            "Epoch : 4 [12800/60000 (21%)]\tLoss: 0.739776\t Accuracy:85.840%\n",
            "Epoch : 4 [14400/60000 (24%)]\tLoss: 0.761290\t Accuracy:85.927%\n",
            "Epoch : 4 [16000/60000 (27%)]\tLoss: 0.271762\t Accuracy:85.878%\n",
            "Epoch : 4 [17600/60000 (29%)]\tLoss: 0.290817\t Accuracy:86.014%\n",
            "Epoch : 4 [19200/60000 (32%)]\tLoss: 0.196936\t Accuracy:86.117%\n",
            "Epoch : 4 [20800/60000 (35%)]\tLoss: 0.693050\t Accuracy:86.060%\n",
            "Epoch : 4 [22400/60000 (37%)]\tLoss: 0.378204\t Accuracy:86.007%\n",
            "Epoch : 4 [24000/60000 (40%)]\tLoss: 0.261369\t Accuracy:86.077%\n",
            "Epoch : 4 [25600/60000 (43%)]\tLoss: 0.173638\t Accuracy:86.154%\n",
            "Epoch : 4 [27200/60000 (45%)]\tLoss: 0.297182\t Accuracy:86.141%\n",
            "Epoch : 4 [28800/60000 (48%)]\tLoss: 0.488881\t Accuracy:86.071%\n",
            "Epoch : 4 [30400/60000 (51%)]\tLoss: 0.292329\t Accuracy:86.130%\n",
            "Epoch : 4 [32000/60000 (53%)]\tLoss: 0.391313\t Accuracy:85.983%\n",
            "Epoch : 4 [33600/60000 (56%)]\tLoss: 0.689818\t Accuracy:86.031%\n",
            "Epoch : 4 [35200/60000 (59%)]\tLoss: 0.603753\t Accuracy:86.001%\n",
            "Epoch : 4 [36800/60000 (61%)]\tLoss: 0.444517\t Accuracy:85.961%\n",
            "Epoch : 4 [38400/60000 (64%)]\tLoss: 0.368848\t Accuracy:85.957%\n",
            "Epoch : 4 [40000/60000 (67%)]\tLoss: 0.261368\t Accuracy:85.959%\n",
            "Epoch : 4 [41600/60000 (69%)]\tLoss: 0.377294\t Accuracy:85.917%\n",
            "Epoch : 4 [43200/60000 (72%)]\tLoss: 0.624445\t Accuracy:85.888%\n",
            "Epoch : 4 [44800/60000 (75%)]\tLoss: 0.260846\t Accuracy:85.898%\n",
            "Epoch : 4 [46400/60000 (77%)]\tLoss: 0.400065\t Accuracy:85.898%\n",
            "Epoch : 4 [48000/60000 (80%)]\tLoss: 0.333032\t Accuracy:85.907%\n",
            "Epoch : 4 [49600/60000 (83%)]\tLoss: 0.249334\t Accuracy:85.920%\n",
            "Epoch : 4 [51200/60000 (85%)]\tLoss: 0.193975\t Accuracy:85.933%\n",
            "Epoch : 4 [52800/60000 (88%)]\tLoss: 0.584870\t Accuracy:85.923%\n",
            "Epoch : 4 [54400/60000 (91%)]\tLoss: 0.213719\t Accuracy:85.904%\n",
            "Epoch : 4 [56000/60000 (93%)]\tLoss: 0.766614\t Accuracy:85.897%\n",
            "Epoch : 4 [57600/60000 (96%)]\tLoss: 0.183374\t Accuracy:85.892%\n",
            "Epoch : 4 [59200/60000 (99%)]\tLoss: 0.486470\t Accuracy:85.883%\n"
          ],
          "name": "stdout"
        }
      ]
    },
    {
      "cell_type": "code",
      "metadata": {
        "id": "d5NF6JqxFCkn"
      },
      "source": [
        "def evaluate(model):\n",
        "    correct = 0 \n",
        "    for test_imgs, test_labels in test_loader:\n",
        "        test_imgs = Variable(test_imgs).float()\n",
        "        output = model(test_imgs)\n",
        "        predicted = torch.max(output,1)[1]\n",
        "        correct += (predicted == test_labels).sum()\n",
        "    print(\"Test accuracy:{:.3f}% \".format( float(correct) / (len(test_loader)*BATCH_SIZE)))"
      ],
      "execution_count": 16,
      "outputs": []
    },
    {
      "cell_type": "code",
      "metadata": {
        "colab": {
          "base_uri": "https://localhost:8080/"
        },
        "id": "kVbIBS9QHhij",
        "outputId": "9f5a336d-f92b-41fc-9bf0-8f4bf752a18f"
      },
      "source": [
        "evaluate(cnn)"
      ],
      "execution_count": 17,
      "outputs": [
        {
          "output_type": "stream",
          "text": [
            "Test accuracy:0.849% \n"
          ],
          "name": "stdout"
        }
      ]
    },
    {
      "cell_type": "code",
      "metadata": {
        "id": "U1RmhvygHosQ"
      },
      "source": [
        ""
      ],
      "execution_count": null,
      "outputs": []
    }
  ]
}