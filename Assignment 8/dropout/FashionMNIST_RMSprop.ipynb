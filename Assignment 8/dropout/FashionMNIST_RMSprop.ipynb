{
  "nbformat": 4,
  "nbformat_minor": 0,
  "metadata": {
    "colab": {
      "name": "FashionMNIST-RMSprop.ipynb",
      "provenance": [],
      "collapsed_sections": [],
      "mount_file_id": "1f2CU4gX7LjcPTv_fVBX4TQMevSNSTj3H",
      "authorship_tag": "ABX9TyNuSPhbDOSQn9sKJQz75a2E",
      "include_colab_link": true
    },
    "kernelspec": {
      "name": "python3",
      "display_name": "Python 3"
    },
    "accelerator": "GPU"
  },
  "cells": [
    {
      "cell_type": "markdown",
      "metadata": {
        "id": "view-in-github",
        "colab_type": "text"
      },
      "source": [
        "<a href=\"https://colab.research.google.com/github/TaraRasti/Deep_Learning_F20_Assignments/blob/master/Assignment%208/dropout/FashionMNIST_RMSprop.ipynb\" target=\"_parent\"><img src=\"https://colab.research.google.com/assets/colab-badge.svg\" alt=\"Open In Colab\"/></a>"
      ]
    },
    {
      "cell_type": "code",
      "metadata": {
        "id": "rnRxA4R5BsVS"
      },
      "source": [
        "import numpy as np\n",
        "import pandas as pd \n",
        "import torch\n",
        "import torch.nn as nn\n",
        "import torch.nn.functional as F\n",
        "import torch.utils.data\n",
        "from torch.autograd import Variable\n",
        "from sklearn.model_selection import train_test_split"
      ],
      "execution_count": 1,
      "outputs": []
    },
    {
      "cell_type": "code",
      "metadata": {
        "colab": {
          "base_uri": "https://localhost:8080/"
        },
        "id": "VDcWQ-ZbDA1T",
        "outputId": "1173769c-ce24-4b77-edb6-a00c66259945"
      },
      "source": [
        "train = pd.read_csv('/content/drive/MyDrive/fashion-mnist_train.csv')\n",
        "print(train.shape)"
      ],
      "execution_count": 2,
      "outputs": [
        {
          "output_type": "stream",
          "text": [
            "(60000, 785)\n"
          ],
          "name": "stdout"
        }
      ]
    },
    {
      "cell_type": "code",
      "metadata": {
        "colab": {
          "base_uri": "https://localhost:8080/"
        },
        "id": "MpsFbS4MDlZh",
        "outputId": "5130ebc5-f43c-4ebf-8536-b681b2de0f53"
      },
      "source": [
        "test = pd.read_csv('/content/drive/MyDrive/fashion-mnist_test.csv')\n",
        "print(test.shape)"
      ],
      "execution_count": 3,
      "outputs": [
        {
          "output_type": "stream",
          "text": [
            "(10000, 785)\n"
          ],
          "name": "stdout"
        }
      ]
    },
    {
      "cell_type": "code",
      "metadata": {
        "colab": {
          "base_uri": "https://localhost:8080/"
        },
        "id": "wGiJmMXXDvDl",
        "outputId": "07fba167-536f-423d-b13f-388174011041"
      },
      "source": [
        "y_train = train['label'].values\n",
        "X_train = train.drop(['label'],1).values\n",
        "y_test = test['label'].values\n",
        "X_test = test.drop(['label'],1).values\n",
        "print('y test shape : ',y_test.shape)\n",
        "print('X test shape : ',X_test.shape)\n",
        "print('y train shape : ',y_train.shape)\n",
        "print('X train shape : ',X_train.shape)"
      ],
      "execution_count": 4,
      "outputs": [
        {
          "output_type": "stream",
          "text": [
            "y test shape :  (10000,)\n",
            "X test shape :  (10000, 784)\n",
            "y train shape :  (60000,)\n",
            "X train shape :  (60000, 784)\n"
          ],
          "name": "stdout"
        }
      ]
    },
    {
      "cell_type": "code",
      "metadata": {
        "colab": {
          "base_uri": "https://localhost:8080/"
        },
        "id": "SygbBvc9ErHm",
        "outputId": "a556e4c8-ab85-426e-ad5b-2fc07adb0482"
      },
      "source": [
        "BATCH_SIZE = 32\n",
        "\n",
        "\n",
        "torch_X_train = torch.from_numpy(X_train).type(torch.LongTensor)\n",
        "torch_y_train = torch.from_numpy(y_train).type(torch.LongTensor)\n",
        "\n",
        "torch_X_test = torch.from_numpy(X_test).type(torch.LongTensor)\n",
        "torch_y_test = torch.from_numpy(y_test).type(torch.LongTensor)\n",
        "\n",
        "torch_X_train = torch_X_train.view(-1, 1,28,28).float()\n",
        "torch_X_test = torch_X_test.view(-1,1,28,28).float()\n",
        "print(torch_X_train.shape)\n",
        "print(torch_X_test.shape)\n",
        "\n",
        "train = torch.utils.data.TensorDataset(torch_X_train,torch_y_train)\n",
        "test = torch.utils.data.TensorDataset(torch_X_test,torch_y_test)\n",
        "\n",
        "train_loader = torch.utils.data.DataLoader(train, batch_size = BATCH_SIZE, shuffle = False)\n",
        "test_loader = torch.utils.data.DataLoader(test, batch_size = BATCH_SIZE, shuffle = False)"
      ],
      "execution_count": 5,
      "outputs": [
        {
          "output_type": "stream",
          "text": [
            "torch.Size([60000, 1, 28, 28])\n",
            "torch.Size([10000, 1, 28, 28])\n"
          ],
          "name": "stdout"
        }
      ]
    },
    {
      "cell_type": "code",
      "metadata": {
        "id": "2fDK5YCHFIP1"
      },
      "source": [
        "def fit(model, train_loader):\n",
        "    optimizer = torch.optim.RMSprop(model.parameters(),lr=0.001)\n",
        "    error = nn.CrossEntropyLoss()\n",
        "    EPOCHS = 5\n",
        "    model.train()\n",
        "    for epoch in range(EPOCHS):\n",
        "        correct = 0\n",
        "        for batch_idx, (X_batch, y_batch) in enumerate(train_loader):\n",
        "            var_X_batch = Variable(X_batch).float()\n",
        "            var_y_batch = Variable(y_batch)\n",
        "            optimizer.zero_grad()\n",
        "            output = model(var_X_batch)\n",
        "            loss = error(output, var_y_batch)\n",
        "            loss.backward()\n",
        "            optimizer.step()\n",
        "\n",
        "         \n",
        "            predicted = torch.max(output.data, 1)[1] \n",
        "            correct += (predicted == var_y_batch).sum()\n",
        "      \n",
        "            if batch_idx % 50 == 0:\n",
        "                print('Epoch : {} [{}/{} ({:.0f}%)]\\tLoss: {:.6f}\\t Accuracy:{:.3f}%'.format(\n",
        "                    epoch, batch_idx*len(X_batch), len(train_loader.dataset), 100.*batch_idx / len(train_loader), loss.item(), float(correct*100) / float(BATCH_SIZE*(batch_idx+1))))"
      ],
      "execution_count": 6,
      "outputs": []
    },
    {
      "cell_type": "code",
      "metadata": {
        "colab": {
          "base_uri": "https://localhost:8080/"
        },
        "id": "ICiL0NH7EPZD",
        "outputId": "5bad439c-8017-4e0e-8cec-e087432b1639"
      },
      "source": [
        "class CNN(nn.Module):\n",
        "    def __init__(self):\n",
        "        super(CNN, self).__init__()\n",
        "        self.conv1 = nn.Conv2d(1, 32, kernel_size=5)\n",
        "        self.conv2 = nn.Conv2d(32, 32, kernel_size=5)\n",
        "        self.conv3 = nn.Conv2d(32,64, kernel_size=5)\n",
        "        self.fc1 = nn.Linear(3*3*64, 256)\n",
        "        self.fc2 = nn.Linear(256, 10)\n",
        "\n",
        "    def forward(self, x):\n",
        "        x = F.relu(self.conv1(x))\n",
        "        x = F.relu(F.max_pool2d(self.conv2(x), 2))\n",
        "        x = F.dropout(x, p=0.2, training=self.training)\n",
        "        x = F.relu(F.max_pool2d(self.conv3(x),2))\n",
        "        x = F.dropout(x, p=0.3, training=self.training)\n",
        "        x = x.view(-1,3*3*64 )\n",
        "        x = F.relu(self.fc1(x))\n",
        "        x = F.dropout(x, training=self.training)\n",
        "        x = self.fc2(x)\n",
        "        return F.log_softmax(x, dim=1)\n",
        " \n",
        "cnn = CNN()\n",
        "print(cnn)\n",
        "\n",
        "it = iter(train_loader)\n",
        "X_batch, y_batch = next(it)\n",
        "print(cnn.forward(X_batch).shape)"
      ],
      "execution_count": 7,
      "outputs": [
        {
          "output_type": "stream",
          "text": [
            "CNN(\n",
            "  (conv1): Conv2d(1, 32, kernel_size=(5, 5), stride=(1, 1))\n",
            "  (conv2): Conv2d(32, 32, kernel_size=(5, 5), stride=(1, 1))\n",
            "  (conv3): Conv2d(32, 64, kernel_size=(5, 5), stride=(1, 1))\n",
            "  (fc1): Linear(in_features=576, out_features=256, bias=True)\n",
            "  (fc2): Linear(in_features=256, out_features=10, bias=True)\n",
            ")\n",
            "torch.Size([32, 10])\n"
          ],
          "name": "stdout"
        }
      ]
    },
    {
      "cell_type": "code",
      "metadata": {
        "colab": {
          "base_uri": "https://localhost:8080/"
        },
        "id": "Fhc-0GXPE-6O",
        "outputId": "45c59b49-7c3e-46a4-d21b-7384db5d8f8d"
      },
      "source": [
        "fit(cnn,train_loader)"
      ],
      "execution_count": 8,
      "outputs": [
        {
          "output_type": "stream",
          "text": [
            "Epoch : 0 [0/60000 (0%)]\tLoss: 12.262520\t Accuracy:12.500%\n",
            "Epoch : 0 [1600/60000 (3%)]\tLoss: 1.489827\t Accuracy:44.179%\n",
            "Epoch : 0 [3200/60000 (5%)]\tLoss: 1.091447\t Accuracy:54.889%\n",
            "Epoch : 0 [4800/60000 (8%)]\tLoss: 0.579931\t Accuracy:58.982%\n",
            "Epoch : 0 [6400/60000 (11%)]\tLoss: 1.119061\t Accuracy:61.552%\n",
            "Epoch : 0 [8000/60000 (13%)]\tLoss: 1.044056\t Accuracy:63.695%\n",
            "Epoch : 0 [9600/60000 (16%)]\tLoss: 0.728659\t Accuracy:65.334%\n",
            "Epoch : 0 [11200/60000 (19%)]\tLoss: 0.563640\t Accuracy:66.587%\n",
            "Epoch : 0 [12800/60000 (21%)]\tLoss: 0.802840\t Accuracy:67.589%\n",
            "Epoch : 0 [14400/60000 (24%)]\tLoss: 1.028086\t Accuracy:68.466%\n",
            "Epoch : 0 [16000/60000 (27%)]\tLoss: 0.599466\t Accuracy:69.237%\n",
            "Epoch : 0 [17600/60000 (29%)]\tLoss: 0.495575\t Accuracy:69.952%\n",
            "Epoch : 0 [19200/60000 (32%)]\tLoss: 0.468038\t Accuracy:70.346%\n",
            "Epoch : 0 [20800/60000 (35%)]\tLoss: 0.741964\t Accuracy:70.800%\n",
            "Epoch : 0 [22400/60000 (37%)]\tLoss: 0.853500\t Accuracy:71.139%\n",
            "Epoch : 0 [24000/60000 (40%)]\tLoss: 0.327571\t Accuracy:71.584%\n",
            "Epoch : 0 [25600/60000 (43%)]\tLoss: 0.490706\t Accuracy:72.015%\n",
            "Epoch : 0 [27200/60000 (45%)]\tLoss: 0.462206\t Accuracy:72.363%\n",
            "Epoch : 0 [28800/60000 (48%)]\tLoss: 0.657518\t Accuracy:72.676%\n",
            "Epoch : 0 [30400/60000 (51%)]\tLoss: 0.578355\t Accuracy:72.979%\n",
            "Epoch : 0 [32000/60000 (53%)]\tLoss: 0.710336\t Accuracy:73.192%\n",
            "Epoch : 0 [33600/60000 (56%)]\tLoss: 0.764056\t Accuracy:73.454%\n",
            "Epoch : 0 [35200/60000 (59%)]\tLoss: 0.653423\t Accuracy:73.726%\n",
            "Epoch : 0 [36800/60000 (61%)]\tLoss: 0.449843\t Accuracy:73.930%\n",
            "Epoch : 0 [38400/60000 (64%)]\tLoss: 0.516262\t Accuracy:74.167%\n",
            "Epoch : 0 [40000/60000 (67%)]\tLoss: 0.422673\t Accuracy:74.385%\n",
            "Epoch : 0 [41600/60000 (69%)]\tLoss: 0.549988\t Accuracy:74.563%\n",
            "Epoch : 0 [43200/60000 (72%)]\tLoss: 0.774225\t Accuracy:74.785%\n",
            "Epoch : 0 [44800/60000 (75%)]\tLoss: 0.364128\t Accuracy:74.982%\n",
            "Epoch : 0 [46400/60000 (77%)]\tLoss: 0.516541\t Accuracy:75.134%\n",
            "Epoch : 0 [48000/60000 (80%)]\tLoss: 0.471725\t Accuracy:75.333%\n",
            "Epoch : 0 [49600/60000 (83%)]\tLoss: 0.476492\t Accuracy:75.550%\n",
            "Epoch : 0 [51200/60000 (85%)]\tLoss: 0.325260\t Accuracy:75.779%\n",
            "Epoch : 0 [52800/60000 (88%)]\tLoss: 0.583233\t Accuracy:75.960%\n",
            "Epoch : 0 [54400/60000 (91%)]\tLoss: 0.390453\t Accuracy:76.064%\n",
            "Epoch : 0 [56000/60000 (93%)]\tLoss: 0.676928\t Accuracy:76.212%\n",
            "Epoch : 0 [57600/60000 (96%)]\tLoss: 0.216974\t Accuracy:76.326%\n",
            "Epoch : 0 [59200/60000 (99%)]\tLoss: 0.469307\t Accuracy:76.432%\n",
            "Epoch : 1 [0/60000 (0%)]\tLoss: 0.566431\t Accuracy:78.125%\n",
            "Epoch : 1 [1600/60000 (3%)]\tLoss: 0.521152\t Accuracy:81.618%\n",
            "Epoch : 1 [3200/60000 (5%)]\tLoss: 0.620596\t Accuracy:82.209%\n",
            "Epoch : 1 [4800/60000 (8%)]\tLoss: 0.442955\t Accuracy:82.368%\n",
            "Epoch : 1 [6400/60000 (11%)]\tLoss: 0.496844\t Accuracy:82.509%\n",
            "Epoch : 1 [8000/60000 (13%)]\tLoss: 0.722583\t Accuracy:82.520%\n",
            "Epoch : 1 [9600/60000 (16%)]\tLoss: 0.449101\t Accuracy:82.735%\n",
            "Epoch : 1 [11200/60000 (19%)]\tLoss: 0.429302\t Accuracy:82.514%\n",
            "Epoch : 1 [12800/60000 (21%)]\tLoss: 0.756552\t Accuracy:82.403%\n",
            "Epoch : 1 [14400/60000 (24%)]\tLoss: 0.654828\t Accuracy:82.463%\n",
            "Epoch : 1 [16000/60000 (27%)]\tLoss: 0.433981\t Accuracy:82.435%\n",
            "Epoch : 1 [17600/60000 (29%)]\tLoss: 0.373310\t Accuracy:82.407%\n",
            "Epoch : 1 [19200/60000 (32%)]\tLoss: 0.374059\t Accuracy:82.280%\n",
            "Epoch : 1 [20800/60000 (35%)]\tLoss: 0.396686\t Accuracy:82.330%\n",
            "Epoch : 1 [22400/60000 (37%)]\tLoss: 0.543427\t Accuracy:82.284%\n",
            "Epoch : 1 [24000/60000 (40%)]\tLoss: 0.325026\t Accuracy:82.365%\n",
            "Epoch : 1 [25600/60000 (43%)]\tLoss: 0.240335\t Accuracy:82.506%\n",
            "Epoch : 1 [27200/60000 (45%)]\tLoss: 0.457829\t Accuracy:82.484%\n",
            "Epoch : 1 [28800/60000 (48%)]\tLoss: 0.420898\t Accuracy:82.512%\n",
            "Epoch : 1 [30400/60000 (51%)]\tLoss: 0.375832\t Accuracy:82.581%\n",
            "Epoch : 1 [32000/60000 (53%)]\tLoss: 0.567697\t Accuracy:82.580%\n",
            "Epoch : 1 [33600/60000 (56%)]\tLoss: 0.589521\t Accuracy:82.612%\n",
            "Epoch : 1 [35200/60000 (59%)]\tLoss: 0.420859\t Accuracy:82.641%\n",
            "Epoch : 1 [36800/60000 (61%)]\tLoss: 0.639543\t Accuracy:82.632%\n",
            "Epoch : 1 [38400/60000 (64%)]\tLoss: 0.628681\t Accuracy:82.671%\n",
            "Epoch : 1 [40000/60000 (67%)]\tLoss: 0.269038\t Accuracy:82.694%\n",
            "Epoch : 1 [41600/60000 (69%)]\tLoss: 0.379522\t Accuracy:82.780%\n",
            "Epoch : 1 [43200/60000 (72%)]\tLoss: 0.578062\t Accuracy:82.811%\n",
            "Epoch : 1 [44800/60000 (75%)]\tLoss: 0.285027\t Accuracy:82.794%\n",
            "Epoch : 1 [46400/60000 (77%)]\tLoss: 0.409049\t Accuracy:82.824%\n",
            "Epoch : 1 [48000/60000 (80%)]\tLoss: 0.381487\t Accuracy:82.826%\n",
            "Epoch : 1 [49600/60000 (83%)]\tLoss: 0.286843\t Accuracy:82.868%\n",
            "Epoch : 1 [51200/60000 (85%)]\tLoss: 0.248232\t Accuracy:82.915%\n",
            "Epoch : 1 [52800/60000 (88%)]\tLoss: 0.528753\t Accuracy:82.999%\n",
            "Epoch : 1 [54400/60000 (91%)]\tLoss: 0.358859\t Accuracy:82.986%\n",
            "Epoch : 1 [56000/60000 (93%)]\tLoss: 0.956868\t Accuracy:82.997%\n",
            "Epoch : 1 [57600/60000 (96%)]\tLoss: 0.203133\t Accuracy:83.008%\n",
            "Epoch : 1 [59200/60000 (99%)]\tLoss: 0.440733\t Accuracy:83.026%\n",
            "Epoch : 2 [0/60000 (0%)]\tLoss: 0.364224\t Accuracy:81.250%\n",
            "Epoch : 2 [1600/60000 (3%)]\tLoss: 0.393370\t Accuracy:83.824%\n",
            "Epoch : 2 [3200/60000 (5%)]\tLoss: 0.510528\t Accuracy:84.220%\n",
            "Epoch : 2 [4800/60000 (8%)]\tLoss: 0.470466\t Accuracy:84.541%\n",
            "Epoch : 2 [6400/60000 (11%)]\tLoss: 0.626911\t Accuracy:84.297%\n",
            "Epoch : 2 [8000/60000 (13%)]\tLoss: 0.771330\t Accuracy:84.213%\n",
            "Epoch : 2 [9600/60000 (16%)]\tLoss: 0.504855\t Accuracy:84.209%\n",
            "Epoch : 2 [11200/60000 (19%)]\tLoss: 0.351299\t Accuracy:84.108%\n",
            "Epoch : 2 [12800/60000 (21%)]\tLoss: 0.596928\t Accuracy:84.133%\n",
            "Epoch : 2 [14400/60000 (24%)]\tLoss: 0.798530\t Accuracy:84.209%\n",
            "Epoch : 2 [16000/60000 (27%)]\tLoss: 0.360632\t Accuracy:84.119%\n",
            "Epoch : 2 [17600/60000 (29%)]\tLoss: 0.238756\t Accuracy:84.137%\n",
            "Epoch : 2 [19200/60000 (32%)]\tLoss: 0.338368\t Accuracy:84.110%\n",
            "Epoch : 2 [20800/60000 (35%)]\tLoss: 0.406244\t Accuracy:84.188%\n",
            "Epoch : 2 [22400/60000 (37%)]\tLoss: 0.433582\t Accuracy:84.250%\n",
            "Epoch : 2 [24000/60000 (40%)]\tLoss: 0.339167\t Accuracy:84.292%\n",
            "Epoch : 2 [25600/60000 (43%)]\tLoss: 0.217289\t Accuracy:84.418%\n",
            "Epoch : 2 [27200/60000 (45%)]\tLoss: 0.404834\t Accuracy:84.346%\n",
            "Epoch : 2 [28800/60000 (48%)]\tLoss: 0.467743\t Accuracy:84.299%\n",
            "Epoch : 2 [30400/60000 (51%)]\tLoss: 0.355845\t Accuracy:84.322%\n",
            "Epoch : 2 [32000/60000 (53%)]\tLoss: 0.329247\t Accuracy:84.294%\n",
            "Epoch : 2 [33600/60000 (56%)]\tLoss: 0.719630\t Accuracy:84.348%\n",
            "Epoch : 2 [35200/60000 (59%)]\tLoss: 0.738370\t Accuracy:84.361%\n",
            "Epoch : 2 [36800/60000 (61%)]\tLoss: 0.568150\t Accuracy:84.410%\n",
            "Epoch : 2 [38400/60000 (64%)]\tLoss: 0.537689\t Accuracy:84.440%\n",
            "Epoch : 2 [40000/60000 (67%)]\tLoss: 0.463284\t Accuracy:84.427%\n",
            "Epoch : 2 [41600/60000 (69%)]\tLoss: 0.302162\t Accuracy:84.435%\n",
            "Epoch : 2 [43200/60000 (72%)]\tLoss: 0.396648\t Accuracy:84.461%\n",
            "Epoch : 2 [44800/60000 (75%)]\tLoss: 0.270782\t Accuracy:84.464%\n",
            "Epoch : 2 [46400/60000 (77%)]\tLoss: 0.438754\t Accuracy:84.414%\n",
            "Epoch : 2 [48000/60000 (80%)]\tLoss: 0.455666\t Accuracy:84.433%\n",
            "Epoch : 2 [49600/60000 (83%)]\tLoss: 0.334601\t Accuracy:84.472%\n",
            "Epoch : 2 [51200/60000 (85%)]\tLoss: 0.181837\t Accuracy:84.484%\n",
            "Epoch : 2 [52800/60000 (88%)]\tLoss: 0.416229\t Accuracy:84.496%\n",
            "Epoch : 2 [54400/60000 (91%)]\tLoss: 0.285577\t Accuracy:84.480%\n",
            "Epoch : 2 [56000/60000 (93%)]\tLoss: 0.611115\t Accuracy:84.482%\n",
            "Epoch : 2 [57600/60000 (96%)]\tLoss: 0.220924\t Accuracy:84.495%\n",
            "Epoch : 2 [59200/60000 (99%)]\tLoss: 0.422012\t Accuracy:84.512%\n",
            "Epoch : 3 [0/60000 (0%)]\tLoss: 0.402938\t Accuracy:87.500%\n",
            "Epoch : 3 [1600/60000 (3%)]\tLoss: 0.258080\t Accuracy:83.456%\n",
            "Epoch : 3 [3200/60000 (5%)]\tLoss: 0.535742\t Accuracy:85.087%\n",
            "Epoch : 3 [4800/60000 (8%)]\tLoss: 0.456662\t Accuracy:85.327%\n",
            "Epoch : 3 [6400/60000 (11%)]\tLoss: 0.414802\t Accuracy:85.292%\n",
            "Epoch : 3 [8000/60000 (13%)]\tLoss: 0.413231\t Accuracy:85.321%\n",
            "Epoch : 3 [9600/60000 (16%)]\tLoss: 0.366157\t Accuracy:85.247%\n",
            "Epoch : 3 [11200/60000 (19%)]\tLoss: 0.324408\t Accuracy:85.150%\n",
            "Epoch : 3 [12800/60000 (21%)]\tLoss: 0.695505\t Accuracy:84.983%\n",
            "Epoch : 3 [14400/60000 (24%)]\tLoss: 0.514660\t Accuracy:84.943%\n",
            "Epoch : 3 [16000/60000 (27%)]\tLoss: 0.455269\t Accuracy:84.799%\n",
            "Epoch : 3 [17600/60000 (29%)]\tLoss: 0.227215\t Accuracy:84.885%\n",
            "Epoch : 3 [19200/60000 (32%)]\tLoss: 0.371533\t Accuracy:84.853%\n",
            "Epoch : 3 [20800/60000 (35%)]\tLoss: 0.394610\t Accuracy:84.956%\n",
            "Epoch : 3 [22400/60000 (37%)]\tLoss: 0.450591\t Accuracy:84.910%\n",
            "Epoch : 3 [24000/60000 (40%)]\tLoss: 0.250137\t Accuracy:84.962%\n",
            "Epoch : 3 [25600/60000 (43%)]\tLoss: 0.299102\t Accuracy:85.066%\n",
            "Epoch : 3 [27200/60000 (45%)]\tLoss: 0.331631\t Accuracy:85.007%\n",
            "Epoch : 3 [28800/60000 (48%)]\tLoss: 0.686202\t Accuracy:85.010%\n",
            "Epoch : 3 [30400/60000 (51%)]\tLoss: 0.352536\t Accuracy:85.058%\n",
            "Epoch : 3 [32000/60000 (53%)]\tLoss: 0.412720\t Accuracy:84.978%\n",
            "Epoch : 3 [33600/60000 (56%)]\tLoss: 0.674228\t Accuracy:85.053%\n",
            "Epoch : 3 [35200/60000 (59%)]\tLoss: 0.629289\t Accuracy:84.997%\n",
            "Epoch : 3 [36800/60000 (61%)]\tLoss: 0.391227\t Accuracy:84.934%\n",
            "Epoch : 3 [38400/60000 (64%)]\tLoss: 0.670703\t Accuracy:84.960%\n",
            "Epoch : 3 [40000/60000 (67%)]\tLoss: 0.287423\t Accuracy:84.977%\n",
            "Epoch : 3 [41600/60000 (69%)]\tLoss: 0.399439\t Accuracy:84.990%\n",
            "Epoch : 3 [43200/60000 (72%)]\tLoss: 0.387636\t Accuracy:84.988%\n",
            "Epoch : 3 [44800/60000 (75%)]\tLoss: 0.439664\t Accuracy:85.013%\n",
            "Epoch : 3 [46400/60000 (77%)]\tLoss: 0.315126\t Accuracy:85.030%\n",
            "Epoch : 3 [48000/60000 (80%)]\tLoss: 0.314390\t Accuracy:85.050%\n",
            "Epoch : 3 [49600/60000 (83%)]\tLoss: 0.407288\t Accuracy:85.074%\n",
            "Epoch : 3 [51200/60000 (85%)]\tLoss: 0.151065\t Accuracy:85.080%\n",
            "Epoch : 3 [52800/60000 (88%)]\tLoss: 0.399753\t Accuracy:85.119%\n",
            "Epoch : 3 [54400/60000 (91%)]\tLoss: 0.334323\t Accuracy:85.101%\n",
            "Epoch : 3 [56000/60000 (93%)]\tLoss: 0.664624\t Accuracy:85.133%\n",
            "Epoch : 3 [57600/60000 (96%)]\tLoss: 0.226674\t Accuracy:85.154%\n",
            "Epoch : 3 [59200/60000 (99%)]\tLoss: 0.573081\t Accuracy:85.143%\n",
            "Epoch : 4 [0/60000 (0%)]\tLoss: 0.543681\t Accuracy:75.000%\n",
            "Epoch : 4 [1600/60000 (3%)]\tLoss: 0.234710\t Accuracy:84.436%\n",
            "Epoch : 4 [3200/60000 (5%)]\tLoss: 0.839137\t Accuracy:85.427%\n",
            "Epoch : 4 [4800/60000 (8%)]\tLoss: 0.271891\t Accuracy:85.844%\n",
            "Epoch : 4 [6400/60000 (11%)]\tLoss: 0.512366\t Accuracy:85.494%\n",
            "Epoch : 4 [8000/60000 (13%)]\tLoss: 0.676592\t Accuracy:85.284%\n",
            "Epoch : 4 [9600/60000 (16%)]\tLoss: 0.451385\t Accuracy:85.361%\n",
            "Epoch : 4 [11200/60000 (19%)]\tLoss: 0.432949\t Accuracy:85.345%\n",
            "Epoch : 4 [12800/60000 (21%)]\tLoss: 0.636920\t Accuracy:85.302%\n",
            "Epoch : 4 [14400/60000 (24%)]\tLoss: 0.631009\t Accuracy:85.338%\n",
            "Epoch : 4 [16000/60000 (27%)]\tLoss: 0.241014\t Accuracy:85.367%\n",
            "Epoch : 4 [17600/60000 (29%)]\tLoss: 0.390357\t Accuracy:85.419%\n",
            "Epoch : 4 [19200/60000 (32%)]\tLoss: 0.362550\t Accuracy:85.332%\n",
            "Epoch : 4 [20800/60000 (35%)]\tLoss: 0.759778\t Accuracy:85.393%\n",
            "Epoch : 4 [22400/60000 (37%)]\tLoss: 0.341460\t Accuracy:85.440%\n",
            "Epoch : 4 [24000/60000 (40%)]\tLoss: 0.241584\t Accuracy:85.478%\n",
            "Epoch : 4 [25600/60000 (43%)]\tLoss: 0.202515\t Accuracy:85.471%\n",
            "Epoch : 4 [27200/60000 (45%)]\tLoss: 0.294670\t Accuracy:85.389%\n",
            "Epoch : 4 [28800/60000 (48%)]\tLoss: 0.456767\t Accuracy:85.360%\n",
            "Epoch : 4 [30400/60000 (51%)]\tLoss: 0.418792\t Accuracy:85.427%\n",
            "Epoch : 4 [32000/60000 (53%)]\tLoss: 0.407756\t Accuracy:85.436%\n",
            "Epoch : 4 [33600/60000 (56%)]\tLoss: 0.768314\t Accuracy:85.442%\n",
            "Epoch : 4 [35200/60000 (59%)]\tLoss: 0.523417\t Accuracy:85.394%\n",
            "Epoch : 4 [36800/60000 (61%)]\tLoss: 0.400329\t Accuracy:85.393%\n",
            "Epoch : 4 [38400/60000 (64%)]\tLoss: 0.622849\t Accuracy:85.374%\n",
            "Epoch : 4 [40000/60000 (67%)]\tLoss: 0.287090\t Accuracy:85.414%\n",
            "Epoch : 4 [41600/60000 (69%)]\tLoss: 0.373597\t Accuracy:85.468%\n",
            "Epoch : 4 [43200/60000 (72%)]\tLoss: 0.599662\t Accuracy:85.446%\n",
            "Epoch : 4 [44800/60000 (75%)]\tLoss: 0.432526\t Accuracy:85.428%\n",
            "Epoch : 4 [46400/60000 (77%)]\tLoss: 0.308261\t Accuracy:85.398%\n",
            "Epoch : 4 [48000/60000 (80%)]\tLoss: 0.415588\t Accuracy:85.416%\n",
            "Epoch : 4 [49600/60000 (83%)]\tLoss: 0.343048\t Accuracy:85.455%\n",
            "Epoch : 4 [51200/60000 (85%)]\tLoss: 0.254876\t Accuracy:85.507%\n",
            "Epoch : 4 [52800/60000 (88%)]\tLoss: 0.503114\t Accuracy:85.522%\n",
            "Epoch : 4 [54400/60000 (91%)]\tLoss: 0.371240\t Accuracy:85.485%\n",
            "Epoch : 4 [56000/60000 (93%)]\tLoss: 0.813439\t Accuracy:85.496%\n",
            "Epoch : 4 [57600/60000 (96%)]\tLoss: 0.203344\t Accuracy:85.465%\n",
            "Epoch : 4 [59200/60000 (99%)]\tLoss: 0.320038\t Accuracy:85.474%\n"
          ],
          "name": "stdout"
        }
      ]
    },
    {
      "cell_type": "code",
      "metadata": {
        "id": "d5NF6JqxFCkn"
      },
      "source": [
        "def evaluate(model):\n",
        "    correct = 0 \n",
        "    for test_imgs, test_labels in test_loader:\n",
        "        test_imgs = Variable(test_imgs).float()\n",
        "        output = model(test_imgs)\n",
        "        predicted = torch.max(output,1)[1]\n",
        "        correct += (predicted == test_labels).sum()\n",
        "    print(\"Test accuracy:{:.3f} \".format( float(correct) / (len(test_loader)*BATCH_SIZE)))"
      ],
      "execution_count": 9,
      "outputs": []
    },
    {
      "cell_type": "code",
      "metadata": {
        "colab": {
          "base_uri": "https://localhost:8080/"
        },
        "id": "kVbIBS9QHhij",
        "outputId": "fc740802-44ce-4721-feb6-3e0f71a5c648"
      },
      "source": [
        "evaluate(cnn)"
      ],
      "execution_count": 10,
      "outputs": [
        {
          "output_type": "stream",
          "text": [
            "Test accuracy:0.861 \n"
          ],
          "name": "stdout"
        }
      ]
    },
    {
      "cell_type": "code",
      "metadata": {
        "id": "U1RmhvygHosQ"
      },
      "source": [
        ""
      ],
      "execution_count": 10,
      "outputs": []
    }
  ]
}