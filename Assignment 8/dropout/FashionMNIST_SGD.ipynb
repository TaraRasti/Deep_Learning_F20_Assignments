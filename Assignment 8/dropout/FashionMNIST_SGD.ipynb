{
  "nbformat": 4,
  "nbformat_minor": 0,
  "metadata": {
    "colab": {
      "name": "FashionMNIST-SGD.ipynb",
      "provenance": [],
      "collapsed_sections": [],
      "mount_file_id": "1f2CU4gX7LjcPTv_fVBX4TQMevSNSTj3H",
      "authorship_tag": "ABX9TyMbaHLMAJo+Cs3la40hg3XO",
      "include_colab_link": true
    },
    "kernelspec": {
      "name": "python3",
      "display_name": "Python 3"
    },
    "accelerator": "GPU"
  },
  "cells": [
    {
      "cell_type": "markdown",
      "metadata": {
        "id": "view-in-github",
        "colab_type": "text"
      },
      "source": [
        "<a href=\"https://colab.research.google.com/github/TaraRasti/Deep_Learning_F20_Assignments/blob/master/Assignment%208/dropout/FashionMNIST_SGD.ipynb\" target=\"_parent\"><img src=\"https://colab.research.google.com/assets/colab-badge.svg\" alt=\"Open In Colab\"/></a>"
      ]
    },
    {
      "cell_type": "code",
      "metadata": {
        "id": "rnRxA4R5BsVS"
      },
      "source": [
        "import numpy as np\n",
        "import pandas as pd \n",
        "import torch\n",
        "import torch.nn as nn\n",
        "import torch.nn.functional as F\n",
        "import torch.utils.data\n",
        "from torch.autograd import Variable\n",
        "from sklearn.model_selection import train_test_split"
      ],
      "execution_count": 1,
      "outputs": []
    },
    {
      "cell_type": "code",
      "metadata": {
        "colab": {
          "base_uri": "https://localhost:8080/"
        },
        "id": "VDcWQ-ZbDA1T",
        "outputId": "b18f1048-eac3-4730-95fc-b1bcd5839855"
      },
      "source": [
        "train = pd.read_csv('/content/drive/MyDrive/fashion-mnist_train.csv')\n",
        "print(train.shape)"
      ],
      "execution_count": 2,
      "outputs": [
        {
          "output_type": "stream",
          "text": [
            "(60000, 785)\n"
          ],
          "name": "stdout"
        }
      ]
    },
    {
      "cell_type": "code",
      "metadata": {
        "colab": {
          "base_uri": "https://localhost:8080/"
        },
        "id": "MpsFbS4MDlZh",
        "outputId": "a7bae031-986e-4b7b-d721-745c9d9bfaf4"
      },
      "source": [
        "test = pd.read_csv('/content/drive/MyDrive/fashion-mnist_test.csv')\n",
        "print(test.shape)"
      ],
      "execution_count": 3,
      "outputs": [
        {
          "output_type": "stream",
          "text": [
            "(10000, 785)\n"
          ],
          "name": "stdout"
        }
      ]
    },
    {
      "cell_type": "code",
      "metadata": {
        "colab": {
          "base_uri": "https://localhost:8080/"
        },
        "id": "wGiJmMXXDvDl",
        "outputId": "499808cb-1454-492c-e70c-b960a1d01b53"
      },
      "source": [
        "y_train = train['label'].values\n",
        "X_train = train.drop(['label'],1).values\n",
        "y_test = test['label'].values\n",
        "X_test = test.drop(['label'],1).values\n",
        "print('y test shape : ',y_test.shape)\n",
        "print('X test shape : ',X_test.shape)\n",
        "print('y train shape : ',y_train.shape)\n",
        "print('X train shape : ',X_train.shape)"
      ],
      "execution_count": 4,
      "outputs": [
        {
          "output_type": "stream",
          "text": [
            "y test shape :  (10000,)\n",
            "X test shape :  (10000, 784)\n",
            "y train shape :  (60000,)\n",
            "X train shape :  (60000, 784)\n"
          ],
          "name": "stdout"
        }
      ]
    },
    {
      "cell_type": "code",
      "metadata": {
        "colab": {
          "base_uri": "https://localhost:8080/"
        },
        "id": "SygbBvc9ErHm",
        "outputId": "474e4811-ca00-4e25-daf9-aaedfdeb02f1"
      },
      "source": [
        "BATCH_SIZE = 32\n",
        "\n",
        "\n",
        "torch_X_train = torch.from_numpy(X_train).type(torch.LongTensor)\n",
        "torch_y_train = torch.from_numpy(y_train).type(torch.LongTensor)\n",
        "\n",
        "torch_X_test = torch.from_numpy(X_test).type(torch.LongTensor)\n",
        "torch_y_test = torch.from_numpy(y_test).type(torch.LongTensor)\n",
        "\n",
        "torch_X_train = torch_X_train.view(-1, 1,28,28).float()\n",
        "torch_X_test = torch_X_test.view(-1,1,28,28).float()\n",
        "print(torch_X_train.shape)\n",
        "print(torch_X_test.shape)\n",
        "\n",
        "train = torch.utils.data.TensorDataset(torch_X_train,torch_y_train)\n",
        "test = torch.utils.data.TensorDataset(torch_X_test,torch_y_test)\n",
        "\n",
        "train_loader = torch.utils.data.DataLoader(train, batch_size = BATCH_SIZE, shuffle = False)\n",
        "test_loader = torch.utils.data.DataLoader(test, batch_size = BATCH_SIZE, shuffle = False)"
      ],
      "execution_count": 5,
      "outputs": [
        {
          "output_type": "stream",
          "text": [
            "torch.Size([60000, 1, 28, 28])\n",
            "torch.Size([10000, 1, 28, 28])\n"
          ],
          "name": "stdout"
        }
      ]
    },
    {
      "cell_type": "code",
      "metadata": {
        "id": "2fDK5YCHFIP1"
      },
      "source": [
        "def fit(model, train_loader):\n",
        "    optimizer = torch.optim.SGD(model.parameters(),lr=0.001)\n",
        "    error = nn.CrossEntropyLoss()\n",
        "    EPOCHS = 5\n",
        "    model.train()\n",
        "    for epoch in range(EPOCHS):\n",
        "        correct = 0\n",
        "        for batch_idx, (X_batch, y_batch) in enumerate(train_loader):\n",
        "            var_X_batch = Variable(X_batch).float()\n",
        "            var_y_batch = Variable(y_batch)\n",
        "            optimizer.zero_grad()\n",
        "            output = model(var_X_batch)\n",
        "            loss = error(output, var_y_batch)\n",
        "            loss.backward()\n",
        "            optimizer.step()\n",
        "\n",
        "         \n",
        "            predicted = torch.max(output.data, 1)[1] \n",
        "            correct += (predicted == var_y_batch).sum()\n",
        "      \n",
        "            if batch_idx % 50 == 0:\n",
        "                print('Epoch : {} [{}/{} ({:.0f}%)]\\tLoss: {:.6f}\\t Accuracy:{:.3f}%'.format(\n",
        "                    epoch, batch_idx*len(X_batch), len(train_loader.dataset), 100.*batch_idx / len(train_loader), loss.item(), float(correct*100) / float(BATCH_SIZE*(batch_idx+1))))"
      ],
      "execution_count": 9,
      "outputs": []
    },
    {
      "cell_type": "code",
      "metadata": {
        "colab": {
          "base_uri": "https://localhost:8080/"
        },
        "id": "ICiL0NH7EPZD",
        "outputId": "4e9c8fce-9047-4176-de4e-307c54a044f7"
      },
      "source": [
        "class CNN(nn.Module):\n",
        "    def __init__(self):\n",
        "        super(CNN, self).__init__()\n",
        "        self.conv1 = nn.Conv2d(1, 32, kernel_size=5)\n",
        "        self.conv2 = nn.Conv2d(32, 32, kernel_size=5)\n",
        "        self.conv3 = nn.Conv2d(32,64, kernel_size=5)\n",
        "        self.fc1 = nn.Linear(3*3*64, 256)\n",
        "        self.fc2 = nn.Linear(256, 10)\n",
        "\n",
        "    def forward(self, x):\n",
        "        x = F.relu(self.conv1(x))\n",
        "        x = F.relu(F.max_pool2d(self.conv2(x), 2))\n",
        "        x = F.dropout(x, p=0.2, training=self.training)\n",
        "        x = F.relu(F.max_pool2d(self.conv3(x),2))\n",
        "        x = F.dropout(x, p=0.3, training=self.training)\n",
        "        x = x.view(-1,3*3*64 )\n",
        "        x = F.relu(self.fc1(x))\n",
        "        x = F.dropout(x, training=self.training)\n",
        "        x = self.fc2(x)\n",
        "        return F.log_softmax(x, dim=1)\n",
        " \n",
        "cnn = CNN()\n",
        "print(cnn)\n",
        "\n",
        "it = iter(train_loader)\n",
        "X_batch, y_batch = next(it)\n",
        "print(cnn.forward(X_batch).shape)"
      ],
      "execution_count": 10,
      "outputs": [
        {
          "output_type": "stream",
          "text": [
            "CNN(\n",
            "  (conv1): Conv2d(1, 32, kernel_size=(5, 5), stride=(1, 1))\n",
            "  (conv2): Conv2d(32, 32, kernel_size=(5, 5), stride=(1, 1))\n",
            "  (conv3): Conv2d(32, 64, kernel_size=(5, 5), stride=(1, 1))\n",
            "  (fc1): Linear(in_features=576, out_features=256, bias=True)\n",
            "  (fc2): Linear(in_features=256, out_features=10, bias=True)\n",
            ")\n",
            "torch.Size([32, 10])\n"
          ],
          "name": "stdout"
        }
      ]
    },
    {
      "cell_type": "code",
      "metadata": {
        "colab": {
          "base_uri": "https://localhost:8080/"
        },
        "id": "Fhc-0GXPE-6O",
        "outputId": "2443f930-6659-4157-d725-40f3cbf2c262"
      },
      "source": [
        "fit(cnn,train_loader)"
      ],
      "execution_count": 11,
      "outputs": [
        {
          "output_type": "stream",
          "text": [
            "Epoch : 0 [0/60000 (0%)]\tLoss: 11.650576\t Accuracy:12.500%\n",
            "Epoch : 0 [1600/60000 (3%)]\tLoss: 2.012340\t Accuracy:21.998%\n",
            "Epoch : 0 [3200/60000 (5%)]\tLoss: 1.584907\t Accuracy:30.229%\n",
            "Epoch : 0 [4800/60000 (8%)]\tLoss: 1.083411\t Accuracy:35.161%\n",
            "Epoch : 0 [6400/60000 (11%)]\tLoss: 1.403701\t Accuracy:39.583%\n",
            "Epoch : 0 [8000/60000 (13%)]\tLoss: 1.505786\t Accuracy:43.053%\n",
            "Epoch : 0 [9600/60000 (16%)]\tLoss: 1.037243\t Accuracy:45.909%\n",
            "Epoch : 0 [11200/60000 (19%)]\tLoss: 0.999852\t Accuracy:48.486%\n",
            "Epoch : 0 [12800/60000 (21%)]\tLoss: 1.174082\t Accuracy:50.234%\n",
            "Epoch : 0 [14400/60000 (24%)]\tLoss: 1.010363\t Accuracy:51.642%\n",
            "Epoch : 0 [16000/60000 (27%)]\tLoss: 1.056965\t Accuracy:53.050%\n",
            "Epoch : 0 [17600/60000 (29%)]\tLoss: 0.908825\t Accuracy:54.254%\n",
            "Epoch : 0 [19200/60000 (32%)]\tLoss: 0.782465\t Accuracy:55.226%\n",
            "Epoch : 0 [20800/60000 (35%)]\tLoss: 1.012701\t Accuracy:56.135%\n",
            "Epoch : 0 [22400/60000 (37%)]\tLoss: 0.833878\t Accuracy:56.959%\n",
            "Epoch : 0 [24000/60000 (40%)]\tLoss: 0.863376\t Accuracy:57.752%\n",
            "Epoch : 0 [25600/60000 (43%)]\tLoss: 0.672541\t Accuracy:58.372%\n",
            "Epoch : 0 [27200/60000 (45%)]\tLoss: 0.834230\t Accuracy:58.927%\n",
            "Epoch : 0 [28800/60000 (48%)]\tLoss: 0.813451\t Accuracy:59.455%\n",
            "Epoch : 0 [30400/60000 (51%)]\tLoss: 1.052196\t Accuracy:59.993%\n",
            "Epoch : 0 [32000/60000 (53%)]\tLoss: 0.825800\t Accuracy:60.461%\n",
            "Epoch : 0 [33600/60000 (56%)]\tLoss: 0.979125\t Accuracy:60.984%\n",
            "Epoch : 0 [35200/60000 (59%)]\tLoss: 1.056468\t Accuracy:61.481%\n",
            "Epoch : 0 [36800/60000 (61%)]\tLoss: 0.757754\t Accuracy:61.878%\n",
            "Epoch : 0 [38400/60000 (64%)]\tLoss: 0.457708\t Accuracy:62.274%\n",
            "Epoch : 0 [40000/60000 (67%)]\tLoss: 0.793335\t Accuracy:62.685%\n",
            "Epoch : 0 [41600/60000 (69%)]\tLoss: 0.650492\t Accuracy:63.055%\n",
            "Epoch : 0 [43200/60000 (72%)]\tLoss: 0.772305\t Accuracy:63.421%\n",
            "Epoch : 0 [44800/60000 (75%)]\tLoss: 0.613928\t Accuracy:63.689%\n",
            "Epoch : 0 [46400/60000 (77%)]\tLoss: 0.935003\t Accuracy:63.982%\n",
            "Epoch : 0 [48000/60000 (80%)]\tLoss: 0.632868\t Accuracy:64.272%\n",
            "Epoch : 0 [49600/60000 (83%)]\tLoss: 0.895029\t Accuracy:64.489%\n",
            "Epoch : 0 [51200/60000 (85%)]\tLoss: 0.462554\t Accuracy:64.799%\n",
            "Epoch : 0 [52800/60000 (88%)]\tLoss: 0.650666\t Accuracy:65.050%\n",
            "Epoch : 0 [54400/60000 (91%)]\tLoss: 0.534019\t Accuracy:65.217%\n",
            "Epoch : 0 [56000/60000 (93%)]\tLoss: 0.989257\t Accuracy:65.425%\n",
            "Epoch : 0 [57600/60000 (96%)]\tLoss: 0.468211\t Accuracy:65.628%\n",
            "Epoch : 0 [59200/60000 (99%)]\tLoss: 0.665507\t Accuracy:65.863%\n",
            "Epoch : 1 [0/60000 (0%)]\tLoss: 0.739001\t Accuracy:75.000%\n",
            "Epoch : 1 [1600/60000 (3%)]\tLoss: 0.941360\t Accuracy:73.100%\n",
            "Epoch : 1 [3200/60000 (5%)]\tLoss: 0.835675\t Accuracy:74.660%\n",
            "Epoch : 1 [4800/60000 (8%)]\tLoss: 0.797007\t Accuracy:74.793%\n",
            "Epoch : 1 [6400/60000 (11%)]\tLoss: 0.910814\t Accuracy:74.767%\n",
            "Epoch : 1 [8000/60000 (13%)]\tLoss: 0.932680\t Accuracy:74.440%\n",
            "Epoch : 1 [9600/60000 (16%)]\tLoss: 0.579621\t Accuracy:74.585%\n",
            "Epoch : 1 [11200/60000 (19%)]\tLoss: 0.602618\t Accuracy:74.528%\n",
            "Epoch : 1 [12800/60000 (21%)]\tLoss: 0.827869\t Accuracy:74.587%\n",
            "Epoch : 1 [14400/60000 (24%)]\tLoss: 0.877736\t Accuracy:74.536%\n",
            "Epoch : 1 [16000/60000 (27%)]\tLoss: 0.703967\t Accuracy:74.694%\n",
            "Epoch : 1 [17600/60000 (29%)]\tLoss: 0.483011\t Accuracy:74.858%\n",
            "Epoch : 1 [19200/60000 (32%)]\tLoss: 0.548973\t Accuracy:74.730%\n",
            "Epoch : 1 [20800/60000 (35%)]\tLoss: 0.712110\t Accuracy:74.712%\n",
            "Epoch : 1 [22400/60000 (37%)]\tLoss: 0.694177\t Accuracy:74.728%\n",
            "Epoch : 1 [24000/60000 (40%)]\tLoss: 0.621483\t Accuracy:74.638%\n",
            "Epoch : 1 [25600/60000 (43%)]\tLoss: 0.695664\t Accuracy:74.739%\n",
            "Epoch : 1 [27200/60000 (45%)]\tLoss: 0.601377\t Accuracy:74.706%\n",
            "Epoch : 1 [28800/60000 (48%)]\tLoss: 0.698299\t Accuracy:74.664%\n",
            "Epoch : 1 [30400/60000 (51%)]\tLoss: 0.565495\t Accuracy:74.770%\n",
            "Epoch : 1 [32000/60000 (53%)]\tLoss: 0.815739\t Accuracy:74.741%\n",
            "Epoch : 1 [33600/60000 (56%)]\tLoss: 0.686822\t Accuracy:74.819%\n",
            "Epoch : 1 [35200/60000 (59%)]\tLoss: 0.820423\t Accuracy:74.830%\n",
            "Epoch : 1 [36800/60000 (61%)]\tLoss: 0.705956\t Accuracy:74.824%\n",
            "Epoch : 1 [38400/60000 (64%)]\tLoss: 0.566800\t Accuracy:74.891%\n",
            "Epoch : 1 [40000/60000 (67%)]\tLoss: 0.471003\t Accuracy:74.930%\n",
            "Epoch : 1 [41600/60000 (69%)]\tLoss: 0.668596\t Accuracy:74.969%\n",
            "Epoch : 1 [43200/60000 (72%)]\tLoss: 0.583269\t Accuracy:75.023%\n",
            "Epoch : 1 [44800/60000 (75%)]\tLoss: 0.600186\t Accuracy:75.040%\n",
            "Epoch : 1 [46400/60000 (77%)]\tLoss: 0.619603\t Accuracy:75.045%\n",
            "Epoch : 1 [48000/60000 (80%)]\tLoss: 0.759322\t Accuracy:75.106%\n",
            "Epoch : 1 [49600/60000 (83%)]\tLoss: 0.634261\t Accuracy:75.165%\n",
            "Epoch : 1 [51200/60000 (85%)]\tLoss: 0.346345\t Accuracy:75.285%\n",
            "Epoch : 1 [52800/60000 (88%)]\tLoss: 0.570592\t Accuracy:75.303%\n",
            "Epoch : 1 [54400/60000 (91%)]\tLoss: 0.376179\t Accuracy:75.281%\n",
            "Epoch : 1 [56000/60000 (93%)]\tLoss: 0.968994\t Accuracy:75.318%\n",
            "Epoch : 1 [57600/60000 (96%)]\tLoss: 0.536800\t Accuracy:75.382%\n",
            "Epoch : 1 [59200/60000 (99%)]\tLoss: 0.542246\t Accuracy:75.439%\n",
            "Epoch : 2 [0/60000 (0%)]\tLoss: 0.694766\t Accuracy:78.125%\n",
            "Epoch : 2 [1600/60000 (3%)]\tLoss: 0.625082\t Accuracy:76.900%\n",
            "Epoch : 2 [3200/60000 (5%)]\tLoss: 0.710339\t Accuracy:77.444%\n",
            "Epoch : 2 [4800/60000 (8%)]\tLoss: 0.584732\t Accuracy:78.022%\n",
            "Epoch : 2 [6400/60000 (11%)]\tLoss: 0.822500\t Accuracy:77.659%\n",
            "Epoch : 2 [8000/60000 (13%)]\tLoss: 0.708925\t Accuracy:77.565%\n",
            "Epoch : 2 [9600/60000 (16%)]\tLoss: 0.477678\t Accuracy:77.544%\n",
            "Epoch : 2 [11200/60000 (19%)]\tLoss: 0.439546\t Accuracy:77.537%\n",
            "Epoch : 2 [12800/60000 (21%)]\tLoss: 0.736078\t Accuracy:77.681%\n",
            "Epoch : 2 [14400/60000 (24%)]\tLoss: 0.592421\t Accuracy:77.869%\n",
            "Epoch : 2 [16000/60000 (27%)]\tLoss: 0.511072\t Accuracy:77.863%\n",
            "Epoch : 2 [17600/60000 (29%)]\tLoss: 0.438702\t Accuracy:77.881%\n",
            "Epoch : 2 [19200/60000 (32%)]\tLoss: 0.528678\t Accuracy:77.829%\n",
            "Epoch : 2 [20800/60000 (35%)]\tLoss: 0.590739\t Accuracy:77.842%\n",
            "Epoch : 2 [22400/60000 (37%)]\tLoss: 0.530396\t Accuracy:77.804%\n",
            "Epoch : 2 [24000/60000 (40%)]\tLoss: 0.459947\t Accuracy:77.800%\n",
            "Epoch : 2 [25600/60000 (43%)]\tLoss: 0.517609\t Accuracy:77.758%\n",
            "Epoch : 2 [27200/60000 (45%)]\tLoss: 0.577288\t Accuracy:77.655%\n",
            "Epoch : 2 [28800/60000 (48%)]\tLoss: 0.655632\t Accuracy:77.608%\n",
            "Epoch : 2 [30400/60000 (51%)]\tLoss: 0.572146\t Accuracy:77.681%\n",
            "Epoch : 2 [32000/60000 (53%)]\tLoss: 0.602877\t Accuracy:77.650%\n",
            "Epoch : 2 [33600/60000 (56%)]\tLoss: 0.462033\t Accuracy:77.718%\n",
            "Epoch : 2 [35200/60000 (59%)]\tLoss: 0.755844\t Accuracy:77.725%\n",
            "Epoch : 2 [36800/60000 (61%)]\tLoss: 0.648895\t Accuracy:77.682%\n",
            "Epoch : 2 [38400/60000 (64%)]\tLoss: 0.461452\t Accuracy:77.709%\n",
            "Epoch : 2 [40000/60000 (67%)]\tLoss: 0.326093\t Accuracy:77.730%\n",
            "Epoch : 2 [41600/60000 (69%)]\tLoss: 0.631647\t Accuracy:77.736%\n",
            "Epoch : 2 [43200/60000 (72%)]\tLoss: 0.659911\t Accuracy:77.757%\n",
            "Epoch : 2 [44800/60000 (75%)]\tLoss: 0.505392\t Accuracy:77.793%\n",
            "Epoch : 2 [46400/60000 (77%)]\tLoss: 0.557095\t Accuracy:77.789%\n",
            "Epoch : 2 [48000/60000 (80%)]\tLoss: 0.660447\t Accuracy:77.856%\n",
            "Epoch : 2 [49600/60000 (83%)]\tLoss: 0.640170\t Accuracy:77.865%\n",
            "Epoch : 2 [51200/60000 (85%)]\tLoss: 0.328138\t Accuracy:77.918%\n",
            "Epoch : 2 [52800/60000 (88%)]\tLoss: 0.454367\t Accuracy:77.966%\n",
            "Epoch : 2 [54400/60000 (91%)]\tLoss: 0.463289\t Accuracy:77.945%\n",
            "Epoch : 2 [56000/60000 (93%)]\tLoss: 0.994544\t Accuracy:77.952%\n",
            "Epoch : 2 [57600/60000 (96%)]\tLoss: 0.396159\t Accuracy:77.953%\n",
            "Epoch : 2 [59200/60000 (99%)]\tLoss: 0.495170\t Accuracy:78.002%\n",
            "Epoch : 3 [0/60000 (0%)]\tLoss: 0.674762\t Accuracy:81.250%\n",
            "Epoch : 3 [1600/60000 (3%)]\tLoss: 0.491839\t Accuracy:77.819%\n",
            "Epoch : 3 [3200/60000 (5%)]\tLoss: 0.699264\t Accuracy:78.218%\n",
            "Epoch : 3 [4800/60000 (8%)]\tLoss: 0.583020\t Accuracy:78.580%\n",
            "Epoch : 3 [6400/60000 (11%)]\tLoss: 0.615060\t Accuracy:78.825%\n",
            "Epoch : 3 [8000/60000 (13%)]\tLoss: 0.785871\t Accuracy:78.897%\n",
            "Epoch : 3 [9600/60000 (16%)]\tLoss: 0.580143\t Accuracy:79.101%\n",
            "Epoch : 3 [11200/60000 (19%)]\tLoss: 0.501240\t Accuracy:78.971%\n",
            "Epoch : 3 [12800/60000 (21%)]\tLoss: 0.754767\t Accuracy:78.967%\n",
            "Epoch : 3 [14400/60000 (24%)]\tLoss: 0.662163\t Accuracy:79.109%\n",
            "Epoch : 3 [16000/60000 (27%)]\tLoss: 0.548899\t Accuracy:79.260%\n",
            "Epoch : 3 [17600/60000 (29%)]\tLoss: 0.334017\t Accuracy:79.395%\n",
            "Epoch : 3 [19200/60000 (32%)]\tLoss: 0.400990\t Accuracy:79.394%\n",
            "Epoch : 3 [20800/60000 (35%)]\tLoss: 0.571746\t Accuracy:79.378%\n",
            "Epoch : 3 [22400/60000 (37%)]\tLoss: 0.588356\t Accuracy:79.342%\n",
            "Epoch : 3 [24000/60000 (40%)]\tLoss: 0.470715\t Accuracy:79.344%\n",
            "Epoch : 3 [25600/60000 (43%)]\tLoss: 0.627164\t Accuracy:79.405%\n",
            "Epoch : 3 [27200/60000 (45%)]\tLoss: 0.549751\t Accuracy:79.359%\n",
            "Epoch : 3 [28800/60000 (48%)]\tLoss: 0.703492\t Accuracy:79.374%\n",
            "Epoch : 3 [30400/60000 (51%)]\tLoss: 0.609712\t Accuracy:79.426%\n",
            "Epoch : 3 [32000/60000 (53%)]\tLoss: 0.856897\t Accuracy:79.314%\n",
            "Epoch : 3 [33600/60000 (56%)]\tLoss: 0.465295\t Accuracy:79.353%\n",
            "Epoch : 3 [35200/60000 (59%)]\tLoss: 0.599447\t Accuracy:79.328%\n",
            "Epoch : 3 [36800/60000 (61%)]\tLoss: 0.646784\t Accuracy:79.303%\n",
            "Epoch : 3 [38400/60000 (64%)]\tLoss: 0.433088\t Accuracy:79.364%\n",
            "Epoch : 3 [40000/60000 (67%)]\tLoss: 0.275615\t Accuracy:79.379%\n",
            "Epoch : 3 [41600/60000 (69%)]\tLoss: 0.566367\t Accuracy:79.420%\n",
            "Epoch : 3 [43200/60000 (72%)]\tLoss: 0.603693\t Accuracy:79.430%\n",
            "Epoch : 3 [44800/60000 (75%)]\tLoss: 0.528603\t Accuracy:79.423%\n",
            "Epoch : 3 [46400/60000 (77%)]\tLoss: 0.534235\t Accuracy:79.428%\n",
            "Epoch : 3 [48000/60000 (80%)]\tLoss: 0.569291\t Accuracy:79.493%\n",
            "Epoch : 3 [49600/60000 (83%)]\tLoss: 0.600270\t Accuracy:79.495%\n",
            "Epoch : 3 [51200/60000 (85%)]\tLoss: 0.327061\t Accuracy:79.585%\n",
            "Epoch : 3 [52800/60000 (88%)]\tLoss: 0.600080\t Accuracy:79.660%\n",
            "Epoch : 3 [54400/60000 (91%)]\tLoss: 0.367397\t Accuracy:79.633%\n",
            "Epoch : 3 [56000/60000 (93%)]\tLoss: 1.046701\t Accuracy:79.619%\n",
            "Epoch : 3 [57600/60000 (96%)]\tLoss: 0.315842\t Accuracy:79.610%\n",
            "Epoch : 3 [59200/60000 (99%)]\tLoss: 0.577400\t Accuracy:79.619%\n",
            "Epoch : 4 [0/60000 (0%)]\tLoss: 0.570345\t Accuracy:84.375%\n",
            "Epoch : 4 [1600/60000 (3%)]\tLoss: 0.630547\t Accuracy:80.637%\n",
            "Epoch : 4 [3200/60000 (5%)]\tLoss: 0.563828\t Accuracy:80.755%\n",
            "Epoch : 4 [4800/60000 (8%)]\tLoss: 0.541666\t Accuracy:81.043%\n",
            "Epoch : 4 [6400/60000 (11%)]\tLoss: 0.617205\t Accuracy:80.908%\n",
            "Epoch : 4 [8000/60000 (13%)]\tLoss: 0.724440\t Accuracy:80.939%\n",
            "Epoch : 4 [9600/60000 (16%)]\tLoss: 0.481335\t Accuracy:80.689%\n",
            "Epoch : 4 [11200/60000 (19%)]\tLoss: 0.437844\t Accuracy:80.716%\n",
            "Epoch : 4 [12800/60000 (21%)]\tLoss: 0.797229\t Accuracy:80.619%\n",
            "Epoch : 4 [14400/60000 (24%)]\tLoss: 0.697011\t Accuracy:80.779%\n",
            "Epoch : 4 [16000/60000 (27%)]\tLoss: 0.551683\t Accuracy:80.763%\n",
            "Epoch : 4 [17600/60000 (29%)]\tLoss: 0.414083\t Accuracy:80.830%\n",
            "Epoch : 4 [19200/60000 (32%)]\tLoss: 0.402431\t Accuracy:80.792%\n",
            "Epoch : 4 [20800/60000 (35%)]\tLoss: 0.627877\t Accuracy:80.813%\n",
            "Epoch : 4 [22400/60000 (37%)]\tLoss: 0.523097\t Accuracy:80.746%\n",
            "Epoch : 4 [24000/60000 (40%)]\tLoss: 0.407540\t Accuracy:80.859%\n",
            "Epoch : 4 [25600/60000 (43%)]\tLoss: 0.362855\t Accuracy:80.926%\n",
            "Epoch : 4 [27200/60000 (45%)]\tLoss: 0.550474\t Accuracy:80.864%\n",
            "Epoch : 4 [28800/60000 (48%)]\tLoss: 0.638909\t Accuracy:80.875%\n",
            "Epoch : 4 [30400/60000 (51%)]\tLoss: 0.394455\t Accuracy:80.872%\n",
            "Epoch : 4 [32000/60000 (53%)]\tLoss: 0.643765\t Accuracy:80.769%\n",
            "Epoch : 4 [33600/60000 (56%)]\tLoss: 0.547385\t Accuracy:80.750%\n",
            "Epoch : 4 [35200/60000 (59%)]\tLoss: 0.761199\t Accuracy:80.773%\n",
            "Epoch : 4 [36800/60000 (61%)]\tLoss: 0.504885\t Accuracy:80.718%\n",
            "Epoch : 4 [38400/60000 (64%)]\tLoss: 0.485977\t Accuracy:80.769%\n",
            "Epoch : 4 [40000/60000 (67%)]\tLoss: 0.322210\t Accuracy:80.765%\n",
            "Epoch : 4 [41600/60000 (69%)]\tLoss: 0.481094\t Accuracy:80.782%\n",
            "Epoch : 4 [43200/60000 (72%)]\tLoss: 0.503893\t Accuracy:80.771%\n",
            "Epoch : 4 [44800/60000 (75%)]\tLoss: 0.478396\t Accuracy:80.782%\n",
            "Epoch : 4 [46400/60000 (77%)]\tLoss: 0.487215\t Accuracy:80.768%\n",
            "Epoch : 4 [48000/60000 (80%)]\tLoss: 0.575883\t Accuracy:80.771%\n",
            "Epoch : 4 [49600/60000 (83%)]\tLoss: 0.591644\t Accuracy:80.801%\n",
            "Epoch : 4 [51200/60000 (85%)]\tLoss: 0.273511\t Accuracy:80.832%\n",
            "Epoch : 4 [52800/60000 (88%)]\tLoss: 0.553452\t Accuracy:80.873%\n",
            "Epoch : 4 [54400/60000 (91%)]\tLoss: 0.360752\t Accuracy:80.859%\n",
            "Epoch : 4 [56000/60000 (93%)]\tLoss: 0.811578\t Accuracy:80.904%\n",
            "Epoch : 4 [57600/60000 (96%)]\tLoss: 0.286078\t Accuracy:80.906%\n",
            "Epoch : 4 [59200/60000 (99%)]\tLoss: 0.450114\t Accuracy:80.912%\n"
          ],
          "name": "stdout"
        }
      ]
    },
    {
      "cell_type": "code",
      "metadata": {
        "id": "d5NF6JqxFCkn"
      },
      "source": [
        "def evaluate(model):\n",
        "    correct = 0 \n",
        "    for test_imgs, test_labels in test_loader:\n",
        "        test_imgs = Variable(test_imgs).float()\n",
        "        output = model(test_imgs)\n",
        "        predicted = torch.max(output,1)[1]\n",
        "        correct += (predicted == test_labels).sum()\n",
        "    print(\"Test accuracy:{:.3f} \".format( float(correct) / (len(test_loader)*BATCH_SIZE)))"
      ],
      "execution_count": 14,
      "outputs": []
    },
    {
      "cell_type": "code",
      "metadata": {
        "colab": {
          "base_uri": "https://localhost:8080/"
        },
        "id": "kVbIBS9QHhij",
        "outputId": "61f01c93-8363-4d2f-e563-c47cf3f50ef9"
      },
      "source": [
        "evaluate(cnn)"
      ],
      "execution_count": 15,
      "outputs": [
        {
          "output_type": "stream",
          "text": [
            "Test accuracy:0.813 \n"
          ],
          "name": "stdout"
        }
      ]
    },
    {
      "cell_type": "code",
      "metadata": {
        "id": "U1RmhvygHosQ"
      },
      "source": [
        ""
      ],
      "execution_count": null,
      "outputs": []
    }
  ]
}