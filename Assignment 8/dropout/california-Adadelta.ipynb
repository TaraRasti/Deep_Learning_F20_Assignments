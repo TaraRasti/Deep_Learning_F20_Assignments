{
 "cells": [
  {
   "cell_type": "code",
   "execution_count": 16,
   "metadata": {},
   "outputs": [],
   "source": [
    "import pandas as pd\n",
    "from sklearn.model_selection import train_test_split\n",
    "import keras\n",
    "from keras import *\n",
    "from sklearn import *\n",
    "from sklearn.preprocessing import StandardScaler\n",
    "\n",
    "x = pd.read_csv('/Users/taraapple/Desktop/housing.csv').dropna()\n",
    "y = x.pop('median_house_value')\n",
    "x_train, x_test, y_train, y_test = train_test_split(x, y, test_size=0.3)"
   ]
  },
  {
   "cell_type": "code",
   "execution_count": 17,
   "metadata": {},
   "outputs": [
    {
     "name": "stderr",
     "output_type": "stream",
     "text": [
      "/opt/anaconda3/lib/python3.7/site-packages/ipykernel_launcher.py:2: SettingWithCopyWarning: \n",
      "A value is trying to be set on a copy of a slice from a DataFrame.\n",
      "Try using .loc[row_indexer,col_indexer] = value instead\n",
      "\n",
      "See the caveats in the documentation: https://pandas.pydata.org/pandas-docs/stable/user_guide/indexing.html#returning-a-view-versus-a-copy\n",
      "  \n",
      "/opt/anaconda3/lib/python3.7/site-packages/ipykernel_launcher.py:3: SettingWithCopyWarning: \n",
      "A value is trying to be set on a copy of a slice from a DataFrame.\n",
      "Try using .loc[row_indexer,col_indexer] = value instead\n",
      "\n",
      "See the caveats in the documentation: https://pandas.pydata.org/pandas-docs/stable/user_guide/indexing.html#returning-a-view-versus-a-copy\n",
      "  This is separate from the ipykernel package so we can avoid doing imports until\n"
     ]
    }
   ],
   "source": [
    "mapping = {'<1H OCEAN': 5, 'INLAND': 4,'ISLAND': 1,'NEAR BAY': 2,'NEAR OCEAN': 3}\n",
    "x_train['ocean_proximity'] = x_train['ocean_proximity'].astype('category').map(mapping).astype('float')\n",
    "x_test['ocean_proximity'] = x_test['ocean_proximity'].astype('category').map(mapping).astype('float')"
   ]
  },
  {
   "cell_type": "code",
   "execution_count": 18,
   "metadata": {},
   "outputs": [],
   "source": [
    "scaler = StandardScaler()\n",
    "x_train = scaler.fit_transform(x_train)\n",
    "x_test = scaler.transform(x_test)\n",
    "x_test, x_val, y_test, y_val = train_test_split(x_test, y_test, test_size=0.1)"
   ]
  },
  {
   "cell_type": "code",
   "execution_count": 19,
   "metadata": {},
   "outputs": [],
   "source": [
    "inputs = layers.Input(shape=(9))\n",
    "l = layers.Dense(16,activation='linear')(inputs)\n",
    "\n",
    "for i in range(16):\n",
    "    l = layers.Dense(16,activation='linear',kernel_regularizer=regularizers.l1(5e-1))(l)\n",
    "    l = layers.Reshape((-1,1))(l)\n",
    "    l = layers.MaxPooling1D(pool_size=4,strides=4)(l)\n",
    "    l = layers.Flatten()(l)\n",
    "    \n",
    "l_ = layers.Dense(8,activation='linear',kernel_regularizer=regularizers.l1(5e-1))(l)\n",
    "l_ = layers.Dropout(0.3)(l)\n",
    "output = layers.Dense(1)(l)\n",
    "\n",
    "l1model = Model(inputs=inputs, outputs=output)\n",
    "l1model.compile(optimizer=\"Adadelta\", loss=\"mse\")"
   ]
  },
  {
   "cell_type": "code",
   "execution_count": 20,
   "metadata": {},
   "outputs": [
    {
     "data": {
      "text/plain": [
       "<tensorflow.python.keras.callbacks.History at 0x7fd8edef85d0>"
      ]
     },
     "execution_count": 20,
     "metadata": {},
     "output_type": "execute_result"
    }
   ],
   "source": [
    "epochs = 10\n",
    "l1model.fit(x_train, y_train, batch_size= 32,\n",
    "          epochs=epochs,\n",
    "          validation_data=(x_val,y_val),\n",
    "          validation_batch_size=32,\n",
    "          use_multiprocessing=True,\n",
    "          workers=-1,\n",
    "          verbose=0)"
   ]
  },
  {
   "cell_type": "code",
   "execution_count": 21,
   "metadata": {},
   "outputs": [
    {
     "data": {
      "text/plain": [
       "<matplotlib.legend.Legend at 0x7fd8ec12c410>"
      ]
     },
     "execution_count": 21,
     "metadata": {},
     "output_type": "execute_result"
    },
    {
     "data": {
      "image/png": "[encoded data removed]",
      "text/plain": [
       "<Figure size 720x504 with 1 Axes>"
      ]
     },
     "metadata": {
      "needs_background": "light"
     },
     "output_type": "display_data"
    }
   ],
   "source": [
    "import matplotlib.pyplot as plt\n",
    "plt.figure(figsize=(10,7))\n",
    "plt.plot(l1model.history.history['loss'],label = 'l1 regularized training loss')\n",
    "plt.plot(l1model.history.history['val_loss'],label = 'l1 regularized val loss')\n",
    "plt.legend()"
   ]
  },
  {
   "cell_type": "code",
   "execution_count": null,
   "metadata": {},
   "outputs": [],
   "source": []
  }
 ],
 "metadata": {
  "kernelspec": {
   "display_name": "Python 3",
   "language": "python",
   "name": "python3"
  },
  "language_info": {
   "codemirror_mode": {
    "name": "ipython",
    "version": 3
   },
   "file_extension": ".py",
   "mimetype": "text/x-python",
   "name": "python",
   "nbconvert_exporter": "python",
   "pygments_lexer": "ipython3",
   "version": "3.7.6"
  }
 },
 "nbformat": 4,
 "nbformat_minor": 4
}
