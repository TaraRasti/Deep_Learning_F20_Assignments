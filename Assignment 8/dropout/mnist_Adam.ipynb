{
  "nbformat": 4,
  "nbformat_minor": 0,
  "metadata": {
    "colab": {
      "name": "mnist-Adam.ipynb",
      "provenance": [],
      "collapsed_sections": [],
      "mount_file_id": "1Nn7gKnDRI8cR_MrJHM7_qkr7MLApQyAd",
      "authorship_tag": "ABX9TyOMczWWcf4eeKNunqi1v3Eq",
      "include_colab_link": true
    },
    "kernelspec": {
      "name": "python3",
      "display_name": "Python 3"
    },
    "accelerator": "GPU"
  },
  "cells": [
    {
      "cell_type": "markdown",
      "metadata": {
        "id": "view-in-github",
        "colab_type": "text"
      },
      "source": [
        "<a href=\"https://colab.research.google.com/github/TaraRasti/Deep_Learning_F20_Assignments/blob/master/Assignment%208/dropout/mnist_Adam.ipynb\" target=\"_parent\"><img src=\"https://colab.research.google.com/assets/colab-badge.svg\" alt=\"Open In Colab\"/></a>"
      ]
    },
    {
      "cell_type": "code",
      "metadata": {
        "id": "OLqFtyuG4Gi4"
      },
      "source": [
        "import torch\n",
        "import torch.nn as nn\n",
        "import torch.nn.functional as F\n",
        "import torchvision\n",
        "import torchvision.transforms as transforms\n",
        "from torchvision import utils \n",
        "import matplotlib.pyplot as plt\n",
        "import numpy as np\n",
        "from numpy import *\n",
        "import pandas as pd\n",
        "from sklearn.model_selection import train_test_split"
      ],
      "execution_count": 1,
      "outputs": []
    },
    {
      "cell_type": "code",
      "metadata": {
        "colab": {
          "base_uri": "https://localhost:8080/"
        },
        "id": "ITRiMCih4PuG",
        "outputId": "90d44b5a-8af5-45fa-fd8d-f862f262e2f9"
      },
      "source": [
        "train_df = pd.read_csv('/content/drive/My Drive/mnist_train.csv')\n",
        "print('train set shape : ',train_df.shape)\n",
        "test_df = pd.read_csv('/content/drive/My Drive/mnist_test.csv')\n",
        "print('test set shape : ',test_df.shape)"
      ],
      "execution_count": 2,
      "outputs": [
        {
          "output_type": "stream",
          "text": [
            "train set shape :  (60000, 785)\n",
            "test set shape :  (10000, 785)\n"
          ],
          "name": "stdout"
        }
      ]
    },
    {
      "cell_type": "code",
      "metadata": {
        "colab": {
          "base_uri": "https://localhost:8080/"
        },
        "id": "MCikBaM54Wh9",
        "outputId": "97cce973-daef-4f1b-9931-9006fa407797"
      },
      "source": [
        "y_train = train_df['label'].values\n",
        "X_train = train_df.drop(['label'],1).values\n",
        "y_test = test_df['label'].values\n",
        "X_test = test_df.drop(['label'],1).values\n",
        "print('X train shape : ',X_train.shape)\n",
        "print('y train shape : ',y_train.shape)\n",
        "print('X test shape : ',X_test.shape)\n",
        "print('y test shape : ',y_test.shape)"
      ],
      "execution_count": 3,
      "outputs": [
        {
          "output_type": "stream",
          "text": [
            "X train shape :  (60000, 784)\n",
            "y train shape :  (60000,)\n",
            "X test shape :  (10000, 784)\n",
            "y test shape :  (10000,)\n"
          ],
          "name": "stdout"
        }
      ]
    },
    {
      "cell_type": "code",
      "metadata": {
        "colab": {
          "base_uri": "https://localhost:8080/"
        },
        "id": "YXW75K3l4bbw",
        "outputId": "b5ce6030-e0d4-4089-e6f5-bfeff767e907"
      },
      "source": [
        "X_train=X_train.reshape(60000,28,28)\n",
        "X_test=X_test.reshape(10000,28,28)\n",
        "\n",
        "print('X train new shape : ',X_train.shape)\n",
        "print('X test new shape : ',X_test.shape)\n",
        "\n",
        "X_train_tensor=torch.from_numpy(X_train)\n",
        "X_test_tensor=torch.from_numpy(X_test)\n",
        "print('type of X train : ',type(X_train_tensor))\n",
        "print('type of X test : ',type(X_test_tensor))\n",
        "\n",
        "if len(X_train.shape)==3:\n",
        "    X_train_tensor = X_train_tensor.unsqueeze(1) \n",
        "print('X train size : ',X_train_tensor.shape)\n",
        "if len(X_test.shape)==3: \n",
        "    X_test_tensor = X_test_tensor.unsqueeze(1)\n",
        "print('X test size : ',X_test_tensor.shape)\n",
        "\n",
        "y_train_tensor=torch.from_numpy(y_train)\n",
        "y_test_tensor=torch.from_numpy(y_test)"
      ],
      "execution_count": 4,
      "outputs": [
        {
          "output_type": "stream",
          "text": [
            "X train new shape :  (60000, 28, 28)\n",
            "X test new shape :  (10000, 28, 28)\n",
            "type of X train :  <class 'torch.Tensor'>\n",
            "type of X test :  <class 'torch.Tensor'>\n",
            "X train size :  torch.Size([60000, 1, 28, 28])\n",
            "X test size :  torch.Size([10000, 1, 28, 28])\n"
          ],
          "name": "stdout"
        }
      ]
    },
    {
      "cell_type": "code",
      "metadata": {
        "id": "b3IsuMuq4l-L"
      },
      "source": [
        "from torch.utils.data import TensorDataset\n",
        "\n",
        "train_ds = TensorDataset(X_train_tensor, y_train_tensor) \n",
        "test_ds = TensorDataset(X_test_tensor, y_test_tensor)\n",
        "\n",
        "from torch.utils.data import DataLoader\n",
        "\n",
        "train_dl = DataLoader(train_ds, batch_size=8) \n",
        "test_dl = DataLoader(test_ds, batch_size=8)"
      ],
      "execution_count": 5,
      "outputs": []
    },
    {
      "cell_type": "code",
      "metadata": {
        "id": "K_iwxxLz4qyj"
      },
      "source": [
        "class Net(nn.Module):\n",
        "    def __init__(self):\n",
        "        super().__init__()\n",
        "        self.layer_input = nn.Linear(784,256)\n",
        "        self.layer_hidden_one = nn.Linear(256,128)\n",
        "        self.layer_hidden_two = nn.Linear(128,64)\n",
        "        self.layer_output = nn.Linear(64,10)\n",
        "        \n",
        "        # 20% Dropout here\n",
        "        self.dropout = nn.Dropout(p=0.2)\n",
        "    def forward(self, x):\n",
        "        x = x.view(x.shape[0],-1)\n",
        "        x = self.dropout(F.relu(self.layer_input(x)))\n",
        "        x = self.dropout(F.relu(self.layer_hidden_one(x)))\n",
        "        x = self.dropout(F.relu(self.layer_hidden_two(x)))\n",
        "        x = F.log_softmax(self.layer_output(x),dim=1)\n",
        "        return x"
      ],
      "execution_count": 6,
      "outputs": []
    },
    {
      "cell_type": "code",
      "metadata": {
        "colab": {
          "base_uri": "https://localhost:8080/"
        },
        "id": "WxXZbbWg4tfM",
        "outputId": "6bfc5c33-36c0-4d7f-d540-a8049828781f"
      },
      "source": [
        "model=Net()\n",
        "print(next(model.parameters()).device)"
      ],
      "execution_count": 7,
      "outputs": [
        {
          "output_type": "stream",
          "text": [
            "cpu\n"
          ],
          "name": "stdout"
        }
      ]
    },
    {
      "cell_type": "code",
      "metadata": {
        "colab": {
          "base_uri": "https://localhost:8080/"
        },
        "id": "hYuX2CT_4v5l",
        "outputId": "1a2becdd-341a-4a9b-85a5-9b0a9e949ee9"
      },
      "source": [
        "device = torch.device(\"cuda:0\") \n",
        "model.to(device)\n",
        "print(next(model.parameters()).device)"
      ],
      "execution_count": 8,
      "outputs": [
        {
          "output_type": "stream",
          "text": [
            "cuda:0\n"
          ],
          "name": "stdout"
        }
      ]
    },
    {
      "cell_type": "code",
      "metadata": {
        "id": "chW5a-yT4x6q"
      },
      "source": [
        "loss_func = nn.NLLLoss(reduction=\"sum\")"
      ],
      "execution_count": 9,
      "outputs": []
    },
    {
      "cell_type": "code",
      "metadata": {
        "colab": {
          "base_uri": "https://localhost:8080/"
        },
        "id": "UoQS178D40Lt",
        "outputId": "681b519d-dd4c-4a3c-ec0f-beaea47ac850"
      },
      "source": [
        "for xb, yb in train_dl:\n",
        "  xb=xb.type(torch.float).to(device) \n",
        "  yb=yb.to(device)\n",
        "  out=model(xb)\n",
        "  loss = loss_func(out, yb)\n",
        "  print (loss.item())\n",
        "  break"
      ],
      "execution_count": 10,
      "outputs": [
        {
          "output_type": "stream",
          "text": [
            "29.9489688873291\n"
          ],
          "name": "stdout"
        }
      ]
    },
    {
      "cell_type": "code",
      "metadata": {
        "id": "OwM5fK7U43R2"
      },
      "source": [
        "from torch import optim\n",
        "opt = optim.Adam(model.parameters(), lr=1e-4)"
      ],
      "execution_count": 11,
      "outputs": []
    },
    {
      "cell_type": "code",
      "metadata": {
        "id": "F6bc4KRS46-j"
      },
      "source": [
        "opt.step()\n",
        "opt.zero_grad()"
      ],
      "execution_count": 12,
      "outputs": []
    },
    {
      "cell_type": "code",
      "metadata": {
        "id": "80mwiWD_5Cqw"
      },
      "source": [
        "def loss_batch(loss_func, xb, yb,yb_h, opt=None): \n",
        "  loss = loss_func(yb_h, yb)\n",
        "  metric_b = metrics_batch(yb,yb_h)  \n",
        "  if opt is not None:\n",
        "    loss.backward() \n",
        "    opt.step() \n",
        "    opt.zero_grad()\n",
        "  return loss.item(), metric_b"
      ],
      "execution_count": 13,
      "outputs": []
    },
    {
      "cell_type": "code",
      "metadata": {
        "id": "muWM2Y1g5EcA"
      },
      "source": [
        "def metrics_batch(target, output):\n",
        "  pred = output.argmax(dim=1, keepdim=True)\n",
        "  corrects=pred.eq(target.view_as(pred)).sum().item() \n",
        "  return corrects"
      ],
      "execution_count": 14,
      "outputs": []
    },
    {
      "cell_type": "code",
      "metadata": {
        "id": "zq4wJLYq5GLu"
      },
      "source": [
        "def loss_epoch(model,loss_func,dataset_dl,opt=None): \n",
        "  loss=0.0\n",
        "  metric=0.0 \n",
        "  len_data=len(dataset_dl.dataset) \n",
        "  for xb, yb in dataset_dl:\n",
        "    xb=xb.type(torch.float).to(device) \n",
        "    yb=yb.to(device)\n",
        "    yb_h=model(xb)\n",
        "    loss_b,metric_b=loss_batch(loss_func, xb, yb,yb_h, opt) \n",
        "    loss+=loss_b\n",
        "    if metric_b is not None:\n",
        "        metric+=metric_b \n",
        "  loss/=len_data\n",
        "  metric/=len_data \n",
        "  return loss, metric"
      ],
      "execution_count": 15,
      "outputs": []
    },
    {
      "cell_type": "code",
      "metadata": {
        "id": "1zwO1rdL5IdN"
      },
      "source": [
        "def train_val(epochs, model, loss_func, opt, train_dl, test_dl):\n",
        "    for epoch in range(epochs):\n",
        "        model.train()\n",
        "        train_loss, train_metric=loss_epoch(model,loss_func,train_dl,opt)\n",
        "        model.eval()\n",
        "        with torch.no_grad():\n",
        "          val_loss, val_metric=loss_epoch(model,loss_func,test_dl) \n",
        "          accuracy=100*val_metric\n",
        "          print(\"epoch: %d, train loss: %.6f, val loss: %.6f, accuracy: %.2f\" %(epoch, train_loss,val_loss,accuracy))"
      ],
      "execution_count": 16,
      "outputs": []
    },
    {
      "cell_type": "code",
      "metadata": {
        "colab": {
          "base_uri": "https://localhost:8080/"
        },
        "id": "HN9gOJGE5Loo",
        "outputId": "b183dd5b-1977-4a87-dbcf-437aaaedc6f1"
      },
      "source": [
        "num_epochs=10\n",
        "train_val(num_epochs, model, loss_func, opt, train_dl, test_dl)"
      ],
      "execution_count": 17,
      "outputs": [
        {
          "output_type": "stream",
          "text": [
            "epoch: 0, train loss: 0.508101, val loss: 0.169718, accuracy: 94.80\n",
            "epoch: 1, train loss: 0.201595, val loss: 0.127866, accuracy: 96.31\n",
            "epoch: 2, train loss: 0.153336, val loss: 0.111120, accuracy: 96.77\n",
            "epoch: 3, train loss: 0.123061, val loss: 0.094572, accuracy: 97.36\n",
            "epoch: 4, train loss: 0.104485, val loss: 0.095348, accuracy: 97.26\n",
            "epoch: 5, train loss: 0.090032, val loss: 0.088171, accuracy: 97.61\n",
            "epoch: 6, train loss: 0.078680, val loss: 0.084056, accuracy: 97.79\n",
            "epoch: 7, train loss: 0.072495, val loss: 0.084186, accuracy: 98.00\n",
            "epoch: 8, train loss: 0.067264, val loss: 0.083867, accuracy: 97.85\n",
            "epoch: 9, train loss: 0.061501, val loss: 0.084694, accuracy: 98.05\n"
          ],
          "name": "stdout"
        }
      ]
    }
  ]
}