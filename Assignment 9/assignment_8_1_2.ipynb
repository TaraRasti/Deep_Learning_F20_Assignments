{
  "nbformat": 4,
  "nbformat_minor": 0,
  "metadata": {
    "kernelspec": {
      "name": "python3",
      "display_name": "Python 3",
      "language": "python"
    },
    "language_info": {
      "name": "python",
      "version": "3.6.6",
      "mimetype": "text/x-python",
      "codemirror_mode": {
        "name": "ipython",
        "version": 3
      },
      "pygments_lexer": "ipython3",
      "nbconvert_exporter": "python",
      "file_extension": ".py"
    },
    "colab": {
      "name": "assignment-8-1-2.ipynb",
      "provenance": [],
      "include_colab_link": true
    }
  },
  "cells": [
    {
      "cell_type": "markdown",
      "metadata": {
        "id": "view-in-github",
        "colab_type": "text"
      },
      "source": [
        "<a href=\"https://colab.research.google.com/github/TaraRasti/Deep_Learning_F20_Assignments/blob/master/Assignment%209/assignment_8_1_2.ipynb\" target=\"_parent\"><img src=\"https://colab.research.google.com/assets/colab-badge.svg\" alt=\"Open In Colab\"/></a>"
      ]
    },
    {
      "cell_type": "code",
      "metadata": {
        "trusted": true,
        "id": "Ai1klmH4YByG"
      },
      "source": [
        "import warnings\n",
        "warnings.simplefilter(action='ignore', category=FutureWarning)\n",
        "import os, math, random, time\n",
        "import numpy as np\n",
        "import matplotlib.pyplot as plt\n",
        "from matplotlib.pyplot import imshow\n",
        "from PIL import Image\n",
        "import torch.nn as nn\n",
        "import torch\n",
        "import torchvision\n",
        "import torch.nn.functional as F\n",
        "import torchvision.transforms as transforms\n",
        "import torch.optim as optim\n",
        "from collections import defaultdict"
      ],
      "execution_count": null,
      "outputs": []
    },
    {
      "cell_type": "code",
      "metadata": {
        "trusted": true,
        "id": "SC590pXmYByH"
      },
      "source": [
        "def timer_start():\n",
        "    global t0\n",
        "    t0 = time.time()\n",
        "    \n",
        "def timer_end():   \n",
        "    print('Time elapsed {:0.1f}s'.format(time.time() - t0))  \n",
        "\n",
        "def display_grid(data, path, w =10, h =10, columns = 4, rows = 5):\n",
        "    fig=plt.figure(figsize=(12, 8))\n",
        "    for i in range(1, columns*rows +1):\n",
        "        file = data[i]\n",
        "        file = os.path.join(path, file)\n",
        "        img = Image.open(file)\n",
        "        fig.add_subplot(rows, columns, i)\n",
        "        imshow(img)\n",
        "    plt.show()\n",
        "    \n",
        "def get_best_epcoh(history):\n",
        "    valid_acc = history['val_acc']\n",
        "    best_epoch = valid_acc.index(max(valid_acc)) +1\n",
        "    best_acc =  max(valid_acc)\n",
        "    print('Best Validation Accuracy Score {:0.5f}, is for epoch {}'.format( best_acc, best_epoch))\n",
        "    return best_epoch\n",
        "\n",
        "def plot_results(history):\n",
        "    tr_acc = history['tr_acc']\n",
        "    val_acc = history['val_acc']\n",
        "    tr_loss = history['tr_loss']\n",
        "    val_loss = history['val_loss']\n",
        "    epochs = history['epoch']\n",
        "\n",
        "    plt.figure(figsize = (24, 6))\n",
        "    plt.subplot(1,2,1)\n",
        "    plt.plot(epochs, tr_acc, 'b', label = 'Training Accuracy')\n",
        "    plt.plot(epochs, val_acc, 'r', label = 'Validation Accuracy')\n",
        "    plt.grid(True)\n",
        "    plt.legend()\n",
        "    plt.xlabel('Epoch')  \n",
        "    \n",
        "    plt.subplot(1,2,2)\n",
        "    plt.plot(epochs, tr_loss, 'b', label = 'Training Loss')\n",
        "    plt.plot(epochs, val_loss, 'r', label = 'Validation Loss')\n",
        "    plt.grid(True)\n",
        "    plt.legend()\n",
        "    plt.xlabel('Epoch')\n",
        "    plt.show()\n",
        "    \n",
        "def set_seed(seed):\n",
        "    torch.backends.cudnn.deterministic = True\n",
        "    torch.backends.cudnn.benchmark = False\n",
        "    torch.manual_seed(seed)\n",
        "    torch.cuda.manual_seed_all(seed)\n",
        "    np.random.seed(seed)\n",
        "    random.seed(seed)\n",
        "    \n",
        "def online_mean_and_sd(loader):\n",
        "    cnt = 0\n",
        "    fst_moment = torch.empty(3)\n",
        "    snd_moment = torch.empty(3)\n",
        "    for images, _ in loader:\n",
        "        b, c, h, w = images.shape\n",
        "        nb_pixels = b * h * w\n",
        "        sum_ = torch.sum(images, dim=[0, 2, 3])\n",
        "        sum_of_square = torch.sum(images ** 2, dim=[0, 2, 3])\n",
        "        fst_moment = (cnt * fst_moment + sum_) / (cnt + nb_pixels)\n",
        "        snd_moment = (cnt * snd_moment + sum_of_square) / (cnt + nb_pixels)\n",
        "\n",
        "        cnt += nb_pixels\n",
        "\n",
        "    return fst_moment, torch.sqrt(snd_moment - fst_moment ** 2)\n"
      ],
      "execution_count": null,
      "outputs": []
    },
    {
      "cell_type": "code",
      "metadata": {
        "trusted": true,
        "id": "TfMnMrU1YByH",
        "outputId": "2d7de957-1d0b-41dc-e734-11cde7ef0e18"
      },
      "source": [
        "base_dir = '/kaggle/input/cars-wagonr-swift/data/'\n",
        "train_swift = os.listdir(os.path.join(base_dir, 'train/swift') )\n",
        "val_swift  = os.listdir(os.path.join(base_dir, 'validation/swift') )\n",
        "test_swift  =  os.listdir(os.path.join(base_dir, 'test/swift') )\n",
        "print('Instances for Class Swift: Train {}, Validation {} Test {}'.format(len(train_swift), len(val_swift), len(test_swift)))"
      ],
      "execution_count": null,
      "outputs": [
        {
          "output_type": "stream",
          "text": [
            "Instances for Class Swift: Train 1200, Validation 400 Test 400\n"
          ],
          "name": "stdout"
        }
      ]
    },
    {
      "cell_type": "code",
      "metadata": {
        "trusted": true,
        "id": "BANFVLjuYByH",
        "outputId": "0b3d652d-0c36-41cb-d215-d42e320f3494"
      },
      "source": [
        "val_train = [x for x in val_swift if x in train_swift]\n",
        "test_train = [x for x in test_swift if x in train_swift]\n",
        "val_test =  [x for x in test_swift if x in val_swift]\n",
        "len(val_train), len(test_train), len(val_test)"
      ],
      "execution_count": null,
      "outputs": [
        {
          "output_type": "execute_result",
          "data": {
            "text/plain": [
              "(0, 0, 0)"
            ]
          },
          "metadata": {
            "tags": []
          },
          "execution_count": 27
        }
      ]
    },
    {
      "cell_type": "code",
      "metadata": {
        "trusted": true,
        "id": "vLwSkrbPYByH",
        "outputId": "76ff0807-85da-456e-b19b-aa4e0032f847"
      },
      "source": [
        "train_wr = os.listdir(os.path.join(base_dir, 'train/wagonr') )\n",
        "val_wr  = os.listdir(os.path.join(base_dir, 'validation/wagonr') )\n",
        "test_wr  =  os.listdir(os.path.join(base_dir, 'test/wagonr') )\n",
        "print('Instances for Class Wagonr: Train {}, Validation {} Test {}'.format(len(train_swift), len(val_swift), len(test_swift)))"
      ],
      "execution_count": null,
      "outputs": [
        {
          "output_type": "stream",
          "text": [
            "Instances for Class Wagonr: Train 1200, Validation 400 Test 400\n"
          ],
          "name": "stdout"
        }
      ]
    },
    {
      "cell_type": "code",
      "metadata": {
        "trusted": true,
        "id": "Wj7wCDHAYByI",
        "outputId": "f0c22b4a-8f9e-49ce-9eb0-9e5187336143"
      },
      "source": [
        "val_train = [x for x in val_wr if x in train_wr]\n",
        "test_train = [x for x in test_wr if x in train_wr]\n",
        "val_test =  [x for x in test_wr if x in val_wr]\n",
        "len(val_train), len(test_train), len(val_test)"
      ],
      "execution_count": null,
      "outputs": [
        {
          "output_type": "execute_result",
          "data": {
            "text/plain": [
              "(0, 0, 0)"
            ]
          },
          "metadata": {
            "tags": []
          },
          "execution_count": 30
        }
      ]
    },
    {
      "cell_type": "code",
      "metadata": {
        "trusted": true,
        "id": "N6-lsFQZYByI",
        "outputId": "6b89f36b-da6e-440b-d458-44d88cc6bef9"
      },
      "source": [
        "train_dir = os.path.join(base_dir, 'train')\n",
        "validation_dir = os.path.join(base_dir, 'validation' )\n",
        "\n",
        "transform = transforms.Compose( [                                  \n",
        "                                 transforms.Resize((150,150)), \n",
        "                                 transforms.ToTensor(),\n",
        "                                  ])\n",
        "\n",
        "trainset = torchvision.datasets.ImageFolder( root= train_dir ,\n",
        "                                              transform=transform\n",
        "                                               )\n",
        "\n",
        "trainloader = torch.utils.data.DataLoader(trainset, batch_size= 512 ,\n",
        "                                          shuffle=True, num_workers=1)\n",
        "mean, std = online_mean_and_sd(trainloader)\n",
        "print(mean, std)"
      ],
      "execution_count": null,
      "outputs": [
        {
          "output_type": "stream",
          "text": [
            "tensor([0.4508, 0.4365, 0.4216]) tensor([0.2561, 0.2542, 0.2592])\n"
          ],
          "name": "stdout"
        }
      ]
    },
    {
      "cell_type": "code",
      "metadata": {
        "trusted": true,
        "id": "w8Czw5r3YByI",
        "outputId": "d655ac45-8e87-4f8c-9384-18cae74d14a3"
      },
      "source": [
        "BATCH_SIZE = 32\n",
        "transform = transforms.Compose( [                                  \n",
        "                                 transforms.Resize((150,150)), \n",
        "                                 transforms.ToTensor(),\n",
        "                                 transforms.Normalize(mean, std),\n",
        "                                  ])\n",
        "\n",
        "trainset = torchvision.datasets.ImageFolder( root= train_dir ,\n",
        "                                              transform=transform\n",
        "                                               )\n",
        "\n",
        "\n",
        "trainloader = torch.utils.data.DataLoader(trainset, batch_size= BATCH_SIZE,\n",
        "                                          shuffle=True, num_workers=1)\n",
        "\n",
        "\n",
        "validset = torchvision.datasets.ImageFolder( root= validation_dir ,\n",
        "                                              transform=transform\n",
        "                                               )\n",
        "\n",
        "\n",
        "validloader = torch.utils.data.DataLoader(validset , batch_size= BATCH_SIZE,\n",
        "                                          shuffle=True, num_workers=1)\n",
        "\n",
        "print(online_mean_and_sd(trainloader))"
      ],
      "execution_count": null,
      "outputs": [
        {
          "output_type": "stream",
          "text": [
            "(tensor([ 3.3543e-07, -1.8407e-06, -1.3698e-06]), tensor([1.0000, 1.0000, 1.0000]))\n"
          ],
          "name": "stdout"
        }
      ]
    },
    {
      "cell_type": "code",
      "metadata": {
        "trusted": true,
        "id": "GVFRzdqIYByI"
      },
      "source": [
        "class Net(nn.Module):\n",
        "    def __init__(self):\n",
        "        super().__init__()\n",
        "        self.conv1 = nn.Conv2d(3, 16, 5)\n",
        "        self.conv3 = nn.Conv2d(16, 32, 5)\n",
        "        self.conv5 = nn.Conv2d(32, 64, 5)\n",
        "        self.conv7 = nn.Conv2d(64, 128, 5)\n",
        "        self.conv8 = nn.Conv2d(128, 128, 5)\n",
        "        self.pool = nn.MaxPool2d(2)\n",
        "        self.flat = nn.Flatten()\n",
        "        self.fc1 = nn.Linear(128*7*7, 1024)\n",
        "        self.fc2 = nn.Linear(1024, 64)\n",
        "        self.fc3 = nn.Linear(64, 2)\n",
        "        \n",
        "    def forward(self, x):\n",
        "        x = self.pool(F.relu(self.conv1(x)))\n",
        "        x = self.pool(F.relu(self.conv3(x)))\n",
        "        x = self.pool(F.relu(self.conv5(x)))\n",
        "        x = F.relu(self.conv7(x))\n",
        "        x = F.relu(self.conv8(x))\n",
        "        x = self.flat(x)\n",
        "        x = F.relu(self.fc1(x))\n",
        "        x = nn.Dropout(p=0.3)(x)\n",
        "        x = F.relu(self.fc2(x))\n",
        "        x = nn.Dropout(p=0.2)(x)        \n",
        "        x = torch.softmax(self.fc3(x),dim=1)\n",
        "        return x"
      ],
      "execution_count": null,
      "outputs": []
    },
    {
      "cell_type": "code",
      "metadata": {
        "trusted": true,
        "id": "lqoAgpKWYByI"
      },
      "source": [
        "def train(model, epoch, train_loader, optimizer, criterion) :   \n",
        "    model.train()\n",
        "    epoch_loss = correct = 0\n",
        "    for i, data in enumerate(train_loader, 0):\n",
        "        inputs, labels = data[0].to(device), data[1].to(device)    \n",
        "        optimizer.zero_grad()\n",
        "        outputs = model(inputs)\n",
        "\n",
        "\n",
        "        loss =  criterion(outputs, labels)\n",
        "        \n",
        "\n",
        "        _, predicted = torch.max(outputs.data, 1)           \n",
        "\n",
        "\n",
        "        correct += (predicted == labels).sum().item()  \n",
        "\n",
        "        loss.backward()\n",
        "\n",
        "        optimizer.step() \n",
        "        \n",
        "        epoch_loss += outputs.shape[0] * loss.item()\n",
        "        \n",
        "    accuracy = correct / len(train_loader.dataset)\n",
        "    epoch_loss = epoch_loss / len(train_loader.dataset)\n",
        "    return epoch_loss, accuracy\n",
        "\n",
        "\n",
        "def test(model, epoch, test_loader, optimizer, criterion):\n",
        "    model.eval()\n",
        "    epoch_loss = correct = 0\n",
        "\n",
        "    with torch.no_grad():\n",
        "\n",
        "        for i, data in enumerate(test_loader, 0):\n",
        "            images, labels = data[0].to(device), data[1].to(device)\n",
        "\n",
        "            outputs = model(images)\n",
        "\n",
        "\n",
        "            loss =    criterion(outputs, labels)\n",
        "\n",
        "\n",
        "            _, predicted = torch.max(outputs.data, 1)           \n",
        "            correct += (predicted == labels).sum().item()  \n",
        "\n",
        "\n",
        "            epoch_loss += outputs.shape[0] * loss.item()\n",
        "\n",
        "    \n",
        "    accuracy = correct / len(test_loader.dataset)\n",
        "    epoch_loss = epoch_loss / len(test_loader.dataset)\n",
        "  \n",
        "    return epoch_loss, accuracy "
      ],
      "execution_count": null,
      "outputs": []
    },
    {
      "cell_type": "code",
      "metadata": {
        "trusted": true,
        "id": "RMIzANFXYByI",
        "outputId": "884231ef-cee8-4809-eb13-1db8a2a81740"
      },
      "source": [
        "device = torch.device(\"cuda:0\" if torch.cuda.is_available() else \"cpu\")\n",
        "model = Net()\n",
        "model.to(device)\n",
        "\n",
        "\n",
        "criterion = nn.CrossEntropyLoss()\n",
        "optimizer = optim.RMSprop(model.parameters(), lr=0.0001)\n",
        "print('Divice: ',device)\n",
        "model\n"
      ],
      "execution_count": null,
      "outputs": [
        {
          "output_type": "stream",
          "text": [
            "Divice:  cuda:0\n"
          ],
          "name": "stdout"
        },
        {
          "output_type": "execute_result",
          "data": {
            "text/plain": [
              "Net(\n",
              "  (conv1): Conv2d(3, 16, kernel_size=(3, 3), stride=(1, 1))\n",
              "  (conv3): Conv2d(16, 32, kernel_size=(3, 3), stride=(1, 1))\n",
              "  (conv5): Conv2d(32, 64, kernel_size=(3, 3), stride=(1, 1))\n",
              "  (conv7): Conv2d(64, 128, kernel_size=(3, 3), stride=(1, 1))\n",
              "  (conv8): Conv2d(128, 128, kernel_size=(3, 3), stride=(1, 1))\n",
              "  (pool): MaxPool2d(kernel_size=2, stride=2, padding=0, dilation=1, ceil_mode=False)\n",
              "  (flat): Flatten()\n",
              "  (fc1): Linear(in_features=6272, out_features=1024, bias=True)\n",
              "  (fc2): Linear(in_features=1024, out_features=64, bias=True)\n",
              "  (fc3): Linear(in_features=64, out_features=2, bias=True)\n",
              ")"
            ]
          },
          "metadata": {
            "tags": []
          },
          "execution_count": 98
        }
      ]
    },
    {
      "cell_type": "code",
      "metadata": {
        "trusted": true,
        "id": "F_xxzNm0YByI",
        "outputId": "94f25459-b2d7-450e-8c69-9d6f4ee91b64"
      },
      "source": [
        "%%time\n",
        "EPOCHS = 30\n",
        "\n",
        "\n",
        "train_list  = os.listdir(os.path.join(base_dir, 'train/swift') ) + os.listdir(os.path.join(base_dir, 'train/wagonr') )\n",
        "num_batches = math.ceil(len(train_list) / BATCH_SIZE)\n",
        "\n",
        "print('Number of Training samples {}, Batch Size {}, Num Batch {}'.format( len(train_list), BATCH_SIZE, num_batches ))\n",
        "\n",
        "history = defaultdict(list)\n",
        "\n",
        "\n",
        "for epoch in range( EPOCHS):  \n",
        "    timer_start()\n",
        "    print('[Epoch {} of {}]'.format(epoch +1, EPOCHS), end = ' ')\n",
        "    tr_loss, tr_acc = train(model, epoch, trainloader, optimizer, criterion)\n",
        "\n",
        "    val_loss, val_acc = test(model, epoch, validloader, optimizer, criterion)  \n",
        "    timer_end()\n",
        "    print('tr_loss: {:0.4f},tr_acc {:0.4f}| val_loss {:0.4f}, val_acc {:0.4f}'.format(tr_loss, tr_acc , val_loss, val_acc))\n",
        "    history['epoch'].append(epoch+1)\n",
        "    history['tr_loss'].append(round(tr_loss,5))\n",
        "    history['tr_acc'].append(round(tr_acc,5))\n",
        "    history['val_loss'].append(round(val_loss,5))\n",
        "    history['val_acc'].append(round(val_acc,5))\n"
      ],
      "execution_count": null,
      "outputs": [
        {
          "output_type": "stream",
          "text": [
            "Number of Training samples 2400, Batch Size 32, Num Batch 75\n",
            "[Epoch 1 of 30] Time elapsed 13.6s\n",
            "tr_loss: 0.7297,tr_acc 0.5017| val_loss 0.6842, val_acc 0.5887\n",
            "[Epoch 2 of 30] Time elapsed 13.5s\n",
            "tr_loss: 0.6623,tr_acc 0.6121| val_loss 0.6731, val_acc 0.5650\n",
            "[Epoch 3 of 30] Time elapsed 14.1s\n",
            "tr_loss: 0.6107,tr_acc 0.6833| val_loss 0.5858, val_acc 0.7000\n",
            "[Epoch 4 of 30] Time elapsed 12.9s\n",
            "tr_loss: 0.5433,tr_acc 0.7571| val_loss 0.5210, val_acc 0.7937\n",
            "[Epoch 5 of 30] Time elapsed 14.9s\n",
            "tr_loss: 0.5090,tr_acc 0.7967| val_loss 0.5149, val_acc 0.7900\n",
            "[Epoch 6 of 30] Time elapsed 13.1s\n",
            "tr_loss: 0.4822,tr_acc 0.8221| val_loss 0.4918, val_acc 0.8125\n",
            "[Epoch 7 of 30] Time elapsed 13.7s\n",
            "tr_loss: 0.4609,tr_acc 0.8471| val_loss 0.4882, val_acc 0.8213\n",
            "[Epoch 8 of 30] Time elapsed 13.5s\n",
            "tr_loss: 0.4387,tr_acc 0.8700| val_loss 0.4742, val_acc 0.8300\n",
            "[Epoch 9 of 30] Time elapsed 13.5s\n",
            "tr_loss: 0.4349,tr_acc 0.8758| val_loss 0.4527, val_acc 0.8550\n",
            "[Epoch 10 of 30] Time elapsed 14.2s\n",
            "tr_loss: 0.4224,tr_acc 0.8867| val_loss 0.4666, val_acc 0.8375\n",
            "[Epoch 11 of 30] Time elapsed 13.3s\n",
            "tr_loss: 0.4118,tr_acc 0.9012| val_loss 0.4456, val_acc 0.8588\n",
            "[Epoch 12 of 30] Time elapsed 13.6s\n",
            "tr_loss: 0.4022,tr_acc 0.9100| val_loss 0.5157, val_acc 0.7837\n",
            "[Epoch 13 of 30] Time elapsed 12.9s\n",
            "tr_loss: 0.3985,tr_acc 0.9142| val_loss 0.4318, val_acc 0.8775\n",
            "[Epoch 14 of 30] Time elapsed 14.7s\n",
            "tr_loss: 0.3998,tr_acc 0.9133| val_loss 0.4276, val_acc 0.8825\n",
            "[Epoch 15 of 30] Time elapsed 13.5s\n",
            "tr_loss: 0.3828,tr_acc 0.9283| val_loss 0.4544, val_acc 0.8525\n",
            "[Epoch 16 of 30] Time elapsed 13.1s\n",
            "tr_loss: 0.3812,tr_acc 0.9313| val_loss 0.4568, val_acc 0.8475\n",
            "[Epoch 17 of 30] Time elapsed 13.4s\n",
            "tr_loss: 0.3694,tr_acc 0.9437| val_loss 0.4308, val_acc 0.8775\n",
            "[Epoch 18 of 30] Time elapsed 13.7s\n",
            "tr_loss: 0.3686,tr_acc 0.9450| val_loss 0.4244, val_acc 0.8850\n",
            "[Epoch 19 of 30] Time elapsed 13.5s\n",
            "tr_loss: 0.3584,tr_acc 0.9563| val_loss 0.4275, val_acc 0.8888\n",
            "[Epoch 20 of 30] Time elapsed 13.9s\n",
            "tr_loss: 0.3608,tr_acc 0.9521| val_loss 0.4289, val_acc 0.8788\n",
            "[Epoch 21 of 30] Time elapsed 13.0s\n",
            "tr_loss: 0.3534,tr_acc 0.9587| val_loss 0.4388, val_acc 0.8700\n",
            "[Epoch 22 of 30] Time elapsed 14.2s\n",
            "tr_loss: 0.3603,tr_acc 0.9529| val_loss 0.4361, val_acc 0.8688\n",
            "[Epoch 23 of 30] Time elapsed 13.3s\n",
            "tr_loss: 0.3513,tr_acc 0.9633| val_loss 0.4326, val_acc 0.8750\n",
            "[Epoch 24 of 30] Time elapsed 14.2s\n",
            "tr_loss: 0.3504,tr_acc 0.9625| val_loss 0.4164, val_acc 0.8900\n",
            "[Epoch 25 of 30] Time elapsed 13.3s\n",
            "tr_loss: 0.3471,tr_acc 0.9671| val_loss 0.4290, val_acc 0.8838\n",
            "[Epoch 26 of 30] Time elapsed 13.5s\n",
            "tr_loss: 0.3500,tr_acc 0.9654| val_loss 0.4409, val_acc 0.8662\n",
            "[Epoch 27 of 30] Time elapsed 15.2s\n",
            "tr_loss: 0.3450,tr_acc 0.9683| val_loss 0.4114, val_acc 0.8950\n",
            "[Epoch 28 of 30] Time elapsed 13.5s\n",
            "tr_loss: 0.3476,tr_acc 0.9654| val_loss 0.4129, val_acc 0.8938\n",
            "[Epoch 29 of 30] Time elapsed 13.8s\n",
            "tr_loss: 0.3414,tr_acc 0.9717| val_loss 0.4087, val_acc 0.9000\n",
            "[Epoch 30 of 30] Time elapsed 13.2s\n",
            "tr_loss: 0.3376,tr_acc 0.9758| val_loss 0.4069, val_acc 0.9012\n",
            "CPU times: user 50.2 s, sys: 8.74 s, total: 58.9 s\n",
            "Wall time: 6min 49s\n"
          ],
          "name": "stdout"
        }
      ]
    },
    {
      "cell_type": "code",
      "metadata": {
        "trusted": true,
        "id": "fPCs2PHwYByI",
        "outputId": "c027622a-db4b-4bf4-8cdd-50d4083c5a66"
      },
      "source": [
        "plot_results(history)\n",
        "best_epoch = get_best_epcoh(history)"
      ],
      "execution_count": null,
      "outputs": [
        {
          "output_type": "display_data",
          "data": {
            "text/plain": [
              "<Figure size 1728x432 with 2 Axes>"
            ],
            "image/png": "[encoded data removed]"
          },
          "metadata": {
            "tags": [],
            "needs_background": "light"
          }
        },
        {
          "output_type": "stream",
          "text": [
            "Best Validation Accuracy Score 0.90125, is for epoch 30\n"
          ],
          "name": "stdout"
        }
      ]
    },
    {
      "cell_type": "code",
      "metadata": {
        "trusted": true,
        "id": "f3Kw_BKVYByJ"
      },
      "source": [
        "class Net(nn.Module):\n",
        "    def __init__(self):\n",
        "        super().__init__()\n",
        "        self.conv1 = nn.Conv2d(3, 16, 3)\n",
        "        self.conv3 = nn.Conv2d(16, 32, 3)\n",
        "        self.conv5 = nn.Conv2d(32, 64, 3)\n",
        "        self.conv7 = nn.Conv2d(64, 128, 3)\n",
        "        self.conv8 = nn.Conv2d(128, 128, 3)\n",
        "        self.pool = nn.MaxPool2d(2)\n",
        "        self.flat = nn.Flatten()\n",
        "        self.fc1 = nn.Linear(21632, 1024)\n",
        "        self.fc2 = nn.Linear(1024, 64)\n",
        "        self.fc3 = nn.Linear(64, 2)\n",
        "        \n",
        "    def forward(self, x):\n",
        "        x = self.pool(F.relu(self.conv1(x)))\n",
        "        x = self.pool(F.relu(self.conv3(x)))\n",
        "        x = self.pool(F.relu(self.conv5(x)))\n",
        "        x = F.relu(self.conv7(x))\n",
        "        x = F.relu(self.conv8(x))\n",
        "        x = self.flat(x)\n",
        "        x = F.relu(self.fc1(x))\n",
        "        x = nn.Dropout(p=0.3)(x)\n",
        "        x = F.relu(self.fc2(x))\n",
        "        x = nn.Dropout(p=0.2)(x)        \n",
        "        x = torch.softmax(self.fc3(x),dim=1)\n",
        "        return x"
      ],
      "execution_count": null,
      "outputs": []
    },
    {
      "cell_type": "code",
      "metadata": {
        "trusted": true,
        "id": "NBm34S1uYByJ"
      },
      "source": [
        "def train(model, epoch, train_loader, optimizer, criterion) :   \n",
        "    model.train()\n",
        "    epoch_loss = correct = 0\n",
        "    for i, data in enumerate(train_loader, 0):\n",
        "        inputs, labels = data[0].to(device), data[1].to(device)    \n",
        "        optimizer.zero_grad()\n",
        "        outputs = model(inputs)\n",
        "\n",
        "\n",
        "        loss =  criterion(outputs, labels)\n",
        "        \n",
        "\n",
        "        _, predicted = torch.max(outputs.data, 1)           \n",
        "\n",
        "\n",
        "        correct += (predicted == labels).sum().item()  \n",
        "\n",
        "        loss.backward()\n",
        "\n",
        "        optimizer.step() \n",
        "        \n",
        "        epoch_loss += outputs.shape[0] * loss.item()\n",
        "        \n",
        "    accuracy = correct / len(train_loader.dataset)\n",
        "    epoch_loss = epoch_loss / len(train_loader.dataset)\n",
        "    return epoch_loss, accuracy\n",
        "\n",
        "\n",
        "def test(model, epoch, test_loader, optimizer, criterion):\n",
        "    model.eval()\n",
        "    epoch_loss = correct = 0\n",
        "\n",
        "    with torch.no_grad():\n",
        "\n",
        "        for i, data in enumerate(test_loader, 0):\n",
        "            images, labels = data[0].to(device), data[1].to(device)\n",
        "\n",
        "            outputs = model(images)\n",
        "\n",
        "\n",
        "            loss =    criterion(outputs, labels)\n",
        "\n",
        "\n",
        "            _, predicted = torch.max(outputs.data, 1)           \n",
        "            correct += (predicted == labels).sum().item()  \n",
        "\n",
        "\n",
        "            epoch_loss += outputs.shape[0] * loss.item()\n",
        "\n",
        "    \n",
        "    accuracy = correct / len(test_loader.dataset)\n",
        "    epoch_loss = epoch_loss / len(test_loader.dataset)\n",
        "  \n",
        "    return epoch_loss, accuracy "
      ],
      "execution_count": null,
      "outputs": []
    },
    {
      "cell_type": "code",
      "metadata": {
        "trusted": true,
        "id": "FjEbc6H7YByJ",
        "outputId": "93876887-454f-4602-82f4-057dde47af90"
      },
      "source": [
        "device = torch.device(\"cuda:0\" if torch.cuda.is_available() else \"cpu\")\n",
        "model = Net()\n",
        "model.to(device)\n",
        "\n",
        "\n",
        "criterion = nn.CrossEntropyLoss()\n",
        "optimizer = optim.RMSprop(model.parameters(), lr=0.0001)\n",
        "print('Divice: ',device)\n",
        "model"
      ],
      "execution_count": null,
      "outputs": [
        {
          "output_type": "stream",
          "text": [
            "Divice:  cuda:0\n"
          ],
          "name": "stdout"
        },
        {
          "output_type": "execute_result",
          "data": {
            "text/plain": [
              "Net(\n",
              "  (conv1): Conv2d(3, 16, kernel_size=(3, 3), stride=(1, 1))\n",
              "  (conv3): Conv2d(16, 32, kernel_size=(3, 3), stride=(1, 1))\n",
              "  (conv5): Conv2d(32, 64, kernel_size=(3, 3), stride=(1, 1))\n",
              "  (conv7): Conv2d(64, 128, kernel_size=(3, 3), stride=(1, 1))\n",
              "  (conv8): Conv2d(128, 128, kernel_size=(3, 3), stride=(1, 1))\n",
              "  (pool): MaxPool2d(kernel_size=2, stride=2, padding=0, dilation=1, ceil_mode=False)\n",
              "  (flat): Flatten()\n",
              "  (fc1): Linear(in_features=21632, out_features=1024, bias=True)\n",
              "  (fc2): Linear(in_features=1024, out_features=64, bias=True)\n",
              "  (fc3): Linear(in_features=64, out_features=2, bias=True)\n",
              ")"
            ]
          },
          "metadata": {
            "tags": []
          },
          "execution_count": 120
        }
      ]
    },
    {
      "cell_type": "code",
      "metadata": {
        "trusted": true,
        "id": "kK2FJ4nEYByJ",
        "outputId": "767e65ae-10ee-48fa-fbe1-eaba3d34261a"
      },
      "source": [
        "%%time\n",
        "EPOCHS = 30\n",
        "\n",
        "\n",
        "train_list  = os.listdir(os.path.join(base_dir, 'train/swift') ) + os.listdir(os.path.join(base_dir, 'train/wagonr') )\n",
        "num_batches = math.ceil(len(train_list) / BATCH_SIZE)\n",
        "\n",
        "print('Number of Training samples {}, Batch Size {}, Num Batch {}'.format( len(train_list), BATCH_SIZE, num_batches ))\n",
        "\n",
        "history = defaultdict(list)\n",
        "\n",
        "\n",
        "for epoch in range( EPOCHS):  \n",
        "    timer_start()\n",
        "    print('[Epoch {} of {}]'.format(epoch +1, EPOCHS), end = ' ')\n",
        "    tr_loss, tr_acc = train(model, epoch, trainloader, optimizer, criterion)\n",
        "\n",
        "    val_loss, val_acc = test(model, epoch, validloader, optimizer, criterion)  \n",
        "    timer_end()\n",
        "    print('tr_loss: {:0.4f},tr_acc {:0.4f}| val_loss {:0.4f}, val_acc {:0.4f}'.format(tr_loss, tr_acc , val_loss, val_acc))\n",
        "    history['epoch'].append(epoch+1)\n",
        "    history['tr_loss'].append(round(tr_loss,5))\n",
        "    history['tr_acc'].append(round(tr_acc,5))\n",
        "    history['val_loss'].append(round(val_loss,5))\n",
        "    history['val_acc'].append(round(val_acc,5))\n",
        "\n"
      ],
      "execution_count": null,
      "outputs": [
        {
          "output_type": "stream",
          "text": [
            "Number of Training samples 2400, Batch Size 32, Num Batch 75\n",
            "[Epoch 1 of 30] Time elapsed 13.6s\n",
            "tr_loss: 0.6820,tr_acc 0.5633| val_loss 0.6369, val_acc 0.6362\n",
            "[Epoch 2 of 30] Time elapsed 13.6s\n",
            "tr_loss: 0.6232,tr_acc 0.6733| val_loss 0.6294, val_acc 0.6575\n",
            "[Epoch 3 of 30] Time elapsed 13.7s\n",
            "tr_loss: 0.5830,tr_acc 0.7188| val_loss 0.5809, val_acc 0.7225\n",
            "[Epoch 4 of 30] Time elapsed 14.0s\n",
            "tr_loss: 0.5585,tr_acc 0.7404| val_loss 0.5581, val_acc 0.7462\n",
            "[Epoch 5 of 30] Time elapsed 13.3s\n",
            "tr_loss: 0.5346,tr_acc 0.7679| val_loss 0.5473, val_acc 0.7638\n",
            "[Epoch 6 of 30] Time elapsed 14.0s\n",
            "tr_loss: 0.5109,tr_acc 0.7950| val_loss 0.5300, val_acc 0.7725\n",
            "[Epoch 7 of 30] Time elapsed 13.3s\n",
            "tr_loss: 0.4964,tr_acc 0.8096| val_loss 0.5167, val_acc 0.7850\n",
            "[Epoch 8 of 30] Time elapsed 14.5s\n",
            "tr_loss: 0.4759,tr_acc 0.8363| val_loss 0.5222, val_acc 0.7800\n",
            "[Epoch 9 of 30] Time elapsed 13.4s\n",
            "tr_loss: 0.4672,tr_acc 0.8454| val_loss 0.5023, val_acc 0.8087\n",
            "[Epoch 10 of 30] Time elapsed 14.3s\n",
            "tr_loss: 0.4613,tr_acc 0.8462| val_loss 0.4847, val_acc 0.8250\n",
            "[Epoch 11 of 30] Time elapsed 13.4s\n",
            "tr_loss: 0.4469,tr_acc 0.8654| val_loss 0.4880, val_acc 0.8200\n",
            "[Epoch 12 of 30] Time elapsed 14.1s\n",
            "tr_loss: 0.4414,tr_acc 0.8729| val_loss 0.5057, val_acc 0.7975\n",
            "[Epoch 13 of 30] Time elapsed 14.2s\n",
            "tr_loss: 0.4332,tr_acc 0.8758| val_loss 0.4842, val_acc 0.8237\n",
            "[Epoch 14 of 30] Time elapsed 13.3s\n",
            "tr_loss: 0.4293,tr_acc 0.8817| val_loss 0.4641, val_acc 0.8438\n",
            "[Epoch 15 of 30] Time elapsed 13.5s\n",
            "tr_loss: 0.4228,tr_acc 0.8879| val_loss 0.4807, val_acc 0.8250\n",
            "[Epoch 16 of 30] Time elapsed 13.2s\n",
            "tr_loss: 0.4174,tr_acc 0.8950| val_loss 0.4794, val_acc 0.8275\n",
            "[Epoch 17 of 30] Time elapsed 14.4s\n",
            "tr_loss: 0.4104,tr_acc 0.9017| val_loss 0.4752, val_acc 0.8300\n",
            "[Epoch 18 of 30] Time elapsed 13.5s\n",
            "tr_loss: 0.4085,tr_acc 0.9021| val_loss 0.4754, val_acc 0.8275\n",
            "[Epoch 19 of 30] Time elapsed 13.0s\n",
            "tr_loss: 0.4064,tr_acc 0.9067| val_loss 0.4703, val_acc 0.8363\n",
            "[Epoch 20 of 30] Time elapsed 13.8s\n",
            "tr_loss: 0.3964,tr_acc 0.9187| val_loss 0.4623, val_acc 0.8450\n",
            "[Epoch 21 of 30] Time elapsed 14.1s\n",
            "tr_loss: 0.3913,tr_acc 0.9233| val_loss 0.4763, val_acc 0.8287\n",
            "[Epoch 22 of 30] Time elapsed 14.2s\n",
            "tr_loss: 0.3916,tr_acc 0.9225| val_loss 0.4617, val_acc 0.8462\n",
            "[Epoch 23 of 30] Time elapsed 13.3s\n",
            "tr_loss: 0.3879,tr_acc 0.9279| val_loss 0.4696, val_acc 0.8413\n",
            "[Epoch 24 of 30] Time elapsed 13.6s\n",
            "tr_loss: 0.3783,tr_acc 0.9350| val_loss 0.4626, val_acc 0.8462\n",
            "[Epoch 25 of 30] Time elapsed 13.6s\n",
            "tr_loss: 0.3754,tr_acc 0.9387| val_loss 0.4697, val_acc 0.8325\n",
            "[Epoch 26 of 30] Time elapsed 14.7s\n",
            "tr_loss: 0.3781,tr_acc 0.9375| val_loss 0.4585, val_acc 0.8488\n",
            "[Epoch 27 of 30] Time elapsed 14.3s\n",
            "tr_loss: 0.3720,tr_acc 0.9433| val_loss 0.4458, val_acc 0.8650\n",
            "[Epoch 28 of 30] Time elapsed 13.9s\n",
            "tr_loss: 0.3739,tr_acc 0.9387| val_loss 0.4436, val_acc 0.8638\n",
            "[Epoch 29 of 30] Time elapsed 14.3s\n",
            "tr_loss: 0.3670,tr_acc 0.9454| val_loss 0.4539, val_acc 0.8538\n",
            "[Epoch 30 of 30] Time elapsed 14.6s\n",
            "tr_loss: 0.3648,tr_acc 0.9496| val_loss 0.4535, val_acc 0.8588\n",
            "CPU times: user 47.8 s, sys: 8.82 s, total: 56.7 s\n",
            "Wall time: 6min 54s\n"
          ],
          "name": "stdout"
        }
      ]
    },
    {
      "cell_type": "code",
      "metadata": {
        "trusted": true,
        "id": "j-nOc2kfYByJ",
        "outputId": "ff53cc1f-e79b-4070-df67-e718d6ee9d51"
      },
      "source": [
        "plot_results(history)\n",
        "best_epoch = get_best_epcoh(history)"
      ],
      "execution_count": null,
      "outputs": [
        {
          "output_type": "display_data",
          "data": {
            "text/plain": [
              "<Figure size 1728x432 with 2 Axes>"
            ],
            "image/png": "[encoded data removed]"
          },
          "metadata": {
            "tags": [],
            "needs_background": "light"
          }
        },
        {
          "output_type": "stream",
          "text": [
            "Best Validation Accuracy Score 0.86500, is for epoch 27\n"
          ],
          "name": "stdout"
        }
      ]
    },
    {
      "cell_type": "markdown",
      "metadata": {
        "id": "Dvz7eabnYByJ"
      },
      "source": [
        "A.Increasing kernel size means effectively increasing the total number of parameters. So, it is expected that the model has a higher complexity to address a given problem. So it should perform better at least for a particular training set.\n"
      ]
    },
    {
      "cell_type": "markdown",
      "metadata": {
        "id": "t-_6tS44YByJ"
      },
      "source": [
        "B.Smaller kernel will gives you a lot of details, it can lead you to overfitting, but larger kernel will gives you loss a lot of details, it can lead you to underfitting. As we can see from the results the gap between train accuracy and validation accuracy and also the gap between train loss and validation loss are increased when we changed the kernel size from 55 to 33 and it means overfitting has occurred."
      ]
    },
    {
      "cell_type": "markdown",
      "metadata": {
        "id": "WcM3fcDdYByJ"
      },
      "source": [
        "D&E.The kernel size of 1*3 shrinks the image width and is blind to features that appear Vertically in the input for example a vertical line. However, it can extract horizontal features."
      ]
    }
  ]
}