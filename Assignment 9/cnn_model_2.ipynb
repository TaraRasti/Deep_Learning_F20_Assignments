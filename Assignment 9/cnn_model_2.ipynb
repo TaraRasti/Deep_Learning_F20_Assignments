{
  "nbformat": 4,
  "nbformat_minor": 0,
  "metadata": {
    "kernelspec": {
      "name": "python3",
      "display_name": "Python 3",
      "language": "python"
    },
    "language_info": {
      "name": "python",
      "version": "3.6.6",
      "mimetype": "text/x-python",
      "codemirror_mode": {
        "name": "ipython",
        "version": 3
      },
      "pygments_lexer": "ipython3",
      "nbconvert_exporter": "python",
      "file_extension": ".py"
    },
    "colab": {
      "name": "cnn-model-2.ipynb",
      "provenance": [],
      "include_colab_link": true
    }
  },
  "cells": [
    {
      "cell_type": "markdown",
      "metadata": {
        "id": "view-in-github",
        "colab_type": "text"
      },
      "source": [
        "<a href=\"https://colab.research.google.com/github/TaraRasti/Deep_Learning_F20_Assignments/blob/master/Assignment%209/cnn_model_2.ipynb\" target=\"_parent\"><img src=\"https://colab.research.google.com/assets/colab-badge.svg\" alt=\"Open In Colab\"/></a>"
      ]
    },
    {
      "cell_type": "code",
      "metadata": {
        "trusted": true,
        "id": "heurxFmkGtrY"
      },
      "source": [
        "import warnings\n",
        "warnings.simplefilter(action='ignore', category=FutureWarning)\n",
        "import os, math, random, time\n",
        "import numpy as np\n",
        "import matplotlib.pyplot as plt\n",
        "from matplotlib.pyplot import imshow\n",
        "from PIL import Image\n",
        "import torch.nn as nn\n",
        "import torch\n",
        "import torchvision\n",
        "import torch.nn.functional as F\n",
        "import torchvision.transforms as transforms\n",
        "import torch.optim as optim\n",
        "from collections import defaultdict"
      ],
      "execution_count": null,
      "outputs": []
    },
    {
      "cell_type": "code",
      "metadata": {
        "trusted": true,
        "id": "BFdMgVdUGtrY"
      },
      "source": [
        "def timer_start():\n",
        "    global t0\n",
        "    t0 = time.time()\n",
        "    \n",
        "def timer_end():   \n",
        "    print('Time elapsed {:0.1f}s'.format(time.time() - t0))  \n",
        "\n",
        "def display_grid(data, path, w =10, h =10, columns = 4, rows = 5):\n",
        "    fig=plt.figure(figsize=(12, 8))\n",
        "    for i in range(1, columns*rows +1):\n",
        "        file = data[i]\n",
        "        file = os.path.join(path, file)\n",
        "        img = Image.open(file)\n",
        "        fig.add_subplot(rows, columns, i)\n",
        "        imshow(img)\n",
        "    plt.show()\n",
        "    \n",
        "def get_best_epcoh(history):\n",
        "    valid_acc = history['val_acc']\n",
        "    best_epoch = valid_acc.index(max(valid_acc)) +1\n",
        "    best_acc =  max(valid_acc)\n",
        "    print('Best Validation Accuracy Score {:0.5f}, is for epoch {}'.format( best_acc, best_epoch))\n",
        "    return best_epoch\n",
        "\n",
        "def plot_results(history):\n",
        "    tr_acc = history['tr_acc']\n",
        "    val_acc = history['val_acc']\n",
        "    tr_loss = history['tr_loss']\n",
        "    val_loss = history['val_loss']\n",
        "    epochs = history['epoch']\n",
        "\n",
        "    plt.figure(figsize = (24, 6))\n",
        "    plt.subplot(1,2,1)\n",
        "    plt.plot(epochs, tr_acc, 'b', label = 'Training Accuracy')\n",
        "    plt.plot(epochs, val_acc, 'r', label = 'Validation Accuracy')\n",
        "    plt.grid(True)\n",
        "    plt.legend()\n",
        "    plt.xlabel('Epoch')  \n",
        "    \n",
        "    plt.subplot(1,2,2)\n",
        "    plt.plot(epochs, tr_loss, 'b', label = 'Training Loss')\n",
        "    plt.plot(epochs, val_loss, 'r', label = 'Validation Loss')\n",
        "    plt.grid(True)\n",
        "    plt.legend()\n",
        "    plt.xlabel('Epoch')\n",
        "    plt.show()\n",
        "    \n",
        "def set_seed(seed):\n",
        "    torch.backends.cudnn.deterministic = True\n",
        "    torch.backends.cudnn.benchmark = False\n",
        "    torch.manual_seed(seed)\n",
        "    torch.cuda.manual_seed_all(seed)\n",
        "    np.random.seed(seed)\n",
        "    random.seed(seed)\n",
        "    \n",
        "def online_mean_and_sd(loader):\n",
        "    cnt = 0\n",
        "    fst_moment = torch.empty(3)\n",
        "    snd_moment = torch.empty(3)\n",
        "    for images, _ in loader:\n",
        "        b, c, h, w = images.shape\n",
        "        nb_pixels = b * h * w\n",
        "        sum_ = torch.sum(images, dim=[0, 2, 3])\n",
        "        sum_of_square = torch.sum(images ** 2, dim=[0, 2, 3])\n",
        "        fst_moment = (cnt * fst_moment + sum_) / (cnt + nb_pixels)\n",
        "        snd_moment = (cnt * snd_moment + sum_of_square) / (cnt + nb_pixels)\n",
        "\n",
        "        cnt += nb_pixels\n",
        "\n",
        "    return fst_moment, torch.sqrt(snd_moment - fst_moment ** 2)\n"
      ],
      "execution_count": null,
      "outputs": []
    },
    {
      "cell_type": "code",
      "metadata": {
        "trusted": true,
        "id": "G5eQxI0_GtrY",
        "outputId": "ef375a1c-777a-41a8-a6cd-18abbba453ed"
      },
      "source": [
        "base_dir = '/kaggle/input/cars-wagonr-swift/data/'\n",
        "train_swift = os.listdir(os.path.join(base_dir, 'train/swift') )\n",
        "val_swift  = os.listdir(os.path.join(base_dir, 'validation/swift') )\n",
        "test_swift  =  os.listdir(os.path.join(base_dir, 'test/swift') )\n",
        "print('Instances for Class Swift: Train {}, Validation {} Test {}'.format(len(train_swift), len(val_swift), len(test_swift)))"
      ],
      "execution_count": null,
      "outputs": [
        {
          "output_type": "stream",
          "text": [
            "Instances for Class Swift: Train 1200, Validation 400 Test 400\n"
          ],
          "name": "stdout"
        }
      ]
    },
    {
      "cell_type": "code",
      "metadata": {
        "trusted": true,
        "id": "2-PdBU-WGtrZ",
        "outputId": "d5e78147-9afa-48e6-9153-d3780bcf7caa"
      },
      "source": [
        "val_train = [x for x in val_swift if x in train_swift]\n",
        "test_train = [x for x in test_swift if x in train_swift]\n",
        "val_test =  [x for x in test_swift if x in val_swift]\n",
        "len(val_train), len(test_train), len(val_test)"
      ],
      "execution_count": null,
      "outputs": [
        {
          "output_type": "execute_result",
          "data": {
            "text/plain": [
              "(0, 0, 0)"
            ]
          },
          "metadata": {
            "tags": []
          },
          "execution_count": 27
        }
      ]
    },
    {
      "cell_type": "code",
      "metadata": {
        "trusted": true,
        "id": "w-I74Z5YGtrZ",
        "outputId": "fdc87ef5-f1c8-40bb-809c-ee934235bc7b"
      },
      "source": [
        "train_wr = os.listdir(os.path.join(base_dir, 'train/wagonr') )\n",
        "val_wr  = os.listdir(os.path.join(base_dir, 'validation/wagonr') )\n",
        "test_wr  =  os.listdir(os.path.join(base_dir, 'test/wagonr') )\n",
        "print('Instances for Class Wagonr: Train {}, Validation {} Test {}'.format(len(train_swift), len(val_swift), len(test_swift)))"
      ],
      "execution_count": null,
      "outputs": [
        {
          "output_type": "stream",
          "text": [
            "Instances for Class Wagonr: Train 1200, Validation 400 Test 400\n"
          ],
          "name": "stdout"
        }
      ]
    },
    {
      "cell_type": "code",
      "metadata": {
        "trusted": true,
        "id": "jIOQg_7WGtrZ",
        "outputId": "0f186dc3-49ea-4b65-e736-95ffecacfab2"
      },
      "source": [
        "val_train = [x for x in val_wr if x in train_wr]\n",
        "test_train = [x for x in test_wr if x in train_wr]\n",
        "val_test =  [x for x in test_wr if x in val_wr]\n",
        "len(val_train), len(test_train), len(val_test)"
      ],
      "execution_count": null,
      "outputs": [
        {
          "output_type": "execute_result",
          "data": {
            "text/plain": [
              "(0, 0, 0)"
            ]
          },
          "metadata": {
            "tags": []
          },
          "execution_count": 30
        }
      ]
    },
    {
      "cell_type": "code",
      "metadata": {
        "trusted": true,
        "id": "13Oy0I5tGtrZ",
        "outputId": "8ddf1305-a6ce-4816-e3f9-0803a138cd8f"
      },
      "source": [
        "train_dir = os.path.join(base_dir, 'train')\n",
        "validation_dir = os.path.join(base_dir, 'validation' )\n",
        "\n",
        "transform = transforms.Compose( [                                  \n",
        "                                 transforms.Resize((150,150)), \n",
        "                                 transforms.ToTensor(),\n",
        "                                  ])\n",
        "\n",
        "trainset = torchvision.datasets.ImageFolder( root= train_dir ,\n",
        "                                              transform=transform\n",
        "                                               )\n",
        "\n",
        "trainloader = torch.utils.data.DataLoader(trainset, batch_size= 512 ,\n",
        "                                          shuffle=True, num_workers=1)\n",
        "mean, std = online_mean_and_sd(trainloader)\n",
        "print(mean, std)"
      ],
      "execution_count": null,
      "outputs": [
        {
          "output_type": "stream",
          "text": [
            "tensor([0.4508, 0.4365, 0.4216]) tensor([0.2561, 0.2542, 0.2592])\n"
          ],
          "name": "stdout"
        }
      ]
    },
    {
      "cell_type": "code",
      "metadata": {
        "trusted": true,
        "id": "FzzsQDGGGtra",
        "outputId": "3cce1c4f-ad6c-4898-bc0d-bbd4130956e2"
      },
      "source": [
        "BATCH_SIZE = 32\n",
        "transform = transforms.Compose( [                                  \n",
        "                                 transforms.Resize((150,150)), \n",
        "                                 transforms.ToTensor(),\n",
        "                                 transforms.Normalize(mean, std),\n",
        "                                  ])\n",
        "\n",
        "trainset = torchvision.datasets.ImageFolder( root= train_dir ,\n",
        "                                              transform=transform\n",
        "                                               )\n",
        "\n",
        "\n",
        "trainloader = torch.utils.data.DataLoader(trainset, batch_size= BATCH_SIZE,\n",
        "                                          shuffle=True, num_workers=1)\n",
        "\n",
        "\n",
        "validset = torchvision.datasets.ImageFolder( root= validation_dir ,\n",
        "                                              transform=transform\n",
        "                                               )\n",
        "\n",
        "\n",
        "validloader = torch.utils.data.DataLoader(validset , batch_size= BATCH_SIZE,\n",
        "                                          shuffle=True, num_workers=1)\n",
        "\n",
        "print(online_mean_and_sd(trainloader))"
      ],
      "execution_count": null,
      "outputs": [
        {
          "output_type": "stream",
          "text": [
            "(tensor([ 3.3543e-07, -1.8407e-06, -1.3698e-06]), tensor([1.0000, 1.0000, 1.0000]))\n"
          ],
          "name": "stdout"
        }
      ]
    },
    {
      "cell_type": "code",
      "metadata": {
        "trusted": true,
        "id": "T8NFzw4jGtra"
      },
      "source": [
        "class Net(nn.Module):\n",
        "    def __init__(self):\n",
        "        super(Net, self).__init__()\n",
        "        self.conv1 = nn.Conv2d(in_channels= 3, out_channels=16, kernel_size= 3)\n",
        "        self.pool = nn.MaxPool2d(kernel_size=2, stride= 2)\n",
        "        self.conv2 =  nn.Conv2d(in_channels= 16, out_channels= 32, kernel_size= 3)\n",
        "        self.conv3 =  nn.Conv2d(in_channels= 32, out_channels= 64, kernel_size= 3)\n",
        "        self.conv4 =  nn.Conv2d(in_channels= 64, out_channels= 128, kernel_size= 3)\n",
        "        self.fc1 = nn.Linear(128 * 7 * 7, 2048)\n",
        "        self.fc2 = nn.Linear(2048, 1024)\n",
        "        self.fc3 = nn.Linear(1024, 512)\n",
        "        self.fc4 = nn.Linear(512,64)\n",
        "        self.fc5 = nn.Linear(64, 2)\n",
        "\n",
        "    def forward(self, x):\n",
        "        x = self.pool(F.relu(self.conv1(x)))\n",
        "        x = self.pool(F.relu(self.conv2(x)))\n",
        "        x = self.pool(F.relu(self.conv3(x)))\n",
        "        x = self.pool(F.relu(self.conv4(x)))\n",
        "        x = nn.Dropout(p=0.3)(x)\n",
        "        x = x.view(-1, 128 * 7 * 7)\n",
        "        x = F.relu(self.fc1(x))\n",
        "        x = F.relu(self.fc2(x))\n",
        "        x = F.relu(self.fc3(x))\n",
        "        x = nn.Dropout(p=0.2)(x)\n",
        "        x = self.fc4(x)\n",
        "        x = torch.softmax(self.fc5(x),dim=1)\n",
        "        return x"
      ],
      "execution_count": null,
      "outputs": []
    },
    {
      "cell_type": "code",
      "metadata": {
        "trusted": true,
        "id": "2GMsXECfGtra"
      },
      "source": [
        "def train(model, epoch, train_loader, optimizer, criterion) :   \n",
        "    model.train()\n",
        "    epoch_loss = correct = 0\n",
        "    for i, data in enumerate(train_loader, 0):\n",
        "        inputs, labels = data[0].to(device), data[1].to(device)    \n",
        "        optimizer.zero_grad()\n",
        "        outputs = model(inputs)\n",
        "\n",
        "\n",
        "        loss =  criterion(outputs, labels)\n",
        "        \n",
        "\n",
        "        _, predicted = torch.max(outputs.data, 1)           \n",
        "\n",
        "\n",
        "        correct += (predicted == labels).sum().item()  \n",
        "\n",
        "        loss.backward()\n",
        "\n",
        "        optimizer.step() \n",
        "        \n",
        "        epoch_loss += outputs.shape[0] * loss.item()\n",
        "        \n",
        "    accuracy = correct / len(train_loader.dataset)\n",
        "    epoch_loss = epoch_loss / len(train_loader.dataset)\n",
        "    return epoch_loss, accuracy\n",
        "\n",
        "\n",
        "def test(model, epoch, test_loader, optimizer, criterion):\n",
        "    model.eval()\n",
        "    epoch_loss = correct = 0\n",
        "\n",
        "    with torch.no_grad():\n",
        "\n",
        "        for i, data in enumerate(test_loader, 0):\n",
        "            images, labels = data[0].to(device), data[1].to(device)\n",
        "\n",
        "            outputs = model(images)\n",
        "\n",
        "\n",
        "            loss =    criterion(outputs, labels)\n",
        "\n",
        "\n",
        "            _, predicted = torch.max(outputs.data, 1)           \n",
        "            correct += (predicted == labels).sum().item()  \n",
        "\n",
        "\n",
        "            epoch_loss += outputs.shape[0] * loss.item()\n",
        "\n",
        "    \n",
        "    accuracy = correct / len(test_loader.dataset)\n",
        "    epoch_loss = epoch_loss / len(test_loader.dataset)\n",
        "  \n",
        "    return epoch_loss, accuracy "
      ],
      "execution_count": null,
      "outputs": []
    },
    {
      "cell_type": "code",
      "metadata": {
        "trusted": true,
        "id": "nRWNy1z0Gtra",
        "outputId": "19f1ff34-3c5c-4d1a-ac49-a6be8afc470e"
      },
      "source": [
        "device = torch.device(\"cuda:0\" if torch.cuda.is_available() else \"cpu\")\n",
        "model = Net()\n",
        "model.to(device)\n",
        "\n",
        "\n",
        "criterion = nn.CrossEntropyLoss()\n",
        "optimizer = optim.RMSprop(model.parameters(), lr=0.0001)\n",
        "print('Divice: ',device)\n",
        "model\n"
      ],
      "execution_count": null,
      "outputs": [
        {
          "output_type": "stream",
          "text": [
            "Divice:  cuda:0\n"
          ],
          "name": "stdout"
        },
        {
          "output_type": "execute_result",
          "data": {
            "text/plain": [
              "Net(\n",
              "  (conv1): Conv2d(3, 16, kernel_size=(3, 3), stride=(1, 1))\n",
              "  (pool): MaxPool2d(kernel_size=2, stride=2, padding=0, dilation=1, ceil_mode=False)\n",
              "  (conv2): Conv2d(16, 32, kernel_size=(3, 3), stride=(1, 1))\n",
              "  (conv3): Conv2d(32, 64, kernel_size=(3, 3), stride=(1, 1))\n",
              "  (conv4): Conv2d(64, 128, kernel_size=(3, 3), stride=(1, 1))\n",
              "  (fc1): Linear(in_features=6272, out_features=2048, bias=True)\n",
              "  (fc2): Linear(in_features=2048, out_features=1024, bias=True)\n",
              "  (fc3): Linear(in_features=1024, out_features=512, bias=True)\n",
              "  (fc4): Linear(in_features=512, out_features=64, bias=True)\n",
              "  (fc5): Linear(in_features=64, out_features=2, bias=True)\n",
              ")"
            ]
          },
          "metadata": {
            "tags": []
          },
          "execution_count": 41
        }
      ]
    },
    {
      "cell_type": "code",
      "metadata": {
        "trusted": true,
        "id": "OOY_wsdiGtra",
        "outputId": "a5d2acf9-98b2-46e7-fe09-086817632ab9"
      },
      "source": [
        "%%time\n",
        "EPOCHS = 30\n",
        "\n",
        "\n",
        "train_list  = os.listdir(os.path.join(base_dir, 'train/swift') ) + os.listdir(os.path.join(base_dir, 'train/wagonr') )\n",
        "num_batches = math.ceil(len(train_list) / BATCH_SIZE)\n",
        "\n",
        "print('Number of Training samples {}, Batch Size {}, Num Batch {}'.format( len(train_list), BATCH_SIZE, num_batches ))\n",
        "\n",
        "history = defaultdict(list)\n",
        "\n",
        "\n",
        "for epoch in range( EPOCHS):  \n",
        "    timer_start()\n",
        "    print('[Epoch {} of {}]'.format(epoch +1, EPOCHS), end = ' ')\n",
        "    tr_loss, tr_acc = train(model, epoch, trainloader, optimizer, criterion)\n",
        "\n",
        "    val_loss, val_acc = test(model, epoch, validloader, optimizer, criterion)  \n",
        "    timer_end()\n",
        "    print('tr_loss: {:0.4f},tr_acc {:0.4f}| val_loss {:0.4f}, val_acc {:0.4f}'.format(tr_loss, tr_acc , val_loss, val_acc))\n",
        "    history['epoch'].append(epoch+1)\n",
        "    history['tr_loss'].append(round(tr_loss,5))\n",
        "    history['tr_acc'].append(round(tr_acc,5))\n",
        "    history['val_loss'].append(round(val_loss,5))\n",
        "    history['val_acc'].append(round(val_acc,5))\n"
      ],
      "execution_count": null,
      "outputs": [
        {
          "output_type": "stream",
          "text": [
            "Number of Training samples 2400, Batch Size 32, Num Batch 75\n",
            "[Epoch 1 of 30] Time elapsed 14.1s\n",
            "tr_loss: 0.6834,tr_acc 0.5687| val_loss 0.6429, val_acc 0.6462\n",
            "[Epoch 2 of 30] Time elapsed 13.2s\n",
            "tr_loss: 0.6343,tr_acc 0.6421| val_loss 0.6080, val_acc 0.6775\n",
            "[Epoch 3 of 30] Time elapsed 13.0s\n",
            "tr_loss: 0.5780,tr_acc 0.7229| val_loss 0.5823, val_acc 0.7125\n",
            "[Epoch 4 of 30] Time elapsed 13.8s\n",
            "tr_loss: 0.5366,tr_acc 0.7658| val_loss 0.5589, val_acc 0.7325\n",
            "[Epoch 5 of 30] Time elapsed 12.8s\n",
            "tr_loss: 0.4978,tr_acc 0.8017| val_loss 0.5211, val_acc 0.7750\n",
            "[Epoch 6 of 30] Time elapsed 14.8s\n",
            "tr_loss: 0.4720,tr_acc 0.8350| val_loss 0.5533, val_acc 0.7388\n",
            "[Epoch 7 of 30] Time elapsed 13.3s\n",
            "tr_loss: 0.4464,tr_acc 0.8608| val_loss 0.4993, val_acc 0.8037\n",
            "[Epoch 8 of 30] Time elapsed 14.4s\n",
            "tr_loss: 0.4286,tr_acc 0.8833| val_loss 0.4983, val_acc 0.8075\n",
            "[Epoch 9 of 30] Time elapsed 13.5s\n",
            "tr_loss: 0.4078,tr_acc 0.9050| val_loss 0.5277, val_acc 0.7775\n",
            "[Epoch 10 of 30] Time elapsed 13.9s\n",
            "tr_loss: 0.4068,tr_acc 0.9046| val_loss 0.5037, val_acc 0.7963\n",
            "[Epoch 11 of 30] Time elapsed 13.7s\n",
            "tr_loss: 0.3985,tr_acc 0.9104| val_loss 0.4616, val_acc 0.8500\n",
            "[Epoch 12 of 30] Time elapsed 13.0s\n",
            "tr_loss: 0.3719,tr_acc 0.9413| val_loss 0.4946, val_acc 0.8025\n",
            "[Epoch 13 of 30] Time elapsed 13.3s\n",
            "tr_loss: 0.3687,tr_acc 0.9429| val_loss 0.4908, val_acc 0.8087\n",
            "[Epoch 14 of 30] Time elapsed 12.7s\n",
            "tr_loss: 0.3619,tr_acc 0.9487| val_loss 0.4773, val_acc 0.8225\n",
            "[Epoch 15 of 30] Time elapsed 14.1s\n",
            "tr_loss: 0.3564,tr_acc 0.9558| val_loss 0.4771, val_acc 0.8287\n",
            "[Epoch 16 of 30] Time elapsed 13.4s\n",
            "tr_loss: 0.3526,tr_acc 0.9592| val_loss 0.5350, val_acc 0.7738\n",
            "[Epoch 17 of 30] Time elapsed 13.1s\n",
            "tr_loss: 0.3488,tr_acc 0.9625| val_loss 0.4665, val_acc 0.8350\n",
            "[Epoch 18 of 30] Time elapsed 13.2s\n",
            "tr_loss: 0.3467,tr_acc 0.9654| val_loss 0.4664, val_acc 0.8375\n",
            "[Epoch 19 of 30] Time elapsed 13.6s\n",
            "tr_loss: 0.3413,tr_acc 0.9712| val_loss 0.4619, val_acc 0.8512\n",
            "[Epoch 20 of 30] Time elapsed 12.9s\n",
            "tr_loss: 0.3371,tr_acc 0.9750| val_loss 0.4714, val_acc 0.8350\n",
            "[Epoch 21 of 30] Time elapsed 13.3s\n",
            "tr_loss: 0.3313,tr_acc 0.9817| val_loss 0.4825, val_acc 0.8213\n",
            "[Epoch 22 of 30] Time elapsed 13.4s\n",
            "tr_loss: 0.3388,tr_acc 0.9738| val_loss 0.4786, val_acc 0.8237\n",
            "[Epoch 23 of 30] Time elapsed 13.7s\n",
            "tr_loss: 0.3358,tr_acc 0.9754| val_loss 0.4880, val_acc 0.8200\n",
            "[Epoch 24 of 30] Time elapsed 13.5s\n",
            "tr_loss: 0.3327,tr_acc 0.9800| val_loss 0.4643, val_acc 0.8462\n",
            "[Epoch 25 of 30] Time elapsed 12.7s\n",
            "tr_loss: 0.3269,tr_acc 0.9854| val_loss 0.4748, val_acc 0.8325\n",
            "[Epoch 26 of 30] Time elapsed 12.9s\n",
            "tr_loss: 0.3371,tr_acc 0.9762| val_loss 0.4521, val_acc 0.8588\n",
            "[Epoch 27 of 30] Time elapsed 13.0s\n",
            "tr_loss: 0.3316,tr_acc 0.9804| val_loss 0.4650, val_acc 0.8413\n",
            "[Epoch 28 of 30] Time elapsed 13.7s\n",
            "tr_loss: 0.3260,tr_acc 0.9871| val_loss 0.4546, val_acc 0.8562\n",
            "[Epoch 29 of 30] Time elapsed 12.7s\n",
            "tr_loss: 0.3311,tr_acc 0.9821| val_loss 0.4600, val_acc 0.8462\n",
            "[Epoch 30 of 30] Time elapsed 13.0s\n",
            "tr_loss: 0.3244,tr_acc 0.9883| val_loss 0.4656, val_acc 0.8400\n",
            "CPU times: user 43.8 s, sys: 8.79 s, total: 52.6 s\n",
            "Wall time: 6min 41s\n"
          ],
          "name": "stdout"
        }
      ]
    },
    {
      "cell_type": "code",
      "metadata": {
        "trusted": true,
        "id": "CP0vjZuZGtra",
        "outputId": "623a3b16-1933-4601-9c5f-e3ace4202721"
      },
      "source": [
        "plot_results(history)\n",
        "best_epoch = get_best_epcoh(history)"
      ],
      "execution_count": null,
      "outputs": [
        {
          "output_type": "display_data",
          "data": {
            "text/plain": [
              "<Figure size 1728x432 with 2 Axes>"
            ],
            "image/png": "[encoded data removed]"
          },
          "metadata": {
            "tags": [],
            "needs_background": "light"
          }
        },
        {
          "output_type": "stream",
          "text": [
            "Best Validation Accuracy Score 0.85875, is for epoch 26\n"
          ],
          "name": "stdout"
        }
      ]
    }
  ]
}