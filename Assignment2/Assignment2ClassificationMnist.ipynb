{
 "cells": [
  {
   "cell_type": "code",
   "execution_count": 11,
   "metadata": {},
   "outputs": [],
   "source": [
    "import numpy as np # to handle matrix and data operation\n",
    "import pandas as pd # to read csv and handle dataframe\n",
    "\n",
    "import torch\n",
    "import torch.nn as nn\n",
    "import torch.nn.functional as F\n",
    "import torch.utils.data\n",
    "from torch.autograd import Variable\n",
    "\n",
    "from sklearn.model_selection import train_test_split"
   ]
  },
  {
   "cell_type": "code",
   "execution_count": 12,
   "metadata": {},
   "outputs": [
    {
     "name": "stdout",
     "output_type": "stream",
     "text": [
      "(42000, 785)\n"
     ]
    }
   ],
   "source": [
    "df = pd.read_csv('/Users/taraapple/Desktop/train.csv')\n",
    "print(df.shape)"
   ]
  },
  {
   "cell_type": "code",
   "execution_count": 13,
   "metadata": {},
   "outputs": [],
   "source": [
    "y = df['label'].values\n",
    "X = df.drop(['label'],1).values\n",
    "\n",
    "\n",
    "X_train, X_test, y_train, y_test = train_test_split(X, y, test_size=0.15)"
   ]
  },
  {
   "cell_type": "code",
   "execution_count": 14,
   "metadata": {},
   "outputs": [
    {
     "name": "stdout",
     "output_type": "stream",
     "text": [
      "(6300,)\n"
     ]
    }
   ],
   "source": [
    "print(y_test.shape)"
   ]
  },
  {
   "cell_type": "code",
   "execution_count": 15,
   "metadata": {},
   "outputs": [],
   "source": [
    "BATCH_SIZE = 32\n",
    "\n",
    "torch_X_train = torch.from_numpy(X_train).type(torch.LongTensor)\n",
    "torch_y_train = torch.from_numpy(y_train).type(torch.LongTensor) # data type is long\n",
    "\n",
    "# create feature and targets tensor for test set.\n",
    "torch_X_test = torch.from_numpy(X_test).type(torch.LongTensor)\n",
    "torch_y_test = torch.from_numpy(y_test).type(torch.LongTensor) # data type is long\n",
    "\n",
    "# Pytorch train and test sets\n",
    "train = torch.utils.data.TensorDataset(torch_X_train,torch_y_train)\n",
    "test = torch.utils.data.TensorDataset(torch_X_test,torch_y_test)\n",
    "\n",
    "# data loader\n",
    "train_loader = torch.utils.data.DataLoader(train, batch_size = BATCH_SIZE, shuffle = False)\n",
    "test_loader = torch.utils.data.DataLoader(test, batch_size = BATCH_SIZE, shuffle = False)"
   ]
  },
  {
   "cell_type": "code",
   "execution_count": 16,
   "metadata": {},
   "outputs": [
    {
     "name": "stdout",
     "output_type": "stream",
     "text": [
      "MLP(\n",
      "  (linear1): Linear(in_features=784, out_features=250, bias=True)\n",
      "  (linear2): Linear(in_features=250, out_features=100, bias=True)\n",
      "  (linear3): Linear(in_features=100, out_features=10, bias=True)\n",
      ")\n"
     ]
    }
   ],
   "source": [
    "class MLP(nn.Module):\n",
    "    def __init__(self):\n",
    "        super(MLP, self).__init__()\n",
    "        self.linear1 = nn.Linear(784,250)\n",
    "        self.linear2 = nn.Linear(250,100)\n",
    "        self.linear3 = nn.Linear(100,10)\n",
    "    \n",
    "    def forward(self,X):\n",
    "        X = F.relu(self.linear1(X))\n",
    "        X = F.relu(self.linear2(X))\n",
    "        X = self.linear3(X)\n",
    "        return F.log_softmax(X, dim=1)\n",
    " \n",
    "mlp = MLP()\n",
    "print(mlp)"
   ]
  },
  {
   "cell_type": "code",
   "execution_count": 17,
   "metadata": {},
   "outputs": [],
   "source": [
    "def fit(model, train_loader):\n",
    "    optimizer = torch.optim.Adam(model.parameters())#,lr=0.001, betas=(0.9,0.999))\n",
    "    error = nn.CrossEntropyLoss()\n",
    "    EPOCHS = 5\n",
    "    model.train()\n",
    "    for epoch in range(EPOCHS):\n",
    "        correct = 0\n",
    "        for batch_idx, (X_batch, y_batch) in enumerate(train_loader):\n",
    "            var_X_batch = Variable(X_batch).float()\n",
    "            var_y_batch = Variable(y_batch)\n",
    "            optimizer.zero_grad()\n",
    "            output = model(var_X_batch)\n",
    "            loss = error(output, var_y_batch)\n",
    "            loss.backward()\n",
    "            optimizer.step()\n",
    "\n",
    "            # Total correct predictions\n",
    "            predicted = torch.max(output.data, 1)[1] \n",
    "            correct += (predicted == var_y_batch).sum()\n",
    "            #print(correct)\n",
    "            if batch_idx % 50 == 0:\n",
    "                print('Epoch : {} [{}/{} ({:.0f}%)]\\tLoss: {:.6f}\\t Accuracy:{:.3f}%'.format(\n",
    "                    epoch, batch_idx*len(X_batch), len(train_loader.dataset), 100.*batch_idx / len(train_loader), loss.item(), float(correct*100) / float(BATCH_SIZE*(batch_idx+1))))\n",
    "                "
   ]
  },
  {
   "cell_type": "code",
   "execution_count": 18,
   "metadata": {},
   "outputs": [
    {
     "name": "stdout",
     "output_type": "stream",
     "text": [
      "Epoch : 0 [0/35700 (0%)]\tLoss: 10.092637\t Accuracy:9.375%\n",
      "Epoch : 0 [1600/35700 (4%)]\tLoss: 0.393456\t Accuracy:69.669%\n",
      "Epoch : 0 [3200/35700 (9%)]\tLoss: 0.408826\t Accuracy:77.692%\n",
      "Epoch : 0 [4800/35700 (13%)]\tLoss: 0.527875\t Accuracy:81.002%\n",
      "Epoch : 0 [6400/35700 (18%)]\tLoss: 0.545816\t Accuracy:82.991%\n",
      "Epoch : 0 [8000/35700 (22%)]\tLoss: 0.554889\t Accuracy:84.562%\n",
      "Epoch : 0 [9600/35700 (27%)]\tLoss: 0.109636\t Accuracy:85.569%\n",
      "Epoch : 0 [11200/35700 (31%)]\tLoss: 0.083980\t Accuracy:86.485%\n",
      "Epoch : 0 [12800/35700 (36%)]\tLoss: 0.082152\t Accuracy:87.071%\n",
      "Epoch : 0 [14400/35700 (40%)]\tLoss: 0.204077\t Accuracy:87.618%\n",
      "Epoch : 0 [16000/35700 (45%)]\tLoss: 0.206722\t Accuracy:87.918%\n",
      "Epoch : 0 [17600/35700 (49%)]\tLoss: 0.756245\t Accuracy:88.198%\n",
      "Epoch : 0 [19200/35700 (54%)]\tLoss: 0.221217\t Accuracy:88.722%\n",
      "Epoch : 0 [20800/35700 (58%)]\tLoss: 0.201075\t Accuracy:88.988%\n",
      "Epoch : 0 [22400/35700 (63%)]\tLoss: 0.284588\t Accuracy:89.274%\n",
      "Epoch : 0 [24000/35700 (67%)]\tLoss: 0.130226\t Accuracy:89.660%\n",
      "Epoch : 0 [25600/35700 (72%)]\tLoss: 0.031703\t Accuracy:89.876%\n",
      "Epoch : 0 [27200/35700 (76%)]\tLoss: 0.072811\t Accuracy:90.048%\n",
      "Epoch : 0 [28800/35700 (81%)]\tLoss: 0.289068\t Accuracy:90.181%\n",
      "Epoch : 0 [30400/35700 (85%)]\tLoss: 0.170390\t Accuracy:90.329%\n",
      "Epoch : 0 [32000/35700 (90%)]\tLoss: 0.274422\t Accuracy:90.444%\n",
      "Epoch : 0 [33600/35700 (94%)]\tLoss: 0.099716\t Accuracy:90.640%\n",
      "Epoch : 0 [35200/35700 (99%)]\tLoss: 0.302087\t Accuracy:90.809%\n",
      "Epoch : 1 [0/35700 (0%)]\tLoss: 0.194941\t Accuracy:93.750%\n",
      "Epoch : 1 [1600/35700 (4%)]\tLoss: 0.353640\t Accuracy:94.424%\n",
      "Epoch : 1 [3200/35700 (9%)]\tLoss: 0.104935\t Accuracy:94.833%\n",
      "Epoch : 1 [4800/35700 (13%)]\tLoss: 0.262437\t Accuracy:94.640%\n",
      "Epoch : 1 [6400/35700 (18%)]\tLoss: 0.247095\t Accuracy:94.652%\n",
      "Epoch : 1 [8000/35700 (22%)]\tLoss: 0.182729\t Accuracy:94.821%\n",
      "Epoch : 1 [9600/35700 (27%)]\tLoss: 0.027753\t Accuracy:94.840%\n",
      "Epoch : 1 [11200/35700 (31%)]\tLoss: 0.047511\t Accuracy:94.783%\n",
      "Epoch : 1 [12800/35700 (36%)]\tLoss: 0.084529\t Accuracy:94.755%\n",
      "Epoch : 1 [14400/35700 (40%)]\tLoss: 0.089115\t Accuracy:94.879%\n",
      "Epoch : 1 [16000/35700 (45%)]\tLoss: 0.059035\t Accuracy:94.804%\n",
      "Epoch : 1 [17600/35700 (49%)]\tLoss: 0.265086\t Accuracy:94.839%\n",
      "Epoch : 1 [19200/35700 (54%)]\tLoss: 0.057722\t Accuracy:94.977%\n",
      "Epoch : 1 [20800/35700 (58%)]\tLoss: 0.173324\t Accuracy:94.993%\n",
      "Epoch : 1 [22400/35700 (63%)]\tLoss: 0.181251\t Accuracy:95.038%\n",
      "Epoch : 1 [24000/35700 (67%)]\tLoss: 0.096341\t Accuracy:95.119%\n",
      "Epoch : 1 [25600/35700 (72%)]\tLoss: 0.029278\t Accuracy:95.158%\n",
      "Epoch : 1 [27200/35700 (76%)]\tLoss: 0.007456\t Accuracy:95.219%\n",
      "Epoch : 1 [28800/35700 (81%)]\tLoss: 0.136756\t Accuracy:95.252%\n",
      "Epoch : 1 [30400/35700 (85%)]\tLoss: 0.104563\t Accuracy:95.179%\n",
      "Epoch : 1 [32000/35700 (90%)]\tLoss: 0.098442\t Accuracy:95.170%\n",
      "Epoch : 1 [33600/35700 (94%)]\tLoss: 0.228054\t Accuracy:95.192%\n",
      "Epoch : 1 [35200/35700 (99%)]\tLoss: 0.499478\t Accuracy:95.203%\n",
      "Epoch : 2 [0/35700 (0%)]\tLoss: 0.199084\t Accuracy:93.750%\n",
      "Epoch : 2 [1600/35700 (4%)]\tLoss: 0.156571\t Accuracy:94.792%\n",
      "Epoch : 2 [3200/35700 (9%)]\tLoss: 0.076272\t Accuracy:95.545%\n",
      "Epoch : 2 [4800/35700 (13%)]\tLoss: 0.167684\t Accuracy:95.344%\n",
      "Epoch : 2 [6400/35700 (18%)]\tLoss: 0.265237\t Accuracy:95.569%\n",
      "Epoch : 2 [8000/35700 (22%)]\tLoss: 0.150824\t Accuracy:95.804%\n",
      "Epoch : 2 [9600/35700 (27%)]\tLoss: 0.005781\t Accuracy:95.868%\n",
      "Epoch : 2 [11200/35700 (31%)]\tLoss: 0.027475\t Accuracy:96.002%\n",
      "Epoch : 2 [12800/35700 (36%)]\tLoss: 0.058067\t Accuracy:95.955%\n",
      "Epoch : 2 [14400/35700 (40%)]\tLoss: 0.016499\t Accuracy:96.092%\n",
      "Epoch : 2 [16000/35700 (45%)]\tLoss: 0.211441\t Accuracy:96.020%\n",
      "Epoch : 2 [17600/35700 (49%)]\tLoss: 0.180325\t Accuracy:96.024%\n",
      "Epoch : 2 [19200/35700 (54%)]\tLoss: 0.046271\t Accuracy:96.017%\n",
      "Epoch : 2 [20800/35700 (58%)]\tLoss: 0.009585\t Accuracy:96.131%\n",
      "Epoch : 2 [22400/35700 (63%)]\tLoss: 0.374576\t Accuracy:96.153%\n",
      "Epoch : 2 [24000/35700 (67%)]\tLoss: 0.032161\t Accuracy:96.230%\n",
      "Epoch : 2 [25600/35700 (72%)]\tLoss: 0.002020\t Accuracy:96.255%\n",
      "Epoch : 2 [27200/35700 (76%)]\tLoss: 0.032445\t Accuracy:96.221%\n",
      "Epoch : 2 [28800/35700 (81%)]\tLoss: 0.156731\t Accuracy:96.202%\n",
      "Epoch : 2 [30400/35700 (85%)]\tLoss: 0.199851\t Accuracy:96.162%\n",
      "Epoch : 2 [32000/35700 (90%)]\tLoss: 0.144487\t Accuracy:96.091%\n",
      "Epoch : 2 [33600/35700 (94%)]\tLoss: 0.153784\t Accuracy:96.063%\n",
      "Epoch : 2 [35200/35700 (99%)]\tLoss: 0.373083\t Accuracy:96.066%\n",
      "Epoch : 3 [0/35700 (0%)]\tLoss: 0.062211\t Accuracy:100.000%\n",
      "Epoch : 3 [1600/35700 (4%)]\tLoss: 0.266305\t Accuracy:96.017%\n",
      "Epoch : 3 [3200/35700 (9%)]\tLoss: 0.034770\t Accuracy:96.380%\n",
      "Epoch : 3 [4800/35700 (13%)]\tLoss: 0.014492\t Accuracy:96.296%\n",
      "Epoch : 3 [6400/35700 (18%)]\tLoss: 0.170426\t Accuracy:96.206%\n",
      "Epoch : 3 [8000/35700 (22%)]\tLoss: 0.010056\t Accuracy:96.427%\n",
      "Epoch : 3 [9600/35700 (27%)]\tLoss: 0.015250\t Accuracy:96.387%\n",
      "Epoch : 3 [11200/35700 (31%)]\tLoss: 0.026733\t Accuracy:96.581%\n",
      "Epoch : 3 [12800/35700 (36%)]\tLoss: 0.194107\t Accuracy:96.540%\n",
      "Epoch : 3 [14400/35700 (40%)]\tLoss: 0.063943\t Accuracy:96.584%\n",
      "Epoch : 3 [16000/35700 (45%)]\tLoss: 0.017264\t Accuracy:96.551%\n",
      "Epoch : 3 [17600/35700 (49%)]\tLoss: 0.094026\t Accuracy:96.552%\n",
      "Epoch : 3 [19200/35700 (54%)]\tLoss: 0.059852\t Accuracy:96.579%\n",
      "Epoch : 3 [20800/35700 (58%)]\tLoss: 0.070095\t Accuracy:96.592%\n",
      "Epoch : 3 [22400/35700 (63%)]\tLoss: 0.059922\t Accuracy:96.563%\n",
      "Epoch : 3 [24000/35700 (67%)]\tLoss: 0.029058\t Accuracy:96.638%\n",
      "Epoch : 3 [25600/35700 (72%)]\tLoss: 0.016842\t Accuracy:96.676%\n",
      "Epoch : 3 [27200/35700 (76%)]\tLoss: 0.002763\t Accuracy:96.662%\n",
      "Epoch : 3 [28800/35700 (81%)]\tLoss: 0.263713\t Accuracy:96.622%\n",
      "Epoch : 3 [30400/35700 (85%)]\tLoss: 0.110030\t Accuracy:96.589%\n",
      "Epoch : 3 [32000/35700 (90%)]\tLoss: 0.196450\t Accuracy:96.553%\n",
      "Epoch : 3 [33600/35700 (94%)]\tLoss: 0.036040\t Accuracy:96.587%\n",
      "Epoch : 3 [35200/35700 (99%)]\tLoss: 0.193279\t Accuracy:96.608%\n",
      "Epoch : 4 [0/35700 (0%)]\tLoss: 0.160962\t Accuracy:96.875%\n",
      "Epoch : 4 [1600/35700 (4%)]\tLoss: 0.024254\t Accuracy:96.385%\n",
      "Epoch : 4 [3200/35700 (9%)]\tLoss: 0.082501\t Accuracy:96.813%\n",
      "Epoch : 4 [4800/35700 (13%)]\tLoss: 0.369779\t Accuracy:96.689%\n",
      "Epoch : 4 [6400/35700 (18%)]\tLoss: 0.260483\t Accuracy:96.502%\n",
      "Epoch : 4 [8000/35700 (22%)]\tLoss: 0.330563\t Accuracy:96.601%\n",
      "Epoch : 4 [9600/35700 (27%)]\tLoss: 0.001278\t Accuracy:96.688%\n",
      "Epoch : 4 [11200/35700 (31%)]\tLoss: 0.018302\t Accuracy:96.902%\n",
      "Epoch : 4 [12800/35700 (36%)]\tLoss: 0.005844\t Accuracy:96.852%\n",
      "Epoch : 4 [14400/35700 (40%)]\tLoss: 0.020106\t Accuracy:96.903%\n",
      "Epoch : 4 [16000/35700 (45%)]\tLoss: 0.003161\t Accuracy:96.919%\n",
      "Epoch : 4 [17600/35700 (49%)]\tLoss: 0.647736\t Accuracy:96.892%\n",
      "Epoch : 4 [19200/35700 (54%)]\tLoss: 0.108937\t Accuracy:96.948%\n",
      "Epoch : 4 [20800/35700 (58%)]\tLoss: 0.031843\t Accuracy:96.995%\n",
      "Epoch : 4 [22400/35700 (63%)]\tLoss: 0.133328\t Accuracy:97.004%\n",
      "Epoch : 4 [24000/35700 (67%)]\tLoss: 0.170598\t Accuracy:97.033%\n",
      "Epoch : 4 [25600/35700 (72%)]\tLoss: 0.023785\t Accuracy:97.035%\n",
      "Epoch : 4 [27200/35700 (76%)]\tLoss: 0.132546\t Accuracy:97.062%\n",
      "Epoch : 4 [28800/35700 (81%)]\tLoss: 0.151278\t Accuracy:97.021%\n",
      "Epoch : 4 [30400/35700 (85%)]\tLoss: 0.219752\t Accuracy:96.997%\n",
      "Epoch : 4 [32000/35700 (90%)]\tLoss: 0.067172\t Accuracy:97.000%\n",
      "Epoch : 4 [33600/35700 (94%)]\tLoss: 0.016658\t Accuracy:97.033%\n",
      "Epoch : 4 [35200/35700 (99%)]\tLoss: 0.184146\t Accuracy:97.023%\n"
     ]
    }
   ],
   "source": [
    "fit(mlp, train_loader)"
   ]
  },
  {
   "cell_type": "code",
   "execution_count": 19,
   "metadata": {},
   "outputs": [
    {
     "name": "stdout",
     "output_type": "stream",
     "text": [
      "Test accuracy:0.955% \n"
     ]
    }
   ],
   "source": [
    "def evaluate(model):\n",
    "#model = mlp\n",
    "    correct = 0 \n",
    "    for test_imgs, test_labels in test_loader:\n",
    "        #print(test_imgs.shape)\n",
    "        test_imgs = Variable(test_imgs).float()\n",
    "        output = model(test_imgs)\n",
    "        predicted = torch.max(output,1)[1]\n",
    "        correct += (predicted == test_labels).sum()\n",
    "    print(\"Test accuracy:{:.3f}% \".format( float(correct) / (len(test_loader)*BATCH_SIZE)))\n",
    "evaluate(mlp)"
   ]
  },
  {
   "cell_type": "code",
   "execution_count": 20,
   "metadata": {},
   "outputs": [
    {
     "name": "stdout",
     "output_type": "stream",
     "text": [
      "torch.Size([35700, 1, 28, 28])\n",
      "torch.Size([6300, 1, 28, 28])\n"
     ]
    }
   ],
   "source": [
    "torch_X_train = torch_X_train.view(-1, 1,28,28).float()\n",
    "torch_X_test = torch_X_test.view(-1,1,28,28).float()\n",
    "print(torch_X_train.shape)\n",
    "print(torch_X_test.shape)\n",
    "\n",
    "# Pytorch train and test sets\n",
    "train = torch.utils.data.TensorDataset(torch_X_train,torch_y_train)\n",
    "test = torch.utils.data.TensorDataset(torch_X_test,torch_y_test)\n",
    "\n",
    "# data loader\n",
    "train_loader = torch.utils.data.DataLoader(train, batch_size = BATCH_SIZE, shuffle = False)\n",
    "test_loader = torch.utils.data.DataLoader(test, batch_size = BATCH_SIZE, shuffle = False)"
   ]
  },
  {
   "cell_type": "code",
   "execution_count": 21,
   "metadata": {},
   "outputs": [
    {
     "name": "stdout",
     "output_type": "stream",
     "text": [
      "CNN(\n",
      "  (conv1): Conv2d(1, 32, kernel_size=(5, 5), stride=(1, 1))\n",
      "  (conv2): Conv2d(32, 32, kernel_size=(5, 5), stride=(1, 1))\n",
      "  (conv3): Conv2d(32, 64, kernel_size=(5, 5), stride=(1, 1))\n",
      "  (fc1): Linear(in_features=576, out_features=256, bias=True)\n",
      "  (fc2): Linear(in_features=256, out_features=10, bias=True)\n",
      ")\n",
      "torch.Size([32, 10])\n"
     ]
    }
   ],
   "source": [
    "class CNN(nn.Module):\n",
    "    def __init__(self):\n",
    "        super(CNN, self).__init__()\n",
    "        self.conv1 = nn.Conv2d(1, 32, kernel_size=5)\n",
    "        self.conv2 = nn.Conv2d(32, 32, kernel_size=5)\n",
    "        self.conv3 = nn.Conv2d(32,64, kernel_size=5)\n",
    "        self.fc1 = nn.Linear(3*3*64, 256)\n",
    "        self.fc2 = nn.Linear(256, 10)\n",
    "\n",
    "    def forward(self, x):\n",
    "        x = F.relu(self.conv1(x))\n",
    "        #x = F.dropout(x, p=0.5, training=self.training)\n",
    "        x = F.relu(F.max_pool2d(self.conv2(x), 2))\n",
    "        x = F.dropout(x, p=0.5, training=self.training)\n",
    "        x = F.relu(F.max_pool2d(self.conv3(x),2))\n",
    "        x = F.dropout(x, p=0.5, training=self.training)\n",
    "        x = x.view(-1,3*3*64 )\n",
    "        x = F.relu(self.fc1(x))\n",
    "        x = F.dropout(x, training=self.training)\n",
    "        x = self.fc2(x)\n",
    "        return F.log_softmax(x, dim=1)\n",
    " \n",
    "cnn = CNN()\n",
    "print(cnn)\n",
    "\n",
    "it = iter(train_loader)\n",
    "X_batch, y_batch = next(it)\n",
    "print(cnn.forward(X_batch).shape)"
   ]
  },
  {
   "cell_type": "code",
   "execution_count": 22,
   "metadata": {},
   "outputs": [
    {
     "name": "stdout",
     "output_type": "stream",
     "text": [
      "Epoch : 0 [0/35700 (0%)]\tLoss: 21.994940\t Accuracy:9.375%\n",
      "Epoch : 0 [1600/35700 (4%)]\tLoss: 2.122579\t Accuracy:15.686%\n",
      "Epoch : 0 [3200/35700 (9%)]\tLoss: 0.940327\t Accuracy:29.115%\n",
      "Epoch : 0 [4800/35700 (13%)]\tLoss: 1.053328\t Accuracy:42.136%\n",
      "Epoch : 0 [6400/35700 (18%)]\tLoss: 0.833530\t Accuracy:51.011%\n",
      "Epoch : 0 [8000/35700 (22%)]\tLoss: 0.741710\t Accuracy:57.134%\n",
      "Epoch : 0 [9600/35700 (27%)]\tLoss: 0.429058\t Accuracy:61.628%\n",
      "Epoch : 0 [11200/35700 (31%)]\tLoss: 0.206912\t Accuracy:64.984%\n",
      "Epoch : 0 [12800/35700 (36%)]\tLoss: 0.396779\t Accuracy:67.573%\n",
      "Epoch : 0 [14400/35700 (40%)]\tLoss: 0.216545\t Accuracy:69.886%\n",
      "Epoch : 0 [16000/35700 (45%)]\tLoss: 0.365804\t Accuracy:71.644%\n",
      "Epoch : 0 [17600/35700 (49%)]\tLoss: 0.168453\t Accuracy:73.344%\n",
      "Epoch : 0 [19200/35700 (54%)]\tLoss: 0.254368\t Accuracy:74.813%\n",
      "Epoch : 0 [20800/35700 (58%)]\tLoss: 0.402496\t Accuracy:75.845%\n",
      "Epoch : 0 [22400/35700 (63%)]\tLoss: 0.420994\t Accuracy:76.877%\n",
      "Epoch : 0 [24000/35700 (67%)]\tLoss: 0.547721\t Accuracy:77.830%\n",
      "Epoch : 0 [25600/35700 (72%)]\tLoss: 0.102174\t Accuracy:78.671%\n",
      "Epoch : 0 [27200/35700 (76%)]\tLoss: 0.166650\t Accuracy:79.363%\n",
      "Epoch : 0 [28800/35700 (81%)]\tLoss: 0.237516\t Accuracy:80.033%\n",
      "Epoch : 0 [30400/35700 (85%)]\tLoss: 0.091788\t Accuracy:80.636%\n",
      "Epoch : 0 [32000/35700 (90%)]\tLoss: 0.319550\t Accuracy:81.184%\n",
      "Epoch : 0 [33600/35700 (94%)]\tLoss: 0.426301\t Accuracy:81.738%\n",
      "Epoch : 0 [35200/35700 (99%)]\tLoss: 0.199281\t Accuracy:82.187%\n",
      "Epoch : 1 [0/35700 (0%)]\tLoss: 0.385746\t Accuracy:90.625%\n",
      "Epoch : 1 [1600/35700 (4%)]\tLoss: 0.204817\t Accuracy:92.279%\n",
      "Epoch : 1 [3200/35700 (9%)]\tLoss: 0.068039\t Accuracy:91.925%\n",
      "Epoch : 1 [4800/35700 (13%)]\tLoss: 0.370889\t Accuracy:91.701%\n",
      "Epoch : 1 [6400/35700 (18%)]\tLoss: 0.200831\t Accuracy:91.651%\n",
      "Epoch : 1 [8000/35700 (22%)]\tLoss: 0.192477\t Accuracy:91.795%\n",
      "Epoch : 1 [9600/35700 (27%)]\tLoss: 0.050129\t Accuracy:91.757%\n",
      "Epoch : 1 [11200/35700 (31%)]\tLoss: 0.208392\t Accuracy:91.818%\n",
      "Epoch : 1 [12800/35700 (36%)]\tLoss: 0.191796\t Accuracy:91.997%\n",
      "Epoch : 1 [14400/35700 (40%)]\tLoss: 0.033655\t Accuracy:92.087%\n",
      "Epoch : 1 [16000/35700 (45%)]\tLoss: 0.388452\t Accuracy:92.078%\n",
      "Epoch : 1 [17600/35700 (49%)]\tLoss: 0.161397\t Accuracy:92.145%\n",
      "Epoch : 1 [19200/35700 (54%)]\tLoss: 0.152194\t Accuracy:92.247%\n",
      "Epoch : 1 [20800/35700 (58%)]\tLoss: 0.194623\t Accuracy:92.372%\n",
      "Epoch : 1 [22400/35700 (63%)]\tLoss: 0.551723\t Accuracy:92.430%\n",
      "Epoch : 1 [24000/35700 (67%)]\tLoss: 0.089355\t Accuracy:92.593%\n",
      "Epoch : 1 [25600/35700 (72%)]\tLoss: 0.034843\t Accuracy:92.767%\n",
      "Epoch : 1 [27200/35700 (76%)]\tLoss: 0.110927\t Accuracy:92.803%\n",
      "Epoch : 1 [28800/35700 (81%)]\tLoss: 0.162596\t Accuracy:92.883%\n",
      "Epoch : 1 [30400/35700 (85%)]\tLoss: 0.135627\t Accuracy:92.915%\n",
      "Epoch : 1 [32000/35700 (90%)]\tLoss: 0.195230\t Accuracy:92.920%\n",
      "Epoch : 1 [33600/35700 (94%)]\tLoss: 0.024101\t Accuracy:93.027%\n",
      "Epoch : 1 [35200/35700 (99%)]\tLoss: 0.737699\t Accuracy:93.072%\n",
      "Epoch : 2 [0/35700 (0%)]\tLoss: 0.354469\t Accuracy:93.750%\n",
      "Epoch : 2 [1600/35700 (4%)]\tLoss: 0.038600\t Accuracy:93.566%\n",
      "Epoch : 2 [3200/35700 (9%)]\tLoss: 0.205493\t Accuracy:94.121%\n",
      "Epoch : 2 [4800/35700 (13%)]\tLoss: 0.080687\t Accuracy:94.143%\n",
      "Epoch : 2 [6400/35700 (18%)]\tLoss: 0.081841\t Accuracy:94.014%\n",
      "Epoch : 2 [8000/35700 (22%)]\tLoss: 0.082931\t Accuracy:94.136%\n",
      "Epoch : 2 [9600/35700 (27%)]\tLoss: 0.028835\t Accuracy:94.093%\n",
      "Epoch : 2 [11200/35700 (31%)]\tLoss: 0.033164\t Accuracy:94.115%\n",
      "Epoch : 2 [12800/35700 (36%)]\tLoss: 0.303735\t Accuracy:93.960%\n",
      "Epoch : 2 [14400/35700 (40%)]\tLoss: 0.154246\t Accuracy:94.013%\n",
      "Epoch : 2 [16000/35700 (45%)]\tLoss: 0.102754\t Accuracy:94.024%\n",
      "Epoch : 2 [17600/35700 (49%)]\tLoss: 0.169543\t Accuracy:94.079%\n",
      "Epoch : 2 [19200/35700 (54%)]\tLoss: 0.163788\t Accuracy:94.156%\n",
      "Epoch : 2 [20800/35700 (58%)]\tLoss: 0.242214\t Accuracy:94.139%\n",
      "Epoch : 2 [22400/35700 (63%)]\tLoss: 0.250969\t Accuracy:94.129%\n",
      "Epoch : 2 [24000/35700 (67%)]\tLoss: 0.252192\t Accuracy:94.287%\n",
      "Epoch : 2 [25600/35700 (72%)]\tLoss: 0.106332\t Accuracy:94.327%\n",
      "Epoch : 2 [27200/35700 (76%)]\tLoss: 0.079005\t Accuracy:94.396%\n",
      "Epoch : 2 [28800/35700 (81%)]\tLoss: 0.086362\t Accuracy:94.451%\n",
      "Epoch : 2 [30400/35700 (85%)]\tLoss: 0.201370\t Accuracy:94.499%\n",
      "Epoch : 2 [32000/35700 (90%)]\tLoss: 0.223690\t Accuracy:94.481%\n",
      "Epoch : 2 [33600/35700 (94%)]\tLoss: 0.101862\t Accuracy:94.487%\n",
      "Epoch : 2 [35200/35700 (99%)]\tLoss: 0.150630\t Accuracy:94.502%\n",
      "Epoch : 3 [0/35700 (0%)]\tLoss: 0.153298\t Accuracy:96.875%\n",
      "Epoch : 3 [1600/35700 (4%)]\tLoss: 0.254186\t Accuracy:94.669%\n",
      "Epoch : 3 [3200/35700 (9%)]\tLoss: 0.204330\t Accuracy:94.647%\n",
      "Epoch : 3 [4800/35700 (13%)]\tLoss: 0.157906\t Accuracy:94.247%\n",
      "Epoch : 3 [6400/35700 (18%)]\tLoss: 0.057272\t Accuracy:94.045%\n",
      "Epoch : 3 [8000/35700 (22%)]\tLoss: 0.110168\t Accuracy:94.011%\n",
      "Epoch : 3 [9600/35700 (27%)]\tLoss: 0.031041\t Accuracy:93.958%\n",
      "Epoch : 3 [11200/35700 (31%)]\tLoss: 0.063385\t Accuracy:94.088%\n",
      "Epoch : 3 [12800/35700 (36%)]\tLoss: 0.292741\t Accuracy:94.155%\n",
      "Epoch : 3 [14400/35700 (40%)]\tLoss: 0.047507\t Accuracy:94.263%\n",
      "Epoch : 3 [16000/35700 (45%)]\tLoss: 0.410815\t Accuracy:94.324%\n",
      "Epoch : 3 [17600/35700 (49%)]\tLoss: 0.016621\t Accuracy:94.436%\n",
      "Epoch : 3 [19200/35700 (54%)]\tLoss: 0.182255\t Accuracy:94.551%\n",
      "Epoch : 3 [20800/35700 (58%)]\tLoss: 0.168625\t Accuracy:94.624%\n",
      "Epoch : 3 [22400/35700 (63%)]\tLoss: 0.090756\t Accuracy:94.588%\n",
      "Epoch : 3 [24000/35700 (67%)]\tLoss: 0.502539\t Accuracy:94.665%\n",
      "Epoch : 3 [25600/35700 (72%)]\tLoss: 0.029089\t Accuracy:94.694%\n",
      "Epoch : 3 [27200/35700 (76%)]\tLoss: 0.061324\t Accuracy:94.719%\n",
      "Epoch : 3 [28800/35700 (81%)]\tLoss: 0.098488\t Accuracy:94.732%\n",
      "Epoch : 3 [30400/35700 (85%)]\tLoss: 0.045323\t Accuracy:94.772%\n",
      "Epoch : 3 [32000/35700 (90%)]\tLoss: 0.160057\t Accuracy:94.793%\n",
      "Epoch : 3 [33600/35700 (94%)]\tLoss: 0.075270\t Accuracy:94.779%\n",
      "Epoch : 3 [35200/35700 (99%)]\tLoss: 0.183042\t Accuracy:94.760%\n",
      "Epoch : 4 [0/35700 (0%)]\tLoss: 0.261369\t Accuracy:93.750%\n",
      "Epoch : 4 [1600/35700 (4%)]\tLoss: 0.196888\t Accuracy:95.098%\n",
      "Epoch : 4 [3200/35700 (9%)]\tLoss: 0.057282\t Accuracy:95.111%\n",
      "Epoch : 4 [4800/35700 (13%)]\tLoss: 0.268749\t Accuracy:95.199%\n",
      "Epoch : 4 [6400/35700 (18%)]\tLoss: 0.309641\t Accuracy:94.994%\n",
      "Epoch : 4 [8000/35700 (22%)]\tLoss: 0.233876\t Accuracy:94.895%\n",
      "Epoch : 4 [9600/35700 (27%)]\tLoss: 0.013347\t Accuracy:94.882%\n",
      "Epoch : 4 [11200/35700 (31%)]\tLoss: 0.247722\t Accuracy:94.872%\n",
      "Epoch : 4 [12800/35700 (36%)]\tLoss: 0.125543\t Accuracy:94.748%\n",
      "Epoch : 4 [14400/35700 (40%)]\tLoss: 0.108716\t Accuracy:94.935%\n",
      "Epoch : 4 [16000/35700 (45%)]\tLoss: 0.162071\t Accuracy:94.742%\n",
      "Epoch : 4 [17600/35700 (49%)]\tLoss: 0.063757\t Accuracy:94.686%\n",
      "Epoch : 4 [19200/35700 (54%)]\tLoss: 0.164629\t Accuracy:94.733%\n",
      "Epoch : 4 [20800/35700 (58%)]\tLoss: 0.385234\t Accuracy:94.772%\n",
      "Epoch : 4 [22400/35700 (63%)]\tLoss: 0.415633\t Accuracy:94.691%\n",
      "Epoch : 4 [24000/35700 (67%)]\tLoss: 0.212069\t Accuracy:94.740%\n",
      "Epoch : 4 [25600/35700 (72%)]\tLoss: 0.010557\t Accuracy:94.737%\n",
      "Epoch : 4 [27200/35700 (76%)]\tLoss: 0.158313\t Accuracy:94.815%\n",
      "Epoch : 4 [28800/35700 (81%)]\tLoss: 0.120465\t Accuracy:94.804%\n",
      "Epoch : 4 [30400/35700 (85%)]\tLoss: 0.102523\t Accuracy:94.811%\n",
      "Epoch : 4 [32000/35700 (90%)]\tLoss: 0.298458\t Accuracy:94.865%\n",
      "Epoch : 4 [33600/35700 (94%)]\tLoss: 0.462866\t Accuracy:94.874%\n",
      "Epoch : 4 [35200/35700 (99%)]\tLoss: 0.190225\t Accuracy:94.905%\n"
     ]
    }
   ],
   "source": [
    "fit(cnn,train_loader)"
   ]
  },
  {
   "cell_type": "code",
   "execution_count": 23,
   "metadata": {},
   "outputs": [
    {
     "name": "stdout",
     "output_type": "stream",
     "text": [
      "Test accuracy:0.954% \n"
     ]
    }
   ],
   "source": [
    "evaluate(cnn)"
   ]
  },
  {
   "cell_type": "code",
   "execution_count": null,
   "metadata": {},
   "outputs": [],
   "source": []
  }
 ],
 "metadata": {
  "kernelspec": {
   "display_name": "Python 3",
   "language": "python",
   "name": "python3"
  },
  "language_info": {
   "codemirror_mode": {
    "name": "ipython",
    "version": 3
   },
   "file_extension": ".py",
   "mimetype": "text/x-python",
   "name": "python",
   "nbconvert_exporter": "python",
   "pygments_lexer": "ipython3",
   "version": "3.7.6"
  }
 },
 "nbformat": 4,
 "nbformat_minor": 4
}
