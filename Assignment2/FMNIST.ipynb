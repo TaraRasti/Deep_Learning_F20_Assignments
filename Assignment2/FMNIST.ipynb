{
 "cells": [
  {
   "cell_type": "code",
   "execution_count": 1,
   "metadata": {},
   "outputs": [],
   "source": [
    "import numpy as np\n",
    "import pandas as pd \n",
    "\n",
    "import torch\n",
    "import torch.nn as nn\n",
    "import torch.nn.functional as F\n",
    "import torch.utils.data\n",
    "from torch.autograd import Variable\n",
    "\n",
    "from sklearn.model_selection import train_test_split"
   ]
  },
  {
   "cell_type": "code",
   "execution_count": 2,
   "metadata": {},
   "outputs": [
    {
     "name": "stdout",
     "output_type": "stream",
     "text": [
      "(60000, 785)\n"
     ]
    }
   ],
   "source": [
    "train = pd.read_csv('/Users/taraapple/Desktop/fashion-mnist_train.csv')\n",
    "print(train.shape)"
   ]
  },
  {
   "cell_type": "code",
   "execution_count": 3,
   "metadata": {},
   "outputs": [
    {
     "name": "stdout",
     "output_type": "stream",
     "text": [
      "(10000, 785)\n"
     ]
    }
   ],
   "source": [
    "test = pd.read_csv('/Users/taraapple/Desktop/fashion-mnist_test.csv')\n",
    "print(test.shape)"
   ]
  },
  {
   "cell_type": "code",
   "execution_count": 4,
   "metadata": {},
   "outputs": [],
   "source": [
    "y_train = train['label'].values\n",
    "X_train = train.drop(['label'],1).values"
   ]
  },
  {
   "cell_type": "code",
   "execution_count": 5,
   "metadata": {},
   "outputs": [],
   "source": [
    "y_test = test['label'].values\n",
    "X_test = test.drop(['label'],1).values"
   ]
  },
  {
   "cell_type": "code",
   "execution_count": 6,
   "metadata": {},
   "outputs": [
    {
     "name": "stdout",
     "output_type": "stream",
     "text": [
      "(10000,)\n"
     ]
    }
   ],
   "source": [
    "print(y_test.shape)"
   ]
  },
  {
   "cell_type": "code",
   "execution_count": 7,
   "metadata": {},
   "outputs": [
    {
     "name": "stdout",
     "output_type": "stream",
     "text": [
      "(10000, 784)\n"
     ]
    }
   ],
   "source": [
    "print(X_test.shape)"
   ]
  },
  {
   "cell_type": "code",
   "execution_count": 8,
   "metadata": {},
   "outputs": [
    {
     "name": "stdout",
     "output_type": "stream",
     "text": [
      "(60000,)\n"
     ]
    }
   ],
   "source": [
    "print(y_train.shape)"
   ]
  },
  {
   "cell_type": "code",
   "execution_count": 9,
   "metadata": {},
   "outputs": [
    {
     "name": "stdout",
     "output_type": "stream",
     "text": [
      "(60000, 784)\n"
     ]
    }
   ],
   "source": [
    "print(X_train.shape)"
   ]
  },
  {
   "cell_type": "code",
   "execution_count": 10,
   "metadata": {},
   "outputs": [],
   "source": [
    "BATCH_SIZE = 32\n",
    "\n",
    "torch_X_train = torch.from_numpy(X_train).type(torch.LongTensor)\n",
    "torch_y_train = torch.from_numpy(y_train).type(torch.LongTensor) # data type is long\n",
    "\n",
    "# create feature and targets tensor for test set.\n",
    "torch_X_test = torch.from_numpy(X_test).type(torch.LongTensor)\n",
    "torch_y_test = torch.from_numpy(y_test).type(torch.LongTensor) # data type is long\n",
    "\n",
    "# Pytorch train and test sets\n",
    "train = torch.utils.data.TensorDataset(torch_X_train,torch_y_train)\n",
    "test = torch.utils.data.TensorDataset(torch_X_test,torch_y_test)\n",
    "\n",
    "# data loader\n",
    "train_loader = torch.utils.data.DataLoader(train, batch_size = BATCH_SIZE, shuffle = False)\n",
    "test_loader = torch.utils.data.DataLoader(test, batch_size = BATCH_SIZE, shuffle = False)"
   ]
  },
  {
   "cell_type": "code",
   "execution_count": 11,
   "metadata": {},
   "outputs": [
    {
     "name": "stdout",
     "output_type": "stream",
     "text": [
      "MLP(\n",
      "  (linear1): Linear(in_features=784, out_features=250, bias=True)\n",
      "  (linear2): Linear(in_features=250, out_features=100, bias=True)\n",
      "  (linear3): Linear(in_features=100, out_features=10, bias=True)\n",
      ")\n"
     ]
    }
   ],
   "source": [
    "class MLP(nn.Module):\n",
    "    def __init__(self):\n",
    "        super(MLP, self).__init__()\n",
    "        self.linear1 = nn.Linear(784,250)\n",
    "        self.linear2 = nn.Linear(250,100)\n",
    "        self.linear3 = nn.Linear(100,10)\n",
    "    \n",
    "    def forward(self,X):\n",
    "        X = F.relu(self.linear1(X))\n",
    "        X = F.relu(self.linear2(X))\n",
    "        X = self.linear3(X)\n",
    "        return F.log_softmax(X, dim=1)\n",
    " \n",
    "mlp = MLP()\n",
    "print(mlp)"
   ]
  },
  {
   "cell_type": "code",
   "execution_count": 12,
   "metadata": {},
   "outputs": [],
   "source": [
    "def fit(model, train_loader):\n",
    "    optimizer = torch.optim.Adam(model.parameters())#,lr=0.001, betas=(0.9,0.999))\n",
    "    error = nn.CrossEntropyLoss()\n",
    "    EPOCHS = 5\n",
    "    model.train()\n",
    "    for epoch in range(EPOCHS):\n",
    "        correct = 0\n",
    "        for batch_idx, (X_batch, y_batch) in enumerate(train_loader):\n",
    "            var_X_batch = Variable(X_batch).float()\n",
    "            var_y_batch = Variable(y_batch)\n",
    "            optimizer.zero_grad()\n",
    "            output = model(var_X_batch)\n",
    "            loss = error(output, var_y_batch)\n",
    "            loss.backward()\n",
    "            optimizer.step()\n",
    "\n",
    "            # Total correct predictions\n",
    "            predicted = torch.max(output.data, 1)[1] \n",
    "            correct += (predicted == var_y_batch).sum()\n",
    "            #print(correct)\n",
    "            if batch_idx % 50 == 0:\n",
    "                print('Epoch : {} [{}/{} ({:.0f}%)]\\tLoss: {:.6f}\\t Accuracy:{:.3f}%'.format(\n",
    "                    epoch, batch_idx*len(X_batch), len(train_loader.dataset), 100.*batch_idx / len(train_loader), loss.item(), float(correct*100) / float(BATCH_SIZE*(batch_idx+1))))\n",
    "                "
   ]
  },
  {
   "cell_type": "code",
   "execution_count": 13,
   "metadata": {},
   "outputs": [
    {
     "name": "stdout",
     "output_type": "stream",
     "text": [
      "Epoch : 0 [0/60000 (0%)]\tLoss: 13.926872\t Accuracy:9.375%\n",
      "Epoch : 0 [1600/60000 (3%)]\tLoss: 1.022905\t Accuracy:55.699%\n",
      "Epoch : 0 [3200/60000 (5%)]\tLoss: 0.855172\t Accuracy:63.335%\n",
      "Epoch : 0 [4800/60000 (8%)]\tLoss: 0.655638\t Accuracy:67.943%\n",
      "Epoch : 0 [6400/60000 (11%)]\tLoss: 1.071517\t Accuracy:70.134%\n",
      "Epoch : 0 [8000/60000 (13%)]\tLoss: 1.342290\t Accuracy:71.327%\n",
      "Epoch : 0 [9600/60000 (16%)]\tLoss: 0.454747\t Accuracy:72.124%\n",
      "Epoch : 0 [11200/60000 (19%)]\tLoss: 0.514620\t Accuracy:72.917%\n",
      "Epoch : 0 [12800/60000 (21%)]\tLoss: 0.963072\t Accuracy:73.706%\n",
      "Epoch : 0 [14400/60000 (24%)]\tLoss: 0.706065\t Accuracy:74.120%\n",
      "Epoch : 0 [16000/60000 (27%)]\tLoss: 0.261389\t Accuracy:74.495%\n",
      "Epoch : 0 [17600/60000 (29%)]\tLoss: 0.479667\t Accuracy:74.904%\n",
      "Epoch : 0 [19200/60000 (32%)]\tLoss: 0.321822\t Accuracy:75.224%\n",
      "Epoch : 0 [20800/60000 (35%)]\tLoss: 0.509780\t Accuracy:75.509%\n",
      "Epoch : 0 [22400/60000 (37%)]\tLoss: 0.476046\t Accuracy:75.860%\n",
      "Epoch : 0 [24000/60000 (40%)]\tLoss: 0.725893\t Accuracy:76.236%\n",
      "Epoch : 0 [25600/60000 (43%)]\tLoss: 0.389242\t Accuracy:76.607%\n",
      "Epoch : 0 [27200/60000 (45%)]\tLoss: 0.505865\t Accuracy:76.770%\n",
      "Epoch : 0 [28800/60000 (48%)]\tLoss: 0.768135\t Accuracy:77.078%\n",
      "Epoch : 0 [30400/60000 (51%)]\tLoss: 0.460175\t Accuracy:77.422%\n",
      "Epoch : 0 [32000/60000 (53%)]\tLoss: 0.657087\t Accuracy:77.510%\n",
      "Epoch : 0 [33600/60000 (56%)]\tLoss: 0.761482\t Accuracy:77.682%\n",
      "Epoch : 0 [35200/60000 (59%)]\tLoss: 0.421447\t Accuracy:77.850%\n",
      "Epoch : 0 [36800/60000 (61%)]\tLoss: 0.609988\t Accuracy:78.008%\n",
      "Epoch : 0 [38400/60000 (64%)]\tLoss: 0.440966\t Accuracy:78.190%\n",
      "Epoch : 0 [40000/60000 (67%)]\tLoss: 0.315441\t Accuracy:78.367%\n",
      "Epoch : 0 [41600/60000 (69%)]\tLoss: 0.560197\t Accuracy:78.497%\n",
      "Epoch : 0 [43200/60000 (72%)]\tLoss: 0.515873\t Accuracy:78.634%\n",
      "Epoch : 0 [44800/60000 (75%)]\tLoss: 0.358380\t Accuracy:78.758%\n",
      "Epoch : 0 [46400/60000 (77%)]\tLoss: 0.420957\t Accuracy:78.834%\n",
      "Epoch : 0 [48000/60000 (80%)]\tLoss: 0.831056\t Accuracy:78.935%\n",
      "Epoch : 0 [49600/60000 (83%)]\tLoss: 0.530169\t Accuracy:79.032%\n",
      "Epoch : 0 [51200/60000 (85%)]\tLoss: 0.215646\t Accuracy:79.175%\n",
      "Epoch : 0 [52800/60000 (88%)]\tLoss: 0.903578\t Accuracy:79.289%\n",
      "Epoch : 0 [54400/60000 (91%)]\tLoss: 0.294738\t Accuracy:79.347%\n",
      "Epoch : 0 [56000/60000 (93%)]\tLoss: 0.556531\t Accuracy:79.389%\n",
      "Epoch : 0 [57600/60000 (96%)]\tLoss: 0.197398\t Accuracy:79.511%\n",
      "Epoch : 0 [59200/60000 (99%)]\tLoss: 0.499399\t Accuracy:79.636%\n",
      "Epoch : 1 [0/60000 (0%)]\tLoss: 0.380598\t Accuracy:87.500%\n",
      "Epoch : 1 [1600/60000 (3%)]\tLoss: 0.416362\t Accuracy:83.456%\n",
      "Epoch : 1 [3200/60000 (5%)]\tLoss: 0.487136\t Accuracy:83.540%\n",
      "Epoch : 1 [4800/60000 (8%)]\tLoss: 0.345649\t Accuracy:84.209%\n",
      "Epoch : 1 [6400/60000 (11%)]\tLoss: 0.452725\t Accuracy:83.442%\n",
      "Epoch : 1 [8000/60000 (13%)]\tLoss: 0.755941\t Accuracy:83.317%\n",
      "Epoch : 1 [9600/60000 (16%)]\tLoss: 0.246463\t Accuracy:83.275%\n",
      "Epoch : 1 [11200/60000 (19%)]\tLoss: 0.303613\t Accuracy:83.396%\n",
      "Epoch : 1 [12800/60000 (21%)]\tLoss: 0.749168\t Accuracy:83.385%\n",
      "Epoch : 1 [14400/60000 (24%)]\tLoss: 0.554451\t Accuracy:83.294%\n",
      "Epoch : 1 [16000/60000 (27%)]\tLoss: 0.289317\t Accuracy:83.321%\n",
      "Epoch : 1 [17600/60000 (29%)]\tLoss: 0.376548\t Accuracy:83.303%\n",
      "Epoch : 1 [19200/60000 (32%)]\tLoss: 0.224147\t Accuracy:83.351%\n",
      "Epoch : 1 [20800/60000 (35%)]\tLoss: 0.402259\t Accuracy:83.290%\n",
      "Epoch : 1 [22400/60000 (37%)]\tLoss: 0.414103\t Accuracy:83.256%\n",
      "Epoch : 1 [24000/60000 (40%)]\tLoss: 0.421625\t Accuracy:83.314%\n",
      "Epoch : 1 [25600/60000 (43%)]\tLoss: 0.364949\t Accuracy:83.431%\n",
      "Epoch : 1 [27200/60000 (45%)]\tLoss: 0.286575\t Accuracy:83.343%\n",
      "Epoch : 1 [28800/60000 (48%)]\tLoss: 0.389546\t Accuracy:83.369%\n",
      "Epoch : 1 [30400/60000 (51%)]\tLoss: 0.551800\t Accuracy:83.501%\n",
      "Epoch : 1 [32000/60000 (53%)]\tLoss: 0.471784\t Accuracy:83.463%\n",
      "Epoch : 1 [33600/60000 (56%)]\tLoss: 0.520294\t Accuracy:83.510%\n",
      "Epoch : 1 [35200/60000 (59%)]\tLoss: 0.446592\t Accuracy:83.560%\n",
      "Epoch : 1 [36800/60000 (61%)]\tLoss: 0.476560\t Accuracy:83.558%\n",
      "Epoch : 1 [38400/60000 (64%)]\tLoss: 0.446313\t Accuracy:83.623%\n",
      "Epoch : 1 [40000/60000 (67%)]\tLoss: 0.456646\t Accuracy:83.643%\n",
      "Epoch : 1 [41600/60000 (69%)]\tLoss: 0.353549\t Accuracy:83.623%\n",
      "Epoch : 1 [43200/60000 (72%)]\tLoss: 0.445446\t Accuracy:83.649%\n",
      "Epoch : 1 [44800/60000 (75%)]\tLoss: 0.295376\t Accuracy:83.646%\n",
      "Epoch : 1 [46400/60000 (77%)]\tLoss: 0.408941\t Accuracy:83.636%\n",
      "Epoch : 1 [48000/60000 (80%)]\tLoss: 0.621359\t Accuracy:83.698%\n",
      "Epoch : 1 [49600/60000 (83%)]\tLoss: 0.332212\t Accuracy:83.726%\n",
      "Epoch : 1 [51200/60000 (85%)]\tLoss: 0.214251\t Accuracy:83.752%\n",
      "Epoch : 1 [52800/60000 (88%)]\tLoss: 0.574581\t Accuracy:83.777%\n",
      "Epoch : 1 [54400/60000 (91%)]\tLoss: 0.254824\t Accuracy:83.734%\n",
      "Epoch : 1 [56000/60000 (93%)]\tLoss: 0.506368\t Accuracy:83.734%\n",
      "Epoch : 1 [57600/60000 (96%)]\tLoss: 0.184875\t Accuracy:83.754%\n",
      "Epoch : 1 [59200/60000 (99%)]\tLoss: 0.484061\t Accuracy:83.786%\n",
      "Epoch : 2 [0/60000 (0%)]\tLoss: 0.372776\t Accuracy:90.625%\n",
      "Epoch : 2 [1600/60000 (3%)]\tLoss: 0.388924\t Accuracy:83.211%\n",
      "Epoch : 2 [3200/60000 (5%)]\tLoss: 0.466867\t Accuracy:84.623%\n",
      "Epoch : 2 [4800/60000 (8%)]\tLoss: 0.326887\t Accuracy:85.286%\n",
      "Epoch : 2 [6400/60000 (11%)]\tLoss: 0.480194\t Accuracy:84.624%\n",
      "Epoch : 2 [8000/60000 (13%)]\tLoss: 0.722947\t Accuracy:84.736%\n",
      "Epoch : 2 [9600/60000 (16%)]\tLoss: 0.278675\t Accuracy:84.832%\n",
      "Epoch : 2 [11200/60000 (19%)]\tLoss: 0.437860\t Accuracy:84.749%\n",
      "Epoch : 2 [12800/60000 (21%)]\tLoss: 0.660276\t Accuracy:84.765%\n",
      "Epoch : 2 [14400/60000 (24%)]\tLoss: 0.492595\t Accuracy:84.812%\n",
      "Epoch : 2 [16000/60000 (27%)]\tLoss: 0.272485\t Accuracy:84.780%\n",
      "Epoch : 2 [17600/60000 (29%)]\tLoss: 0.306771\t Accuracy:84.880%\n",
      "Epoch : 2 [19200/60000 (32%)]\tLoss: 0.303965\t Accuracy:84.848%\n",
      "Epoch : 2 [20800/60000 (35%)]\tLoss: 0.437585\t Accuracy:84.845%\n",
      "Epoch : 2 [22400/60000 (37%)]\tLoss: 0.376630\t Accuracy:84.812%\n",
      "Epoch : 2 [24000/60000 (40%)]\tLoss: 0.452749\t Accuracy:84.887%\n",
      "Epoch : 2 [25600/60000 (43%)]\tLoss: 0.322921\t Accuracy:84.913%\n",
      "Epoch : 2 [27200/60000 (45%)]\tLoss: 0.263495\t Accuracy:84.900%\n",
      "Epoch : 2 [28800/60000 (48%)]\tLoss: 0.351403\t Accuracy:84.916%\n",
      "Epoch : 2 [30400/60000 (51%)]\tLoss: 0.524573\t Accuracy:85.006%\n",
      "Epoch : 2 [32000/60000 (53%)]\tLoss: 0.557513\t Accuracy:84.887%\n",
      "Epoch : 2 [33600/60000 (56%)]\tLoss: 0.565651\t Accuracy:84.952%\n",
      "Epoch : 2 [35200/60000 (59%)]\tLoss: 0.427553\t Accuracy:84.980%\n",
      "Epoch : 2 [36800/60000 (61%)]\tLoss: 0.521070\t Accuracy:84.959%\n",
      "Epoch : 2 [38400/60000 (64%)]\tLoss: 0.473194\t Accuracy:84.947%\n",
      "Epoch : 2 [40000/60000 (67%)]\tLoss: 0.211421\t Accuracy:84.955%\n",
      "Epoch : 2 [41600/60000 (69%)]\tLoss: 0.477801\t Accuracy:84.963%\n",
      "Epoch : 2 [43200/60000 (72%)]\tLoss: 0.394392\t Accuracy:84.958%\n",
      "Epoch : 2 [44800/60000 (75%)]\tLoss: 0.339572\t Accuracy:84.913%\n",
      "Epoch : 2 [46400/60000 (77%)]\tLoss: 0.382622\t Accuracy:84.890%\n",
      "Epoch : 2 [48000/60000 (80%)]\tLoss: 0.547502\t Accuracy:84.931%\n",
      "Epoch : 2 [49600/60000 (83%)]\tLoss: 0.316958\t Accuracy:84.963%\n",
      "Epoch : 2 [51200/60000 (85%)]\tLoss: 0.202505\t Accuracy:84.994%\n",
      "Epoch : 2 [52800/60000 (88%)]\tLoss: 0.643488\t Accuracy:84.979%\n",
      "Epoch : 2 [54400/60000 (91%)]\tLoss: 0.243300\t Accuracy:84.935%\n",
      "Epoch : 2 [56000/60000 (93%)]\tLoss: 0.507589\t Accuracy:84.950%\n",
      "Epoch : 2 [57600/60000 (96%)]\tLoss: 0.192476\t Accuracy:84.963%\n",
      "Epoch : 2 [59200/60000 (99%)]\tLoss: 0.387905\t Accuracy:85.005%\n",
      "Epoch : 3 [0/60000 (0%)]\tLoss: 0.369052\t Accuracy:90.625%\n",
      "Epoch : 3 [1600/60000 (3%)]\tLoss: 0.335102\t Accuracy:85.172%\n",
      "Epoch : 3 [3200/60000 (5%)]\tLoss: 0.499008\t Accuracy:85.551%\n",
      "Epoch : 3 [4800/60000 (8%)]\tLoss: 0.233005\t Accuracy:85.989%\n",
      "Epoch : 3 [6400/60000 (11%)]\tLoss: 0.407967\t Accuracy:85.743%\n",
      "Epoch : 3 [8000/60000 (13%)]\tLoss: 0.611611\t Accuracy:85.869%\n",
      "Epoch : 3 [9600/60000 (16%)]\tLoss: 0.264911\t Accuracy:85.756%\n",
      "Epoch : 3 [11200/60000 (19%)]\tLoss: 0.396297\t Accuracy:85.826%\n",
      "Epoch : 3 [12800/60000 (21%)]\tLoss: 0.752867\t Accuracy:85.793%\n",
      "Epoch : 3 [14400/60000 (24%)]\tLoss: 0.482448\t Accuracy:85.726%\n",
      "Epoch : 3 [16000/60000 (27%)]\tLoss: 0.201386\t Accuracy:85.691%\n",
      "Epoch : 3 [17600/60000 (29%)]\tLoss: 0.382747\t Accuracy:85.838%\n",
      "Epoch : 3 [19200/60000 (32%)]\tLoss: 0.186298\t Accuracy:85.862%\n",
      "Epoch : 3 [20800/60000 (35%)]\tLoss: 0.547573\t Accuracy:85.801%\n",
      "Epoch : 3 [22400/60000 (37%)]\tLoss: 0.498989\t Accuracy:85.815%\n",
      "Epoch : 3 [24000/60000 (40%)]\tLoss: 0.362174\t Accuracy:85.848%\n",
      "Epoch : 3 [25600/60000 (43%)]\tLoss: 0.278753\t Accuracy:85.943%\n"
     ]
    },
    {
     "name": "stdout",
     "output_type": "stream",
     "text": [
      "Epoch : 3 [27200/60000 (45%)]\tLoss: 0.243199\t Accuracy:85.811%\n",
      "Epoch : 3 [28800/60000 (48%)]\tLoss: 0.388100\t Accuracy:85.797%\n",
      "Epoch : 3 [30400/60000 (51%)]\tLoss: 0.407592\t Accuracy:85.870%\n",
      "Epoch : 3 [32000/60000 (53%)]\tLoss: 0.593659\t Accuracy:85.749%\n",
      "Epoch : 3 [33600/60000 (56%)]\tLoss: 0.582733\t Accuracy:85.728%\n",
      "Epoch : 3 [35200/60000 (59%)]\tLoss: 0.392225\t Accuracy:85.769%\n",
      "Epoch : 3 [36800/60000 (61%)]\tLoss: 0.353324\t Accuracy:85.765%\n",
      "Epoch : 3 [38400/60000 (64%)]\tLoss: 0.503502\t Accuracy:85.754%\n",
      "Epoch : 3 [40000/60000 (67%)]\tLoss: 0.279861\t Accuracy:85.729%\n",
      "Epoch : 3 [41600/60000 (69%)]\tLoss: 0.355778\t Accuracy:85.747%\n",
      "Epoch : 3 [43200/60000 (72%)]\tLoss: 0.521414\t Accuracy:85.721%\n",
      "Epoch : 3 [44800/60000 (75%)]\tLoss: 0.225724\t Accuracy:85.684%\n",
      "Epoch : 3 [46400/60000 (77%)]\tLoss: 0.421178\t Accuracy:85.633%\n",
      "Epoch : 3 [48000/60000 (80%)]\tLoss: 0.476336\t Accuracy:85.639%\n",
      "Epoch : 3 [49600/60000 (83%)]\tLoss: 0.279259\t Accuracy:85.622%\n",
      "Epoch : 3 [51200/60000 (85%)]\tLoss: 0.195279\t Accuracy:85.669%\n",
      "Epoch : 3 [52800/60000 (88%)]\tLoss: 0.527304\t Accuracy:85.677%\n",
      "Epoch : 3 [54400/60000 (91%)]\tLoss: 0.212171\t Accuracy:85.652%\n",
      "Epoch : 3 [56000/60000 (93%)]\tLoss: 0.686407\t Accuracy:85.660%\n",
      "Epoch : 3 [57600/60000 (96%)]\tLoss: 0.202617\t Accuracy:85.692%\n",
      "Epoch : 3 [59200/60000 (99%)]\tLoss: 0.300268\t Accuracy:85.714%\n",
      "Epoch : 4 [0/60000 (0%)]\tLoss: 0.466895\t Accuracy:81.250%\n",
      "Epoch : 4 [1600/60000 (3%)]\tLoss: 0.309532\t Accuracy:85.233%\n",
      "Epoch : 4 [3200/60000 (5%)]\tLoss: 0.565124\t Accuracy:86.108%\n",
      "Epoch : 4 [4800/60000 (8%)]\tLoss: 0.474973\t Accuracy:86.734%\n",
      "Epoch : 4 [6400/60000 (11%)]\tLoss: 0.328133\t Accuracy:86.256%\n",
      "Epoch : 4 [8000/60000 (13%)]\tLoss: 0.716518\t Accuracy:86.193%\n",
      "Epoch : 4 [9600/60000 (16%)]\tLoss: 0.366731\t Accuracy:86.233%\n",
      "Epoch : 4 [11200/60000 (19%)]\tLoss: 0.318486\t Accuracy:86.111%\n",
      "Epoch : 4 [12800/60000 (21%)]\tLoss: 0.651654\t Accuracy:86.183%\n",
      "Epoch : 4 [14400/60000 (24%)]\tLoss: 0.392026\t Accuracy:86.218%\n",
      "Epoch : 4 [16000/60000 (27%)]\tLoss: 0.198644\t Accuracy:86.327%\n",
      "Epoch : 4 [17600/60000 (29%)]\tLoss: 0.250367\t Accuracy:86.456%\n",
      "Epoch : 4 [19200/60000 (32%)]\tLoss: 0.170126\t Accuracy:86.413%\n",
      "Epoch : 4 [20800/60000 (35%)]\tLoss: 0.384282\t Accuracy:86.290%\n",
      "Epoch : 4 [22400/60000 (37%)]\tLoss: 0.522282\t Accuracy:86.301%\n",
      "Epoch : 4 [24000/60000 (40%)]\tLoss: 0.282181\t Accuracy:86.414%\n",
      "Epoch : 4 [25600/60000 (43%)]\tLoss: 0.279156\t Accuracy:86.513%\n",
      "Epoch : 4 [27200/60000 (45%)]\tLoss: 0.232706\t Accuracy:86.435%\n",
      "Epoch : 4 [28800/60000 (48%)]\tLoss: 0.338335\t Accuracy:86.404%\n",
      "Epoch : 4 [30400/60000 (51%)]\tLoss: 0.353155\t Accuracy:86.514%\n",
      "Epoch : 4 [32000/60000 (53%)]\tLoss: 0.436315\t Accuracy:86.414%\n",
      "Epoch : 4 [33600/60000 (56%)]\tLoss: 0.474438\t Accuracy:86.441%\n",
      "Epoch : 4 [35200/60000 (59%)]\tLoss: 0.359000\t Accuracy:86.455%\n",
      "Epoch : 4 [36800/60000 (61%)]\tLoss: 0.448425\t Accuracy:86.468%\n",
      "Epoch : 4 [38400/60000 (64%)]\tLoss: 0.360829\t Accuracy:86.454%\n",
      "Epoch : 4 [40000/60000 (67%)]\tLoss: 0.177744\t Accuracy:86.506%\n",
      "Epoch : 4 [41600/60000 (69%)]\tLoss: 0.291399\t Accuracy:86.532%\n",
      "Epoch : 4 [43200/60000 (72%)]\tLoss: 0.627705\t Accuracy:86.528%\n",
      "Epoch : 4 [44800/60000 (75%)]\tLoss: 0.221444\t Accuracy:86.519%\n",
      "Epoch : 4 [46400/60000 (77%)]\tLoss: 0.521273\t Accuracy:86.481%\n",
      "Epoch : 4 [48000/60000 (80%)]\tLoss: 0.504550\t Accuracy:86.524%\n",
      "Epoch : 4 [49600/60000 (83%)]\tLoss: 0.329240\t Accuracy:86.553%\n",
      "Epoch : 4 [51200/60000 (85%)]\tLoss: 0.169597\t Accuracy:86.571%\n",
      "Epoch : 4 [52800/60000 (88%)]\tLoss: 0.654531\t Accuracy:86.546%\n",
      "Epoch : 4 [54400/60000 (91%)]\tLoss: 0.232513\t Accuracy:86.515%\n",
      "Epoch : 4 [56000/60000 (93%)]\tLoss: 0.487267\t Accuracy:86.527%\n",
      "Epoch : 4 [57600/60000 (96%)]\tLoss: 0.208979\t Accuracy:86.546%\n",
      "Epoch : 4 [59200/60000 (99%)]\tLoss: 0.509665\t Accuracy:86.526%\n"
     ]
    }
   ],
   "source": [
    "fit(mlp, train_loader)"
   ]
  },
  {
   "cell_type": "code",
   "execution_count": 14,
   "metadata": {},
   "outputs": [
    {
     "name": "stdout",
     "output_type": "stream",
     "text": [
      "Test accuracy:0.866% \n"
     ]
    }
   ],
   "source": [
    "def evaluate(model):\n",
    "#model = mlp\n",
    "    correct = 0 \n",
    "    for test_imgs, test_labels in test_loader:\n",
    "        #print(test_imgs.shape)\n",
    "        test_imgs = Variable(test_imgs).float()\n",
    "        output = model(test_imgs)\n",
    "        predicted = torch.max(output,1)[1]\n",
    "        correct += (predicted == test_labels).sum()\n",
    "    print(\"Test accuracy:{:.3f}% \".format( float(correct) / (len(test_loader)*BATCH_SIZE)))\n",
    "evaluate(mlp)"
   ]
  },
  {
   "cell_type": "code",
   "execution_count": 15,
   "metadata": {},
   "outputs": [
    {
     "name": "stdout",
     "output_type": "stream",
     "text": [
      "torch.Size([60000, 1, 28, 28])\n",
      "torch.Size([10000, 1, 28, 28])\n"
     ]
    }
   ],
   "source": [
    "torch_X_train = torch_X_train.view(-1, 1,28,28).float()\n",
    "torch_X_test = torch_X_test.view(-1,1,28,28).float()\n",
    "print(torch_X_train.shape)\n",
    "print(torch_X_test.shape)\n",
    "\n",
    "# Pytorch train and test sets\n",
    "train = torch.utils.data.TensorDataset(torch_X_train,torch_y_train)\n",
    "test = torch.utils.data.TensorDataset(torch_X_test,torch_y_test)\n",
    "\n",
    "# data loader\n",
    "train_loader = torch.utils.data.DataLoader(train, batch_size = BATCH_SIZE, shuffle = False)\n",
    "test_loader = torch.utils.data.DataLoader(test, batch_size = BATCH_SIZE, shuffle = False)"
   ]
  },
  {
   "cell_type": "code",
   "execution_count": 16,
   "metadata": {},
   "outputs": [
    {
     "name": "stdout",
     "output_type": "stream",
     "text": [
      "CNN(\n",
      "  (conv1): Conv2d(1, 32, kernel_size=(5, 5), stride=(1, 1))\n",
      "  (conv2): Conv2d(32, 32, kernel_size=(5, 5), stride=(1, 1))\n",
      "  (conv3): Conv2d(32, 64, kernel_size=(5, 5), stride=(1, 1))\n",
      "  (fc1): Linear(in_features=576, out_features=256, bias=True)\n",
      "  (fc2): Linear(in_features=256, out_features=10, bias=True)\n",
      ")\n",
      "torch.Size([32, 10])\n"
     ]
    }
   ],
   "source": [
    "class CNN(nn.Module):\n",
    "    def __init__(self):\n",
    "        super(CNN, self).__init__()\n",
    "        self.conv1 = nn.Conv2d(1, 32, kernel_size=5)\n",
    "        self.conv2 = nn.Conv2d(32, 32, kernel_size=5)\n",
    "        self.conv3 = nn.Conv2d(32,64, kernel_size=5)\n",
    "        self.fc1 = nn.Linear(3*3*64, 256)\n",
    "        self.fc2 = nn.Linear(256, 10)\n",
    "\n",
    "    def forward(self, x):\n",
    "        x = F.relu(self.conv1(x))\n",
    "        #x = F.dropout(x, p=0.5, training=self.training)\n",
    "        x = F.relu(F.max_pool2d(self.conv2(x), 2))\n",
    "        x = F.dropout(x, p=0.5, training=self.training)\n",
    "        x = F.relu(F.max_pool2d(self.conv3(x),2))\n",
    "        x = F.dropout(x, p=0.5, training=self.training)\n",
    "        x = x.view(-1,3*3*64 )\n",
    "        x = F.relu(self.fc1(x))\n",
    "        x = F.dropout(x, training=self.training)\n",
    "        x = self.fc2(x)\n",
    "        return F.log_softmax(x, dim=1)\n",
    " \n",
    "cnn = CNN()\n",
    "print(cnn)\n",
    "\n",
    "it = iter(train_loader)\n",
    "X_batch, y_batch = next(it)\n",
    "print(cnn.forward(X_batch).shape)"
   ]
  },
  {
   "cell_type": "code",
   "execution_count": 17,
   "metadata": {},
   "outputs": [
    {
     "name": "stdout",
     "output_type": "stream",
     "text": [
      "Epoch : 0 [0/60000 (0%)]\tLoss: 14.301333\t Accuracy:9.375%\n",
      "Epoch : 0 [1600/60000 (3%)]\tLoss: 1.303137\t Accuracy:30.576%\n",
      "Epoch : 0 [3200/60000 (5%)]\tLoss: 1.246851\t Accuracy:44.833%\n",
      "Epoch : 0 [4800/60000 (8%)]\tLoss: 0.620236\t Accuracy:51.800%\n",
      "Epoch : 0 [6400/60000 (11%)]\tLoss: 0.897263\t Accuracy:56.063%\n",
      "Epoch : 0 [8000/60000 (13%)]\tLoss: 1.674600\t Accuracy:58.902%\n",
      "Epoch : 0 [9600/60000 (16%)]\tLoss: 0.574538\t Accuracy:60.974%\n",
      "Epoch : 0 [11200/60000 (19%)]\tLoss: 0.710445\t Accuracy:62.553%\n",
      "Epoch : 0 [12800/60000 (21%)]\tLoss: 0.880269\t Accuracy:63.848%\n",
      "Epoch : 0 [14400/60000 (24%)]\tLoss: 0.841996\t Accuracy:64.932%\n",
      "Epoch : 0 [16000/60000 (27%)]\tLoss: 0.771100\t Accuracy:65.812%\n",
      "Epoch : 0 [17600/60000 (29%)]\tLoss: 0.423757\t Accuracy:66.640%\n",
      "Epoch : 0 [19200/60000 (32%)]\tLoss: 0.605568\t Accuracy:67.138%\n",
      "Epoch : 0 [20800/60000 (35%)]\tLoss: 0.733347\t Accuracy:67.680%\n",
      "Epoch : 0 [22400/60000 (37%)]\tLoss: 0.722771\t Accuracy:68.202%\n",
      "Epoch : 0 [24000/60000 (40%)]\tLoss: 0.610942\t Accuracy:68.658%\n",
      "Epoch : 0 [25600/60000 (43%)]\tLoss: 0.726124\t Accuracy:69.125%\n",
      "Epoch : 0 [27200/60000 (45%)]\tLoss: 0.588556\t Accuracy:69.389%\n",
      "Epoch : 0 [28800/60000 (48%)]\tLoss: 0.682101\t Accuracy:69.659%\n",
      "Epoch : 0 [30400/60000 (51%)]\tLoss: 0.876123\t Accuracy:70.150%\n",
      "Epoch : 0 [32000/60000 (53%)]\tLoss: 0.865864\t Accuracy:70.373%\n",
      "Epoch : 0 [33600/60000 (56%)]\tLoss: 0.720277\t Accuracy:70.683%\n",
      "Epoch : 0 [35200/60000 (59%)]\tLoss: 0.658216\t Accuracy:70.961%\n",
      "Epoch : 0 [36800/60000 (61%)]\tLoss: 0.667653\t Accuracy:71.137%\n",
      "Epoch : 0 [38400/60000 (64%)]\tLoss: 0.505198\t Accuracy:71.373%\n",
      "Epoch : 0 [40000/60000 (67%)]\tLoss: 0.632250\t Accuracy:71.580%\n",
      "Epoch : 0 [41600/60000 (69%)]\tLoss: 0.713888\t Accuracy:71.829%\n",
      "Epoch : 0 [43200/60000 (72%)]\tLoss: 0.620412\t Accuracy:71.995%\n",
      "Epoch : 0 [44800/60000 (75%)]\tLoss: 0.460474\t Accuracy:72.190%\n",
      "Epoch : 0 [46400/60000 (77%)]\tLoss: 0.804942\t Accuracy:72.338%\n",
      "Epoch : 0 [48000/60000 (80%)]\tLoss: 0.499851\t Accuracy:72.566%\n",
      "Epoch : 0 [49600/60000 (83%)]\tLoss: 0.546004\t Accuracy:72.786%\n",
      "Epoch : 0 [51200/60000 (85%)]\tLoss: 0.312039\t Accuracy:72.968%\n",
      "Epoch : 0 [52800/60000 (88%)]\tLoss: 0.772998\t Accuracy:73.147%\n",
      "Epoch : 0 [54400/60000 (91%)]\tLoss: 0.608484\t Accuracy:73.251%\n",
      "Epoch : 0 [56000/60000 (93%)]\tLoss: 0.849950\t Accuracy:73.406%\n",
      "Epoch : 0 [57600/60000 (96%)]\tLoss: 0.279596\t Accuracy:73.527%\n",
      "Epoch : 0 [59200/60000 (99%)]\tLoss: 0.579776\t Accuracy:73.683%\n",
      "Epoch : 1 [0/60000 (0%)]\tLoss: 0.559262\t Accuracy:84.375%\n",
      "Epoch : 1 [1600/60000 (3%)]\tLoss: 0.596965\t Accuracy:77.757%\n",
      "Epoch : 1 [3200/60000 (5%)]\tLoss: 0.789978\t Accuracy:78.280%\n",
      "Epoch : 1 [4800/60000 (8%)]\tLoss: 0.581364\t Accuracy:79.015%\n",
      "Epoch : 1 [6400/60000 (11%)]\tLoss: 0.587266\t Accuracy:79.120%\n",
      "Epoch : 1 [8000/60000 (13%)]\tLoss: 1.022137\t Accuracy:79.196%\n",
      "Epoch : 1 [9600/60000 (16%)]\tLoss: 0.403417\t Accuracy:79.184%\n",
      "Epoch : 1 [11200/60000 (19%)]\tLoss: 0.479137\t Accuracy:79.193%\n",
      "Epoch : 1 [12800/60000 (21%)]\tLoss: 1.035159\t Accuracy:79.107%\n",
      "Epoch : 1 [14400/60000 (24%)]\tLoss: 0.583847\t Accuracy:79.137%\n",
      "Epoch : 1 [16000/60000 (27%)]\tLoss: 0.319083\t Accuracy:79.235%\n",
      "Epoch : 1 [17600/60000 (29%)]\tLoss: 0.427760\t Accuracy:79.271%\n",
      "Epoch : 1 [19200/60000 (32%)]\tLoss: 0.399932\t Accuracy:79.233%\n",
      "Epoch : 1 [20800/60000 (35%)]\tLoss: 0.530804\t Accuracy:79.167%\n",
      "Epoch : 1 [22400/60000 (37%)]\tLoss: 0.437660\t Accuracy:79.110%\n",
      "Epoch : 1 [24000/60000 (40%)]\tLoss: 0.393956\t Accuracy:79.065%\n",
      "Epoch : 1 [25600/60000 (43%)]\tLoss: 0.424234\t Accuracy:79.042%\n",
      "Epoch : 1 [27200/60000 (45%)]\tLoss: 0.399932\t Accuracy:79.039%\n",
      "Epoch : 1 [28800/60000 (48%)]\tLoss: 0.616773\t Accuracy:79.044%\n",
      "Epoch : 1 [30400/60000 (51%)]\tLoss: 0.637971\t Accuracy:79.104%\n",
      "Epoch : 1 [32000/60000 (53%)]\tLoss: 0.603984\t Accuracy:79.008%\n",
      "Epoch : 1 [33600/60000 (56%)]\tLoss: 0.499835\t Accuracy:79.059%\n",
      "Epoch : 1 [35200/60000 (59%)]\tLoss: 0.803395\t Accuracy:79.107%\n",
      "Epoch : 1 [36800/60000 (61%)]\tLoss: 0.652639\t Accuracy:79.100%\n",
      "Epoch : 1 [38400/60000 (64%)]\tLoss: 0.700898\t Accuracy:79.176%\n",
      "Epoch : 1 [40000/60000 (67%)]\tLoss: 0.368800\t Accuracy:79.224%\n",
      "Epoch : 1 [41600/60000 (69%)]\tLoss: 0.792952\t Accuracy:79.254%\n",
      "Epoch : 1 [43200/60000 (72%)]\tLoss: 0.565058\t Accuracy:79.254%\n",
      "Epoch : 1 [44800/60000 (75%)]\tLoss: 0.362291\t Accuracy:79.283%\n",
      "Epoch : 1 [46400/60000 (77%)]\tLoss: 0.506693\t Accuracy:79.238%\n",
      "Epoch : 1 [48000/60000 (80%)]\tLoss: 0.725263\t Accuracy:79.262%\n",
      "Epoch : 1 [49600/60000 (83%)]\tLoss: 0.496551\t Accuracy:79.275%\n",
      "Epoch : 1 [51200/60000 (85%)]\tLoss: 0.462472\t Accuracy:79.325%\n",
      "Epoch : 1 [52800/60000 (88%)]\tLoss: 0.671716\t Accuracy:79.329%\n",
      "Epoch : 1 [54400/60000 (91%)]\tLoss: 0.294306\t Accuracy:79.290%\n",
      "Epoch : 1 [56000/60000 (93%)]\tLoss: 0.637986\t Accuracy:79.283%\n",
      "Epoch : 1 [57600/60000 (96%)]\tLoss: 0.277715\t Accuracy:79.289%\n",
      "Epoch : 1 [59200/60000 (99%)]\tLoss: 0.513235\t Accuracy:79.342%\n",
      "Epoch : 2 [0/60000 (0%)]\tLoss: 0.500120\t Accuracy:90.625%\n",
      "Epoch : 2 [1600/60000 (3%)]\tLoss: 0.544135\t Accuracy:79.350%\n",
      "Epoch : 2 [3200/60000 (5%)]\tLoss: 0.999978\t Accuracy:79.981%\n",
      "Epoch : 2 [4800/60000 (8%)]\tLoss: 0.480642\t Accuracy:80.691%\n",
      "Epoch : 2 [6400/60000 (11%)]\tLoss: 0.637404\t Accuracy:80.566%\n",
      "Epoch : 2 [8000/60000 (13%)]\tLoss: 0.705022\t Accuracy:81.001%\n",
      "Epoch : 2 [9600/60000 (16%)]\tLoss: 0.535109\t Accuracy:80.679%\n",
      "Epoch : 2 [11200/60000 (19%)]\tLoss: 0.574193\t Accuracy:80.369%\n",
      "Epoch : 2 [12800/60000 (21%)]\tLoss: 0.815837\t Accuracy:80.159%\n",
      "Epoch : 2 [14400/60000 (24%)]\tLoss: 0.730420\t Accuracy:80.204%\n",
      "Epoch : 2 [16000/60000 (27%)]\tLoss: 0.372966\t Accuracy:80.277%\n",
      "Epoch : 2 [17600/60000 (29%)]\tLoss: 0.429281\t Accuracy:80.314%\n",
      "Epoch : 2 [19200/60000 (32%)]\tLoss: 0.478823\t Accuracy:80.314%\n",
      "Epoch : 2 [20800/60000 (35%)]\tLoss: 0.597848\t Accuracy:80.415%\n",
      "Epoch : 2 [22400/60000 (37%)]\tLoss: 0.587083\t Accuracy:80.407%\n",
      "Epoch : 2 [24000/60000 (40%)]\tLoss: 0.506410\t Accuracy:80.426%\n",
      "Epoch : 2 [25600/60000 (43%)]\tLoss: 0.497746\t Accuracy:80.497%\n",
      "Epoch : 2 [27200/60000 (45%)]\tLoss: 0.440004\t Accuracy:80.486%\n",
      "Epoch : 2 [28800/60000 (48%)]\tLoss: 0.385296\t Accuracy:80.459%\n",
      "Epoch : 2 [30400/60000 (51%)]\tLoss: 0.408365\t Accuracy:80.498%\n",
      "Epoch : 2 [32000/60000 (53%)]\tLoss: 0.420133\t Accuracy:80.360%\n",
      "Epoch : 2 [33600/60000 (56%)]\tLoss: 0.510515\t Accuracy:80.388%\n",
      "Epoch : 2 [35200/60000 (59%)]\tLoss: 0.709693\t Accuracy:80.328%\n",
      "Epoch : 2 [36800/60000 (61%)]\tLoss: 0.700283\t Accuracy:80.330%\n",
      "Epoch : 2 [38400/60000 (64%)]\tLoss: 0.435196\t Accuracy:80.342%\n",
      "Epoch : 2 [40000/60000 (67%)]\tLoss: 0.408629\t Accuracy:80.368%\n",
      "Epoch : 2 [41600/60000 (69%)]\tLoss: 0.540014\t Accuracy:80.380%\n",
      "Epoch : 2 [43200/60000 (72%)]\tLoss: 0.509986\t Accuracy:80.401%\n",
      "Epoch : 2 [44800/60000 (75%)]\tLoss: 0.374635\t Accuracy:80.416%\n",
      "Epoch : 2 [46400/60000 (77%)]\tLoss: 0.545409\t Accuracy:80.367%\n",
      "Epoch : 2 [48000/60000 (80%)]\tLoss: 0.551573\t Accuracy:80.401%\n",
      "Epoch : 2 [49600/60000 (83%)]\tLoss: 0.429759\t Accuracy:80.434%\n",
      "Epoch : 2 [51200/60000 (85%)]\tLoss: 0.325781\t Accuracy:80.475%\n",
      "Epoch : 2 [52800/60000 (88%)]\tLoss: 0.557664\t Accuracy:80.474%\n",
      "Epoch : 2 [54400/60000 (91%)]\tLoss: 0.582067\t Accuracy:80.467%\n",
      "Epoch : 2 [56000/60000 (93%)]\tLoss: 0.572802\t Accuracy:80.434%\n",
      "Epoch : 2 [57600/60000 (96%)]\tLoss: 0.356498\t Accuracy:80.461%\n",
      "Epoch : 2 [59200/60000 (99%)]\tLoss: 0.511755\t Accuracy:80.473%\n",
      "Epoch : 3 [0/60000 (0%)]\tLoss: 0.646666\t Accuracy:75.000%\n",
      "Epoch : 3 [1600/60000 (3%)]\tLoss: 0.665144\t Accuracy:79.718%\n",
      "Epoch : 3 [3200/60000 (5%)]\tLoss: 0.617216\t Accuracy:80.972%\n",
      "Epoch : 3 [4800/60000 (8%)]\tLoss: 0.712696\t Accuracy:80.960%\n",
      "Epoch : 3 [6400/60000 (11%)]\tLoss: 0.655216\t Accuracy:81.001%\n",
      "Epoch : 3 [8000/60000 (13%)]\tLoss: 0.539368\t Accuracy:81.051%\n",
      "Epoch : 3 [9600/60000 (16%)]\tLoss: 0.364589\t Accuracy:80.949%\n",
      "Epoch : 3 [11200/60000 (19%)]\tLoss: 0.326932\t Accuracy:80.965%\n",
      "Epoch : 3 [12800/60000 (21%)]\tLoss: 0.571832\t Accuracy:80.954%\n",
      "Epoch : 3 [14400/60000 (24%)]\tLoss: 0.548621\t Accuracy:80.917%\n",
      "Epoch : 3 [16000/60000 (27%)]\tLoss: 0.274477\t Accuracy:81.069%\n",
      "Epoch : 3 [17600/60000 (29%)]\tLoss: 0.270310\t Accuracy:80.983%\n",
      "Epoch : 3 [19200/60000 (32%)]\tLoss: 0.395931\t Accuracy:80.870%\n",
      "Epoch : 3 [20800/60000 (35%)]\tLoss: 0.517103\t Accuracy:80.794%\n",
      "Epoch : 3 [22400/60000 (37%)]\tLoss: 0.463080\t Accuracy:80.786%\n",
      "Epoch : 3 [24000/60000 (40%)]\tLoss: 0.487558\t Accuracy:80.938%\n",
      "Epoch : 3 [25600/60000 (43%)]\tLoss: 0.486603\t Accuracy:81.032%\n"
     ]
    },
    {
     "name": "stdout",
     "output_type": "stream",
     "text": [
      "Epoch : 3 [27200/60000 (45%)]\tLoss: 0.545763\t Accuracy:80.953%\n",
      "Epoch : 3 [28800/60000 (48%)]\tLoss: 0.515937\t Accuracy:80.796%\n",
      "Epoch : 3 [30400/60000 (51%)]\tLoss: 0.434740\t Accuracy:80.892%\n",
      "Epoch : 3 [32000/60000 (53%)]\tLoss: 0.347564\t Accuracy:80.860%\n",
      "Epoch : 3 [33600/60000 (56%)]\tLoss: 0.474426\t Accuracy:80.890%\n",
      "Epoch : 3 [35200/60000 (59%)]\tLoss: 0.479033\t Accuracy:80.873%\n",
      "Epoch : 3 [36800/60000 (61%)]\tLoss: 0.864798\t Accuracy:80.824%\n",
      "Epoch : 3 [38400/60000 (64%)]\tLoss: 0.488219\t Accuracy:80.836%\n",
      "Epoch : 3 [40000/60000 (67%)]\tLoss: 0.411302\t Accuracy:80.833%\n",
      "Epoch : 3 [41600/60000 (69%)]\tLoss: 0.479521\t Accuracy:80.786%\n",
      "Epoch : 3 [43200/60000 (72%)]\tLoss: 0.593082\t Accuracy:80.827%\n",
      "Epoch : 3 [44800/60000 (75%)]\tLoss: 0.337090\t Accuracy:80.833%\n",
      "Epoch : 3 [46400/60000 (77%)]\tLoss: 0.369015\t Accuracy:80.804%\n",
      "Epoch : 3 [48000/60000 (80%)]\tLoss: 0.544907\t Accuracy:80.811%\n",
      "Epoch : 3 [49600/60000 (83%)]\tLoss: 0.475143\t Accuracy:80.809%\n",
      "Epoch : 3 [51200/60000 (85%)]\tLoss: 0.197563\t Accuracy:80.862%\n",
      "Epoch : 3 [52800/60000 (88%)]\tLoss: 0.988060\t Accuracy:80.911%\n",
      "Epoch : 3 [54400/60000 (91%)]\tLoss: 0.466669\t Accuracy:80.890%\n",
      "Epoch : 3 [56000/60000 (93%)]\tLoss: 0.672133\t Accuracy:80.922%\n",
      "Epoch : 3 [57600/60000 (96%)]\tLoss: 0.225142\t Accuracy:80.901%\n",
      "Epoch : 3 [59200/60000 (99%)]\tLoss: 0.496354\t Accuracy:80.902%\n",
      "Epoch : 4 [0/60000 (0%)]\tLoss: 0.628928\t Accuracy:81.250%\n",
      "Epoch : 4 [1600/60000 (3%)]\tLoss: 0.597881\t Accuracy:79.412%\n",
      "Epoch : 4 [3200/60000 (5%)]\tLoss: 0.680788\t Accuracy:80.538%\n",
      "Epoch : 4 [4800/60000 (8%)]\tLoss: 0.868547\t Accuracy:81.022%\n",
      "Epoch : 4 [6400/60000 (11%)]\tLoss: 0.792570\t Accuracy:80.846%\n",
      "Epoch : 4 [8000/60000 (13%)]\tLoss: 0.462994\t Accuracy:80.814%\n",
      "Epoch : 4 [9600/60000 (16%)]\tLoss: 0.420831\t Accuracy:80.907%\n",
      "Epoch : 4 [11200/60000 (19%)]\tLoss: 0.411328\t Accuracy:80.787%\n",
      "Epoch : 4 [12800/60000 (21%)]\tLoss: 0.757334\t Accuracy:80.853%\n",
      "Epoch : 4 [14400/60000 (24%)]\tLoss: 0.491908\t Accuracy:80.980%\n",
      "Epoch : 4 [16000/60000 (27%)]\tLoss: 0.362936\t Accuracy:80.851%\n",
      "Epoch : 4 [17600/60000 (29%)]\tLoss: 0.356792\t Accuracy:80.859%\n",
      "Epoch : 4 [19200/60000 (32%)]\tLoss: 0.402285\t Accuracy:80.881%\n",
      "Epoch : 4 [20800/60000 (35%)]\tLoss: 0.448101\t Accuracy:80.856%\n",
      "Epoch : 4 [22400/60000 (37%)]\tLoss: 0.291584\t Accuracy:80.916%\n",
      "Epoch : 4 [24000/60000 (40%)]\tLoss: 0.420969\t Accuracy:81.017%\n",
      "Epoch : 4 [25600/60000 (43%)]\tLoss: 0.375443\t Accuracy:81.043%\n",
      "Epoch : 4 [27200/60000 (45%)]\tLoss: 0.471932\t Accuracy:80.956%\n",
      "Epoch : 4 [28800/60000 (48%)]\tLoss: 0.668035\t Accuracy:80.924%\n",
      "Epoch : 4 [30400/60000 (51%)]\tLoss: 0.483670\t Accuracy:80.908%\n",
      "Epoch : 4 [32000/60000 (53%)]\tLoss: 0.581952\t Accuracy:80.832%\n",
      "Epoch : 4 [33600/60000 (56%)]\tLoss: 0.661730\t Accuracy:80.822%\n",
      "Epoch : 4 [35200/60000 (59%)]\tLoss: 0.551858\t Accuracy:80.833%\n",
      "Epoch : 4 [36800/60000 (61%)]\tLoss: 0.612945\t Accuracy:80.840%\n",
      "Epoch : 4 [38400/60000 (64%)]\tLoss: 0.483300\t Accuracy:80.899%\n",
      "Epoch : 4 [40000/60000 (67%)]\tLoss: 0.481653\t Accuracy:80.995%\n",
      "Epoch : 4 [41600/60000 (69%)]\tLoss: 0.435042\t Accuracy:81.027%\n",
      "Epoch : 4 [43200/60000 (72%)]\tLoss: 0.627194\t Accuracy:81.070%\n",
      "Epoch : 4 [44800/60000 (75%)]\tLoss: 0.385635\t Accuracy:81.085%\n",
      "Epoch : 4 [46400/60000 (77%)]\tLoss: 0.406058\t Accuracy:81.048%\n",
      "Epoch : 4 [48000/60000 (80%)]\tLoss: 0.632691\t Accuracy:81.065%\n",
      "Epoch : 4 [49600/60000 (83%)]\tLoss: 0.516447\t Accuracy:81.077%\n",
      "Epoch : 4 [51200/60000 (85%)]\tLoss: 0.444894\t Accuracy:81.106%\n",
      "Epoch : 4 [52800/60000 (88%)]\tLoss: 0.698140\t Accuracy:81.116%\n",
      "Epoch : 4 [54400/60000 (91%)]\tLoss: 0.468222\t Accuracy:81.120%\n",
      "Epoch : 4 [56000/60000 (93%)]\tLoss: 0.616576\t Accuracy:81.166%\n",
      "Epoch : 4 [57600/60000 (96%)]\tLoss: 0.295530\t Accuracy:81.182%\n",
      "Epoch : 4 [59200/60000 (99%)]\tLoss: 0.554310\t Accuracy:81.206%\n"
     ]
    }
   ],
   "source": [
    "fit(cnn,train_loader)"
   ]
  },
  {
   "cell_type": "code",
   "execution_count": 18,
   "metadata": {},
   "outputs": [
    {
     "name": "stdout",
     "output_type": "stream",
     "text": [
      "Test accuracy:0.814% \n"
     ]
    }
   ],
   "source": [
    "evaluate(cnn)"
   ]
  },
  {
   "cell_type": "code",
   "execution_count": null,
   "metadata": {},
   "outputs": [],
   "source": []
  }
 ],
 "metadata": {
  "kernelspec": {
   "display_name": "Python 3",
   "language": "python",
   "name": "python3"
  },
  "language_info": {
   "codemirror_mode": {
    "name": "ipython",
    "version": 3
   },
   "file_extension": ".py",
   "mimetype": "text/x-python",
   "name": "python",
   "nbconvert_exporter": "python",
   "pygments_lexer": "ipython3",
   "version": "3.7.6"
  }
 },
 "nbformat": 4,
 "nbformat_minor": 4
}
