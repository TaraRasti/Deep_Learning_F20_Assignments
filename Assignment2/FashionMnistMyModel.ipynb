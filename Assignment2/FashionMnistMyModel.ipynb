{
  "nbformat": 4,
  "nbformat_minor": 0,
  "metadata": {
    "colab": {
      "name": "FashionMnistMyModel.ipynb",
      "provenance": [],
      "collapsed_sections": [],
      "mount_file_id": "1eY0DJymaCaWjHsMlBao29WIevGL0TFLB",
      "authorship_tag": "ABX9TyMKTUJKnN8QoHShFyZ0aBz5",
      "include_colab_link": true
    },
    "kernelspec": {
      "name": "python3",
      "display_name": "Python 3"
    },
    "accelerator": "GPU"
  },
  "cells": [
    {
      "cell_type": "markdown",
      "metadata": {
        "id": "view-in-github",
        "colab_type": "text"
      },
      "source": [
        "<a href=\"https://colab.research.google.com/github/TaraRasti/Deep_Learning_F20_Assignments/blob/master/Assignment2/FashionMnistMyModel.ipynb\" target=\"_parent\"><img src=\"https://colab.research.google.com/assets/colab-badge.svg\" alt=\"Open In Colab\"/></a>"
      ]
    },
    {
      "cell_type": "code",
      "metadata": {
        "id": "6GSJbwlkBc9L"
      },
      "source": [
        "import torch\n",
        "import torch.nn as nn\n",
        "import torch.nn.functional as F\n",
        "import torchvision\n",
        "import torchvision.transforms as transforms\n",
        "from torchvision import utils \n",
        "import matplotlib.pyplot as plt\n",
        "import numpy as np\n",
        "from numpy import *\n",
        "import pandas as pd\n",
        "from sklearn.model_selection import train_test_split"
      ],
      "execution_count": 2,
      "outputs": []
    },
    {
      "cell_type": "code",
      "metadata": {
        "id": "BM92euNlBixj",
        "outputId": "790092df-61e4-471e-c0ee-c5d733e2aedb",
        "colab": {
          "base_uri": "https://localhost:8080/",
          "height": 51
        }
      },
      "source": [
        "train_df = pd.read_csv('/content/drive/My Drive/fashion-mnist_train.csv')\n",
        "print('train_df shape:',train_df.shape)\n",
        "test_df = pd.read_csv('/content/drive/My Drive/fashion-mnist_test.csv')\n",
        "print('test_df shape:',test_df.shape)"
      ],
      "execution_count": 3,
      "outputs": [
        {
          "output_type": "stream",
          "text": [
            "train_df shape: (60000, 785)\n",
            "test_df shape: (10000, 785)\n"
          ],
          "name": "stdout"
        }
      ]
    },
    {
      "cell_type": "code",
      "metadata": {
        "id": "C1TS0cyYSvnF",
        "outputId": "3b4ab481-2d5d-4693-a477-ed64a2dba0f9",
        "colab": {
          "base_uri": "https://localhost:8080/",
          "height": 85
        }
      },
      "source": [
        "y_train = train_df['label'].values\n",
        "X_train = train_df.drop(['label'],1).values\n",
        "y_test = test_df['label'].values\n",
        "X_test = test_df.drop(['label'],1).values\n",
        "print('X_train shape:',X_train.shape)\n",
        "print('y_train shape:',y_train.shape)\n",
        "print('X_test shape:',X_test.shape)\n",
        "print('y_test shape:',y_test.shape)"
      ],
      "execution_count": 4,
      "outputs": [
        {
          "output_type": "stream",
          "text": [
            "X_train shape: (60000, 784)\n",
            "y_train shape: (60000,)\n",
            "X_test shape: (10000, 784)\n",
            "y_test shape: (10000,)\n"
          ],
          "name": "stdout"
        }
      ]
    },
    {
      "cell_type": "code",
      "metadata": {
        "id": "DYeQlVScTGwY",
        "outputId": "e70fbbe7-2101-4b2b-903c-ca1c10815f5c",
        "colab": {
          "base_uri": "https://localhost:8080/",
          "height": 51
        }
      },
      "source": [
        "X_train=X_train.reshape(60000,28,28)\n",
        "print('X_train shape:',X_train.shape)\n",
        "X_test=X_test.reshape(10000,28,28)\n",
        "print('X_test shape:',X_test.shape)"
      ],
      "execution_count": 5,
      "outputs": [
        {
          "output_type": "stream",
          "text": [
            "X_train shape: (60000, 28, 28)\n",
            "X_test shape: (10000, 28, 28)\n"
          ],
          "name": "stdout"
        }
      ]
    },
    {
      "cell_type": "code",
      "metadata": {
        "id": "nYoX4gdNTHYm",
        "outputId": "ae08a964-619f-4e3e-93cf-aa058eac4267",
        "colab": {
          "base_uri": "https://localhost:8080/",
          "height": 51
        }
      },
      "source": [
        "X_train_tensor=torch.from_numpy(X_train)\n",
        "X_test_tensor=torch.from_numpy(X_test)\n",
        "print(type(X_train_tensor))\n",
        "print(type(X_test_tensor))"
      ],
      "execution_count": 6,
      "outputs": [
        {
          "output_type": "stream",
          "text": [
            "<class 'torch.Tensor'>\n",
            "<class 'torch.Tensor'>\n"
          ],
          "name": "stdout"
        }
      ]
    },
    {
      "cell_type": "code",
      "metadata": {
        "id": "RV60CehQUVpH",
        "outputId": "bca84dda-4495-40f8-92f6-c359523b205a",
        "colab": {
          "base_uri": "https://localhost:8080/",
          "height": 51
        }
      },
      "source": [
        "# add a dimension to tensor to become B*C*H*W \n",
        "if len(X_train.shape)==3:\n",
        "    X_train_tensor = X_train_tensor.unsqueeze(1) \n",
        "print(X_train_tensor.shape)\n",
        "if len(X_test.shape)==3: \n",
        "    X_test_tensor = X_test_tensor.unsqueeze(1)\n",
        "print(X_test_tensor.shape)"
      ],
      "execution_count": 7,
      "outputs": [
        {
          "output_type": "stream",
          "text": [
            "torch.Size([60000, 1, 28, 28])\n",
            "torch.Size([10000, 1, 28, 28])\n"
          ],
          "name": "stdout"
        }
      ]
    },
    {
      "cell_type": "code",
      "metadata": {
        "id": "gXgQXhTIUd4U"
      },
      "source": [
        "y_train_tensor=torch.from_numpy(y_train)\n",
        "y_test_tensor=torch.from_numpy(y_test)"
      ],
      "execution_count": 8,
      "outputs": []
    },
    {
      "cell_type": "code",
      "metadata": {
        "id": "R4xS881-Ui91",
        "outputId": "0ca49e7e-d1c8-42e2-8b08-c69560bb65bc",
        "colab": {
          "base_uri": "https://localhost:8080/",
          "height": 34
        }
      },
      "source": [
        "from torch.utils.data import TensorDataset\n",
        "# wrap tensors into a dataset\n",
        "train_ds = TensorDataset(X_train_tensor, y_train_tensor) \n",
        "test_ds = TensorDataset(X_test_tensor, y_test_tensor)\n",
        "for x,y in train_ds: \n",
        "    print(x.shape,y.item()) \n",
        "    break"
      ],
      "execution_count": 9,
      "outputs": [
        {
          "output_type": "stream",
          "text": [
            "torch.Size([1, 28, 28]) 2\n"
          ],
          "name": "stdout"
        }
      ]
    },
    {
      "cell_type": "code",
      "metadata": {
        "id": "K4AxFafMUnXd",
        "outputId": "d411de42-e3df-4ce0-f36a-1f74851d9956",
        "colab": {
          "base_uri": "https://localhost:8080/",
          "height": 51
        }
      },
      "source": [
        "from torch.utils.data import DataLoader\n",
        "# create a data loader from dataset\n",
        "train_dl = DataLoader(train_ds, batch_size=8) \n",
        "test_dl = DataLoader(test_ds, batch_size=8)\n",
        "            # iterate over batches\n",
        "for xb,yb in train_dl:\n",
        "    print(xb.shape) \n",
        "    print(yb.shape) \n",
        "    break"
      ],
      "execution_count": 10,
      "outputs": [
        {
          "output_type": "stream",
          "text": [
            "torch.Size([8, 1, 28, 28])\n",
            "torch.Size([8])\n"
          ],
          "name": "stdout"
        }
      ]
    },
    {
      "cell_type": "code",
      "metadata": {
        "id": "YXYAECh3UsN4",
        "outputId": "90ec5a85-c3a5-48fb-bd74-b893cc7d5d6f",
        "colab": {
          "base_uri": "https://localhost:8080/",
          "height": 102
        }
      },
      "source": [
        "from torch import nn\n",
        "# define a two-layer model \n",
        "model = nn.Sequential(\n",
        "    nn.Linear(4, 5), \n",
        "    nn.ReLU(), \n",
        "    nn.Linear(5, 1),\n",
        "            )\n",
        "print(model)"
      ],
      "execution_count": 11,
      "outputs": [
        {
          "output_type": "stream",
          "text": [
            "Sequential(\n",
            "  (0): Linear(in_features=4, out_features=5, bias=True)\n",
            "  (1): ReLU()\n",
            "  (2): Linear(in_features=5, out_features=1, bias=True)\n",
            ")\n"
          ],
          "name": "stdout"
        }
      ]
    },
    {
      "cell_type": "code",
      "metadata": {
        "id": "d6DwqSNNUwgb"
      },
      "source": [
        "import torch.nn.functional as F\n",
        "class Net(nn.Module): \n",
        "  def __init__(self):\n",
        "    super(Net, self).__init__()\n",
        "  def forward(self, x):\n",
        "    pass"
      ],
      "execution_count": 12,
      "outputs": []
    },
    {
      "cell_type": "code",
      "metadata": {
        "id": "erN829nOUz3o"
      },
      "source": [
        "def __init__(self):\n",
        "  super(Net, self).__init__() \n",
        "  self.conv1 = nn.Conv2d(1, 20, 5, 1) \n",
        "  self.conv2 = nn.Conv2d(20, 50, 5, 1) \n",
        "  self.fc1 = nn.Linear(4*4*50, 500) \n",
        "  self.fc2 = nn.Linear(500, 10)"
      ],
      "execution_count": 13,
      "outputs": []
    },
    {
      "cell_type": "code",
      "metadata": {
        "id": "Y1zyG2WTU3Nw"
      },
      "source": [
        "def forward(self, x):\n",
        "  x = F.relu(self.conv1(x))\n",
        "  x = F.max_pool2d(x, 2, 2)\n",
        "  x = F.relu(self.conv2(x))\n",
        "  x = F.max_pool2d(x, 2, 2)\n",
        "  x = x.view(-1, 4*4*50)\n",
        "  x = F.relu(self.fc1(x))\n",
        "  x = self.fc2(x)\n",
        "  return F.log_softmax(x, dim=1)"
      ],
      "execution_count": 14,
      "outputs": []
    },
    {
      "cell_type": "code",
      "metadata": {
        "id": "xTUuhtY5U7KZ"
      },
      "source": [
        "Net.__init__ = __init__\n",
        "Net.forward = forward"
      ],
      "execution_count": 15,
      "outputs": []
    },
    {
      "cell_type": "code",
      "metadata": {
        "id": "qo1tKxj3VDhs",
        "outputId": "2571e948-4525-44a5-be08-da0603fa3274",
        "colab": {
          "base_uri": "https://localhost:8080/",
          "height": 119
        }
      },
      "source": [
        "model = Net() \n",
        "print(model)"
      ],
      "execution_count": 16,
      "outputs": [
        {
          "output_type": "stream",
          "text": [
            "Net(\n",
            "  (conv1): Conv2d(1, 20, kernel_size=(5, 5), stride=(1, 1))\n",
            "  (conv2): Conv2d(20, 50, kernel_size=(5, 5), stride=(1, 1))\n",
            "  (fc1): Linear(in_features=800, out_features=500, bias=True)\n",
            "  (fc2): Linear(in_features=500, out_features=10, bias=True)\n",
            ")\n"
          ],
          "name": "stdout"
        }
      ]
    },
    {
      "cell_type": "code",
      "metadata": {
        "id": "rHixqGyXVGNq",
        "outputId": "e2d52584-2211-4c7c-e8fc-ade7c2defc12",
        "colab": {
          "base_uri": "https://localhost:8080/",
          "height": 34
        }
      },
      "source": [
        "print(next(model.parameters()).device)"
      ],
      "execution_count": 17,
      "outputs": [
        {
          "output_type": "stream",
          "text": [
            "cpu\n"
          ],
          "name": "stdout"
        }
      ]
    },
    {
      "cell_type": "code",
      "metadata": {
        "id": "SME5r72dVIvM",
        "outputId": "a5ec02dc-cbeb-4497-d602-2f4c3080b817",
        "colab": {
          "base_uri": "https://localhost:8080/",
          "height": 34
        }
      },
      "source": [
        "device = torch.device(\"cuda:0\") \n",
        "model.to(device)\n",
        "print(next(model.parameters()).device)"
      ],
      "execution_count": 18,
      "outputs": [
        {
          "output_type": "stream",
          "text": [
            "cuda:0\n"
          ],
          "name": "stdout"
        }
      ]
    },
    {
      "cell_type": "code",
      "metadata": {
        "id": "oTu0SZEVVLWl",
        "outputId": "554d3d09-6d60-45d9-d01b-5de31c722c2d",
        "colab": {
          "base_uri": "https://localhost:8080/",
          "height": 54
        }
      },
      "source": [
        "!pip install torchsummary"
      ],
      "execution_count": 19,
      "outputs": [
        {
          "output_type": "stream",
          "text": [
            "Requirement already satisfied: torchsummary in /usr/local/lib/python3.6/dist-packages (1.5.1)\n"
          ],
          "name": "stdout"
        }
      ]
    },
    {
      "cell_type": "code",
      "metadata": {
        "id": "mc9sX9LfVesh"
      },
      "source": [
        "from torchsummary import summary"
      ],
      "execution_count": 20,
      "outputs": []
    },
    {
      "cell_type": "code",
      "metadata": {
        "id": "zZrl2vf8VkRE",
        "outputId": "837cfe3b-936d-4a2c-ab3a-e3bde094b7c3",
        "colab": {
          "base_uri": "https://localhost:8080/",
          "height": 306
        }
      },
      "source": [
        "summary(model,input_size=(1,28,28))"
      ],
      "execution_count": 21,
      "outputs": [
        {
          "output_type": "stream",
          "text": [
            "----------------------------------------------------------------\n",
            "        Layer (type)               Output Shape         Param #\n",
            "================================================================\n",
            "            Conv2d-1           [-1, 20, 24, 24]             520\n",
            "            Conv2d-2             [-1, 50, 8, 8]          25,050\n",
            "            Linear-3                  [-1, 500]         400,500\n",
            "            Linear-4                   [-1, 10]           5,010\n",
            "================================================================\n",
            "Total params: 431,080\n",
            "Trainable params: 431,080\n",
            "Non-trainable params: 0\n",
            "----------------------------------------------------------------\n",
            "Input size (MB): 0.00\n",
            "Forward/backward pass size (MB): 0.12\n",
            "Params size (MB): 1.64\n",
            "Estimated Total Size (MB): 1.76\n",
            "----------------------------------------------------------------\n"
          ],
          "name": "stdout"
        }
      ]
    },
    {
      "cell_type": "code",
      "metadata": {
        "id": "mlx8RsniVmnf"
      },
      "source": [
        "from torch import nn\n",
        "loss_func = nn.NLLLoss(reduction=\"sum\")"
      ],
      "execution_count": 22,
      "outputs": []
    },
    {
      "cell_type": "code",
      "metadata": {
        "id": "WmUgKefjVup8",
        "outputId": "ee73817f-7a60-41bf-abc4-bb95b273f606",
        "colab": {
          "base_uri": "https://localhost:8080/",
          "height": 34
        }
      },
      "source": [
        "for xb, yb in train_dl:\n",
        "# move batch to cuda device \n",
        "  xb=xb.type(torch.float).to(device) \n",
        "  yb=yb.to(device)\n",
        "# get model output\n",
        "  out=model(xb)\n",
        "# calculate loss value\n",
        "  loss = loss_func(out, yb)\n",
        "  print (loss.item())\n",
        "  break"
      ],
      "execution_count": 23,
      "outputs": [
        {
          "output_type": "stream",
          "text": [
            "80.98942565917969\n"
          ],
          "name": "stdout"
        }
      ]
    },
    {
      "cell_type": "code",
      "metadata": {
        "id": "AVPuJaVXVxHT"
      },
      "source": [
        "# compute gradients \n",
        "loss.backward()"
      ],
      "execution_count": 24,
      "outputs": []
    },
    {
      "cell_type": "code",
      "metadata": {
        "id": "HgGnnKElV3vL"
      },
      "source": [
        "from torch import optim\n",
        "opt = optim.Adam(model.parameters(), lr=1e-4)"
      ],
      "execution_count": 25,
      "outputs": []
    },
    {
      "cell_type": "code",
      "metadata": {
        "id": "foxr-8tNV7HN"
      },
      "source": [
        "# update model parameters \n",
        "opt.step()"
      ],
      "execution_count": 26,
      "outputs": []
    },
    {
      "cell_type": "code",
      "metadata": {
        "id": "ve6G9975V9eb"
      },
      "source": [
        "# set gradients to zero \n",
        "opt.zero_grad()"
      ],
      "execution_count": 27,
      "outputs": []
    },
    {
      "cell_type": "code",
      "metadata": {
        "id": "OkZg9GkIWF0W"
      },
      "source": [
        "def loss_batch(loss_func, xb, yb,yb_h, opt=None): \n",
        "  loss = loss_func(yb_h, yb)\n",
        "  metric_b = metrics_batch(yb,yb_h)  \n",
        "  if opt is not None:\n",
        "    loss.backward() \n",
        "    opt.step() \n",
        "    opt.zero_grad()\n",
        "  return loss.item(), metric_b"
      ],
      "execution_count": 28,
      "outputs": []
    },
    {
      "cell_type": "code",
      "metadata": {
        "id": "C4_ADmo0WIsf"
      },
      "source": [
        "def metrics_batch(target, output):\n",
        "  pred = output.argmax(dim=1, keepdim=True)\n",
        "  corrects=pred.eq(target.view_as(pred)).sum().item() \n",
        "  return corrects"
      ],
      "execution_count": 29,
      "outputs": []
    },
    {
      "cell_type": "code",
      "metadata": {
        "id": "Kmya4RvUWM7V"
      },
      "source": [
        "def loss_epoch(model,loss_func,dataset_dl,opt=None): \n",
        "  loss=0.0\n",
        "  metric=0.0 \n",
        "  len_data=len(dataset_dl.dataset) \n",
        "  for xb, yb in dataset_dl:\n",
        "    xb=xb.type(torch.float).to(device) \n",
        "    yb=yb.to(device)\n",
        "    yb_h=model(xb)\n",
        "    loss_b,metric_b=loss_batch(loss_func, xb, yb,yb_h, opt) \n",
        "    loss+=loss_b\n",
        "    if metric_b is not None:\n",
        "        metric+=metric_b \n",
        "  loss/=len_data\n",
        "  metric/=len_data \n",
        "  return loss, metric"
      ],
      "execution_count": 30,
      "outputs": []
    },
    {
      "cell_type": "code",
      "metadata": {
        "id": "hagjgcVTWPW4"
      },
      "source": [
        "def train_val(epochs, model, loss_func, opt, train_dl, test_dl):\n",
        "    for epoch in range(epochs):\n",
        "        model.train()\n",
        "        train_loss, train_metric=loss_epoch(model,loss_func,train_dl,opt)\n",
        "        model.eval()\n",
        "        with torch.no_grad():\n",
        "          val_loss, val_metric=loss_epoch(model,loss_func,test_dl) \n",
        "          accuracy=100*val_metric\n",
        "          print(\"epoch: %d, train loss: %.6f, val loss: %.6f, accuracy: %.2f\" %(epoch, train_loss,val_loss,accuracy))"
      ],
      "execution_count": 31,
      "outputs": []
    },
    {
      "cell_type": "code",
      "metadata": {
        "id": "i2DX32OLWeN7",
        "outputId": "d67bfa73-1875-48c1-f3e8-fc6b2d7d0bf9",
        "colab": {
          "base_uri": "https://localhost:8080/",
          "height": 187
        }
      },
      "source": [
        "num_epochs=10\n",
        "train_val(num_epochs, model, loss_func, opt, train_dl, test_dl)"
      ],
      "execution_count": 33,
      "outputs": [
        {
          "output_type": "stream",
          "text": [
            "epoch: 0, train loss: 0.118889, val loss: 0.342938, accuracy: 90.09\n",
            "epoch: 1, train loss: 0.095790, val loss: 0.409756, accuracy: 89.48\n",
            "epoch: 2, train loss: 0.078457, val loss: 0.425881, accuracy: 89.74\n",
            "epoch: 3, train loss: 0.069387, val loss: 0.442758, accuracy: 89.93\n",
            "epoch: 4, train loss: 0.060969, val loss: 0.478704, accuracy: 90.42\n",
            "epoch: 5, train loss: 0.053204, val loss: 0.529483, accuracy: 89.63\n",
            "epoch: 6, train loss: 0.051762, val loss: 0.527640, accuracy: 89.89\n",
            "epoch: 7, train loss: 0.047072, val loss: 0.619276, accuracy: 89.18\n",
            "epoch: 8, train loss: 0.044802, val loss: 0.548699, accuracy: 90.09\n",
            "epoch: 9, train loss: 0.041915, val loss: 0.611081, accuracy: 89.59\n"
          ],
          "name": "stdout"
        }
      ]
    },
    {
      "cell_type": "code",
      "metadata": {
        "id": "BDHhQbjiWgyQ"
      },
      "source": [
        ""
      ],
      "execution_count": null,
      "outputs": []
    }
  ]
}