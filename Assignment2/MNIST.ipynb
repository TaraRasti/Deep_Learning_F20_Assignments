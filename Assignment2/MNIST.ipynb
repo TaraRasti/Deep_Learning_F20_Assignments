{
  "nbformat": 4,
  "nbformat_minor": 0,
  "metadata": {
    "colab": {
      "name": "MNIST.ipynb",
      "provenance": [],
      "collapsed_sections": [],
      "mount_file_id": "1W0Tq5ERNfClFlMw2Omv99pjFndLaAdUJ",
      "authorship_tag": "ABX9TyNooQ4v6kb6gmwsBUMs0uMF",
      "include_colab_link": true
    },
    "kernelspec": {
      "name": "python3",
      "display_name": "Python 3"
    },
    "accelerator": "GPU"
  },
  "cells": [
    {
      "cell_type": "markdown",
      "metadata": {
        "id": "view-in-github",
        "colab_type": "text"
      },
      "source": [
        "<a href=\"https://colab.research.google.com/github/TaraRasti/Deep_Learning_F20_Assignments/blob/master/Assignment2/MNIST.ipynb\" target=\"_parent\"><img src=\"https://colab.research.google.com/assets/colab-badge.svg\" alt=\"Open In Colab\"/></a>"
      ]
    },
    {
      "cell_type": "code",
      "metadata": {
        "id": "1nt8g2hy4qJw"
      },
      "source": [
        "import torch\n",
        "import torch.nn as nn\n",
        "import torch.nn.functional as F\n",
        "import torchvision\n",
        "import torchvision.transforms as transforms\n",
        "from torchvision import utils \n",
        "import matplotlib.pyplot as plt\n",
        "import numpy as np\n",
        "from numpy import *\n",
        "import pandas as pd\n",
        "from sklearn.model_selection import train_test_split"
      ],
      "execution_count": null,
      "outputs": []
    },
    {
      "cell_type": "code",
      "metadata": {
        "id": "6mMy4dyF5QBT",
        "outputId": "2fa0f795-e3d1-495d-f293-5aa17bfd80eb",
        "colab": {
          "base_uri": "https://localhost:8080/",
          "height": 34
        }
      },
      "source": [
        "train_df = pd.read_csv('/content/drive/My Drive/mnist_train.csv')\n",
        "print(train_df.shape)"
      ],
      "execution_count": null,
      "outputs": [
        {
          "output_type": "stream",
          "text": [
            "(60000, 785)\n"
          ],
          "name": "stdout"
        }
      ]
    },
    {
      "cell_type": "code",
      "metadata": {
        "id": "Vugy9ilNBHn0",
        "outputId": "aa35e464-6267-4d89-8125-29c762d4883b",
        "colab": {
          "base_uri": "https://localhost:8080/",
          "height": 34
        }
      },
      "source": [
        "test_df = pd.read_csv('/content/drive/My Drive/mnist_test.csv')\n",
        "print(test_df.shape)"
      ],
      "execution_count": null,
      "outputs": [
        {
          "output_type": "stream",
          "text": [
            "(10000, 785)\n"
          ],
          "name": "stdout"
        }
      ]
    },
    {
      "cell_type": "code",
      "metadata": {
        "id": "Wah4t7NzaCHi"
      },
      "source": [
        "y_train = train_df['label'].values\n",
        "X_train = train_df.drop(['label'],1).values"
      ],
      "execution_count": null,
      "outputs": []
    },
    {
      "cell_type": "code",
      "metadata": {
        "id": "16nyGxfNa4g-"
      },
      "source": [
        "y_test = test_df['label'].values\n",
        "X_test = test_df.drop(['label'],1).values"
      ],
      "execution_count": null,
      "outputs": []
    },
    {
      "cell_type": "code",
      "metadata": {
        "id": "ofRAS-_Gbfb8",
        "outputId": "b34aa55b-9310-4d43-aa3a-6739de058786",
        "colab": {
          "base_uri": "https://localhost:8080/",
          "height": 51
        }
      },
      "source": [
        "print(X_train.shape)\n",
        "print(y_train.shape)"
      ],
      "execution_count": null,
      "outputs": [
        {
          "output_type": "stream",
          "text": [
            "(60000, 784)\n",
            "(60000,)\n"
          ],
          "name": "stdout"
        }
      ]
    },
    {
      "cell_type": "code",
      "metadata": {
        "id": "WcVFG3WVbl-d",
        "outputId": "70e32ad7-6e16-4d1b-e3d5-b87f57a27d2a",
        "colab": {
          "base_uri": "https://localhost:8080/",
          "height": 51
        }
      },
      "source": [
        "print(X_test.shape)\n",
        "print(y_test.shape)"
      ],
      "execution_count": null,
      "outputs": [
        {
          "output_type": "stream",
          "text": [
            "(10000, 784)\n",
            "(10000,)\n"
          ],
          "name": "stdout"
        }
      ]
    },
    {
      "cell_type": "code",
      "metadata": {
        "id": "uKRQOfvPbqzb",
        "outputId": "7067f07c-2472-4fbd-daf7-18c5021c90a0",
        "colab": {
          "base_uri": "https://localhost:8080/",
          "height": 34
        }
      },
      "source": [
        "X_train=X_train.reshape(60000,28,28)\n",
        "X_train.shape"
      ],
      "execution_count": null,
      "outputs": [
        {
          "output_type": "execute_result",
          "data": {
            "text/plain": [
              "(60000, 28, 28)"
            ]
          },
          "metadata": {
            "tags": []
          },
          "execution_count": 151
        }
      ]
    },
    {
      "cell_type": "code",
      "metadata": {
        "id": "pK7KW3Scb0hN",
        "outputId": "22661904-42fb-4861-847d-c36831b96c0d",
        "colab": {
          "base_uri": "https://localhost:8080/",
          "height": 34
        }
      },
      "source": [
        "X_test=X_test.reshape(10000,28,28)\n",
        "X_test.shape"
      ],
      "execution_count": null,
      "outputs": [
        {
          "output_type": "execute_result",
          "data": {
            "text/plain": [
              "(10000, 28, 28)"
            ]
          },
          "metadata": {
            "tags": []
          },
          "execution_count": 152
        }
      ]
    },
    {
      "cell_type": "code",
      "metadata": {
        "id": "IqhLXy5OcFSR",
        "outputId": "f4f3ae97-de55-4af9-a85a-7f241690d242",
        "colab": {
          "base_uri": "https://localhost:8080/",
          "height": 51
        }
      },
      "source": [
        "X_train_tensor=torch.from_numpy(X_train)\n",
        "X_test_tensor=torch.from_numpy(X_test)\n",
        "print(type(X_train_tensor))\n",
        "print(type(X_test_tensor))"
      ],
      "execution_count": null,
      "outputs": [
        {
          "output_type": "stream",
          "text": [
            "<class 'torch.Tensor'>\n",
            "<class 'torch.Tensor'>\n"
          ],
          "name": "stdout"
        }
      ]
    },
    {
      "cell_type": "code",
      "metadata": {
        "id": "4UEgbeSjcW7L",
        "outputId": "f6d12333-c2ae-422b-b85f-0f0f0e7f9f7c",
        "colab": {
          "base_uri": "https://localhost:8080/",
          "height": 51
        }
      },
      "source": [
        "# add a dimension to tensor to become B*C*H*W \n",
        "if len(X_train.shape)==3:\n",
        "    X_train_tensor = X_train_tensor.unsqueeze(1) \n",
        "print(X_train_tensor.shape)\n",
        "if len(X_test.shape)==3: \n",
        "    X_test_tensor = X_test_tensor.unsqueeze(1)\n",
        "print(X_test_tensor.shape)"
      ],
      "execution_count": null,
      "outputs": [
        {
          "output_type": "stream",
          "text": [
            "torch.Size([60000, 1, 28, 28])\n",
            "torch.Size([10000, 1, 28, 28])\n"
          ],
          "name": "stdout"
        }
      ]
    },
    {
      "cell_type": "code",
      "metadata": {
        "id": "D8MA_b18cfbc"
      },
      "source": [
        "y_train_tensor=torch.from_numpy(y_train)\n",
        "y_test_tensor=torch.from_numpy(y_test)"
      ],
      "execution_count": null,
      "outputs": []
    },
    {
      "cell_type": "code",
      "metadata": {
        "id": "2BwWLRAYcovI",
        "outputId": "d8808e2c-9f9b-42fb-bb63-87807725df1a",
        "colab": {
          "base_uri": "https://localhost:8080/",
          "height": 34
        }
      },
      "source": [
        "from torch.utils.data import TensorDataset\n",
        "# wrap tensors into a dataset\n",
        "train_ds = TensorDataset(X_train_tensor, y_train_tensor) \n",
        "test_ds = TensorDataset(X_test_tensor, y_test_tensor)\n",
        "for x,y in train_ds: \n",
        "    print(x.shape,y.item()) \n",
        "    break"
      ],
      "execution_count": null,
      "outputs": [
        {
          "output_type": "stream",
          "text": [
            "torch.Size([1, 28, 28]) 5\n"
          ],
          "name": "stdout"
        }
      ]
    },
    {
      "cell_type": "code",
      "metadata": {
        "id": "pzHHzhhNc7HO",
        "outputId": "dd2b3527-fd5c-4f85-b8e9-01e3c66b00ed",
        "colab": {
          "base_uri": "https://localhost:8080/",
          "height": 51
        }
      },
      "source": [
        "from torch.utils.data import DataLoader\n",
        "# create a data loader from dataset\n",
        "train_dl = DataLoader(train_ds, batch_size=8) \n",
        "test_dl = DataLoader(test_ds, batch_size=8)\n",
        "            # iterate over batches\n",
        "for xb,yb in train_dl:\n",
        "    print(xb.shape) \n",
        "    print(yb.shape) \n",
        "    break"
      ],
      "execution_count": null,
      "outputs": [
        {
          "output_type": "stream",
          "text": [
            "torch.Size([8, 1, 28, 28])\n",
            "torch.Size([8])\n"
          ],
          "name": "stdout"
        }
      ]
    },
    {
      "cell_type": "code",
      "metadata": {
        "id": "bLDlixoJdVa4",
        "outputId": "278a8121-40f7-4da4-cd5f-a87eab9531bd",
        "colab": {
          "base_uri": "https://localhost:8080/",
          "height": 102
        }
      },
      "source": [
        "from torch import nn\n",
        "# define a two-layer model \n",
        "model = nn.Sequential(\n",
        "    nn.Linear(4, 5), \n",
        "    nn.ReLU(), \n",
        "    nn.Linear(5, 1),\n",
        "            )\n",
        "print(model)"
      ],
      "execution_count": null,
      "outputs": [
        {
          "output_type": "stream",
          "text": [
            "Sequential(\n",
            "  (0): Linear(in_features=4, out_features=5, bias=True)\n",
            "  (1): ReLU()\n",
            "  (2): Linear(in_features=5, out_features=1, bias=True)\n",
            ")\n"
          ],
          "name": "stdout"
        }
      ]
    },
    {
      "cell_type": "code",
      "metadata": {
        "id": "QE8uuouJYimS"
      },
      "source": [
        "import torch.nn.functional as F\n",
        "class Net(nn.Module): \n",
        "  def __init__(self):\n",
        "    super(Net, self).__init__()\n",
        "  def forward(self, x):\n",
        "    pass"
      ],
      "execution_count": null,
      "outputs": []
    },
    {
      "cell_type": "code",
      "metadata": {
        "id": "y0L8CTehY41Z"
      },
      "source": [
        "def __init__(self):\n",
        "  super(Net, self).__init__() \n",
        "  self.conv1 = nn.Conv2d(1, 20, 5, 1) \n",
        "  self.conv2 = nn.Conv2d(20, 50, 5, 1) \n",
        "  self.fc1 = nn.Linear(4*4*50, 500) \n",
        "  self.fc2 = nn.Linear(500, 10)"
      ],
      "execution_count": null,
      "outputs": []
    },
    {
      "cell_type": "code",
      "metadata": {
        "id": "XinIZTTDZPW-"
      },
      "source": [
        "def forward(self, x):\n",
        "  x = F.relu(self.conv1(x))\n",
        "  x = F.max_pool2d(x, 2, 2)\n",
        "  x = F.relu(self.conv2(x))\n",
        "  x = F.max_pool2d(x, 2, 2)\n",
        "  x = x.view(-1, 4*4*50)\n",
        "  x = F.relu(self.fc1(x))\n",
        "  x = self.fc2(x)\n",
        "  return F.log_softmax(x, dim=1)"
      ],
      "execution_count": null,
      "outputs": []
    },
    {
      "cell_type": "code",
      "metadata": {
        "id": "xUunoirSi5KH"
      },
      "source": [
        "Net.__init__ = __init__\n",
        "Net.forward = forward"
      ],
      "execution_count": null,
      "outputs": []
    },
    {
      "cell_type": "code",
      "metadata": {
        "id": "6KG60ItGZbbt",
        "outputId": "1dca0c2c-4a3c-4d35-bd7d-b8ef5845c4c4",
        "colab": {
          "base_uri": "https://localhost:8080/",
          "height": 119
        }
      },
      "source": [
        "model = Net() \n",
        "print(model)"
      ],
      "execution_count": null,
      "outputs": [
        {
          "output_type": "stream",
          "text": [
            "Net(\n",
            "  (conv1): Conv2d(1, 20, kernel_size=(5, 5), stride=(1, 1))\n",
            "  (conv2): Conv2d(20, 50, kernel_size=(5, 5), stride=(1, 1))\n",
            "  (fc1): Linear(in_features=800, out_features=500, bias=True)\n",
            "  (fc2): Linear(in_features=500, out_features=10, bias=True)\n",
            ")\n"
          ],
          "name": "stdout"
        }
      ]
    },
    {
      "cell_type": "code",
      "metadata": {
        "id": "NaV5zENldZ8J",
        "outputId": "a497f568-e125-41f9-e1f6-9c88de40b209",
        "colab": {
          "base_uri": "https://localhost:8080/",
          "height": 34
        }
      },
      "source": [
        "print(next(model.parameters()).device)"
      ],
      "execution_count": null,
      "outputs": [
        {
          "output_type": "stream",
          "text": [
            "cpu\n"
          ],
          "name": "stdout"
        }
      ]
    },
    {
      "cell_type": "code",
      "metadata": {
        "id": "UoDce80Tdfth",
        "outputId": "bfa9aec6-25f3-40f4-db44-ee6bd971e301",
        "colab": {
          "base_uri": "https://localhost:8080/",
          "height": 34
        }
      },
      "source": [
        "device = torch.device(\"cuda:0\") \n",
        "model.to(device)\n",
        "print(next(model.parameters()).device) "
      ],
      "execution_count": null,
      "outputs": [
        {
          "output_type": "stream",
          "text": [
            "cuda:0\n"
          ],
          "name": "stdout"
        }
      ]
    },
    {
      "cell_type": "code",
      "metadata": {
        "id": "cgrQdi0Xdi2P",
        "outputId": "a30bdaef-6125-44a5-beb0-5b36e1e85815",
        "colab": {
          "base_uri": "https://localhost:8080/",
          "height": 54
        }
      },
      "source": [
        "!pip install torchsummary"
      ],
      "execution_count": null,
      "outputs": [
        {
          "output_type": "stream",
          "text": [
            "Requirement already satisfied: torchsummary in /usr/local/lib/python3.6/dist-packages (1.5.1)\n"
          ],
          "name": "stdout"
        }
      ]
    },
    {
      "cell_type": "code",
      "metadata": {
        "id": "jee3qKGhb_5d"
      },
      "source": [
        "from torchsummary import summary"
      ],
      "execution_count": null,
      "outputs": []
    },
    {
      "cell_type": "code",
      "metadata": {
        "id": "LtiRcWkJcF7q",
        "outputId": "df69393a-8b6c-405e-a1c8-ee730465c336",
        "colab": {
          "base_uri": "https://localhost:8080/",
          "height": 306
        }
      },
      "source": [
        "summary(model,input_size=(1,28,28))"
      ],
      "execution_count": null,
      "outputs": [
        {
          "output_type": "stream",
          "text": [
            "----------------------------------------------------------------\n",
            "        Layer (type)               Output Shape         Param #\n",
            "================================================================\n",
            "            Conv2d-1           [-1, 20, 24, 24]             520\n",
            "            Conv2d-2             [-1, 50, 8, 8]          25,050\n",
            "            Linear-3                  [-1, 500]         400,500\n",
            "            Linear-4                   [-1, 10]           5,010\n",
            "================================================================\n",
            "Total params: 431,080\n",
            "Trainable params: 431,080\n",
            "Non-trainable params: 0\n",
            "----------------------------------------------------------------\n",
            "Input size (MB): 0.00\n",
            "Forward/backward pass size (MB): 0.12\n",
            "Params size (MB): 1.64\n",
            "Estimated Total Size (MB): 1.76\n",
            "----------------------------------------------------------------\n"
          ],
          "name": "stdout"
        }
      ]
    },
    {
      "cell_type": "markdown",
      "metadata": {
        "id": "sN1I6HhFdADG"
      },
      "source": [
        "Defining the loss function"
      ]
    },
    {
      "cell_type": "code",
      "metadata": {
        "id": "0mnfu_UvdK4_"
      },
      "source": [
        "from torch import nn\n",
        "loss_func = nn.NLLLoss(reduction=\"sum\")"
      ],
      "execution_count": null,
      "outputs": []
    },
    {
      "cell_type": "code",
      "metadata": {
        "id": "erJwOIwFdLvx",
        "outputId": "8b5d7c65-a11a-4235-bce3-01b38f880983",
        "colab": {
          "base_uri": "https://localhost:8080/",
          "height": 34
        }
      },
      "source": [
        "for xb, yb in train_dl:\n",
        "# move batch to cuda device \n",
        "  xb=xb.type(torch.float).to(device) \n",
        "  yb=yb.to(device)\n",
        "# get model output\n",
        "  out=model(xb)\n",
        "# calculate loss value\n",
        "  loss = loss_func(out, yb)\n",
        "  print (loss.item())\n",
        "  break"
      ],
      "execution_count": null,
      "outputs": [
        {
          "output_type": "stream",
          "text": [
            "114.11956787109375\n"
          ],
          "name": "stdout"
        }
      ]
    },
    {
      "cell_type": "code",
      "metadata": {
        "id": "VpuV9jiZeNvG"
      },
      "source": [
        "# compute gradients \n",
        "loss.backward()"
      ],
      "execution_count": null,
      "outputs": []
    },
    {
      "cell_type": "code",
      "metadata": {
        "id": "0DrGcyRujb3Y"
      },
      "source": [
        "from torch import optim\n",
        "opt = optim.Adam(model.parameters(), lr=1e-4)"
      ],
      "execution_count": null,
      "outputs": []
    },
    {
      "cell_type": "code",
      "metadata": {
        "id": "8Z_AD1ssjhML"
      },
      "source": [
        "# update model parameters \n",
        "opt.step()"
      ],
      "execution_count": null,
      "outputs": []
    },
    {
      "cell_type": "code",
      "metadata": {
        "id": "76ET_Y0rjrTY"
      },
      "source": [
        "# set gradients to zero \n",
        "opt.zero_grad()"
      ],
      "execution_count": null,
      "outputs": []
    },
    {
      "cell_type": "markdown",
      "metadata": {
        "id": "WVm6EJn1j5RC"
      },
      "source": [
        "training and evaluation"
      ]
    },
    {
      "cell_type": "code",
      "metadata": {
        "id": "uAr364Hnj7_Q"
      },
      "source": [
        "def loss_batch(loss_func, xb, yb,yb_h, opt=None): \n",
        "  loss = loss_func(yb_h, yb)\n",
        "  metric_b = metrics_batch(yb,yb_h)  \n",
        "  if opt is not None:\n",
        "    loss.backward() \n",
        "    opt.step() \n",
        "    opt.zero_grad()\n",
        "  return loss.item(), metric_b"
      ],
      "execution_count": null,
      "outputs": []
    },
    {
      "cell_type": "code",
      "metadata": {
        "id": "CyPQGIf0kQa9"
      },
      "source": [
        "def metrics_batch(target, output):\n",
        "  pred = output.argmax(dim=1, keepdim=True)\n",
        "  corrects=pred.eq(target.view_as(pred)).sum().item() \n",
        "  return corrects"
      ],
      "execution_count": null,
      "outputs": []
    },
    {
      "cell_type": "code",
      "metadata": {
        "id": "b9tWscOukk9q"
      },
      "source": [
        "def loss_epoch(model,loss_func,dataset_dl,opt=None): \n",
        "  loss=0.0\n",
        "  metric=0.0 \n",
        "  len_data=len(dataset_dl.dataset) \n",
        "  for xb, yb in dataset_dl:\n",
        "    xb=xb.type(torch.float).to(device) \n",
        "    yb=yb.to(device)\n",
        "    yb_h=model(xb)\n",
        "    loss_b,metric_b=loss_batch(loss_func, xb, yb,yb_h, opt) \n",
        "    loss+=loss_b\n",
        "    if metric_b is not None:\n",
        "        metric+=metric_b \n",
        "  loss/=len_data\n",
        "  metric/=len_data \n",
        "  return loss, metric"
      ],
      "execution_count": null,
      "outputs": []
    },
    {
      "cell_type": "code",
      "metadata": {
        "id": "GXZBr-2Qll4j"
      },
      "source": [
        "def train_val(epochs, model, loss_func, opt, train_dl, test_dl):\n",
        "    for epoch in range(epochs):\n",
        "        model.train()\n",
        "        train_loss, train_metric=loss_epoch(model,loss_func,train_dl,opt)\n",
        "        model.eval()\n",
        "        with torch.no_grad():\n",
        "          val_loss, val_metric=loss_epoch(model,loss_func,test_dl) \n",
        "          accuracy=100*val_metric\n",
        "          print(\"epoch: %d, train loss: %.6f, val loss: %.6f, accuracy: %.2f\" %(epoch, train_loss,val_loss,accuracy))"
      ],
      "execution_count": null,
      "outputs": []
    },
    {
      "cell_type": "code",
      "metadata": {
        "id": "EbeSY5Ijmc4u",
        "outputId": "5b8eb3a2-3e87-4fe7-c47c-eb3da3cc6e3e",
        "colab": {
          "base_uri": "https://localhost:8080/",
          "height": 102
        }
      },
      "source": [
        "num_epochs=5\n",
        "train_val(num_epochs, model, loss_func, opt, train_dl, test_dl)"
      ],
      "execution_count": null,
      "outputs": [
        {
          "output_type": "stream",
          "text": [
            "epoch: 0, train loss: 0.049064, val loss: 0.046259, accuracy: 98.60\n",
            "epoch: 1, train loss: 0.026580, val loss: 0.053161, accuracy: 98.51\n",
            "epoch: 2, train loss: 0.018991, val loss: 0.060113, accuracy: 98.44\n",
            "epoch: 3, train loss: 0.014824, val loss: 0.044193, accuracy: 99.02\n",
            "epoch: 4, train loss: 0.012774, val loss: 0.081759, accuracy: 98.50\n"
          ],
          "name": "stdout"
        }
      ]
    }
  ]
}