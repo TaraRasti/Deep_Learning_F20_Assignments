{
  "nbformat": 4,
  "nbformat_minor": 0,
  "metadata": {
    "colab": {
      "name": "cifar10.ipynb",
      "provenance": [],
      "collapsed_sections": [],
      "mount_file_id": "1Az1tz8zgboZD4GduwuLLsGmKKiFc-9p5",
      "authorship_tag": "ABX9TyOVaeuN9AoVxYaP67oMPofi",
      "include_colab_link": true
    },
    "kernelspec": {
      "name": "python3",
      "display_name": "Python 3"
    },
    "accelerator": "GPU"
  },
  "cells": [
    {
      "cell_type": "markdown",
      "metadata": {
        "id": "view-in-github",
        "colab_type": "text"
      },
      "source": [
        "<a href=\"https://colab.research.google.com/github/TaraRasti/Deep_Learning_F20_Assignments/blob/master/Assignment2/cifar10.ipynb\" target=\"_parent\"><img src=\"https://colab.research.google.com/assets/colab-badge.svg\" alt=\"Open In Colab\"/></a>"
      ]
    },
    {
      "cell_type": "code",
      "metadata": {
        "id": "_CwL-EUoz60f"
      },
      "source": [
        "import torch\n",
        "import torch.nn as nn\n",
        "import os\n",
        "from six.moves import cPickle as pickle\n",
        "import platform\n",
        "import numpy as np\n",
        "import matplotlib.pyplot as plt\n",
        "from tensorflow.keras import regularizers, optimizers\n",
        "from tensorflow.keras.models import Sequential\n",
        "from tensorflow.keras.layers import Conv2D, Flatten, Dense, MaxPooling2D, Dropout,BatchNormalization\n",
        "from tensorflow.keras.callbacks import EarlyStopping\n",
        "\n"
      ],
      "execution_count": 1,
      "outputs": []
    },
    {
      "cell_type": "code",
      "metadata": {
        "id": "skz97h7qWZIy",
        "outputId": "6ddc82a0-08b2-43a0-f4db-b2f9c9c1f72a",
        "colab": {
          "base_uri": "https://localhost:8080/",
          "height": 119
        }
      },
      "source": [
        "classes = ('plane', 'car', 'bird', 'cat',\n",
        "           'deer', 'dog', 'frog', 'horse', 'ship', 'truck')\n",
        "img_rows, img_cols = 32, 32\n",
        "input_shape = (img_rows, img_cols, 3)\n",
        "def load_pickle(f):\n",
        "    version = platform.python_version_tuple()\n",
        "    if version[0] == '2':\n",
        "        return  pickle.load(f)\n",
        "    elif version[0] == '3':\n",
        "        return  pickle.load(f, encoding='latin1')\n",
        "    raise ValueError(\"invalid python version: {}\".format(version))\n",
        "def load_CIFAR_batch(filename):\n",
        "    with open(filename, 'rb') as f:\n",
        "        datadict = load_pickle(f)\n",
        "        X = datadict['data']\n",
        "        Y = datadict['labels']\n",
        "        X = X.reshape(10000,32,32,3)\n",
        "        Y = np.array(Y)\n",
        "        return X, Y\n",
        "def load_CIFAR10(ROOT):\n",
        "    xs = []\n",
        "    ys = []\n",
        "    for b in range(1,6):\n",
        "        f = os.path.join(ROOT, '/content/drive/My Drive/cifar-10-batches-py/data_batch_%d' % (b, ))\n",
        "        X, Y = load_CIFAR_batch(f)\n",
        "        xs.append(X)\n",
        "        ys.append(Y)\n",
        "    Xtr = np.concatenate(xs)\n",
        "    Ytr = np.concatenate(ys)\n",
        "    del X, Y\n",
        "    Xte, Yte = load_CIFAR_batch(os.path.join(ROOT, 'test_batch'))\n",
        "    return Xtr, Ytr, Xte, Yte\n",
        " \n",
        "def get_CIFAR10_data(num_training=49000, num_validation=1000, num_test=10000):\n",
        "    cifar10_dir = '/content/drive/My Drive/cifar-10-batches-py'\n",
        "    X_train, y_train, X_test, y_test = load_CIFAR10(cifar10_dir)\n",
        "    mask = range(num_training, num_training + num_validation)\n",
        "    X_val = X_train[mask]\n",
        "    y_val = y_train[mask]\n",
        "    mask = range(num_training)\n",
        "    X_train = X_train[mask]\n",
        "    y_train = y_train[mask]\n",
        "    mask = range(num_test)\n",
        "    X_test = X_test[mask]\n",
        "    y_test = y_test[mask]\n",
        "    x_train = X_train.astype('float32')\n",
        "    x_val = X_val.astype('float32')\n",
        "    x_test = X_test.astype('float32')\n",
        "    x_train /= 255\n",
        "    x_val /= 255\n",
        "    x_test /= 255\n",
        "    return x_train, y_train, x_val, y_val, x_test, y_test\n",
        " \n",
        "\n",
        "x_train, y_train, x_val, y_val, x_test, y_test = get_CIFAR10_data()\n",
        " \n",
        "print('Train data shape: ', x_train.shape)\n",
        "print('Train labels shape: ', y_train.shape)\n",
        "print('Validation data shape: ', x_val.shape)\n",
        "print('Validation labels shape: ', y_val.shape)\n",
        "print('Test data shape: ', x_test.shape)\n",
        "print('Test labels shape: ', y_test.shape)"
      ],
      "execution_count": 2,
      "outputs": [
        {
          "output_type": "stream",
          "text": [
            "Train data shape:  (49000, 32, 32, 3)\n",
            "Train labels shape:  (49000,)\n",
            "Validation data shape:  (1000, 32, 32, 3)\n",
            "Validation labels shape:  (1000,)\n",
            "Test data shape:  (10000, 32, 32, 3)\n",
            "Test labels shape:  (10000,)\n"
          ],
          "name": "stdout"
        }
      ]
    },
    {
      "cell_type": "code",
      "metadata": {
        "id": "Q3pI-1ew-cGi"
      },
      "source": [
        "model = Sequential([\n",
        "                    Conv2D(32, (3, 3), padding='same', input_shape = (32, 32, 3), activation='relu'),\n",
        "                    MaxPooling2D(pool_size=(2, 2)),\n",
        "                    Conv2D(64, (3, 3), padding='same', activation='relu'),\n",
        "                    MaxPooling2D(pool_size=(2, 2)),\n",
        "                    Conv2D(64, (3, 3), padding='same', activation='relu'),\n",
        "                    MaxPooling2D(pool_size=(2, 2)),\n",
        "                    Flatten(),\n",
        "                    Dense(128, activation='relu'),\n",
        "                    Dropout(0.5),\n",
        "                    Dense(10, activation='softmax')\n",
        "\n",
        "])"
      ],
      "execution_count": 4,
      "outputs": []
    },
    {
      "cell_type": "code",
      "metadata": {
        "id": "WMeQVc0Q-gb5",
        "outputId": "cb06719e-48cb-4179-b0e0-1c0096642c6e",
        "colab": {
          "base_uri": "https://localhost:8080/",
          "height": 493
        }
      },
      "source": [
        "model.summary()"
      ],
      "execution_count": 5,
      "outputs": [
        {
          "output_type": "stream",
          "text": [
            "Model: \"sequential\"\n",
            "_________________________________________________________________\n",
            "Layer (type)                 Output Shape              Param #   \n",
            "=================================================================\n",
            "conv2d (Conv2D)              (None, 32, 32, 32)        896       \n",
            "_________________________________________________________________\n",
            "max_pooling2d (MaxPooling2D) (None, 16, 16, 32)        0         \n",
            "_________________________________________________________________\n",
            "conv2d_1 (Conv2D)            (None, 16, 16, 64)        18496     \n",
            "_________________________________________________________________\n",
            "max_pooling2d_1 (MaxPooling2 (None, 8, 8, 64)          0         \n",
            "_________________________________________________________________\n",
            "conv2d_2 (Conv2D)            (None, 8, 8, 64)          36928     \n",
            "_________________________________________________________________\n",
            "max_pooling2d_2 (MaxPooling2 (None, 4, 4, 64)          0         \n",
            "_________________________________________________________________\n",
            "flatten (Flatten)            (None, 1024)              0         \n",
            "_________________________________________________________________\n",
            "dense (Dense)                (None, 128)               131200    \n",
            "_________________________________________________________________\n",
            "dropout (Dropout)            (None, 128)               0         \n",
            "_________________________________________________________________\n",
            "dense_1 (Dense)              (None, 10)                1290      \n",
            "=================================================================\n",
            "Total params: 188,810\n",
            "Trainable params: 188,810\n",
            "Non-trainable params: 0\n",
            "_________________________________________________________________\n"
          ],
          "name": "stdout"
        }
      ]
    },
    {
      "cell_type": "code",
      "metadata": {
        "id": "ulb-_w7v-mhX"
      },
      "source": [
        "sgd = optimizers.SGD(lr = 0.001, momentum= 0.9)\n",
        "model.compile(optimizer= sgd,\n",
        "              loss = 'sparse_categorical_crossentropy',\n",
        "              metrics = ['accuracy'])\n",
        "\n",
        "early_stop = EarlyStopping(monitor = 'val_loss', patience = 10)"
      ],
      "execution_count": 6,
      "outputs": []
    },
    {
      "cell_type": "code",
      "metadata": {
        "id": "8ViE-RPU-0kq",
        "outputId": "621f3cf1-33c8-43bd-fdee-340ddca27cec",
        "colab": {
          "base_uri": "https://localhost:8080/",
          "height": 1000
        }
      },
      "source": [
        "history = model.fit(x_train, y_train, epochs = 100, validation_data= (x_val,y_val),callbacks = [early_stop])"
      ],
      "execution_count": 7,
      "outputs": [
        {
          "output_type": "stream",
          "text": [
            "Epoch 1/100\n",
            "1532/1532 [==============================] - 5s 3ms/step - loss: 2.1402 - accuracy: 0.2108 - val_loss: 1.9070 - val_accuracy: 0.3350\n",
            "Epoch 2/100\n",
            "1532/1532 [==============================] - 4s 3ms/step - loss: 1.8538 - accuracy: 0.3262 - val_loss: 1.6570 - val_accuracy: 0.4200\n",
            "Epoch 3/100\n",
            "1532/1532 [==============================] - 5s 3ms/step - loss: 1.7159 - accuracy: 0.3762 - val_loss: 1.5683 - val_accuracy: 0.4540\n",
            "Epoch 4/100\n",
            "1532/1532 [==============================] - 5s 3ms/step - loss: 1.6319 - accuracy: 0.4077 - val_loss: 1.4995 - val_accuracy: 0.4600\n",
            "Epoch 5/100\n",
            "1532/1532 [==============================] - 5s 3ms/step - loss: 1.5725 - accuracy: 0.4304 - val_loss: 1.4432 - val_accuracy: 0.4810\n",
            "Epoch 6/100\n",
            "1532/1532 [==============================] - 4s 3ms/step - loss: 1.5237 - accuracy: 0.4506 - val_loss: 1.3944 - val_accuracy: 0.5010\n",
            "Epoch 7/100\n",
            "1532/1532 [==============================] - 4s 3ms/step - loss: 1.4809 - accuracy: 0.4658 - val_loss: 1.3559 - val_accuracy: 0.4990\n",
            "Epoch 8/100\n",
            "1532/1532 [==============================] - 4s 3ms/step - loss: 1.4432 - accuracy: 0.4838 - val_loss: 1.3138 - val_accuracy: 0.5180\n",
            "Epoch 9/100\n",
            "1532/1532 [==============================] - 4s 3ms/step - loss: 1.4036 - accuracy: 0.4976 - val_loss: 1.2820 - val_accuracy: 0.5430\n",
            "Epoch 10/100\n",
            "1532/1532 [==============================] - 4s 3ms/step - loss: 1.3709 - accuracy: 0.5112 - val_loss: 1.2518 - val_accuracy: 0.5510\n",
            "Epoch 11/100\n",
            "1532/1532 [==============================] - 4s 3ms/step - loss: 1.3387 - accuracy: 0.5199 - val_loss: 1.2343 - val_accuracy: 0.5590\n",
            "Epoch 12/100\n",
            "1532/1532 [==============================] - 4s 3ms/step - loss: 1.3078 - accuracy: 0.5372 - val_loss: 1.2091 - val_accuracy: 0.5550\n",
            "Epoch 13/100\n",
            "1532/1532 [==============================] - 4s 3ms/step - loss: 1.2791 - accuracy: 0.5471 - val_loss: 1.1873 - val_accuracy: 0.5760\n",
            "Epoch 14/100\n",
            "1532/1532 [==============================] - 4s 3ms/step - loss: 1.2510 - accuracy: 0.5583 - val_loss: 1.1494 - val_accuracy: 0.5990\n",
            "Epoch 15/100\n",
            "1532/1532 [==============================] - 4s 3ms/step - loss: 1.2255 - accuracy: 0.5653 - val_loss: 1.1282 - val_accuracy: 0.5940\n",
            "Epoch 16/100\n",
            "1532/1532 [==============================] - 4s 3ms/step - loss: 1.1978 - accuracy: 0.5764 - val_loss: 1.1482 - val_accuracy: 0.5700\n",
            "Epoch 17/100\n",
            "1532/1532 [==============================] - 4s 3ms/step - loss: 1.1748 - accuracy: 0.5822 - val_loss: 1.1605 - val_accuracy: 0.5810\n",
            "Epoch 18/100\n",
            "1532/1532 [==============================] - 4s 3ms/step - loss: 1.1540 - accuracy: 0.5918 - val_loss: 1.0743 - val_accuracy: 0.6270\n",
            "Epoch 19/100\n",
            "1532/1532 [==============================] - 4s 3ms/step - loss: 1.1314 - accuracy: 0.6032 - val_loss: 1.0702 - val_accuracy: 0.6380\n",
            "Epoch 20/100\n",
            "1532/1532 [==============================] - 4s 3ms/step - loss: 1.1091 - accuracy: 0.6100 - val_loss: 1.1024 - val_accuracy: 0.6220\n",
            "Epoch 21/100\n",
            "1532/1532 [==============================] - 4s 3ms/step - loss: 1.0952 - accuracy: 0.6118 - val_loss: 1.0433 - val_accuracy: 0.6470\n",
            "Epoch 22/100\n",
            "1532/1532 [==============================] - 4s 3ms/step - loss: 1.0707 - accuracy: 0.6218 - val_loss: 1.0819 - val_accuracy: 0.6100\n",
            "Epoch 23/100\n",
            "1532/1532 [==============================] - 4s 3ms/step - loss: 1.0452 - accuracy: 0.6327 - val_loss: 1.0508 - val_accuracy: 0.6350\n",
            "Epoch 24/100\n",
            "1532/1532 [==============================] - 4s 3ms/step - loss: 1.0295 - accuracy: 0.6369 - val_loss: 1.0169 - val_accuracy: 0.6460\n",
            "Epoch 25/100\n",
            "1532/1532 [==============================] - 4s 3ms/step - loss: 1.0105 - accuracy: 0.6439 - val_loss: 1.0322 - val_accuracy: 0.6420\n",
            "Epoch 26/100\n",
            "1532/1532 [==============================] - 4s 3ms/step - loss: 0.9958 - accuracy: 0.6492 - val_loss: 1.0621 - val_accuracy: 0.6210\n",
            "Epoch 27/100\n",
            "1532/1532 [==============================] - 4s 3ms/step - loss: 0.9767 - accuracy: 0.6538 - val_loss: 1.0035 - val_accuracy: 0.6570\n",
            "Epoch 28/100\n",
            "1532/1532 [==============================] - 4s 3ms/step - loss: 0.9607 - accuracy: 0.6611 - val_loss: 0.9941 - val_accuracy: 0.6650\n",
            "Epoch 29/100\n",
            "1532/1532 [==============================] - 4s 3ms/step - loss: 0.9444 - accuracy: 0.6653 - val_loss: 1.0281 - val_accuracy: 0.6390\n",
            "Epoch 30/100\n",
            "1532/1532 [==============================] - 4s 3ms/step - loss: 0.9298 - accuracy: 0.6713 - val_loss: 1.0133 - val_accuracy: 0.6520\n",
            "Epoch 31/100\n",
            "1532/1532 [==============================] - 4s 3ms/step - loss: 0.9131 - accuracy: 0.6765 - val_loss: 1.0103 - val_accuracy: 0.6540\n",
            "Epoch 32/100\n",
            "1532/1532 [==============================] - 4s 3ms/step - loss: 0.8928 - accuracy: 0.6841 - val_loss: 0.9708 - val_accuracy: 0.6740\n",
            "Epoch 33/100\n",
            "1532/1532 [==============================] - 4s 3ms/step - loss: 0.8737 - accuracy: 0.6904 - val_loss: 1.0142 - val_accuracy: 0.6450\n",
            "Epoch 34/100\n",
            "1532/1532 [==============================] - 4s 3ms/step - loss: 0.8648 - accuracy: 0.6905 - val_loss: 0.9873 - val_accuracy: 0.6730\n",
            "Epoch 35/100\n",
            "1532/1532 [==============================] - 4s 3ms/step - loss: 0.8478 - accuracy: 0.6984 - val_loss: 1.0090 - val_accuracy: 0.6550\n",
            "Epoch 36/100\n",
            "1532/1532 [==============================] - 4s 3ms/step - loss: 0.8306 - accuracy: 0.7059 - val_loss: 0.9728 - val_accuracy: 0.6800\n",
            "Epoch 37/100\n",
            "1532/1532 [==============================] - 4s 3ms/step - loss: 0.8173 - accuracy: 0.7100 - val_loss: 0.9955 - val_accuracy: 0.6770\n",
            "Epoch 38/100\n",
            "1532/1532 [==============================] - 4s 3ms/step - loss: 0.8047 - accuracy: 0.7125 - val_loss: 0.9850 - val_accuracy: 0.6600\n",
            "Epoch 39/100\n",
            "1532/1532 [==============================] - 4s 3ms/step - loss: 0.7907 - accuracy: 0.7197 - val_loss: 0.9755 - val_accuracy: 0.6720\n",
            "Epoch 40/100\n",
            "1532/1532 [==============================] - 4s 3ms/step - loss: 0.7729 - accuracy: 0.7249 - val_loss: 1.0085 - val_accuracy: 0.6790\n",
            "Epoch 41/100\n",
            "1532/1532 [==============================] - 4s 3ms/step - loss: 0.7600 - accuracy: 0.7278 - val_loss: 0.9668 - val_accuracy: 0.6780\n",
            "Epoch 42/100\n",
            "1532/1532 [==============================] - 4s 3ms/step - loss: 0.7499 - accuracy: 0.7304 - val_loss: 0.9997 - val_accuracy: 0.6650\n",
            "Epoch 43/100\n",
            "1532/1532 [==============================] - 4s 3ms/step - loss: 0.7325 - accuracy: 0.7368 - val_loss: 0.9918 - val_accuracy: 0.6710\n",
            "Epoch 44/100\n",
            "1532/1532 [==============================] - 4s 3ms/step - loss: 0.7144 - accuracy: 0.7431 - val_loss: 1.0015 - val_accuracy: 0.6760\n",
            "Epoch 45/100\n",
            "1532/1532 [==============================] - 4s 3ms/step - loss: 0.7063 - accuracy: 0.7462 - val_loss: 1.0128 - val_accuracy: 0.6640\n",
            "Epoch 46/100\n",
            "1532/1532 [==============================] - 4s 3ms/step - loss: 0.6991 - accuracy: 0.7472 - val_loss: 1.0465 - val_accuracy: 0.6650\n",
            "Epoch 47/100\n",
            "1532/1532 [==============================] - 4s 3ms/step - loss: 0.6849 - accuracy: 0.7538 - val_loss: 1.0100 - val_accuracy: 0.6760\n",
            "Epoch 48/100\n",
            "1532/1532 [==============================] - 4s 3ms/step - loss: 0.6658 - accuracy: 0.7600 - val_loss: 1.0294 - val_accuracy: 0.6620\n",
            "Epoch 49/100\n",
            "1532/1532 [==============================] - 4s 3ms/step - loss: 0.6589 - accuracy: 0.7623 - val_loss: 1.0230 - val_accuracy: 0.6800\n",
            "Epoch 50/100\n",
            "1532/1532 [==============================] - 4s 3ms/step - loss: 0.6459 - accuracy: 0.7645 - val_loss: 1.0664 - val_accuracy: 0.6740\n",
            "Epoch 51/100\n",
            "1532/1532 [==============================] - 4s 3ms/step - loss: 0.6328 - accuracy: 0.7682 - val_loss: 1.0778 - val_accuracy: 0.6620\n"
          ],
          "name": "stdout"
        }
      ]
    },
    {
      "cell_type": "code",
      "metadata": {
        "id": "g2HDswedA3X2",
        "outputId": "084c3dc2-e788-4da1-9e4b-b9d2bda327b5",
        "colab": {
          "base_uri": "https://localhost:8080/",
          "height": 34
        }
      },
      "source": [
        "test_loss, test_accuracy = model.evaluate(x_test, y_test)"
      ],
      "execution_count": 8,
      "outputs": [
        {
          "output_type": "stream",
          "text": [
            "313/313 [==============================] - 1s 2ms/step - loss: 1.1306 - accuracy: 0.6505\n"
          ],
          "name": "stdout"
        }
      ]
    },
    {
      "cell_type": "code",
      "metadata": {
        "id": "u2rYYK0yBPLD",
        "outputId": "df5a2d7f-3ab8-4bd9-80c9-346333d79772",
        "colab": {
          "base_uri": "https://localhost:8080/",
          "height": 295
        }
      },
      "source": [
        "\n",
        "plt.plot(history.history['accuracy'])\n",
        "plt.plot(history.history['val_accuracy'])\n",
        "plt.title(\"Accuracy\")\n",
        "plt.ylabel(\"accuracy\")\n",
        "plt.xlabel(\"epoch\")\n",
        "plt.legend(['train', 'validation'], loc='upper left')\n",
        "plt.show()"
      ],
      "execution_count": 9,
      "outputs": [
        {
          "output_type": "display_data",
          "data": {
            "image/png": "[encoded data removed]",
            "text/plain": [
              "<Figure size 432x288 with 1 Axes>"
            ]
          },
          "metadata": {
            "tags": [],
            "needs_background": "light"
          }
        }
      ]
    },
    {
      "cell_type": "code",
      "metadata": {
        "id": "d1Am0d31BPZB"
      },
      "source": [
        "model = Sequential()\n",
        "\n",
        "model.add( Conv2D(32, (3, 3), padding='same', input_shape = (32, 32, 3), activation='relu', kernel_regularizer= regularizers.l2(1e-4)) )\n",
        "model.add( Conv2D(32, (3, 3), padding='same', activation='relu',  kernel_regularizer= regularizers.l2(1e-4)) )\n",
        "model.add(MaxPooling2D(pool_size=(2, 2)))\n",
        "\n",
        "\n",
        "model.add( Conv2D(64, (3, 3), padding='same', activation='relu',  kernel_regularizer= regularizers.l2(1e-4)) )\n",
        "model.add( Conv2D(64, (3, 3), padding='same', activation='relu',  kernel_regularizer= regularizers.l2(1e-4)) )\n",
        "model.add(MaxPooling2D(pool_size=(2, 2)))\n",
        "\n",
        "model.add( Conv2D(128, (3, 3), padding='same', activation='relu',  kernel_regularizer= regularizers.l2(1e-4)) )\n",
        "model.add( Conv2D(128, (3, 3), padding='same', activation='relu',  kernel_regularizer= regularizers.l2(1e-4)) )\n",
        "model.add(MaxPooling2D(pool_size=(2, 2)))\n",
        "\n",
        "model.add( Conv2D(256, (3, 3), padding='same', activation='relu',  kernel_regularizer= regularizers.l2(1e-4)) )\n",
        "model.add( Conv2D(256, (3, 3), padding='same', activation='relu',  kernel_regularizer= regularizers.l2(1e-4)) )\n",
        "model.add(MaxPooling2D(pool_size=(2, 2)))\n",
        "\n",
        "model.add(Flatten())\n",
        "model.add(Dense(10, activation='softmax'))"
      ],
      "execution_count": 11,
      "outputs": []
    },
    {
      "cell_type": "code",
      "metadata": {
        "id": "6eG9X0tdBc2Z",
        "outputId": "26b68e29-3654-45a3-c4ea-caa4a465ec1b",
        "colab": {
          "base_uri": "https://localhost:8080/",
          "height": 629
        }
      },
      "source": [
        "model.summary()"
      ],
      "execution_count": 12,
      "outputs": [
        {
          "output_type": "stream",
          "text": [
            "Model: \"sequential_1\"\n",
            "_________________________________________________________________\n",
            "Layer (type)                 Output Shape              Param #   \n",
            "=================================================================\n",
            "conv2d_3 (Conv2D)            (None, 32, 32, 32)        896       \n",
            "_________________________________________________________________\n",
            "conv2d_4 (Conv2D)            (None, 32, 32, 32)        9248      \n",
            "_________________________________________________________________\n",
            "max_pooling2d_3 (MaxPooling2 (None, 16, 16, 32)        0         \n",
            "_________________________________________________________________\n",
            "conv2d_5 (Conv2D)            (None, 16, 16, 64)        18496     \n",
            "_________________________________________________________________\n",
            "conv2d_6 (Conv2D)            (None, 16, 16, 64)        36928     \n",
            "_________________________________________________________________\n",
            "max_pooling2d_4 (MaxPooling2 (None, 8, 8, 64)          0         \n",
            "_________________________________________________________________\n",
            "conv2d_7 (Conv2D)            (None, 8, 8, 128)         73856     \n",
            "_________________________________________________________________\n",
            "conv2d_8 (Conv2D)            (None, 8, 8, 128)         147584    \n",
            "_________________________________________________________________\n",
            "max_pooling2d_5 (MaxPooling2 (None, 4, 4, 128)         0         \n",
            "_________________________________________________________________\n",
            "conv2d_9 (Conv2D)            (None, 4, 4, 256)         295168    \n",
            "_________________________________________________________________\n",
            "conv2d_10 (Conv2D)           (None, 4, 4, 256)         590080    \n",
            "_________________________________________________________________\n",
            "max_pooling2d_6 (MaxPooling2 (None, 2, 2, 256)         0         \n",
            "_________________________________________________________________\n",
            "flatten_1 (Flatten)          (None, 1024)              0         \n",
            "_________________________________________________________________\n",
            "dense_2 (Dense)              (None, 10)                10250     \n",
            "=================================================================\n",
            "Total params: 1,182,506\n",
            "Trainable params: 1,182,506\n",
            "Non-trainable params: 0\n",
            "_________________________________________________________________\n"
          ],
          "name": "stdout"
        }
      ]
    },
    {
      "cell_type": "code",
      "metadata": {
        "id": "LXfLgX58Bc7t"
      },
      "source": [
        "model.compile(optimizer= 'nadam',\n",
        "              loss = 'sparse_categorical_crossentropy',\n",
        "              metrics = ['accuracy'])"
      ],
      "execution_count": 13,
      "outputs": []
    },
    {
      "cell_type": "code",
      "metadata": {
        "id": "_sHTb8PaBdBF",
        "outputId": "d74df44e-3091-4d95-ad38-a84b2ecbfdb4",
        "colab": {
          "base_uri": "https://localhost:8080/",
          "height": 751
        }
      },
      "source": [
        "history = model.fit(x_train, y_train, epochs = 100,validation_data = (x_val,y_val),callbacks = [early_stop])"
      ],
      "execution_count": 15,
      "outputs": [
        {
          "output_type": "stream",
          "text": [
            "Epoch 1/100\n",
            "1532/1532 [==============================] - 10s 7ms/step - loss: 1.9324 - accuracy: 0.2801 - val_loss: 1.6798 - val_accuracy: 0.4000\n",
            "Epoch 2/100\n",
            "1532/1532 [==============================] - 10s 7ms/step - loss: 1.5295 - accuracy: 0.4486 - val_loss: 1.4843 - val_accuracy: 0.4770\n",
            "Epoch 3/100\n",
            "1532/1532 [==============================] - 10s 7ms/step - loss: 1.3777 - accuracy: 0.5119 - val_loss: 1.6452 - val_accuracy: 0.4560\n",
            "Epoch 4/100\n",
            "1532/1532 [==============================] - 10s 7ms/step - loss: 1.2762 - accuracy: 0.5531 - val_loss: 1.2894 - val_accuracy: 0.5570\n",
            "Epoch 5/100\n",
            "1532/1532 [==============================] - 10s 7ms/step - loss: 1.2052 - accuracy: 0.5841 - val_loss: 1.2462 - val_accuracy: 0.5570\n",
            "Epoch 6/100\n",
            "1532/1532 [==============================] - 10s 7ms/step - loss: 1.1523 - accuracy: 0.6068 - val_loss: 1.1732 - val_accuracy: 0.5950\n",
            "Epoch 7/100\n",
            "1532/1532 [==============================] - 11s 7ms/step - loss: 1.1121 - accuracy: 0.6248 - val_loss: 1.1636 - val_accuracy: 0.5790\n",
            "Epoch 8/100\n",
            "1532/1532 [==============================] - 10s 7ms/step - loss: 1.0745 - accuracy: 0.6385 - val_loss: 1.1734 - val_accuracy: 0.5960\n",
            "Epoch 9/100\n",
            "1532/1532 [==============================] - 10s 7ms/step - loss: 1.0453 - accuracy: 0.6507 - val_loss: 1.1453 - val_accuracy: 0.6190\n",
            "Epoch 10/100\n",
            "1532/1532 [==============================] - 10s 7ms/step - loss: 1.0196 - accuracy: 0.6615 - val_loss: 1.2106 - val_accuracy: 0.5920\n",
            "Epoch 11/100\n",
            "1532/1532 [==============================] - 10s 7ms/step - loss: 0.9977 - accuracy: 0.6728 - val_loss: 1.1220 - val_accuracy: 0.6390\n",
            "Epoch 12/100\n",
            "1532/1532 [==============================] - 10s 7ms/step - loss: 0.9754 - accuracy: 0.6811 - val_loss: 1.1393 - val_accuracy: 0.6240\n",
            "Epoch 13/100\n",
            "1532/1532 [==============================] - 10s 7ms/step - loss: 0.9525 - accuracy: 0.6927 - val_loss: 1.1763 - val_accuracy: 0.6170\n",
            "Epoch 14/100\n",
            "1532/1532 [==============================] - 10s 7ms/step - loss: 0.9286 - accuracy: 0.7012 - val_loss: 1.1616 - val_accuracy: 0.6250\n",
            "Epoch 15/100\n",
            "1532/1532 [==============================] - 10s 7ms/step - loss: 0.9126 - accuracy: 0.7066 - val_loss: 1.2074 - val_accuracy: 0.6200\n",
            "Epoch 16/100\n",
            "1532/1532 [==============================] - 10s 7ms/step - loss: 0.8971 - accuracy: 0.7138 - val_loss: 1.1935 - val_accuracy: 0.6210\n",
            "Epoch 17/100\n",
            "1532/1532 [==============================] - 10s 7ms/step - loss: 0.8819 - accuracy: 0.7212 - val_loss: 1.1587 - val_accuracy: 0.6280\n",
            "Epoch 18/100\n",
            "1532/1532 [==============================] - 10s 7ms/step - loss: 0.8660 - accuracy: 0.7281 - val_loss: 1.2012 - val_accuracy: 0.6360\n",
            "Epoch 19/100\n",
            "1532/1532 [==============================] - 10s 7ms/step - loss: 0.8479 - accuracy: 0.7371 - val_loss: 1.1662 - val_accuracy: 0.6360\n",
            "Epoch 20/100\n",
            "1532/1532 [==============================] - 10s 7ms/step - loss: 0.8370 - accuracy: 0.7422 - val_loss: 1.2210 - val_accuracy: 0.6210\n",
            "Epoch 21/100\n",
            "1532/1532 [==============================] - 10s 7ms/step - loss: 0.8237 - accuracy: 0.7474 - val_loss: 1.2334 - val_accuracy: 0.6400\n"
          ],
          "name": "stdout"
        }
      ]
    },
    {
      "cell_type": "code",
      "metadata": {
        "id": "nhLM4ltmBdFs",
        "outputId": "1eb77a5a-41a7-4462-b500-33cd0ed11e28",
        "colab": {
          "base_uri": "https://localhost:8080/",
          "height": 295
        }
      },
      "source": [
        "plt.plot(history.history['accuracy'])\n",
        "plt.plot(history.history['val_accuracy'])\n",
        "plt.title(\"Accuracy\")\n",
        "plt.ylabel(\"accuracy\")\n",
        "plt.xlabel(\"epoch\")\n",
        "plt.legend(['train', 'validation'], loc='upper left')\n",
        "plt.show()"
      ],
      "execution_count": 16,
      "outputs": [
        {
          "output_type": "display_data",
          "data": {
            "image/png": "[encoded data removed]",
            "text/plain": [
              "<Figure size 432x288 with 1 Axes>"
            ]
          },
          "metadata": {
            "tags": [],
            "needs_background": "light"
          }
        }
      ]
    },
    {
      "cell_type": "code",
      "metadata": {
        "id": "35nC8W9hBdK4",
        "outputId": "b598feba-a9f9-4b8b-86d0-a76b2e3ad6ff",
        "colab": {
          "base_uri": "https://localhost:8080/",
          "height": 1000
        }
      },
      "source": [
        "model = Sequential()\n",
        "\n",
        "model.add( Conv2D(32, (3, 3), padding='same', input_shape = (32, 32, 3), activation='relu', kernel_regularizer= regularizers.l2(1e-4)) )\n",
        "model.add(BatchNormalization())\n",
        "model.add( Conv2D(32, (3, 3), padding='same', activation='relu',  kernel_regularizer= regularizers.l2(1e-4)) )\n",
        "model.add(BatchNormalization())\n",
        "model.add(MaxPooling2D(pool_size=(2, 2)))\n",
        "model.add(Dropout(0.2))\n",
        "\n",
        "\n",
        "model.add( Conv2D(64, (3, 3), padding='same', activation='relu',  kernel_regularizer= regularizers.l2(1e-4)) )\n",
        "model.add(BatchNormalization())\n",
        "model.add( Conv2D(64, (3, 3), padding='same', activation='relu',  kernel_regularizer= regularizers.l2(1e-4)) )\n",
        "model.add(BatchNormalization())\n",
        "model.add(MaxPooling2D(pool_size=(2, 2)))\n",
        "model.add(Dropout(0.3))\n",
        "\n",
        "model.add( Conv2D(128, (3, 3), padding='same', activation='relu',  kernel_regularizer= regularizers.l2(1e-4)) )\n",
        "model.add(BatchNormalization())\n",
        "model.add( Conv2D(128, (3, 3), padding='same', activation='relu',  kernel_regularizer= regularizers.l2(1e-4)) )\n",
        "model.add(BatchNormalization())\n",
        "model.add(MaxPooling2D(pool_size=(2, 2)))\n",
        "model.add(Dropout(0.4))\n",
        "\n",
        "model.add( Conv2D(256, (3, 3), padding='same', activation='relu',  kernel_regularizer= regularizers.l2(1e-4)) )\n",
        "model.add(BatchNormalization())\n",
        "model.add( Conv2D(256, (3, 3), padding='same', activation='relu',  kernel_regularizer= regularizers.l2(1e-4)) )\n",
        "model.add(BatchNormalization())\n",
        "model.add(MaxPooling2D(pool_size=(2, 2)))\n",
        "model.add(Dropout(0.5))\n",
        "\n",
        "model.add(Flatten())\n",
        "model.add(Dense(10, activation='softmax'))\n",
        "\n",
        "model.summary()"
      ],
      "execution_count": 17,
      "outputs": [
        {
          "output_type": "stream",
          "text": [
            "Model: \"sequential_2\"\n",
            "_________________________________________________________________\n",
            "Layer (type)                 Output Shape              Param #   \n",
            "=================================================================\n",
            "conv2d_11 (Conv2D)           (None, 32, 32, 32)        896       \n",
            "_________________________________________________________________\n",
            "batch_normalization (BatchNo (None, 32, 32, 32)        128       \n",
            "_________________________________________________________________\n",
            "conv2d_12 (Conv2D)           (None, 32, 32, 32)        9248      \n",
            "_________________________________________________________________\n",
            "batch_normalization_1 (Batch (None, 32, 32, 32)        128       \n",
            "_________________________________________________________________\n",
            "max_pooling2d_7 (MaxPooling2 (None, 16, 16, 32)        0         \n",
            "_________________________________________________________________\n",
            "dropout_1 (Dropout)          (None, 16, 16, 32)        0         \n",
            "_________________________________________________________________\n",
            "conv2d_13 (Conv2D)           (None, 16, 16, 64)        18496     \n",
            "_________________________________________________________________\n",
            "batch_normalization_2 (Batch (None, 16, 16, 64)        256       \n",
            "_________________________________________________________________\n",
            "conv2d_14 (Conv2D)           (None, 16, 16, 64)        36928     \n",
            "_________________________________________________________________\n",
            "batch_normalization_3 (Batch (None, 16, 16, 64)        256       \n",
            "_________________________________________________________________\n",
            "max_pooling2d_8 (MaxPooling2 (None, 8, 8, 64)          0         \n",
            "_________________________________________________________________\n",
            "dropout_2 (Dropout)          (None, 8, 8, 64)          0         \n",
            "_________________________________________________________________\n",
            "conv2d_15 (Conv2D)           (None, 8, 8, 128)         73856     \n",
            "_________________________________________________________________\n",
            "batch_normalization_4 (Batch (None, 8, 8, 128)         512       \n",
            "_________________________________________________________________\n",
            "conv2d_16 (Conv2D)           (None, 8, 8, 128)         147584    \n",
            "_________________________________________________________________\n",
            "batch_normalization_5 (Batch (None, 8, 8, 128)         512       \n",
            "_________________________________________________________________\n",
            "max_pooling2d_9 (MaxPooling2 (None, 4, 4, 128)         0         \n",
            "_________________________________________________________________\n",
            "dropout_3 (Dropout)          (None, 4, 4, 128)         0         \n",
            "_________________________________________________________________\n",
            "conv2d_17 (Conv2D)           (None, 4, 4, 256)         295168    \n",
            "_________________________________________________________________\n",
            "batch_normalization_6 (Batch (None, 4, 4, 256)         1024      \n",
            "_________________________________________________________________\n",
            "conv2d_18 (Conv2D)           (None, 4, 4, 256)         590080    \n",
            "_________________________________________________________________\n",
            "batch_normalization_7 (Batch (None, 4, 4, 256)         1024      \n",
            "_________________________________________________________________\n",
            "max_pooling2d_10 (MaxPooling (None, 2, 2, 256)         0         \n",
            "_________________________________________________________________\n",
            "dropout_4 (Dropout)          (None, 2, 2, 256)         0         \n",
            "_________________________________________________________________\n",
            "flatten_2 (Flatten)          (None, 1024)              0         \n",
            "_________________________________________________________________\n",
            "dense_3 (Dense)              (None, 10)                10250     \n",
            "=================================================================\n",
            "Total params: 1,186,346\n",
            "Trainable params: 1,184,426\n",
            "Non-trainable params: 1,920\n",
            "_________________________________________________________________\n"
          ],
          "name": "stdout"
        }
      ]
    },
    {
      "cell_type": "code",
      "metadata": {
        "id": "DbRoygjgBdP9"
      },
      "source": [
        "model.compile(optimizer= 'nadam',\n",
        "              loss = 'sparse_categorical_crossentropy',\n",
        "              metrics = ['accuracy'])"
      ],
      "execution_count": 18,
      "outputs": []
    },
    {
      "cell_type": "code",
      "metadata": {
        "id": "P85iZ9f1EIOs",
        "outputId": "4f35636c-3b66-4e00-d6d3-509d8648de5c",
        "colab": {
          "base_uri": "https://localhost:8080/",
          "height": 1000
        }
      },
      "source": [
        "history = model.fit(x_train, y_train, epochs = 100,validation_data = (x_val,y_val), callbacks=[early_stop])"
      ],
      "execution_count": 19,
      "outputs": [
        {
          "output_type": "stream",
          "text": [
            "Epoch 1/100\n",
            "1532/1532 [==============================] - 14s 9ms/step - loss: 2.2395 - accuracy: 0.3513 - val_loss: 2.2084 - val_accuracy: 0.3260\n",
            "Epoch 2/100\n",
            "1532/1532 [==============================] - 14s 9ms/step - loss: 1.6938 - accuracy: 0.4787 - val_loss: 8.6476 - val_accuracy: 0.3410\n",
            "Epoch 3/100\n",
            "1532/1532 [==============================] - 14s 9ms/step - loss: 1.5201 - accuracy: 0.5377 - val_loss: 1.9609 - val_accuracy: 0.4570\n",
            "Epoch 4/100\n",
            "1532/1532 [==============================] - 14s 9ms/step - loss: 1.4378 - accuracy: 0.5739 - val_loss: 1.3811 - val_accuracy: 0.6050\n",
            "Epoch 5/100\n",
            "1532/1532 [==============================] - 14s 9ms/step - loss: 1.3705 - accuracy: 0.6019 - val_loss: 1.3860 - val_accuracy: 0.5860\n",
            "Epoch 6/100\n",
            "1532/1532 [==============================] - 14s 9ms/step - loss: 1.3218 - accuracy: 0.6238 - val_loss: 1.4232 - val_accuracy: 0.5900\n",
            "Epoch 7/100\n",
            "1532/1532 [==============================] - 14s 9ms/step - loss: 1.2726 - accuracy: 0.6446 - val_loss: 1.4395 - val_accuracy: 0.5990\n",
            "Epoch 8/100\n",
            "1532/1532 [==============================] - 14s 9ms/step - loss: 1.2464 - accuracy: 0.6600 - val_loss: 1.2225 - val_accuracy: 0.6560\n",
            "Epoch 9/100\n",
            "1532/1532 [==============================] - 14s 9ms/step - loss: 1.2001 - accuracy: 0.6768 - val_loss: 1.2433 - val_accuracy: 0.6760\n",
            "Epoch 10/100\n",
            "1532/1532 [==============================] - 15s 10ms/step - loss: 1.1713 - accuracy: 0.6864 - val_loss: 1.2281 - val_accuracy: 0.6780\n",
            "Epoch 11/100\n",
            "1532/1532 [==============================] - 14s 9ms/step - loss: 1.1494 - accuracy: 0.7012 - val_loss: 1.1341 - val_accuracy: 0.7010\n",
            "Epoch 12/100\n",
            "1532/1532 [==============================] - 14s 9ms/step - loss: 1.1267 - accuracy: 0.7070 - val_loss: 1.1825 - val_accuracy: 0.6830\n",
            "Epoch 13/100\n",
            "1532/1532 [==============================] - 14s 9ms/step - loss: 1.1081 - accuracy: 0.7148 - val_loss: 1.1719 - val_accuracy: 0.7090\n",
            "Epoch 14/100\n",
            "1532/1532 [==============================] - 14s 9ms/step - loss: 1.0920 - accuracy: 0.7214 - val_loss: 1.2168 - val_accuracy: 0.6950\n",
            "Epoch 15/100\n",
            "1532/1532 [==============================] - 14s 9ms/step - loss: 1.0817 - accuracy: 0.7263 - val_loss: 1.2068 - val_accuracy: 0.7030\n",
            "Epoch 16/100\n",
            "1532/1532 [==============================] - 14s 9ms/step - loss: 1.0692 - accuracy: 0.7315 - val_loss: 1.1227 - val_accuracy: 0.7320\n",
            "Epoch 17/100\n",
            "1532/1532 [==============================] - 14s 9ms/step - loss: 1.0572 - accuracy: 0.7350 - val_loss: 1.1405 - val_accuracy: 0.7090\n",
            "Epoch 18/100\n",
            "1532/1532 [==============================] - 14s 9ms/step - loss: 1.0523 - accuracy: 0.7391 - val_loss: 1.1572 - val_accuracy: 0.7060\n",
            "Epoch 19/100\n",
            "1532/1532 [==============================] - 14s 9ms/step - loss: 1.0375 - accuracy: 0.7449 - val_loss: 1.2594 - val_accuracy: 0.6790\n",
            "Epoch 20/100\n",
            "1532/1532 [==============================] - 14s 9ms/step - loss: 1.0277 - accuracy: 0.7486 - val_loss: 1.1906 - val_accuracy: 0.7030\n",
            "Epoch 21/100\n",
            "1532/1532 [==============================] - 14s 9ms/step - loss: 1.0223 - accuracy: 0.7496 - val_loss: 1.1995 - val_accuracy: 0.6900\n",
            "Epoch 22/100\n",
            "1532/1532 [==============================] - 14s 9ms/step - loss: 1.0145 - accuracy: 0.7535 - val_loss: 1.1882 - val_accuracy: 0.7170\n",
            "Epoch 23/100\n",
            "1532/1532 [==============================] - 14s 9ms/step - loss: 1.0071 - accuracy: 0.7569 - val_loss: 1.1051 - val_accuracy: 0.7370\n",
            "Epoch 24/100\n",
            "1532/1532 [==============================] - 14s 9ms/step - loss: 1.0052 - accuracy: 0.7569 - val_loss: 1.1185 - val_accuracy: 0.7160\n",
            "Epoch 25/100\n",
            "1532/1532 [==============================] - 14s 9ms/step - loss: 0.9966 - accuracy: 0.7630 - val_loss: 1.1163 - val_accuracy: 0.7310\n",
            "Epoch 26/100\n",
            "1532/1532 [==============================] - 14s 9ms/step - loss: 0.9931 - accuracy: 0.7641 - val_loss: 1.0651 - val_accuracy: 0.7450\n",
            "Epoch 27/100\n",
            "1532/1532 [==============================] - 14s 9ms/step - loss: 0.9851 - accuracy: 0.7671 - val_loss: 1.0673 - val_accuracy: 0.7540\n",
            "Epoch 28/100\n",
            "1532/1532 [==============================] - 14s 9ms/step - loss: 0.9853 - accuracy: 0.7665 - val_loss: 1.1210 - val_accuracy: 0.7170\n",
            "Epoch 29/100\n",
            "1532/1532 [==============================] - 14s 9ms/step - loss: 0.9822 - accuracy: 0.7676 - val_loss: 1.1177 - val_accuracy: 0.7460\n",
            "Epoch 30/100\n",
            "1532/1532 [==============================] - 14s 9ms/step - loss: 0.9792 - accuracy: 0.7686 - val_loss: 1.1540 - val_accuracy: 0.7380\n",
            "Epoch 31/100\n",
            "1532/1532 [==============================] - 14s 9ms/step - loss: 0.9752 - accuracy: 0.7713 - val_loss: 1.1569 - val_accuracy: 0.7130\n",
            "Epoch 32/100\n",
            "1532/1532 [==============================] - 14s 9ms/step - loss: 0.9742 - accuracy: 0.7746 - val_loss: 1.3911 - val_accuracy: 0.6550\n",
            "Epoch 33/100\n",
            "1532/1532 [==============================] - 14s 9ms/step - loss: 0.9672 - accuracy: 0.7747 - val_loss: 1.1181 - val_accuracy: 0.7330\n",
            "Epoch 34/100\n",
            "1532/1532 [==============================] - 14s 9ms/step - loss: 0.9652 - accuracy: 0.7768 - val_loss: 1.0818 - val_accuracy: 0.7420\n",
            "Epoch 35/100\n",
            "1532/1532 [==============================] - 14s 9ms/step - loss: 0.9620 - accuracy: 0.7764 - val_loss: 1.1503 - val_accuracy: 0.7310\n",
            "Epoch 36/100\n",
            "1532/1532 [==============================] - 14s 9ms/step - loss: 0.9571 - accuracy: 0.7799 - val_loss: 1.0889 - val_accuracy: 0.7330\n"
          ],
          "name": "stdout"
        }
      ]
    },
    {
      "cell_type": "code",
      "metadata": {
        "id": "RKd8EiaTEIUz",
        "outputId": "33816eb6-8d5d-4194-9ebb-8637c0310a57",
        "colab": {
          "base_uri": "https://localhost:8080/",
          "height": 295
        }
      },
      "source": [
        "plt.plot(history.history['accuracy'])\n",
        "plt.plot(history.history['val_accuracy'])\n",
        "plt.title(\"Accuracy\")\n",
        "plt.ylabel(\"accuracy\")\n",
        "plt.xlabel(\"epoch\")\n",
        "plt.legend(['train', 'test'], loc='upper left')\n",
        "plt.show()"
      ],
      "execution_count": 20,
      "outputs": [
        {
          "output_type": "display_data",
          "data": {
            "image/png": "[encoded data removed]",
            "text/plain": [
              "<Figure size 432x288 with 1 Axes>"
            ]
          },
          "metadata": {
            "tags": [],
            "needs_background": "light"
          }
        }
      ]
    },
    {
      "cell_type": "code",
      "metadata": {
        "id": "LahJPI9IEIfz",
        "outputId": "a860e613-eb29-49ea-c6cb-11a528be0942",
        "colab": {
          "base_uri": "https://localhost:8080/",
          "height": 295
        }
      },
      "source": [
        "plt.plot(history.history['loss'])\n",
        "plt.plot(history.history['val_loss'])\n",
        "plt.title(\"Accuracy\")\n",
        "plt.ylabel(\"accuracy\")\n",
        "plt.xlabel(\"epoch\")\n",
        "plt.legend(['train', 'validation'], loc='upper left')\n",
        "plt.show()"
      ],
      "execution_count": 21,
      "outputs": [
        {
          "output_type": "display_data",
          "data": {
            "image/png": "[encoded data removed]",
            "text/plain": [
              "<Figure size 432x288 with 1 Axes>"
            ]
          },
          "metadata": {
            "tags": [],
            "needs_background": "light"
          }
        }
      ]
    }
  ]
}