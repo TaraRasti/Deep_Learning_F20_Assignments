{
  "nbformat": 4,
  "nbformat_minor": 0,
  "metadata": {
    "colab": {
      "name": "cifar100.ipynb",
      "provenance": [],
      "collapsed_sections": [],
      "mount_file_id": "1YAL-5dMiLuqRPRkghofjRG5M_JFJx8kA",
      "authorship_tag": "ABX9TyPe/75ptwxkGsJ24A3DpiqF",
      "include_colab_link": true
    },
    "kernelspec": {
      "name": "python3",
      "display_name": "Python 3"
    }
  },
  "cells": [
    {
      "cell_type": "markdown",
      "metadata": {
        "id": "view-in-github",
        "colab_type": "text"
      },
      "source": [
        "<a href=\"https://colab.research.google.com/github/TaraRasti/Deep_Learning_F20_Assignments/blob/master/Assignment2/cifar100.ipynb\" target=\"_parent\"><img src=\"https://colab.research.google.com/assets/colab-badge.svg\" alt=\"Open In Colab\"/></a>"
      ]
    },
    {
      "cell_type": "code",
      "metadata": {
        "id": "0o9zyVud5WZ4",
        "outputId": "608f7e2f-0a3c-4492-8161-4a53c1cfe7e5",
        "colab": {
          "base_uri": "https://localhost:8080/"
        }
      },
      "source": [
        "import tensorflow as tf\n",
        "import keras\n",
        "from keras.models import Sequential\n",
        "import os\n",
        "from six.moves import cPickle as pickle\n",
        "import platform\n",
        "import numpy as np\n",
        " \n",
        "def load_files(filenames):\n",
        "    data = np.array([])\n",
        "    labels = np.array([])\n",
        "    for name in filenames:\n",
        "        with open(name, 'rb') as f:\n",
        "            mydict = pickle.load(f, encoding='latin1')\n",
        "        label_func = lambda x: np.array(x['fine_labels'], dtype='int32')\n",
        "        newlabels = label_func(mydict)\n",
        "        if data.size:\n",
        "            data = np.vstack([data, mydict['data']])\n",
        "            labels = np.hstack([labels, newlabels])\n",
        "        else:\n",
        "            data = mydict['data']\n",
        "            labels = newlabels\n",
        "    data = np.reshape(data, [-1, 3, 32, 32], order='C')\n",
        "    data = np.transpose(data, [0, 2, 3, 1])\n",
        "    return data, labels\n",
        "\n",
        "def load_CIFAR100(data_dir):\n",
        "    train_files = ['train']\n",
        "    train_files = [os.path.join(data_dir, f) for f in train_files]\n",
        "    test_files = ['test']\n",
        "    test_files = [os.path.join(data_dir, f) for f in test_files]\n",
        "    num_classes = 100\n",
        "    train_data, train_labels = load_files(train_files)\n",
        "    test_data, test_labels = load_files(test_files)\n",
        "    return train_data, train_labels, test_data, test_labels\n",
        " \n",
        "def get_CIFAR100_data(val_size=2000):\n",
        "    cifar100_dir = '/content/drive/My Drive/cifar-100-python'\n",
        "    x_train, y_train, x_test, y_test = load_CIFAR100(cifar100_dir)\n",
        "    x_train, x_val = np.split(x_train,[x_train.shape[0]-val_size])\n",
        "    y_train, y_val = np.split(y_train,[y_train.shape[0]-val_size])\n",
        "    x_train = x_train.astype('float32')\n",
        "    x_val = x_val.astype('float32')\n",
        "    x_test = x_test.astype('float32')\n",
        "    x_train /= 255\n",
        "    x_val /= 255\n",
        "    x_test /= 255\n",
        "    return x_train, y_train, x_val, y_val, x_test, y_test\n",
        "x_train, y_train, x_val, y_val, x_test, y_test = get_CIFAR100_data()\n"
      ],
      "execution_count": 13,
      "outputs": [
        {
          "output_type": "stream",
          "text": [
            "Train data shape:  (48000, 32, 32, 3)\n",
            "Train labels shape:  (48000,)\n",
            "Validation data shape:  (2000, 32, 32, 3)\n",
            "Validation labels shape:  (2000,)\n",
            "Test data shape:  (10000, 32, 32, 3)\n",
            "Test labels shape:  (10000,)\n"
          ],
          "name": "stdout"
        }
      ]
    },
    {
      "cell_type": "code",
      "metadata": {
        "id": "DWCyVx5A5XBB"
      },
      "source": [
        "classes = [\n",
        "    'apple', 'aquarium_fish', 'baby', 'bear', 'beaver', 'bed', 'bee', 'beetle',\n",
        "    'bicycle', 'bottle', 'bowl', 'boy', 'bridge', 'bus', 'butterfly', 'camel',\n",
        "    'can', 'castle', 'caterpillar', 'cattle', 'chair', 'chimpanzee', 'clock',\n",
        "    'cloud', 'cockroach', 'couch', 'crab', 'crocodile', 'cup', 'dinosaur',\n",
        "    'dolphin', 'elephant', 'flatfish', 'forest', 'fox', 'girl', 'hamster',\n",
        "    'house', 'kangaroo', 'keyboard', 'lamp', 'lawn_mower', 'leopard', 'lion',\n",
        "    'lizard', 'lobster', 'man', 'maple_tree', 'motorcycle', 'mountain', 'mouse',\n",
        "    'mushroom', 'oak_tree', 'orange', 'orchid', 'otter', 'palm_tree', 'pear',\n",
        "    'pickup_truck', 'pine_tree', 'plain', 'plate', 'poppy', 'porcupine',\n",
        "    'possum', 'rabbit', 'raccoon', 'ray', 'road', 'rocket', 'rose',\n",
        "    'sea', 'seal', 'shark', 'shrew', 'skunk', 'skyscraper', 'snail', 'snake',\n",
        "    'spider', 'squirrel', 'streetcar', 'sunflower', 'sweet_pepper', 'table',\n",
        "    'tank', 'telephone', 'television', 'tiger', 'tractor', 'train', 'trout',\n",
        "    'tulip', 'turtle', 'wardrobe', 'whale', 'willow_tree', 'wolf', 'woman',\n",
        "    'worm'\n",
        "]"
      ],
      "execution_count": 14,
      "outputs": []
    },
    {
      "cell_type": "code",
      "metadata": {
        "id": "LEuNjzEI5Zc-"
      },
      "source": [
        "model = tf.keras.models.Sequential([\n",
        "    tf.keras.layers.Conv2D(64, (3,3), activation='relu', input_shape=(32, 32, 3)),\n",
        "    tf.keras.layers.MaxPooling2D(2, 2),\n",
        "    tf.keras.layers.Conv2D(64, (3, 3), activation='relu'),\n",
        "    tf.keras.layers.MaxPooling2D(2, 2),\n",
        "    tf.keras.layers.Flatten(),\n",
        "    tf.keras.layers.Dense(512, activation='relu'),\n",
        "    tf.keras.layers.Dense(100, activation='softmax')\n",
        "])\n"
      ],
      "execution_count": 15,
      "outputs": []
    },
    {
      "cell_type": "code",
      "metadata": {
        "id": "qQEuIbiM5keV",
        "outputId": "3abc355e-13e0-4d1c-af80-f5021b333de7",
        "colab": {
          "base_uri": "https://localhost:8080/",
          "height": 527
        }
      },
      "source": [
        "model.compile(optimizer='adam', loss='sparse_categorical_crossentropy', metrics=['accuracy'])\n",
        "\n",
        "history = model.fit(x_train, y_train, epochs=15)"
      ],
      "execution_count": 16,
      "outputs": [
        {
          "output_type": "stream",
          "text": [
            "Epoch 1/15\n",
            "1500/1500 [==============================] - 110s 74ms/step - loss: 3.5599 - accuracy: 0.1639\n",
            "Epoch 2/15\n",
            "1500/1500 [==============================] - 110s 73ms/step - loss: 2.7966 - accuracy: 0.3031\n",
            "Epoch 3/15\n",
            "1500/1500 [==============================] - 109s 73ms/step - loss: 2.4323 - accuracy: 0.3795\n",
            "Epoch 4/15\n",
            "1500/1500 [==============================] - 109s 73ms/step - loss: 2.1627 - accuracy: 0.4389\n",
            "Epoch 5/15\n",
            "1500/1500 [==============================] - 108s 72ms/step - loss: 1.9322 - accuracy: 0.4877\n",
            "Epoch 6/15\n",
            "1500/1500 [==============================] - 111s 74ms/step - loss: 1.7195 - accuracy: 0.5392\n",
            "Epoch 7/15\n",
            "1500/1500 [==============================] - 112s 74ms/step - loss: 1.5233 - accuracy: 0.5798\n",
            "Epoch 8/15\n",
            "1500/1500 [==============================] - 110s 73ms/step - loss: 1.3348 - accuracy: 0.6242\n",
            "Epoch 9/15\n",
            "1500/1500 [==============================] - 110s 73ms/step - loss: 1.1599 - accuracy: 0.6672\n",
            "Epoch 10/15\n",
            "1500/1500 [==============================] - 110s 74ms/step - loss: 1.0007 - accuracy: 0.7085\n",
            "Epoch 11/15\n",
            "1500/1500 [==============================] - 117s 78ms/step - loss: 0.8533 - accuracy: 0.7493\n",
            "Epoch 12/15\n",
            "1500/1500 [==============================] - 115s 77ms/step - loss: 0.7255 - accuracy: 0.7826\n",
            "Epoch 13/15\n",
            "1500/1500 [==============================] - 108s 72ms/step - loss: 0.6233 - accuracy: 0.8098\n",
            "Epoch 14/15\n",
            "1500/1500 [==============================] - 109s 72ms/step - loss: 0.5339 - accuracy: 0.8335\n",
            "Epoch 15/15\n",
            "1500/1500 [==============================] - 111s 74ms/step - loss: 0.4630 - accuracy: 0.8549\n"
          ],
          "name": "stdout"
        }
      ]
    },
    {
      "cell_type": "code",
      "metadata": {
        "id": "14_oPI6y558f",
        "outputId": "445da8cb-7d56-4f1f-874c-93fa5f0bc550",
        "colab": {
          "base_uri": "https://localhost:8080/",
          "height": 51
        }
      },
      "source": [
        "test_loss, test_acc = model.evaluate(x_test, y_test)\n",
        "print(test_acc)"
      ],
      "execution_count": 17,
      "outputs": [
        {
          "output_type": "stream",
          "text": [
            "313/313 [==============================] - 7s 22ms/step - loss: 5.0383 - accuracy: 0.3426\n",
            "0.3425999879837036\n"
          ],
          "name": "stdout"
        }
      ]
    }
  ]
}