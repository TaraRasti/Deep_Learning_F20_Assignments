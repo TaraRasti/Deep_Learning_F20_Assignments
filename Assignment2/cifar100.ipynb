{
 "cells": [
  {
   "cell_type": "code",
   "execution_count": 1,
   "metadata": {},
   "outputs": [],
   "source": [
    "import numpy as np\n",
    "import pandas as pd\n",
    "import matplotlib.pyplot as plt\n",
    "from sklearn.model_selection import train_test_split\n",
    "from sklearn.model_selection import KFold\n",
    "import matplotlib.pyplot as plt"
   ]
  },
  {
   "cell_type": "code",
   "execution_count": 2,
   "metadata": {},
   "outputs": [],
   "source": [
    "import numpy as np\n",
    "import torch\n",
    "import torch.nn as nn\n",
    "import torch.cuda as tc\n",
    "from torch.autograd import Variable\n",
    "import torch.nn.functional as F"
   ]
  },
  {
   "cell_type": "code",
   "execution_count": 4,
   "metadata": {},
   "outputs": [
    {
     "data": {
      "text/html": [
       "<div>\n",
       "<style scoped>\n",
       "    .dataframe tbody tr th:only-of-type {\n",
       "        vertical-align: middle;\n",
       "    }\n",
       "\n",
       "    .dataframe tbody tr th {\n",
       "        vertical-align: top;\n",
       "    }\n",
       "\n",
       "    .dataframe thead th {\n",
       "        text-align: right;\n",
       "    }\n",
       "</style>\n",
       "<table border=\"1\" class=\"dataframe\">\n",
       "  <thead>\n",
       "    <tr style=\"text-align: right;\">\n",
       "      <th></th>\n",
       "      <th>filenames</th>\n",
       "      <th>batch_label</th>\n",
       "      <th>fine_labels</th>\n",
       "      <th>coarse_labels</th>\n",
       "      <th>data</th>\n",
       "    </tr>\n",
       "  </thead>\n",
       "  <tbody>\n",
       "    <tr>\n",
       "      <th>0</th>\n",
       "      <td>bos_taurus_s_000507.png</td>\n",
       "      <td>t</td>\n",
       "      <td>19</td>\n",
       "      <td>11</td>\n",
       "      <td>[255, 255, 255, 255, 255, 255, 255, 255, 255, ...</td>\n",
       "    </tr>\n",
       "    <tr>\n",
       "      <th>1</th>\n",
       "      <td>stegosaurus_s_000125.png</td>\n",
       "      <td>r</td>\n",
       "      <td>29</td>\n",
       "      <td>15</td>\n",
       "      <td>[255, 253, 253, 253, 253, 253, 253, 253, 253, ...</td>\n",
       "    </tr>\n",
       "    <tr>\n",
       "      <th>2</th>\n",
       "      <td>mcintosh_s_000643.png</td>\n",
       "      <td>a</td>\n",
       "      <td>0</td>\n",
       "      <td>4</td>\n",
       "      <td>[250, 248, 247, 248, 249, 249, 248, 248, 247, ...</td>\n",
       "    </tr>\n",
       "    <tr>\n",
       "      <th>3</th>\n",
       "      <td>altar_boy_s_001435.png</td>\n",
       "      <td>i</td>\n",
       "      <td>11</td>\n",
       "      <td>14</td>\n",
       "      <td>[124, 131, 135, 138, 140, 144, 148, 152, 156, ...</td>\n",
       "    </tr>\n",
       "    <tr>\n",
       "      <th>4</th>\n",
       "      <td>cichlid_s_000031.png</td>\n",
       "      <td>n</td>\n",
       "      <td>1</td>\n",
       "      <td>1</td>\n",
       "      <td>[43, 32, 87, 127, 55, 48, 51, 87, 121, 113, 13...</td>\n",
       "    </tr>\n",
       "  </tbody>\n",
       "</table>\n",
       "</div>"
      ],
      "text/plain": [
       "                  filenames batch_label fine_labels coarse_labels  \\\n",
       "0   bos_taurus_s_000507.png           t          19            11   \n",
       "1  stegosaurus_s_000125.png           r          29            15   \n",
       "2     mcintosh_s_000643.png           a           0             4   \n",
       "3    altar_boy_s_001435.png           i          11            14   \n",
       "4      cichlid_s_000031.png           n           1             1   \n",
       "\n",
       "                                                data  \n",
       "0  [255, 255, 255, 255, 255, 255, 255, 255, 255, ...  \n",
       "1  [255, 253, 253, 253, 253, 253, 253, 253, 253, ...  \n",
       "2  [250, 248, 247, 248, 249, 249, 248, 248, 247, ...  \n",
       "3  [124, 131, 135, 138, 140, 144, 148, 152, 156, ...  \n",
       "4  [43, 32, 87, 127, 55, 48, 51, 87, 121, 113, 13...  "
      ]
     },
     "execution_count": 4,
     "metadata": {},
     "output_type": "execute_result"
    }
   ],
   "source": [
    "dt = pd.read_pickle('/Users/taraapple/Desktop/cifar-100-python/train')\n",
    "df = pd.DataFrame.from_dict(dt, orient='index')\n",
    "df = df.T\n",
    "df.head()"
   ]
  },
  {
   "cell_type": "code",
   "execution_count": 5,
   "metadata": {},
   "outputs": [],
   "source": [
    "labels = list(pd.read_pickle('/Users/taraapple/Desktop/cifar-100-python/meta')['fine_label_names'])"
   ]
  },
  {
   "cell_type": "code",
   "execution_count": 6,
   "metadata": {},
   "outputs": [],
   "source": [
    "# dictionaries with labels to idx and viceversa\n",
    "labels_idx = {v:k for (k,v) in enumerate(labels)}\n",
    "idx_labels = {k:v for (k,v) in enumerate(labels)}"
   ]
  },
  {
   "cell_type": "code",
   "execution_count": 7,
   "metadata": {},
   "outputs": [
    {
     "data": {
      "text/plain": [
       "<matplotlib.image.AxesImage at 0x7fa082bae090>"
      ]
     },
     "execution_count": 7,
     "metadata": {},
     "output_type": "execute_result"
    },
    {
     "data": {
      "image/png": "[encoded data removed]",
      "text/plain": [
       "<Figure size 432x288 with 1 Axes>"
      ]
     },
     "metadata": {
      "needs_background": "light"
     },
     "output_type": "display_data"
    }
   ],
   "source": [
    "# display a bee image\n",
    "img = np.array(df[df['fine_labels'] == labels_idx['bee']].iloc[10]['data']).reshape(3,32,32)\n",
    "plt.imshow(img.transpose(1,2,0).astype(\"uint8\"), interpolation='nearest')"
   ]
  },
  {
   "cell_type": "code",
   "execution_count": 8,
   "metadata": {},
   "outputs": [],
   "source": [
    "data_values = df[df['fine_labels'].isin([labels_idx['bee'], labels_idx['butterfly']])]['data'].values\n",
    "label_values = df[df['fine_labels'].isin([labels_idx['bee'], labels_idx['butterfly']])]['fine_labels'].values"
   ]
  },
  {
   "cell_type": "code",
   "execution_count": 9,
   "metadata": {},
   "outputs": [],
   "source": [
    "features = np.array(np.stack(data_values, axis=0)).reshape(len(data_values), 3, 32, 32).astype('float32')\n",
    "labels = np.array(label_values).astype('float32')"
   ]
  },
  {
   "cell_type": "code",
   "execution_count": 10,
   "metadata": {},
   "outputs": [],
   "source": [
    "# normalize\n",
    "features = features / 255.0\n",
    "\n",
    "features = torch.from_numpy(features)\n",
    "labels = torch.from_numpy(labels)"
   ]
  },
  {
   "cell_type": "code",
   "execution_count": 11,
   "metadata": {},
   "outputs": [],
   "source": [
    "# create one hot enconding\n",
    "labels[labels == labels_idx['bee']] = 0\n",
    "labels[labels == labels_idx['butterfly']] = 1\n",
    "labels = torch.eye(2)[labels.type(torch.LongTensor)]"
   ]
  },
  {
   "cell_type": "code",
   "execution_count": 12,
   "metadata": {},
   "outputs": [],
   "source": [
    "X_train, X_test, y_train, y_test = train_test_split(features, labels, test_size=0.3, random_state=42)"
   ]
  },
  {
   "cell_type": "code",
   "execution_count": 13,
   "metadata": {},
   "outputs": [],
   "source": [
    "torch.manual_seed(999)\n",
    "model = nn.Sequential(\n",
    "            nn.Conv2d(3, 16, 3),\n",
    "            nn.Dropout(0.2),\n",
    "            nn.MaxPool2d(3),\n",
    "            nn.Flatten(),\n",
    "            nn.Linear(1600, 1024),\n",
    "            nn.Tanh(),\n",
    "            nn.Linear(1024, 512),\n",
    "            nn.Tanh(),\n",
    "            nn.Linear(512, 256),\n",
    "            nn.Tanh(),\n",
    "            nn.Linear(256, 2),\n",
    "            nn.LogSoftmax(dim=1))"
   ]
  },
  {
   "cell_type": "code",
   "execution_count": 14,
   "metadata": {},
   "outputs": [],
   "source": [
    "criterion = nn.NLLLoss()\n",
    "optimizer = torch.optim.SGD(model.parameters(), lr=0.0005, momentum=0.9)\n",
    "kf = KFold(n_splits=3)"
   ]
  },
  {
   "cell_type": "code",
   "execution_count": 16,
   "metadata": {},
   "outputs": [
    {
     "name": "stdout",
     "output_type": "stream",
     "text": [
      "Split:  1, Epoch:   0, Loss:0.694, Loss-test:0.694\n",
      "Split:  1, Epoch: 100, Loss:0.690, Loss-test:0.692\n",
      "Split:  1, Epoch: 200, Loss:0.687, Loss-test:0.688\n",
      "Split:  1, Epoch: 300, Loss:0.683, Loss-test:0.683\n",
      "Split:  1, Epoch: 400, Loss:0.675, Loss-test:0.674\n",
      "Split:  1, Epoch: 500, Loss:0.661, Loss-test:0.658\n",
      "Split:  2, Epoch:   0, Loss:0.671, Loss-test:0.657\n",
      "Split:  2, Epoch: 100, Loss:0.653, Loss-test:0.631\n",
      "Split:  2, Epoch: 200, Loss:0.638, Loss-test:0.603\n",
      "Split:  2, Epoch: 300, Loss:0.625, Loss-test:0.580\n",
      "Split:  2, Epoch: 400, Loss:0.613, Loss-test:0.569\n",
      "Split:  2, Epoch: 500, Loss:0.602, Loss-test:0.561\n",
      "Split:  3, Epoch:   0, Loss:0.578, Loss-test:0.561\n",
      "Split:  3, Epoch: 100, Loss:0.559, Loss-test:0.555\n",
      "Split:  3, Epoch: 200, Loss:0.541, Loss-test:0.554\n",
      "Split:  3, Epoch: 300, Loss:0.521, Loss-test:0.555\n",
      "Split:  3, Epoch: 400, Loss:0.497, Loss-test:0.556\n",
      "Split:  3, Epoch: 500, Loss:0.462, Loss-test:0.558\n"
     ]
    }
   ],
   "source": [
    "cnt = 1\n",
    "losses = []\n",
    "losses_test = []\n",
    "\n",
    "for x_idx in kf.split(X_train):\n",
    "    for e in range(501):\n",
    "        for idx in x_idx:\n",
    "            optimizer.zero_grad()\n",
    "            out = model(X_train[idx])\n",
    "            loss = criterion(out, torch.argmax(torch.Tensor(y_train[idx]).type(torch.torch.LongTensor), dim=1))\n",
    "            loss.backward()\n",
    "            optimizer.step()\n",
    "        if(e % 100 == 0):\n",
    "            pred_test = model(X_test)\n",
    "            loss_test = criterion(pred_test, torch.argmax(torch.Tensor(y_test).type(torch.torch.LongTensor), dim=1))\n",
    "            \n",
    "            losses.append(loss)\n",
    "            losses_test.append(loss_test)\n",
    "            \n",
    "            print('Split:%3d, Epoch:%4d, Loss:%.3f, Loss-test:%.3f' % (cnt, e, loss.item(), loss_test.item()))\n",
    "    cnt += 1"
   ]
  },
  {
   "cell_type": "code",
   "execution_count": 17,
   "metadata": {},
   "outputs": [
    {
     "data": {
      "image/png": "[encoded data removed]",
      "text/plain": [
       "<Figure size 432x288 with 1 Axes>"
      ]
     },
     "metadata": {
      "needs_background": "light"
     },
     "output_type": "display_data"
    }
   ],
   "source": [
    "fig, ax = plt.subplots()\n",
    "ax.plot(losses, label='Losses')\n",
    "ax.plot(losses_test, label='Losses-Test')\n",
    "leg = ax.legend()"
   ]
  },
  {
   "cell_type": "code",
   "execution_count": null,
   "metadata": {},
   "outputs": [],
   "source": []
  }
 ],
 "metadata": {
  "kernelspec": {
   "display_name": "Python 3",
   "language": "python",
   "name": "python3"
  },
  "language_info": {
   "codemirror_mode": {
    "name": "ipython",
    "version": 3
   },
   "file_extension": ".py",
   "mimetype": "text/x-python",
   "name": "python",
   "nbconvert_exporter": "python",
   "pygments_lexer": "ipython3",
   "version": "3.7.6"
  }
 },
 "nbformat": 4,
 "nbformat_minor": 4
}
