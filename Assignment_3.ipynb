{
  "nbformat": 4,
  "nbformat_minor": 0,
  "metadata": {
    "colab": {
      "name": "Assignment#3.ipynb",
      "provenance": [],
      "collapsed_sections": [],
      "authorship_tag": "ABX9TyMeBEehZ75nPYEfM67xJ7lY",
      "include_colab_link": true
    },
    "kernelspec": {
      "name": "python3",
      "display_name": "Python 3"
    },
    "accelerator": "GPU"
  },
  "cells": [
    {
      "cell_type": "markdown",
      "metadata": {
        "id": "view-in-github",
        "colab_type": "text"
      },
      "source": [
        "<a href=\"https://colab.research.google.com/github/TaraRasti/Deep_Learning_F20_Assignments/blob/master/Assignment_3.ipynb\" target=\"_parent\"><img src=\"https://colab.research.google.com/assets/colab-badge.svg\" alt=\"Open In Colab\"/></a>"
      ]
    },
    {
      "cell_type": "code",
      "metadata": {
        "id": "6FhmQmIghwnh"
      },
      "source": [
        "import numpy as np\n",
        "import h5py\n",
        "import torch"
      ],
      "execution_count": 1,
      "outputs": []
    },
    {
      "cell_type": "markdown",
      "metadata": {
        "id": "FHi1-VEVtXpJ"
      },
      "source": [
        "Create a 3 * 3 random tensor as float"
      ]
    },
    {
      "cell_type": "code",
      "metadata": {
        "id": "x-ZoU91eh0Pv",
        "outputId": "3a52219a-9665-42ac-f867-7416a56facba",
        "colab": {
          "base_uri": "https://localhost:8080/",
          "height": 68
        }
      },
      "source": [
        "x = torch.randn(3, 3)\n",
        "x"
      ],
      "execution_count": 2,
      "outputs": [
        {
          "output_type": "execute_result",
          "data": {
            "text/plain": [
              "tensor([[-0.4785,  1.2802,  0.5557],\n",
              "        [-0.1511,  0.7322, -1.1557],\n",
              "        [ 1.3979, -1.8262,  0.2930]])"
            ]
          },
          "metadata": {
            "tags": []
          },
          "execution_count": 2
        }
      ]
    },
    {
      "cell_type": "code",
      "metadata": {
        "id": "-jE5J5BOh7yZ",
        "outputId": "7141920b-b162-4c65-87ad-c057d5f2a747",
        "colab": {
          "base_uri": "https://localhost:8080/",
          "height": 34
        }
      },
      "source": [
        "x.dtype"
      ],
      "execution_count": 3,
      "outputs": [
        {
          "output_type": "execute_result",
          "data": {
            "text/plain": [
              "torch.float32"
            ]
          },
          "metadata": {
            "tags": []
          },
          "execution_count": 3
        }
      ]
    },
    {
      "cell_type": "markdown",
      "metadata": {
        "id": "rbbxulyYtoQl"
      },
      "source": [
        "Create a 4 * 4 random tensor as double"
      ]
    },
    {
      "cell_type": "code",
      "metadata": {
        "id": "Pfbovevih_Vc",
        "outputId": "d48708a9-7bff-4b92-d002-bbbfc1026076",
        "colab": {
          "base_uri": "https://localhost:8080/",
          "height": 85
        }
      },
      "source": [
        "y = torch.rand(4,4,dtype=torch.double)\n",
        "y"
      ],
      "execution_count": 4,
      "outputs": [
        {
          "output_type": "execute_result",
          "data": {
            "text/plain": [
              "tensor([[0.9632, 0.3697, 0.6853, 0.9605],\n",
              "        [0.1363, 0.1349, 0.9431, 0.4719],\n",
              "        [0.2503, 0.4548, 0.5488, 0.1162],\n",
              "        [0.3992, 0.6200, 0.3333, 0.3959]], dtype=torch.float64)"
            ]
          },
          "metadata": {
            "tags": []
          },
          "execution_count": 4
        }
      ]
    },
    {
      "cell_type": "markdown",
      "metadata": {
        "id": "vmvMnC9_txRu"
      },
      "source": [
        "Create a 3 * 4 * 5 random tensor as short type"
      ]
    },
    {
      "cell_type": "code",
      "metadata": {
        "id": "Fzj0EQ7ziA2U",
        "outputId": "349c3c32-f596-4593-9c85-8dd2dd238d34",
        "colab": {
          "base_uri": "https://localhost:8080/",
          "height": 340
        }
      },
      "source": [
        "z = torch.randint(0,255,(5, 3, 4), dtype=torch.short)\n",
        "\n",
        "z"
      ],
      "execution_count": 5,
      "outputs": [
        {
          "output_type": "execute_result",
          "data": {
            "text/plain": [
              "tensor([[[251, 216, 128,  76],\n",
              "         [138,  37, 184, 180],\n",
              "         [ 32, 152, 182, 208]],\n",
              "\n",
              "        [[201,  61, 103, 102],\n",
              "         [ 42,  26, 231, 238],\n",
              "         [198, 140, 134, 193]],\n",
              "\n",
              "        [[222,  48, 107,  53],\n",
              "         [ 52,  17,  39, 197],\n",
              "         [190, 165, 121,  67]],\n",
              "\n",
              "        [[176,  42, 249,   0],\n",
              "         [200,  59, 101, 132],\n",
              "         [138, 251,  93, 254]],\n",
              "\n",
              "        [[ 54, 118,   1, 131],\n",
              "         [ 54, 199,  71, 150],\n",
              "         [146, 240,  63, 214]]], dtype=torch.int16)"
            ]
          },
          "metadata": {
            "tags": []
          },
          "execution_count": 5
        }
      ]
    },
    {
      "cell_type": "markdown",
      "metadata": {
        "id": "SFn6ksHPt62i"
      },
      "source": [
        "Change the elements in GPU"
      ]
    },
    {
      "cell_type": "code",
      "metadata": {
        "id": "dJC319olj5wV",
        "outputId": "fdf71a18-aad4-40ac-dc21-ee3d31d98e36",
        "colab": {
          "base_uri": "https://localhost:8080/",
          "height": 68
        }
      },
      "source": [
        "x.cuda()\n"
      ],
      "execution_count": 6,
      "outputs": [
        {
          "output_type": "execute_result",
          "data": {
            "text/plain": [
              "tensor([[-0.4785,  1.2802,  0.5557],\n",
              "        [-0.1511,  0.7322, -1.1557],\n",
              "        [ 1.3979, -1.8262,  0.2930]], device='cuda:0')"
            ]
          },
          "metadata": {
            "tags": []
          },
          "execution_count": 6
        }
      ]
    },
    {
      "cell_type": "code",
      "metadata": {
        "id": "PRvShWTRkC7c",
        "outputId": "73268d74-88f4-4b0e-dd3c-3995ed35b2ac",
        "colab": {
          "base_uri": "https://localhost:8080/",
          "height": 102
        }
      },
      "source": [
        "y.cuda()"
      ],
      "execution_count": 7,
      "outputs": [
        {
          "output_type": "execute_result",
          "data": {
            "text/plain": [
              "tensor([[0.9632, 0.3697, 0.6853, 0.9605],\n",
              "        [0.1363, 0.1349, 0.9431, 0.4719],\n",
              "        [0.2503, 0.4548, 0.5488, 0.1162],\n",
              "        [0.3992, 0.6200, 0.3333, 0.3959]], device='cuda:0',\n",
              "       dtype=torch.float64)"
            ]
          },
          "metadata": {
            "tags": []
          },
          "execution_count": 7
        }
      ]
    },
    {
      "cell_type": "code",
      "metadata": {
        "id": "cTAnHjYokJM_",
        "outputId": "10d9aece-07bf-47a0-f86e-dcdf109f096d",
        "colab": {
          "base_uri": "https://localhost:8080/",
          "height": 340
        }
      },
      "source": [
        "z.cuda()"
      ],
      "execution_count": 8,
      "outputs": [
        {
          "output_type": "execute_result",
          "data": {
            "text/plain": [
              "tensor([[[251, 216, 128,  76],\n",
              "         [138,  37, 184, 180],\n",
              "         [ 32, 152, 182, 208]],\n",
              "\n",
              "        [[201,  61, 103, 102],\n",
              "         [ 42,  26, 231, 238],\n",
              "         [198, 140, 134, 193]],\n",
              "\n",
              "        [[222,  48, 107,  53],\n",
              "         [ 52,  17,  39, 197],\n",
              "         [190, 165, 121,  67]],\n",
              "\n",
              "        [[176,  42, 249,   0],\n",
              "         [200,  59, 101, 132],\n",
              "         [138, 251,  93, 254]],\n",
              "\n",
              "        [[ 54, 118,   1, 131],\n",
              "         [ 54, 199,  71, 150],\n",
              "         [146, 240,  63, 214]]], device='cuda:0', dtype=torch.int16)"
            ]
          },
          "metadata": {
            "tags": []
          },
          "execution_count": 8
        }
      ]
    },
    {
      "cell_type": "markdown",
      "metadata": {
        "id": "Vvw7A1pYuBaV"
      },
      "source": [
        "Display the order of the elements and its transpose in the memory then use storage offset and contiguous"
      ]
    },
    {
      "cell_type": "code",
      "metadata": {
        "id": "DsuLUptCkM1R",
        "outputId": "4934fb90-2879-46a1-8a11-9e2fca9d649d",
        "colab": {
          "base_uri": "https://localhost:8080/",
          "height": 187
        }
      },
      "source": [
        "x.storage()"
      ],
      "execution_count": 9,
      "outputs": [
        {
          "output_type": "execute_result",
          "data": {
            "text/plain": [
              " -0.4785480201244354\n",
              " 1.2801979780197144\n",
              " 0.5556941032409668\n",
              " -0.15113374590873718\n",
              " 0.7322414517402649\n",
              " -1.1557188034057617\n",
              " 1.3979240655899048\n",
              " -1.8262081146240234\n",
              " 0.2929977476596832\n",
              "[torch.FloatStorage of size 9]"
            ]
          },
          "metadata": {
            "tags": []
          },
          "execution_count": 9
        }
      ]
    },
    {
      "cell_type": "code",
      "metadata": {
        "id": "74OUPMkNkaXB",
        "outputId": "c34902f0-361b-4270-87b6-637d9b8adb1f",
        "colab": {
          "base_uri": "https://localhost:8080/",
          "height": 34
        }
      },
      "source": [
        "x.storage_offset()"
      ],
      "execution_count": 10,
      "outputs": [
        {
          "output_type": "execute_result",
          "data": {
            "text/plain": [
              "0"
            ]
          },
          "metadata": {
            "tags": []
          },
          "execution_count": 10
        }
      ]
    },
    {
      "cell_type": "code",
      "metadata": {
        "id": "LL6Yl-_7kjiY",
        "outputId": "bc365cad-2246-4387-c3bb-8f7c49d18058",
        "colab": {
          "base_uri": "https://localhost:8080/",
          "height": 68
        }
      },
      "source": [
        "x.contiguous()"
      ],
      "execution_count": 11,
      "outputs": [
        {
          "output_type": "execute_result",
          "data": {
            "text/plain": [
              "tensor([[-0.4785,  1.2802,  0.5557],\n",
              "        [-0.1511,  0.7322, -1.1557],\n",
              "        [ 1.3979, -1.8262,  0.2930]])"
            ]
          },
          "metadata": {
            "tags": []
          },
          "execution_count": 11
        }
      ]
    },
    {
      "cell_type": "code",
      "metadata": {
        "id": "AKCNaeb5mxX2",
        "outputId": "f8526b61-ef95-4593-ee4b-2d09245b824a",
        "colab": {
          "base_uri": "https://localhost:8080/",
          "height": 68
        }
      },
      "source": [
        "x_t=torch.transpose(x,0,1)\n",
        "x_t"
      ],
      "execution_count": 12,
      "outputs": [
        {
          "output_type": "execute_result",
          "data": {
            "text/plain": [
              "tensor([[-0.4785, -0.1511,  1.3979],\n",
              "        [ 1.2802,  0.7322, -1.8262],\n",
              "        [ 0.5557, -1.1557,  0.2930]])"
            ]
          },
          "metadata": {
            "tags": []
          },
          "execution_count": 12
        }
      ]
    },
    {
      "cell_type": "code",
      "metadata": {
        "id": "C3qXn3K2u_Aq",
        "outputId": "4be8ca24-6c3b-46eb-bffb-7a385196375a",
        "colab": {
          "base_uri": "https://localhost:8080/",
          "height": 187
        }
      },
      "source": [
        "x_t.storage()"
      ],
      "execution_count": 13,
      "outputs": [
        {
          "output_type": "execute_result",
          "data": {
            "text/plain": [
              " -0.4785480201244354\n",
              " 1.2801979780197144\n",
              " 0.5556941032409668\n",
              " -0.15113374590873718\n",
              " 0.7322414517402649\n",
              " -1.1557188034057617\n",
              " 1.3979240655899048\n",
              " -1.8262081146240234\n",
              " 0.2929977476596832\n",
              "[torch.FloatStorage of size 9]"
            ]
          },
          "metadata": {
            "tags": []
          },
          "execution_count": 13
        }
      ]
    },
    {
      "cell_type": "code",
      "metadata": {
        "id": "rvOXQq77vNnj",
        "outputId": "b85a96d7-6e1c-48c3-c625-a7d49f33c92d",
        "colab": {
          "base_uri": "https://localhost:8080/",
          "height": 34
        }
      },
      "source": [
        "x_t.storage_offset()"
      ],
      "execution_count": 14,
      "outputs": [
        {
          "output_type": "execute_result",
          "data": {
            "text/plain": [
              "0"
            ]
          },
          "metadata": {
            "tags": []
          },
          "execution_count": 14
        }
      ]
    },
    {
      "cell_type": "code",
      "metadata": {
        "id": "KQKGDuCVvSpr",
        "outputId": "b354bc3a-cf85-44ef-e1c6-b0e1a387cedf",
        "colab": {
          "base_uri": "https://localhost:8080/",
          "height": 68
        }
      },
      "source": [
        "x_t.contiguous()"
      ],
      "execution_count": 15,
      "outputs": [
        {
          "output_type": "execute_result",
          "data": {
            "text/plain": [
              "tensor([[-0.4785, -0.1511,  1.3979],\n",
              "        [ 1.2802,  0.7322, -1.8262],\n",
              "        [ 0.5557, -1.1557,  0.2930]])"
            ]
          },
          "metadata": {
            "tags": []
          },
          "execution_count": 15
        }
      ]
    },
    {
      "cell_type": "code",
      "metadata": {
        "id": "nUd_SZjgksDI",
        "outputId": "2b1bdf33-7ae5-4d7f-a7e1-7e6aad6bb422",
        "colab": {
          "base_uri": "https://localhost:8080/",
          "height": 306
        }
      },
      "source": [
        "y.storage()"
      ],
      "execution_count": 16,
      "outputs": [
        {
          "output_type": "execute_result",
          "data": {
            "text/plain": [
              " 0.9631800295598044\n",
              " 0.36970989325894477\n",
              " 0.6852532004071467\n",
              " 0.9605119456473367\n",
              " 0.1363425401282914\n",
              " 0.13491056375129729\n",
              " 0.9430814391016936\n",
              " 0.47186925848541417\n",
              " 0.2502757959411678\n",
              " 0.4548418618572133\n",
              " 0.5488003508408303\n",
              " 0.11623108053433417\n",
              " 0.3991970143690857\n",
              " 0.6200367233852716\n",
              " 0.33332135999617707\n",
              " 0.39589892348178024\n",
              "[torch.DoubleStorage of size 16]"
            ]
          },
          "metadata": {
            "tags": []
          },
          "execution_count": 16
        }
      ]
    },
    {
      "cell_type": "code",
      "metadata": {
        "id": "cEw24sdmkzbe",
        "outputId": "da7213dc-9148-46ff-d877-2046c4dd46d2",
        "colab": {
          "base_uri": "https://localhost:8080/",
          "height": 34
        }
      },
      "source": [
        "y.storage_offset()"
      ],
      "execution_count": 17,
      "outputs": [
        {
          "output_type": "execute_result",
          "data": {
            "text/plain": [
              "0"
            ]
          },
          "metadata": {
            "tags": []
          },
          "execution_count": 17
        }
      ]
    },
    {
      "cell_type": "code",
      "metadata": {
        "id": "-1Z2KFAzk4dY",
        "outputId": "ee3a8888-8e5c-4e90-9e55-8ddf29402a8c",
        "colab": {
          "base_uri": "https://localhost:8080/",
          "height": 85
        }
      },
      "source": [
        "y.contiguous()"
      ],
      "execution_count": 18,
      "outputs": [
        {
          "output_type": "execute_result",
          "data": {
            "text/plain": [
              "tensor([[0.9632, 0.3697, 0.6853, 0.9605],\n",
              "        [0.1363, 0.1349, 0.9431, 0.4719],\n",
              "        [0.2503, 0.4548, 0.5488, 0.1162],\n",
              "        [0.3992, 0.6200, 0.3333, 0.3959]], dtype=torch.float64)"
            ]
          },
          "metadata": {
            "tags": []
          },
          "execution_count": 18
        }
      ]
    },
    {
      "cell_type": "code",
      "metadata": {
        "id": "q0SRJwYkp_Kp",
        "outputId": "682ca4e5-bc16-480c-f662-65a311d181d5",
        "colab": {
          "base_uri": "https://localhost:8080/",
          "height": 85
        }
      },
      "source": [
        "y_t=torch.transpose(y,0,1)\n",
        "y_t"
      ],
      "execution_count": 19,
      "outputs": [
        {
          "output_type": "execute_result",
          "data": {
            "text/plain": [
              "tensor([[0.9632, 0.1363, 0.2503, 0.3992],\n",
              "        [0.3697, 0.1349, 0.4548, 0.6200],\n",
              "        [0.6853, 0.9431, 0.5488, 0.3333],\n",
              "        [0.9605, 0.4719, 0.1162, 0.3959]], dtype=torch.float64)"
            ]
          },
          "metadata": {
            "tags": []
          },
          "execution_count": 19
        }
      ]
    },
    {
      "cell_type": "code",
      "metadata": {
        "id": "Rvxsh_YpvJyN",
        "outputId": "d91a2ea8-36ac-4244-abd4-5d5e64eba6fb",
        "colab": {
          "base_uri": "https://localhost:8080/",
          "height": 306
        }
      },
      "source": [
        "y_t.storage()"
      ],
      "execution_count": 20,
      "outputs": [
        {
          "output_type": "execute_result",
          "data": {
            "text/plain": [
              " 0.9631800295598044\n",
              " 0.36970989325894477\n",
              " 0.6852532004071467\n",
              " 0.9605119456473367\n",
              " 0.1363425401282914\n",
              " 0.13491056375129729\n",
              " 0.9430814391016936\n",
              " 0.47186925848541417\n",
              " 0.2502757959411678\n",
              " 0.4548418618572133\n",
              " 0.5488003508408303\n",
              " 0.11623108053433417\n",
              " 0.3991970143690857\n",
              " 0.6200367233852716\n",
              " 0.33332135999617707\n",
              " 0.39589892348178024\n",
              "[torch.DoubleStorage of size 16]"
            ]
          },
          "metadata": {
            "tags": []
          },
          "execution_count": 20
        }
      ]
    },
    {
      "cell_type": "code",
      "metadata": {
        "id": "4J5I55kfvaNT",
        "outputId": "a235fb04-3b95-4990-cb6d-53d6583da6d7",
        "colab": {
          "base_uri": "https://localhost:8080/",
          "height": 34
        }
      },
      "source": [
        "y_t.storage_offset()"
      ],
      "execution_count": 21,
      "outputs": [
        {
          "output_type": "execute_result",
          "data": {
            "text/plain": [
              "0"
            ]
          },
          "metadata": {
            "tags": []
          },
          "execution_count": 21
        }
      ]
    },
    {
      "cell_type": "code",
      "metadata": {
        "id": "p37U31RnvfWi",
        "outputId": "6f1c14c1-008a-4dd3-93df-221748ea541b",
        "colab": {
          "base_uri": "https://localhost:8080/",
          "height": 85
        }
      },
      "source": [
        "y_t.contiguous()"
      ],
      "execution_count": 22,
      "outputs": [
        {
          "output_type": "execute_result",
          "data": {
            "text/plain": [
              "tensor([[0.9632, 0.1363, 0.2503, 0.3992],\n",
              "        [0.3697, 0.1349, 0.4548, 0.6200],\n",
              "        [0.6853, 0.9431, 0.5488, 0.3333],\n",
              "        [0.9605, 0.4719, 0.1162, 0.3959]], dtype=torch.float64)"
            ]
          },
          "metadata": {
            "tags": []
          },
          "execution_count": 22
        }
      ]
    },
    {
      "cell_type": "code",
      "metadata": {
        "id": "weyeiEO3k-6h",
        "outputId": "842e6b22-580c-4ca1-a195-208fe38c7fa5",
        "colab": {
          "base_uri": "https://localhost:8080/",
          "height": 1000
        }
      },
      "source": [
        "z.storage()"
      ],
      "execution_count": 23,
      "outputs": [
        {
          "output_type": "execute_result",
          "data": {
            "text/plain": [
              " 251\n",
              " 216\n",
              " 128\n",
              " 76\n",
              " 138\n",
              " 37\n",
              " 184\n",
              " 180\n",
              " 32\n",
              " 152\n",
              " 182\n",
              " 208\n",
              " 201\n",
              " 61\n",
              " 103\n",
              " 102\n",
              " 42\n",
              " 26\n",
              " 231\n",
              " 238\n",
              " 198\n",
              " 140\n",
              " 134\n",
              " 193\n",
              " 222\n",
              " 48\n",
              " 107\n",
              " 53\n",
              " 52\n",
              " 17\n",
              " 39\n",
              " 197\n",
              " 190\n",
              " 165\n",
              " 121\n",
              " 67\n",
              " 176\n",
              " 42\n",
              " 249\n",
              " 0\n",
              " 200\n",
              " 59\n",
              " 101\n",
              " 132\n",
              " 138\n",
              " 251\n",
              " 93\n",
              " 254\n",
              " 54\n",
              " 118\n",
              " 1\n",
              " 131\n",
              " 54\n",
              " 199\n",
              " 71\n",
              " 150\n",
              " 146\n",
              " 240\n",
              " 63\n",
              " 214\n",
              "[torch.ShortStorage of size 60]"
            ]
          },
          "metadata": {
            "tags": []
          },
          "execution_count": 23
        }
      ]
    },
    {
      "cell_type": "code",
      "metadata": {
        "id": "7go4wi1vlCy2",
        "outputId": "fcb20086-2b8d-40f5-ed83-5cfe5cf14f65",
        "colab": {
          "base_uri": "https://localhost:8080/",
          "height": 34
        }
      },
      "source": [
        "z.storage_offset()"
      ],
      "execution_count": 24,
      "outputs": [
        {
          "output_type": "execute_result",
          "data": {
            "text/plain": [
              "0"
            ]
          },
          "metadata": {
            "tags": []
          },
          "execution_count": 24
        }
      ]
    },
    {
      "cell_type": "code",
      "metadata": {
        "id": "cr5ZfSr4lQLm",
        "outputId": "3fab99a6-6ccd-4a7f-a56d-ace57640321f",
        "colab": {
          "base_uri": "https://localhost:8080/",
          "height": 340
        }
      },
      "source": [
        "z.contiguous()"
      ],
      "execution_count": 25,
      "outputs": [
        {
          "output_type": "execute_result",
          "data": {
            "text/plain": [
              "tensor([[[251, 216, 128,  76],\n",
              "         [138,  37, 184, 180],\n",
              "         [ 32, 152, 182, 208]],\n",
              "\n",
              "        [[201,  61, 103, 102],\n",
              "         [ 42,  26, 231, 238],\n",
              "         [198, 140, 134, 193]],\n",
              "\n",
              "        [[222,  48, 107,  53],\n",
              "         [ 52,  17,  39, 197],\n",
              "         [190, 165, 121,  67]],\n",
              "\n",
              "        [[176,  42, 249,   0],\n",
              "         [200,  59, 101, 132],\n",
              "         [138, 251,  93, 254]],\n",
              "\n",
              "        [[ 54, 118,   1, 131],\n",
              "         [ 54, 199,  71, 150],\n",
              "         [146, 240,  63, 214]]], dtype=torch.int16)"
            ]
          },
          "metadata": {
            "tags": []
          },
          "execution_count": 25
        }
      ]
    },
    {
      "cell_type": "code",
      "metadata": {
        "id": "bUjAomUllVRk",
        "outputId": "2eddc0e6-e7d4-4fc5-ddbe-4e7bf2068293",
        "colab": {
          "base_uri": "https://localhost:8080/",
          "height": 306
        }
      },
      "source": [
        "z_t=torch.transpose(z,0,1)\n",
        "z_t"
      ],
      "execution_count": 26,
      "outputs": [
        {
          "output_type": "execute_result",
          "data": {
            "text/plain": [
              "tensor([[[251, 216, 128,  76],\n",
              "         [201,  61, 103, 102],\n",
              "         [222,  48, 107,  53],\n",
              "         [176,  42, 249,   0],\n",
              "         [ 54, 118,   1, 131]],\n",
              "\n",
              "        [[138,  37, 184, 180],\n",
              "         [ 42,  26, 231, 238],\n",
              "         [ 52,  17,  39, 197],\n",
              "         [200,  59, 101, 132],\n",
              "         [ 54, 199,  71, 150]],\n",
              "\n",
              "        [[ 32, 152, 182, 208],\n",
              "         [198, 140, 134, 193],\n",
              "         [190, 165, 121,  67],\n",
              "         [138, 251,  93, 254],\n",
              "         [146, 240,  63, 214]]], dtype=torch.int16)"
            ]
          },
          "metadata": {
            "tags": []
          },
          "execution_count": 26
        }
      ]
    },
    {
      "cell_type": "code",
      "metadata": {
        "id": "yLzvC_u-vsxV",
        "outputId": "349ab75c-5a87-4f3c-a44d-1d322a9bd953",
        "colab": {
          "base_uri": "https://localhost:8080/",
          "height": 1000
        }
      },
      "source": [
        "z_t.storage()"
      ],
      "execution_count": 27,
      "outputs": [
        {
          "output_type": "execute_result",
          "data": {
            "text/plain": [
              " 251\n",
              " 216\n",
              " 128\n",
              " 76\n",
              " 138\n",
              " 37\n",
              " 184\n",
              " 180\n",
              " 32\n",
              " 152\n",
              " 182\n",
              " 208\n",
              " 201\n",
              " 61\n",
              " 103\n",
              " 102\n",
              " 42\n",
              " 26\n",
              " 231\n",
              " 238\n",
              " 198\n",
              " 140\n",
              " 134\n",
              " 193\n",
              " 222\n",
              " 48\n",
              " 107\n",
              " 53\n",
              " 52\n",
              " 17\n",
              " 39\n",
              " 197\n",
              " 190\n",
              " 165\n",
              " 121\n",
              " 67\n",
              " 176\n",
              " 42\n",
              " 249\n",
              " 0\n",
              " 200\n",
              " 59\n",
              " 101\n",
              " 132\n",
              " 138\n",
              " 251\n",
              " 93\n",
              " 254\n",
              " 54\n",
              " 118\n",
              " 1\n",
              " 131\n",
              " 54\n",
              " 199\n",
              " 71\n",
              " 150\n",
              " 146\n",
              " 240\n",
              " 63\n",
              " 214\n",
              "[torch.ShortStorage of size 60]"
            ]
          },
          "metadata": {
            "tags": []
          },
          "execution_count": 27
        }
      ]
    },
    {
      "cell_type": "code",
      "metadata": {
        "id": "y0aZea_Ov_zx",
        "outputId": "97eb0872-943e-4c00-e35b-f038dcdd62a5",
        "colab": {
          "base_uri": "https://localhost:8080/",
          "height": 34
        }
      },
      "source": [
        "z_t.storage_offset()"
      ],
      "execution_count": 28,
      "outputs": [
        {
          "output_type": "execute_result",
          "data": {
            "text/plain": [
              "0"
            ]
          },
          "metadata": {
            "tags": []
          },
          "execution_count": 28
        }
      ]
    },
    {
      "cell_type": "code",
      "metadata": {
        "id": "-yO6tbgqwDXi",
        "outputId": "ac1bcde6-ed78-4f18-bd15-c70305a98083",
        "colab": {
          "base_uri": "https://localhost:8080/",
          "height": 306
        }
      },
      "source": [
        "z_t.contiguous()"
      ],
      "execution_count": 29,
      "outputs": [
        {
          "output_type": "execute_result",
          "data": {
            "text/plain": [
              "tensor([[[251, 216, 128,  76],\n",
              "         [201,  61, 103, 102],\n",
              "         [222,  48, 107,  53],\n",
              "         [176,  42, 249,   0],\n",
              "         [ 54, 118,   1, 131]],\n",
              "\n",
              "        [[138,  37, 184, 180],\n",
              "         [ 42,  26, 231, 238],\n",
              "         [ 52,  17,  39, 197],\n",
              "         [200,  59, 101, 132],\n",
              "         [ 54, 199,  71, 150]],\n",
              "\n",
              "        [[ 32, 152, 182, 208],\n",
              "         [198, 140, 134, 193],\n",
              "         [190, 165, 121,  67],\n",
              "         [138, 251,  93, 254],\n",
              "         [146, 240,  63, 214]]], dtype=torch.int16)"
            ]
          },
          "metadata": {
            "tags": []
          },
          "execution_count": 29
        }
      ]
    },
    {
      "cell_type": "markdown",
      "metadata": {
        "id": "srxDSE-H_CbR"
      },
      "source": [
        "Save and load one among the elements of tensors using torch"
      ]
    },
    {
      "cell_type": "code",
      "metadata": {
        "id": "wMGLzLpGwGje"
      },
      "source": [
        "with open('float','wb') as file:\n",
        "  torch.save(x[0,0],file)\n",
        "with open('float','rb') as file:\n",
        "  points=torch.load(file)"
      ],
      "execution_count": 38,
      "outputs": []
    },
    {
      "cell_type": "code",
      "metadata": {
        "id": "thHzwGXPL0Q8"
      },
      "source": [
        "with open('double','wb') as file:\n",
        "  torch.save(y[0,0],file)\n",
        "with open('double','rb') as file:\n",
        "  points=torch.load(file)"
      ],
      "execution_count": 40,
      "outputs": []
    },
    {
      "cell_type": "code",
      "metadata": {
        "id": "TSRhBmtFMGmM"
      },
      "source": [
        "with open('short_type','wb') as file:\n",
        "  torch.save(z[0,0,0],file)\n",
        "with open('short_type','rb') as file:\n",
        "  points=torch.load(file)"
      ],
      "execution_count": 41,
      "outputs": []
    },
    {
      "cell_type": "markdown",
      "metadata": {
        "id": "zbk_mluND9bs"
      },
      "source": [
        "Save and load one among the elements of tensors using the h5py file"
      ]
    },
    {
      "cell_type": "code",
      "metadata": {
        "id": "QKAnpMOGBZH0",
        "outputId": "db78cf54-6fb4-414f-d119-bcf189fbf097",
        "colab": {
          "base_uri": "https://localhost:8080/",
          "height": 68
        }
      },
      "source": [
        "with h5py.File('x_0_0.hdf5', 'w') as a:\n",
        "    a.create_dataset('values', data=x[0,0].cpu().numpy())\n",
        "with h5py.File('y_0_0.hdf5', 'w') as a:\n",
        "    a.create_dataset('values', data=y[0,0].cpu().numpy())\n",
        "with h5py.File('z_0_0_0.hdf5', 'w') as a:\n",
        "    a.create_dataset('values', data=z[0,0,0].cpu().numpy())\n",
        "with h5py.File('x_0_0.hdf5', 'r') as b:\n",
        "    print(torch.from_numpy(np.array(b['values'])))\n",
        "with h5py.File('y_0_0.hdf5', 'r') as b:\n",
        "    print(torch.from_numpy(np.array(b['values'])))\n",
        "with h5py.File('z_0_0_0.hdf5', 'r') as b:\n",
        "    print(torch.from_numpy(np.array(b['values'])))"
      ],
      "execution_count": 43,
      "outputs": [
        {
          "output_type": "stream",
          "text": [
            "tensor(-0.4785)\n",
            "tensor(0.9632, dtype=torch.float64)\n",
            "tensor(251, dtype=torch.int16)\n"
          ],
          "name": "stdout"
        }
      ]
    },
    {
      "cell_type": "markdown",
      "metadata": {
        "id": "YpO8CTdKHtfK"
      },
      "source": [
        "Show the different true and false requires_grad values in Autograd by the backward method"
      ]
    },
    {
      "cell_type": "code",
      "metadata": {
        "id": "3X73Xz0YHuG4",
        "outputId": "5d04d031-a66d-4edb-bf86-88812108e604",
        "colab": {
          "base_uri": "https://localhost:8080/",
          "height": 34
        }
      },
      "source": [
        "t1=torch.zeros(10,10)\n",
        "t2=torch.ones(10,10)\n",
        "t3=t1+t2\n",
        "t3.requires_grad"
      ],
      "execution_count": 52,
      "outputs": [
        {
          "output_type": "execute_result",
          "data": {
            "text/plain": [
              "False"
            ]
          },
          "metadata": {
            "tags": []
          },
          "execution_count": 52
        }
      ]
    },
    {
      "cell_type": "code",
      "metadata": {
        "id": "OES9V2BaMZWS",
        "outputId": "cab983dd-9aa1-44ed-854b-ad3d85da87c2",
        "colab": {
          "base_uri": "https://localhost:8080/",
          "height": 34
        }
      },
      "source": [
        "t4=torch.randn((10,10),requires_grad=True)\n",
        "t5=t3+t4\n",
        "t5.requires_grad"
      ],
      "execution_count": 53,
      "outputs": [
        {
          "output_type": "execute_result",
          "data": {
            "text/plain": [
              "True"
            ]
          },
          "metadata": {
            "tags": []
          },
          "execution_count": 53
        }
      ]
    },
    {
      "cell_type": "code",
      "metadata": {
        "id": "rlMo9bnlO93n",
        "outputId": "a08ee7c9-fb30-4e63-ed93-f7df245e9518",
        "colab": {
          "base_uri": "https://localhost:8080/",
          "height": 51
        }
      },
      "source": [
        "from torch.autograd import Variable\n",
        "x=Variable(2*torch.ones(2,2),requires_grad=True)\n",
        "x.backward(x)\n",
        "print(x.grad)"
      ],
      "execution_count": 59,
      "outputs": [
        {
          "output_type": "stream",
          "text": [
            "tensor([[2., 2.],\n",
            "        [2., 2.]])\n"
          ],
          "name": "stdout"
        }
      ]
    },
    {
      "cell_type": "code",
      "metadata": {
        "id": "0e3BV28uQotX"
      },
      "source": [
        ""
      ],
      "execution_count": null,
      "outputs": []
    }
  ]
}