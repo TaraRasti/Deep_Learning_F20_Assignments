{
 "cells": [
  {
   "cell_type": "code",
   "execution_count": 8,
   "metadata": {},
   "outputs": [],
   "source": [
    "import keras\n",
    "(train_images, train_labels),(test_images, test_labels) = keras.datasets.fashion_mnist.load_data()\n",
    "train_images = train_images / 255.0\n",
    "test_images = test_images / 255.0\n",
    "validation_images = train_images[:5000]\n",
    "validation_labels = train_labels[:5000]"
   ]
  },
  {
   "cell_type": "code",
   "execution_count": 9,
   "metadata": {},
   "outputs": [],
   "source": [
    "model = keras.models.Sequential([\n",
    "    keras.layers.Flatten(input_shape=[28,28]),\n",
    "    keras.layers.Dense(200, activation='relu', kernel_regularizer=keras.regularizers.l1()),\n",
    "    keras.layers.Dense(100, activation='relu', kernel_regularizer=keras.regularizers.l1(0.001)),\n",
    "    keras.layers.Dense(50, activation='relu', kernel_regularizer=keras.regularizers.l1(0.01)),\n",
    "    keras.layers.Dense(10, activation='softmax')\n",
    "])"
   ]
  },
  {
   "cell_type": "code",
   "execution_count": 10,
   "metadata": {},
   "outputs": [
    {
     "name": "stdout",
     "output_type": "stream",
     "text": [
      "Epoch 1/60\n",
      "1875/1875 [==============================] - 2s 1ms/step - loss: 13.4825 - accuracy: 0.6032 - val_loss: 3.0269 - val_accuracy: 0.6036\n",
      "Epoch 2/60\n",
      "1875/1875 [==============================] - 2s 941us/step - loss: 2.5566 - accuracy: 0.6589 - val_loss: 2.3179 - val_accuracy: 0.6490\n",
      "Epoch 3/60\n",
      "1875/1875 [==============================] - 2s 938us/step - loss: 2.0538 - accuracy: 0.6854 - val_loss: 1.8513 - val_accuracy: 0.7040\n",
      "Epoch 4/60\n",
      "1875/1875 [==============================] - 2s 977us/step - loss: 1.7318 - accuracy: 0.6982 - val_loss: 1.5871 - val_accuracy: 0.7102\n",
      "Epoch 5/60\n",
      "1875/1875 [==============================] - 2s 968us/step - loss: 1.5056 - accuracy: 0.7003 - val_loss: 1.3606 - val_accuracy: 0.7274\n",
      "Epoch 6/60\n",
      "1875/1875 [==============================] - 2s 932us/step - loss: 1.3474 - accuracy: 0.7030 - val_loss: 1.2336 - val_accuracy: 0.7308\n",
      "Epoch 7/60\n",
      "1875/1875 [==============================] - 2s 961us/step - loss: 1.2480 - accuracy: 0.7031 - val_loss: 1.1636 - val_accuracy: 0.7310\n",
      "Epoch 8/60\n",
      "1875/1875 [==============================] - 2s 964us/step - loss: 1.1989 - accuracy: 0.7031 - val_loss: 1.1900 - val_accuracy: 0.7280\n",
      "Epoch 9/60\n",
      "1875/1875 [==============================] - 2s 1ms/step - loss: 1.1803 - accuracy: 0.7039 - val_loss: 1.0884 - val_accuracy: 0.7526\n",
      "Epoch 10/60\n",
      "1875/1875 [==============================] - 2s 1ms/step - loss: 1.1735 - accuracy: 0.7042 - val_loss: 1.1923 - val_accuracy: 0.7108\n",
      "Epoch 11/60\n",
      "1875/1875 [==============================] - 2s 969us/step - loss: 1.1565 - accuracy: 0.7099 - val_loss: 1.0572 - val_accuracy: 0.7460\n",
      "Epoch 12/60\n",
      "1875/1875 [==============================] - 2s 961us/step - loss: 1.1436 - accuracy: 0.7110 - val_loss: 1.0773 - val_accuracy: 0.7368\n",
      "Epoch 13/60\n",
      "1875/1875 [==============================] - 2s 1ms/step - loss: 1.1431 - accuracy: 0.7167 - val_loss: 1.1193 - val_accuracy: 0.7176\n",
      "Epoch 14/60\n",
      "1875/1875 [==============================] - 2s 1ms/step - loss: 1.1197 - accuracy: 0.7214 - val_loss: 1.0511 - val_accuracy: 0.7494\n",
      "Epoch 15/60\n",
      "1875/1875 [==============================] - 2s 1ms/step - loss: 1.1132 - accuracy: 0.7277 - val_loss: 1.2108 - val_accuracy: 0.6754\n",
      "Epoch 16/60\n",
      "1875/1875 [==============================] - 2s 1ms/step - loss: 1.1115 - accuracy: 0.7335 - val_loss: 1.0201 - val_accuracy: 0.7634\n",
      "Epoch 17/60\n",
      "1875/1875 [==============================] - 2s 1ms/step - loss: 1.1008 - accuracy: 0.7390 - val_loss: 1.0005 - val_accuracy: 0.7824\n",
      "Epoch 18/60\n",
      "1875/1875 [==============================] - 2s 1ms/step - loss: 1.0954 - accuracy: 0.7390 - val_loss: 0.9904 - val_accuracy: 0.7742\n",
      "Epoch 19/60\n",
      "1875/1875 [==============================] - 2s 1ms/step - loss: 1.0872 - accuracy: 0.7436 - val_loss: 0.9934 - val_accuracy: 0.7802\n",
      "Epoch 20/60\n",
      "1875/1875 [==============================] - 2s 1ms/step - loss: 1.0853 - accuracy: 0.7414 - val_loss: 1.0202 - val_accuracy: 0.7676\n",
      "Epoch 21/60\n",
      "1875/1875 [==============================] - 2s 1ms/step - loss: 1.0816 - accuracy: 0.7433 - val_loss: 1.6711 - val_accuracy: 0.5428\n",
      "Epoch 22/60\n",
      "1875/1875 [==============================] - 2s 1ms/step - loss: 1.0772 - accuracy: 0.7423 - val_loss: 1.0114 - val_accuracy: 0.7552\n",
      "Epoch 23/60\n",
      "1875/1875 [==============================] - 2s 1ms/step - loss: 1.0789 - accuracy: 0.7452 - val_loss: 1.0086 - val_accuracy: 0.7684\n",
      "Epoch 24/60\n",
      "1875/1875 [==============================] - 2s 1ms/step - loss: 1.0761 - accuracy: 0.7436 - val_loss: 1.1053 - val_accuracy: 0.7490\n",
      "Epoch 25/60\n",
      "1875/1875 [==============================] - 2s 1ms/step - loss: 1.0689 - accuracy: 0.7437 - val_loss: 1.0006 - val_accuracy: 0.7790\n",
      "Epoch 26/60\n",
      "1875/1875 [==============================] - 2s 1ms/step - loss: 1.0764 - accuracy: 0.7426 - val_loss: 0.9729 - val_accuracy: 0.7828\n",
      "Epoch 27/60\n",
      "1875/1875 [==============================] - 2s 1ms/step - loss: 1.0644 - accuracy: 0.7461 - val_loss: 1.0980 - val_accuracy: 0.7332\n",
      "Epoch 28/60\n",
      "1875/1875 [==============================] - 2s 1ms/step - loss: 1.0768 - accuracy: 0.7435 - val_loss: 0.9856 - val_accuracy: 0.7812\n",
      "Epoch 29/60\n",
      "1875/1875 [==============================] - 2s 1ms/step - loss: 1.0662 - accuracy: 0.7447 - val_loss: 0.9876 - val_accuracy: 0.7696\n",
      "Epoch 30/60\n",
      "1875/1875 [==============================] - 2s 1ms/step - loss: 1.0717 - accuracy: 0.7448 - val_loss: 1.1588 - val_accuracy: 0.7060\n",
      "Epoch 31/60\n",
      "1875/1875 [==============================] - 2s 1ms/step - loss: 1.0648 - accuracy: 0.7438 - val_loss: 1.0691 - val_accuracy: 0.7410\n",
      "Epoch 32/60\n",
      "1875/1875 [==============================] - 2s 1ms/step - loss: 1.0644 - accuracy: 0.7434 - val_loss: 1.0269 - val_accuracy: 0.7618\n",
      "Epoch 33/60\n",
      "1875/1875 [==============================] - 2s 1ms/step - loss: 1.0649 - accuracy: 0.7449 - val_loss: 1.1000 - val_accuracy: 0.7368\n",
      "Epoch 34/60\n",
      "1875/1875 [==============================] - 2s 1ms/step - loss: 1.0652 - accuracy: 0.7444 - val_loss: 1.0165 - val_accuracy: 0.7694\n",
      "Epoch 35/60\n",
      "1875/1875 [==============================] - 2s 1ms/step - loss: 1.0731 - accuracy: 0.7418 - val_loss: 0.9562 - val_accuracy: 0.7838\n",
      "Epoch 36/60\n",
      "1875/1875 [==============================] - 2s 1ms/step - loss: 1.0552 - accuracy: 0.7461 - val_loss: 0.9683 - val_accuracy: 0.7816\n",
      "Epoch 37/60\n",
      "1875/1875 [==============================] - 2s 1ms/step - loss: 1.0681 - accuracy: 0.7430 - val_loss: 1.1533 - val_accuracy: 0.7236\n",
      "Epoch 38/60\n",
      "1875/1875 [==============================] - 2s 1ms/step - loss: 1.0840 - accuracy: 0.7390 - val_loss: 1.0283 - val_accuracy: 0.7670\n",
      "Epoch 39/60\n",
      "1875/1875 [==============================] - 2s 1ms/step - loss: 1.0641 - accuracy: 0.7416 - val_loss: 0.9600 - val_accuracy: 0.7870\n",
      "Epoch 40/60\n",
      "1875/1875 [==============================] - 2s 1ms/step - loss: 1.0621 - accuracy: 0.7453 - val_loss: 1.0763 - val_accuracy: 0.7450\n",
      "Epoch 41/60\n",
      "1875/1875 [==============================] - 2s 1ms/step - loss: 1.0655 - accuracy: 0.7436 - val_loss: 1.0582 - val_accuracy: 0.7422\n",
      "Epoch 42/60\n",
      "1875/1875 [==============================] - 2s 1ms/step - loss: 1.0567 - accuracy: 0.7448 - val_loss: 1.0171 - val_accuracy: 0.7674\n",
      "Epoch 43/60\n",
      "1875/1875 [==============================] - 2s 1ms/step - loss: 1.0756 - accuracy: 0.7421 - val_loss: 0.9625 - val_accuracy: 0.7768\n",
      "Epoch 44/60\n",
      "1875/1875 [==============================] - 2s 1ms/step - loss: 1.0642 - accuracy: 0.7407 - val_loss: 0.9570 - val_accuracy: 0.7876\n",
      "Epoch 45/60\n",
      "1875/1875 [==============================] - 2s 1ms/step - loss: 1.0585 - accuracy: 0.7460 - val_loss: 0.9398 - val_accuracy: 0.7898\n",
      "Epoch 46/60\n",
      "1875/1875 [==============================] - 2s 1ms/step - loss: 1.0574 - accuracy: 0.7446 - val_loss: 1.0342 - val_accuracy: 0.7548\n",
      "Epoch 47/60\n",
      "1875/1875 [==============================] - 2s 1ms/step - loss: 1.0670 - accuracy: 0.7426 - val_loss: 1.0023 - val_accuracy: 0.7570\n",
      "Epoch 48/60\n",
      "1875/1875 [==============================] - 2s 1ms/step - loss: 1.0578 - accuracy: 0.7442 - val_loss: 1.0072 - val_accuracy: 0.7534\n",
      "Epoch 49/60\n",
      "1875/1875 [==============================] - 2s 1ms/step - loss: 1.0570 - accuracy: 0.7438 - val_loss: 1.0095 - val_accuracy: 0.7606\n",
      "Epoch 50/60\n",
      "1875/1875 [==============================] - 2s 1ms/step - loss: 1.0551 - accuracy: 0.7451 - val_loss: 0.9815 - val_accuracy: 0.7706\n",
      "Epoch 51/60\n",
      "1875/1875 [==============================] - 2s 1ms/step - loss: 1.0588 - accuracy: 0.7446 - val_loss: 0.9615 - val_accuracy: 0.7878\n",
      "Epoch 52/60\n",
      "1875/1875 [==============================] - 2s 1ms/step - loss: 1.0582 - accuracy: 0.7426 - val_loss: 1.0079 - val_accuracy: 0.7512\n",
      "Epoch 53/60\n",
      "1875/1875 [==============================] - 2s 1ms/step - loss: 1.0582 - accuracy: 0.7412 - val_loss: 1.0479 - val_accuracy: 0.7396\n",
      "Epoch 54/60\n",
      "1875/1875 [==============================] - 2s 1ms/step - loss: 1.0615 - accuracy: 0.7458 - val_loss: 0.9837 - val_accuracy: 0.7714\n",
      "Epoch 55/60\n",
      "1875/1875 [==============================] - 2s 1ms/step - loss: 1.0590 - accuracy: 0.7443 - val_loss: 1.0696 - val_accuracy: 0.7382\n",
      "Epoch 56/60\n",
      "1875/1875 [==============================] - 2s 1ms/step - loss: 1.0544 - accuracy: 0.7446 - val_loss: 1.0346 - val_accuracy: 0.7680\n",
      "Epoch 57/60\n"
     ]
    },
    {
     "name": "stdout",
     "output_type": "stream",
     "text": [
      "1875/1875 [==============================] - 2s 1ms/step - loss: 1.0602 - accuracy: 0.7434 - val_loss: 1.0815 - val_accuracy: 0.7294\n",
      "Epoch 58/60\n",
      "1875/1875 [==============================] - 2s 1ms/step - loss: 1.0493 - accuracy: 0.7454 - val_loss: 1.0203 - val_accuracy: 0.7524\n",
      "Epoch 59/60\n",
      "1875/1875 [==============================] - 2s 1ms/step - loss: 1.0488 - accuracy: 0.7449 - val_loss: 1.1955 - val_accuracy: 0.6884\n",
      "Epoch 60/60\n",
      "1875/1875 [==============================] - 2s 1ms/step - loss: 1.0530 - accuracy: 0.7443 - val_loss: 0.9967 - val_accuracy: 0.7670\n"
     ]
    },
    {
     "data": {
      "text/plain": [
       "<tensorflow.python.keras.callbacks.History at 0x7fd67178b650>"
      ]
     },
     "execution_count": 10,
     "metadata": {},
     "output_type": "execute_result"
    }
   ],
   "source": [
    "sgd = keras.optimizers.SGD(lr=0.01)\n",
    "model.compile(loss=\"sparse_categorical_crossentropy\", optimizer=sgd, metrics=[\"accuracy\"])\n",
    "model.fit(train_images, train_labels, epochs=60, validation_data=(validation_images, validation_labels))"
   ]
  },
  {
   "cell_type": "code",
   "execution_count": null,
   "metadata": {},
   "outputs": [],
   "source": []
  }
 ],
 "metadata": {
  "kernelspec": {
   "display_name": "Python 3",
   "language": "python",
   "name": "python3"
  },
  "language_info": {
   "codemirror_mode": {
    "name": "ipython",
    "version": 3
   },
   "file_extension": ".py",
   "mimetype": "text/x-python",
   "name": "python",
   "nbconvert_exporter": "python",
   "pygments_lexer": "ipython3",
   "version": "3.7.6"
  }
 },
 "nbformat": 4,
 "nbformat_minor": 4
}
