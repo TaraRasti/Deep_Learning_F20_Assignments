{
  "nbformat": 4,
  "nbformat_minor": 0,
  "metadata": {
    "colab": {
      "name": "mnist_L1.ipynb",
      "provenance": [],
      "collapsed_sections": [],
      "authorship_tag": "ABX9TyOnTmIk3SZnh8QGbjkxiOb8",
      "include_colab_link": true
    },
    "kernelspec": {
      "name": "python3",
      "display_name": "Python 3"
    }
  },
  "cells": [
    {
      "cell_type": "markdown",
      "metadata": {
        "id": "view-in-github",
        "colab_type": "text"
      },
      "source": [
        "<a href=\"https://colab.research.google.com/github/TaraRasti/Deep_Learning_F20_Assignments/blob/master/Assignment_6/L1_Regularization/mnist_L1.ipynb\" target=\"_parent\"><img src=\"https://colab.research.google.com/assets/colab-badge.svg\" alt=\"Open In Colab\"/></a>"
      ]
    },
    {
      "cell_type": "markdown",
      "metadata": {
        "id": "RcO5w_Y43tNg"
      },
      "source": [
        "##L1 Regularization"
      ]
    },
    {
      "cell_type": "code",
      "metadata": {
        "id": "a3KutwY22xUC",
        "outputId": "e30721bb-675c-4404-c509-fd6c17c568a2",
        "colab": {
          "base_uri": "https://localhost:8080/"
        }
      },
      "source": [
        "from __future__ import absolute_import\n",
        "from __future__ import division\n",
        "from __future__ import print_function\n",
        "import numpy as np\n",
        "from keras.models import Sequential\n",
        "from keras.layers import Dense, Activation\n",
        "from keras.datasets import mnist\n",
        "from keras.regularizers import l1\n",
        "from keras.utils import to_categorical\n",
        "\n",
        "\n",
        "(x_train, y_train), (x_test, y_test) = mnist.load_data()\n",
        "\n",
        "\n",
        "num_labels = len(np.unique(y_train))\n",
        "\n",
        "\n",
        "y_train = to_categorical(y_train)\n",
        "y_test = to_categorical(y_test)\n",
        "\n",
        "\n",
        "image_size = x_train.shape[1]\n",
        "\n",
        "x_train = np.reshape(x_train, [-1, input_size])\n",
        "\n",
        "x_train = x_train.astype('float32') / 255\n",
        "x_test = np.reshape(x_test, [-1, input_size])\n",
        "x_test = x_test.astype('float32') / 255\n",
        "\n",
        "# network parameters\n",
        "batch_size = 128\n",
        "hidden_units = 256\n",
        "\n",
        "kernel_regularizer = l1(0.0001)\n",
        "\n",
        "model = Sequential()\n",
        "model.add(Dense(hidden_units,\n",
        "                kernel_regularizer=kernel_regularizer,\n",
        "                input_dim=input_size))\n",
        "model.add(Activation('relu'))\n",
        "model.add(Dense(hidden_units,\n",
        "                kernel_regularizer=kernel_regularizer))\n",
        "model.add(Activation('relu'))\n",
        "model.add(Dense(num_labels))\n",
        "\n",
        "model.add(Activation('softmax'))\n",
        "model.summary()\n",
        "\n",
        "\n",
        "model.compile(loss='categorical_crossentropy',\n",
        "              optimizer='sgd',\n",
        "              metrics=['accuracy'])\n",
        "# train the network\n",
        "model.fit(x_train, y_train, epochs=20, batch_size=batch_size)\n",
        "\n",
        "# validate the model on test dataset to determine generalization\n",
        "score = model.evaluate(x_test, y_test, batch_size=batch_size)\n",
        "print(\"\\nTest accuracy: %.1f%%\" % (100.0 * score[1]))"
      ],
      "execution_count": 20,
      "outputs": [
        {
          "output_type": "stream",
          "text": [
            "Model: \"sequential\"\n",
            "_________________________________________________________________\n",
            "Layer (type)                 Output Shape              Param #   \n",
            "=================================================================\n",
            "dense (Dense)                (None, 256)               200960    \n",
            "_________________________________________________________________\n",
            "activation (Activation)      (None, 256)               0         \n",
            "_________________________________________________________________\n",
            "dense_1 (Dense)              (None, 256)               65792     \n",
            "_________________________________________________________________\n",
            "activation_1 (Activation)    (None, 256)               0         \n",
            "_________________________________________________________________\n",
            "dense_2 (Dense)              (None, 10)                2570      \n",
            "_________________________________________________________________\n",
            "activation_2 (Activation)    (None, 10)                0         \n",
            "=================================================================\n",
            "Total params: 269,322\n",
            "Trainable params: 269,322\n",
            "Non-trainable params: 0\n",
            "_________________________________________________________________\n",
            "Epoch 1/20\n",
            "469/469 [==============================] - 3s 7ms/step - loss: 2.3293 - accuracy: 0.7223\n",
            "Epoch 2/20\n",
            "469/469 [==============================] - 3s 7ms/step - loss: 1.5867 - accuracy: 0.8780\n",
            "Epoch 3/20\n",
            "469/469 [==============================] - 3s 7ms/step - loss: 1.4757 - accuracy: 0.8964\n",
            "Epoch 4/20\n",
            "469/469 [==============================] - 3s 7ms/step - loss: 1.4223 - accuracy: 0.9064\n",
            "Epoch 5/20\n",
            "469/469 [==============================] - 3s 7ms/step - loss: 1.3849 - accuracy: 0.9128\n",
            "Epoch 6/20\n",
            "469/469 [==============================] - 3s 7ms/step - loss: 1.3545 - accuracy: 0.9180\n",
            "Epoch 7/20\n",
            "469/469 [==============================] - 3s 7ms/step - loss: 1.3279 - accuracy: 0.9225\n",
            "Epoch 8/20\n",
            "469/469 [==============================] - 3s 7ms/step - loss: 1.3039 - accuracy: 0.9270\n",
            "Epoch 9/20\n",
            "469/469 [==============================] - 3s 7ms/step - loss: 1.2814 - accuracy: 0.9304\n",
            "Epoch 10/20\n",
            "469/469 [==============================] - 3s 7ms/step - loss: 1.2601 - accuracy: 0.9329\n",
            "Epoch 11/20\n",
            "469/469 [==============================] - 3s 7ms/step - loss: 1.2399 - accuracy: 0.9362\n",
            "Epoch 12/20\n",
            "469/469 [==============================] - 3s 7ms/step - loss: 1.2209 - accuracy: 0.9380\n",
            "Epoch 13/20\n",
            "469/469 [==============================] - 3s 7ms/step - loss: 1.2023 - accuracy: 0.9409\n",
            "Epoch 14/20\n",
            "469/469 [==============================] - 3s 7ms/step - loss: 1.1843 - accuracy: 0.9429\n",
            "Epoch 15/20\n",
            "469/469 [==============================] - 3s 7ms/step - loss: 1.1671 - accuracy: 0.9449\n",
            "Epoch 16/20\n",
            "469/469 [==============================] - 3s 7ms/step - loss: 1.1504 - accuracy: 0.9467\n",
            "Epoch 17/20\n",
            "469/469 [==============================] - 3s 7ms/step - loss: 1.1343 - accuracy: 0.9483\n",
            "Epoch 18/20\n",
            "469/469 [==============================] - 3s 7ms/step - loss: 1.1184 - accuracy: 0.9498\n",
            "Epoch 19/20\n",
            "469/469 [==============================] - 3s 7ms/step - loss: 1.1033 - accuracy: 0.9514\n",
            "Epoch 20/20\n",
            "469/469 [==============================] - 3s 7ms/step - loss: 1.0884 - accuracy: 0.9529\n",
            "79/79 [==============================] - 0s 3ms/step - loss: 1.0805 - accuracy: 0.9522\n",
            "\n",
            "Test accuracy: 95.2%\n"
          ],
          "name": "stdout"
        }
      ]
    }
  ]
}