{
 "cells": [
  {
   "cell_type": "code",
   "execution_count": 11,
   "metadata": {},
   "outputs": [],
   "source": [
    "import keras\n",
    "(train_images, train_labels),(test_images, test_labels) = keras.datasets.fashion_mnist.load_data()\n",
    "train_images = train_images / 255.0\n",
    "test_images = test_images / 255.0\n",
    "validation_images = train_images[:5000]\n",
    "validation_labels = train_labels[:5000]"
   ]
  },
  {
   "cell_type": "code",
   "execution_count": 12,
   "metadata": {},
   "outputs": [],
   "source": [
    "model = keras.models.Sequential([\n",
    "    keras.layers.Flatten(input_shape=[28,28]),\n",
    "    keras.layers.Dense(200, activation='relu', kernel_regularizer=keras.regularizers.l2()),\n",
    "    keras.layers.Dense(100, activation='relu', kernel_regularizer=keras.regularizers.l2(0.001)),\n",
    "    keras.layers.Dense(50, activation='relu', kernel_regularizer=keras.regularizers.l2(0.01)),\n",
    "    keras.layers.Dense(10, activation='softmax')\n",
    "])"
   ]
  },
  {
   "cell_type": "code",
   "execution_count": 13,
   "metadata": {},
   "outputs": [
    {
     "name": "stdout",
     "output_type": "stream",
     "text": [
      "Epoch 1/60\n",
      "1875/1875 [==============================] - 4s 2ms/step - loss: 3.6837 - accuracy: 0.7442 - val_loss: 2.5877 - val_accuracy: 0.8198\n",
      "Epoch 2/60\n",
      "1875/1875 [==============================] - 4s 2ms/step - loss: 2.0364 - accuracy: 0.8230 - val_loss: 1.5936 - val_accuracy: 0.8308\n",
      "Epoch 3/60\n",
      "1875/1875 [==============================] - 4s 2ms/step - loss: 1.3338 - accuracy: 0.8310 - val_loss: 1.1077 - val_accuracy: 0.8446\n",
      "Epoch 4/60\n",
      "1875/1875 [==============================] - 4s 2ms/step - loss: 0.9958 - accuracy: 0.8389 - val_loss: 0.8799 - val_accuracy: 0.8484\n",
      "Epoch 5/60\n",
      "1875/1875 [==============================] - 4s 2ms/step - loss: 0.8299 - accuracy: 0.8421 - val_loss: 0.7515 - val_accuracy: 0.8556\n",
      "Epoch 6/60\n",
      "1875/1875 [==============================] - 4s 2ms/step - loss: 0.7439 - accuracy: 0.8460 - val_loss: 0.6865 - val_accuracy: 0.8588\n",
      "Epoch 7/60\n",
      "1875/1875 [==============================] - 4s 2ms/step - loss: 0.6982 - accuracy: 0.8458 - val_loss: 0.6541 - val_accuracy: 0.8630\n",
      "Epoch 8/60\n",
      "1875/1875 [==============================] - 4s 2ms/step - loss: 0.6686 - accuracy: 0.8491 - val_loss: 0.6838 - val_accuracy: 0.8382\n",
      "Epoch 9/60\n",
      "1875/1875 [==============================] - 4s 2ms/step - loss: 0.6500 - accuracy: 0.8504 - val_loss: 0.6085 - val_accuracy: 0.8672\n",
      "Epoch 10/60\n",
      "1875/1875 [==============================] - 4s 2ms/step - loss: 0.6369 - accuracy: 0.8508 - val_loss: 0.6067 - val_accuracy: 0.8660\n",
      "Epoch 11/60\n",
      "1875/1875 [==============================] - 4s 2ms/step - loss: 0.6254 - accuracy: 0.8541 - val_loss: 0.6220 - val_accuracy: 0.8550\n",
      "Epoch 12/60\n",
      "1875/1875 [==============================] - 4s 2ms/step - loss: 0.6158 - accuracy: 0.8539 - val_loss: 0.5855 - val_accuracy: 0.8692\n",
      "Epoch 13/60\n",
      "1875/1875 [==============================] - 4s 2ms/step - loss: 0.6082 - accuracy: 0.8554 - val_loss: 0.6042 - val_accuracy: 0.8580\n",
      "Epoch 14/60\n",
      "1875/1875 [==============================] - 4s 2ms/step - loss: 0.6017 - accuracy: 0.8551 - val_loss: 0.5712 - val_accuracy: 0.8740\n",
      "Epoch 15/60\n",
      "1875/1875 [==============================] - 4s 2ms/step - loss: 0.5943 - accuracy: 0.8575 - val_loss: 0.5524 - val_accuracy: 0.8768\n",
      "Epoch 16/60\n",
      "1875/1875 [==============================] - 4s 2ms/step - loss: 0.5858 - accuracy: 0.8595 - val_loss: 0.5456 - val_accuracy: 0.8776\n",
      "Epoch 17/60\n",
      "1875/1875 [==============================] - 4s 2ms/step - loss: 0.5820 - accuracy: 0.8586 - val_loss: 0.5515 - val_accuracy: 0.8704\n",
      "Epoch 18/60\n",
      "1875/1875 [==============================] - 4s 2ms/step - loss: 0.5784 - accuracy: 0.8598 - val_loss: 0.5374 - val_accuracy: 0.8764\n",
      "Epoch 19/60\n",
      "1875/1875 [==============================] - 4s 2ms/step - loss: 0.5712 - accuracy: 0.8612 - val_loss: 0.5741 - val_accuracy: 0.8584\n",
      "Epoch 20/60\n",
      "1875/1875 [==============================] - 4s 2ms/step - loss: 0.5669 - accuracy: 0.8615 - val_loss: 0.5481 - val_accuracy: 0.8684\n",
      "Epoch 21/60\n",
      "1875/1875 [==============================] - 4s 2ms/step - loss: 0.5639 - accuracy: 0.8619 - val_loss: 0.5460 - val_accuracy: 0.8682\n",
      "Epoch 22/60\n",
      "1875/1875 [==============================] - 4s 2ms/step - loss: 0.5578 - accuracy: 0.8636 - val_loss: 0.5493 - val_accuracy: 0.8682\n",
      "Epoch 23/60\n",
      "1875/1875 [==============================] - 4s 2ms/step - loss: 0.5547 - accuracy: 0.8635 - val_loss: 0.5259 - val_accuracy: 0.8734\n",
      "Epoch 24/60\n",
      "1875/1875 [==============================] - 4s 2ms/step - loss: 0.5508 - accuracy: 0.8638 - val_loss: 0.5568 - val_accuracy: 0.8616\n",
      "Epoch 25/60\n",
      "1875/1875 [==============================] - 4s 2ms/step - loss: 0.5485 - accuracy: 0.8648 - val_loss: 0.5264 - val_accuracy: 0.8712\n",
      "Epoch 26/60\n",
      "1875/1875 [==============================] - 4s 2ms/step - loss: 0.5455 - accuracy: 0.8650 - val_loss: 0.5732 - val_accuracy: 0.8458\n",
      "Epoch 27/60\n",
      "1875/1875 [==============================] - 4s 2ms/step - loss: 0.5420 - accuracy: 0.8640 - val_loss: 0.5404 - val_accuracy: 0.8656\n",
      "Epoch 28/60\n",
      "1875/1875 [==============================] - 4s 2ms/step - loss: 0.5418 - accuracy: 0.8643 - val_loss: 0.5348 - val_accuracy: 0.8684\n",
      "Epoch 29/60\n",
      "1875/1875 [==============================] - 4s 2ms/step - loss: 0.5382 - accuracy: 0.8642 - val_loss: 0.4906 - val_accuracy: 0.8846\n",
      "Epoch 30/60\n",
      "1875/1875 [==============================] - 4s 2ms/step - loss: 0.5346 - accuracy: 0.8644 - val_loss: 0.5039 - val_accuracy: 0.8738\n",
      "Epoch 31/60\n",
      "1875/1875 [==============================] - 4s 2ms/step - loss: 0.5334 - accuracy: 0.8654 - val_loss: 0.5343 - val_accuracy: 0.8664\n",
      "Epoch 32/60\n",
      "1875/1875 [==============================] - 4s 2ms/step - loss: 0.5289 - accuracy: 0.8670 - val_loss: 0.5086 - val_accuracy: 0.8758\n",
      "Epoch 33/60\n",
      "1875/1875 [==============================] - 4s 2ms/step - loss: 0.5283 - accuracy: 0.8655 - val_loss: 0.5163 - val_accuracy: 0.8768\n",
      "Epoch 34/60\n",
      "1875/1875 [==============================] - 4s 2ms/step - loss: 0.5256 - accuracy: 0.8672 - val_loss: 0.4997 - val_accuracy: 0.8774\n",
      "Epoch 35/60\n",
      "1875/1875 [==============================] - 4s 2ms/step - loss: 0.5245 - accuracy: 0.8662 - val_loss: 0.5080 - val_accuracy: 0.8714\n",
      "Epoch 36/60\n",
      "1875/1875 [==============================] - 4s 2ms/step - loss: 0.5242 - accuracy: 0.8659 - val_loss: 0.5203 - val_accuracy: 0.8662\n",
      "Epoch 37/60\n",
      "1875/1875 [==============================] - 4s 2ms/step - loss: 0.5218 - accuracy: 0.8673 - val_loss: 0.4873 - val_accuracy: 0.8792\n",
      "Epoch 38/60\n",
      "1875/1875 [==============================] - 4s 2ms/step - loss: 0.5198 - accuracy: 0.8674 - val_loss: 0.4742 - val_accuracy: 0.8872\n",
      "Epoch 39/60\n",
      "1875/1875 [==============================] - 4s 2ms/step - loss: 0.5161 - accuracy: 0.8688 - val_loss: 0.4899 - val_accuracy: 0.8772\n",
      "Epoch 40/60\n",
      "1875/1875 [==============================] - 4s 2ms/step - loss: 0.5175 - accuracy: 0.8668 - val_loss: 0.4877 - val_accuracy: 0.8786\n",
      "Epoch 41/60\n",
      "1875/1875 [==============================] - 4s 2ms/step - loss: 0.5151 - accuracy: 0.8680 - val_loss: 0.4896 - val_accuracy: 0.8810\n",
      "Epoch 42/60\n",
      "1875/1875 [==============================] - 4s 2ms/step - loss: 0.5150 - accuracy: 0.8681 - val_loss: 0.4961 - val_accuracy: 0.8758\n",
      "Epoch 43/60\n",
      "1875/1875 [==============================] - 4s 2ms/step - loss: 0.5133 - accuracy: 0.8671 - val_loss: 0.5171 - val_accuracy: 0.8664\n",
      "Epoch 44/60\n",
      "1875/1875 [==============================] - 4s 2ms/step - loss: 0.5128 - accuracy: 0.8668 - val_loss: 0.5397 - val_accuracy: 0.8568\n",
      "Epoch 45/60\n",
      "1875/1875 [==============================] - 4s 2ms/step - loss: 0.5096 - accuracy: 0.8679 - val_loss: 0.4847 - val_accuracy: 0.8762\n",
      "Epoch 46/60\n",
      "1875/1875 [==============================] - 4s 2ms/step - loss: 0.5087 - accuracy: 0.8691 - val_loss: 0.4886 - val_accuracy: 0.8786\n",
      "Epoch 47/60\n",
      "1875/1875 [==============================] - 4s 2ms/step - loss: 0.5079 - accuracy: 0.8696 - val_loss: 0.4823 - val_accuracy: 0.8802\n",
      "Epoch 48/60\n",
      "1875/1875 [==============================] - 4s 2ms/step - loss: 0.5063 - accuracy: 0.8698 - val_loss: 0.5456 - val_accuracy: 0.8534\n",
      "Epoch 49/60\n",
      "1875/1875 [==============================] - 4s 2ms/step - loss: 0.5062 - accuracy: 0.8694 - val_loss: 0.4877 - val_accuracy: 0.8734\n",
      "Epoch 50/60\n",
      "1875/1875 [==============================] - 4s 2ms/step - loss: 0.5045 - accuracy: 0.8704 - val_loss: 0.4748 - val_accuracy: 0.8850\n",
      "Epoch 51/60\n",
      "1875/1875 [==============================] - 4s 2ms/step - loss: 0.5025 - accuracy: 0.8704 - val_loss: 0.5020 - val_accuracy: 0.8714\n",
      "Epoch 52/60\n",
      "1875/1875 [==============================] - 4s 2ms/step - loss: 0.5040 - accuracy: 0.8695 - val_loss: 0.5136 - val_accuracy: 0.8606\n",
      "Epoch 53/60\n",
      "1875/1875 [==============================] - 4s 2ms/step - loss: 0.5021 - accuracy: 0.8689 - val_loss: 0.4728 - val_accuracy: 0.8820\n",
      "Epoch 54/60\n",
      "1875/1875 [==============================] - 4s 2ms/step - loss: 0.5017 - accuracy: 0.8700 - val_loss: 0.5095 - val_accuracy: 0.8656\n",
      "Epoch 55/60\n",
      "1875/1875 [==============================] - 4s 2ms/step - loss: 0.5020 - accuracy: 0.8702 - val_loss: 0.5193 - val_accuracy: 0.8582\n",
      "Epoch 56/60\n",
      "1875/1875 [==============================] - 4s 2ms/step - loss: 0.5012 - accuracy: 0.8694 - val_loss: 0.4728 - val_accuracy: 0.8820\n",
      "Epoch 57/60\n"
     ]
    },
    {
     "name": "stdout",
     "output_type": "stream",
     "text": [
      "1875/1875 [==============================] - 4s 2ms/step - loss: 0.4993 - accuracy: 0.8700 - val_loss: 0.4679 - val_accuracy: 0.8832\n",
      "Epoch 58/60\n",
      "1875/1875 [==============================] - 4s 2ms/step - loss: 0.4987 - accuracy: 0.8697 - val_loss: 0.5575 - val_accuracy: 0.8472\n",
      "Epoch 59/60\n",
      "1875/1875 [==============================] - 4s 2ms/step - loss: 0.4987 - accuracy: 0.8690 - val_loss: 0.4824 - val_accuracy: 0.8736\n",
      "Epoch 60/60\n",
      "1875/1875 [==============================] - 4s 2ms/step - loss: 0.4983 - accuracy: 0.8706 - val_loss: 0.4735 - val_accuracy: 0.8808\n"
     ]
    },
    {
     "data": {
      "text/plain": [
       "<tensorflow.python.keras.callbacks.History at 0x7fd58b483f90>"
      ]
     },
     "execution_count": 13,
     "metadata": {},
     "output_type": "execute_result"
    }
   ],
   "source": [
    "sgd = keras.optimizers.SGD(lr=0.01)\n",
    "model.compile(loss=\"sparse_categorical_crossentropy\", optimizer=sgd, metrics=[\"accuracy\"])\n",
    "model.fit(train_images, train_labels, epochs=60, validation_data=(validation_images, validation_labels))"
   ]
  },
  {
   "cell_type": "code",
   "execution_count": null,
   "metadata": {},
   "outputs": [],
   "source": []
  }
 ],
 "metadata": {
  "kernelspec": {
   "display_name": "Python 3",
   "language": "python",
   "name": "python3"
  },
  "language_info": {
   "codemirror_mode": {
    "name": "ipython",
    "version": 3
   },
   "file_extension": ".py",
   "mimetype": "text/x-python",
   "name": "python",
   "nbconvert_exporter": "python",
   "pygments_lexer": "ipython3",
   "version": "3.7.6"
  }
 },
 "nbformat": 4,
 "nbformat_minor": 4
}
