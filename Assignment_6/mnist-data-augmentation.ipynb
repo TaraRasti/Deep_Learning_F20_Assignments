{
 "cells": [
  {
   "cell_type": "code",
   "execution_count": 1,
   "metadata": {
    "_uuid": "c7c169a0c3671a76f3e8a333e096bc292856d6b6"
   },
   "outputs": [
    {
     "name": "stderr",
     "output_type": "stream",
     "text": [
      "Using TensorFlow backend.\n"
     ]
    }
   ],
   "source": [
    "from sklearn.utils import shuffle\n",
    "import matplotlib.pyplot as plt\n",
    "import pandas as pd\n",
    "from keras.datasets import mnist\n",
    "import numpy as np\n",
    "np.random.seed(0)\n",
    "\n",
    "x_train = pd.read_csv('/Users/taraapple/Desktop/train.csv')\n",
    "label = x_train['label']\n",
    "x_train.drop(['label'], inplace = True, axis = 1 )\n",
    "\n",
    "x_test = pd.read_csv('/Users/taraapple/Desktop/test.csv')\n",
    "x_train = x_train.values\n",
    "y_train = label.values\n",
    "x_test = x_test.values\n",
    "x_train ,  y_train = shuffle(x_train, label , random_state=0)"
   ]
  },
  {
   "cell_type": "code",
   "execution_count": 2,
   "metadata": {
    "_uuid": "00917d4e4deeddeaff882be7725b86dcc9dd7fd9"
   },
   "outputs": [
    {
     "name": "stdout",
     "output_type": "stream",
     "text": [
      "(42000, 784)\n"
     ]
    }
   ],
   "source": [
    "print(x_train.shape)"
   ]
  },
  {
   "cell_type": "code",
   "execution_count": 3,
   "metadata": {
    "_uuid": "d4bc6a7b82fd34cd34218e4de032be22781b7f5a",
    "executionInfo": {
     "elapsed": 1944,
     "status": "ok",
     "timestamp": 1530806452580,
     "user": {
      "displayName": "Abd El Rhman ElMoghazy",
      "photoUrl": "https://lh3.googleusercontent.com/a/default-user=s128",
      "userId": "112798608963931725749"
     },
     "user_tz": -120
    },
    "id": "qISzguL479UT",
    "outputId": "1f0ac568-3933-4e80-8961-3bc2a949d503"
   },
   "outputs": [
    {
     "name": "stdout",
     "output_type": "stream",
     "text": [
      "the number of training examples = 42000\n",
      "the number of classes = 10\n",
      "Flattened Image dimentions = 784 x 1  \n",
      "The number of occuranc of each class in the dataset = 1    4684\n",
      "7    4401\n",
      "3    4351\n",
      "9    4188\n",
      "2    4177\n",
      "6    4137\n",
      "0    4132\n",
      "4    4072\n",
      "8    4063\n",
      "5    3795\n",
      "Name: label, dtype: int64  \n",
      "\n"
     ]
    },
    {
     "data": {
      "image/png": "[encoded data removed]",
      "text/plain": [
       "<Figure size 432x288 with 12 Axes>"
      ]
     },
     "metadata": {
      "needs_background": "light"
     },
     "output_type": "display_data"
    }
   ],
   "source": [
    "print(\"the number of training examples = %i\" % x_train.shape[0])\n",
    "print(\"the number of classes = %i\" % len(np.unique(y_train)))\n",
    "print(\"Flattened Image dimentions = %d x %d  \" % (x_train.shape[1], 1)  )\n",
    "\n",
    "print(\"The number of occuranc of each class in the dataset = %s \" % label.value_counts(), \"\\n\" )\n",
    "\n",
    "\n",
    "X_train = x_train.reshape(-1, 28, 28).astype('float32')\n",
    "images_and_labels = list(zip(X_train,  y_train))\n",
    "for index, (image, label) in enumerate(images_and_labels[:12]):\n",
    "    plt.subplot(5, 4, index + 1)\n",
    "    plt.axis('off')\n",
    "    plt.imshow(image, cmap=plt.cm.gray_r, interpolation='nearest')\n",
    "    plt.title('label: %i' % label)"
   ]
  },
  {
   "cell_type": "code",
   "execution_count": 4,
   "metadata": {},
   "outputs": [
    {
     "data": {
      "text/plain": [
       "numpy.ndarray"
      ]
     },
     "execution_count": 4,
     "metadata": {},
     "output_type": "execute_result"
    }
   ],
   "source": [
    "type(x_train)"
   ]
  },
  {
   "cell_type": "code",
   "execution_count": 5,
   "metadata": {
    "_uuid": "9fb3e73b7b3d0a0edd38b7e71a8ba9022f7de5fd",
    "executionInfo": {
     "elapsed": 573,
     "status": "ok",
     "timestamp": 1530806453178,
     "user": {
      "displayName": "Abd El Rhman ElMoghazy",
      "photoUrl": "https://lh3.googleusercontent.com/a/default-user=s128",
      "userId": "112798608963931725749"
     },
     "user_tz": -120
    },
    "id": "i6HEF4bXc2Wa",
    "outputId": "0d26835c-8797-4ae3-e72a-12e9d7dd00c4"
   },
   "outputs": [
    {
     "name": "stdout",
     "output_type": "stream",
     "text": [
      "(42000, 28, 28, 1)\n",
      "(42000, 28, 28, 1)\n"
     ]
    }
   ],
   "source": [
    "from keras.models import Sequential\n",
    "from keras.layers import Dense, Flatten\n",
    "from keras.layers import Dropout, Conv2D\n",
    "from keras import regularizers\n",
    "\n",
    "from keras.utils import np_utils\n",
    "\n",
    "x_train = x_train.reshape(-1,28,28,1)\n",
    "x_test = x_test.reshape(-1,28,28,1)\n",
    "\n",
    "print(x_train.shape )\n",
    "print(x_train.shape )\n",
    "\n",
    "\n",
    "y_train = np_utils.to_categorical(y_train)\n",
    "\n",
    "model = Sequential()\n",
    "model.add(Conv2D(1, kernel_size=1, padding=\"same\",input_shape=(28, 28, 1), activation = 'relu'))\n",
    "model.add(Flatten())\n",
    "\n",
    "\n",
    "model.add(Dense(units=100, activation='relu'  ))\n",
    "model.add(Dropout(0.1))\n",
    "model.add(Dense(units=100, activation='relu'  ))\n",
    "model.add(Dropout(0.1))\n",
    "model.add(Dense(units=100, activation='relu'  ))\n",
    "model.add(Dropout(0.1))\n",
    "\n",
    "\n",
    "model.add(Dense(units=10, activation='softmax'))"
   ]
  },
  {
   "cell_type": "code",
   "execution_count": 6,
   "metadata": {
    "_uuid": "3e1c28c3f990e45d77a5931196f1e357c0cb63fd",
    "executionInfo": {
     "elapsed": 529,
     "status": "ok",
     "timestamp": 1530806453746,
     "user": {
      "displayName": "Abd El Rhman ElMoghazy",
      "photoUrl": "https://lh3.googleusercontent.com/a/default-user=s128",
      "userId": "112798608963931725749"
     },
     "user_tz": -120
    },
    "id": "0kpTIGDQ8qAh",
    "outputId": "b7c0f8cb-38a3-4e48-8b5f-a6ef1db7fc35"
   },
   "outputs": [],
   "source": [
    "from keras import optimizers\n",
    "\n",
    "model.compile(loss='categorical_crossentropy', optimizer='Nadam', metrics=['accuracy'])"
   ]
  },
  {
   "cell_type": "code",
   "execution_count": 7,
   "metadata": {
    "_kg_hide-output": true,
    "_uuid": "0efe80a7064c18d81fb44f59e468165118c624c6",
    "scrolled": false
   },
   "outputs": [
    {
     "name": "stdout",
     "output_type": "stream",
     "text": [
      "<class 'numpy.ndarray'>\n",
      "Epoch 1/300\n",
      "10/9 [================================] - 1s 90ms/step - loss: 2.1882 - acc: 0.2850 - val_loss: 1.8662 - val_acc: 0.5556\n",
      "Epoch 2/300\n",
      "10/9 [================================] - 0s 19ms/step - loss: 1.4209 - acc: 0.5967 - val_loss: 0.8850 - val_acc: 0.7222\n",
      "Epoch 3/300\n",
      "10/9 [================================] - 0s 19ms/step - loss: 0.8987 - acc: 0.7117 - val_loss: 0.9255 - val_acc: 0.6611\n",
      "Epoch 4/300\n",
      "10/9 [================================] - 0s 18ms/step - loss: 0.7747 - acc: 0.7483 - val_loss: 0.3739 - val_acc: 0.9111\n",
      "Epoch 5/300\n",
      "10/9 [================================] - 0s 19ms/step - loss: 0.5526 - acc: 0.8183 - val_loss: 0.4999 - val_acc: 0.8444\n",
      "Epoch 6/300\n",
      "10/9 [================================] - 0s 19ms/step - loss: 0.5397 - acc: 0.8350 - val_loss: 0.4340 - val_acc: 0.8667\n",
      "Epoch 7/300\n",
      "10/9 [================================] - 0s 19ms/step - loss: 0.5061 - acc: 0.8383 - val_loss: 0.2567 - val_acc: 0.9333\n",
      "Epoch 8/300\n",
      "10/9 [================================] - 0s 20ms/step - loss: 0.4372 - acc: 0.8617 - val_loss: 0.4004 - val_acc: 0.8778\n",
      "Epoch 9/300\n",
      "10/9 [================================] - 0s 20ms/step - loss: 0.3483 - acc: 0.8933 - val_loss: 0.4352 - val_acc: 0.8667\n",
      "Epoch 10/300\n",
      "10/9 [================================] - 0s 20ms/step - loss: 0.4452 - acc: 0.8650 - val_loss: 0.3667 - val_acc: 0.9111\n",
      "Epoch 11/300\n",
      "10/9 [================================] - 0s 20ms/step - loss: 0.4489 - acc: 0.8717 - val_loss: 0.4249 - val_acc: 0.8944\n",
      "Epoch 12/300\n",
      "10/9 [================================] - 0s 19ms/step - loss: 0.3589 - acc: 0.8883 - val_loss: 0.3168 - val_acc: 0.9000\n",
      "Epoch 13/300\n",
      "10/9 [================================] - 0s 19ms/step - loss: 0.3435 - acc: 0.8967 - val_loss: 0.2771 - val_acc: 0.9056\n",
      "Epoch 14/300\n",
      "10/9 [================================] - 0s 19ms/step - loss: 0.3280 - acc: 0.9017 - val_loss: 0.3126 - val_acc: 0.9167\n",
      "Epoch 15/300\n",
      "10/9 [================================] - 0s 19ms/step - loss: 0.4625 - acc: 0.8633 - val_loss: 0.2974 - val_acc: 0.9000\n",
      "Epoch 16/300\n",
      "10/9 [================================] - 0s 19ms/step - loss: 0.3327 - acc: 0.8933 - val_loss: 0.2587 - val_acc: 0.9278\n",
      "Epoch 17/300\n",
      "10/9 [================================] - 0s 19ms/step - loss: 0.2981 - acc: 0.9100 - val_loss: 0.3551 - val_acc: 0.9000\n",
      "Epoch 18/300\n",
      "10/9 [================================] - 0s 19ms/step - loss: 0.3766 - acc: 0.8800 - val_loss: 0.2036 - val_acc: 0.9222\n",
      "Epoch 19/300\n",
      "10/9 [================================] - 0s 19ms/step - loss: 0.3947 - acc: 0.8683 - val_loss: 0.2605 - val_acc: 0.9111\n",
      "Epoch 20/300\n",
      "10/9 [================================] - 0s 19ms/step - loss: 0.3649 - acc: 0.8917 - val_loss: 0.1950 - val_acc: 0.9389\n",
      "Epoch 21/300\n",
      "10/9 [================================] - 0s 19ms/step - loss: 0.3081 - acc: 0.9150 - val_loss: 0.2572 - val_acc: 0.9278\n",
      "Epoch 22/300\n",
      "10/9 [================================] - 0s 19ms/step - loss: 0.3702 - acc: 0.8767 - val_loss: 0.2514 - val_acc: 0.9278\n",
      "Epoch 23/300\n",
      "10/9 [================================] - 0s 19ms/step - loss: 0.3131 - acc: 0.8933 - val_loss: 0.2510 - val_acc: 0.9222\n",
      "Epoch 24/300\n",
      "10/9 [================================] - 0s 19ms/step - loss: 0.2923 - acc: 0.9183 - val_loss: 0.2123 - val_acc: 0.9333\n",
      "Epoch 25/300\n",
      "10/9 [================================] - 0s 19ms/step - loss: 0.3034 - acc: 0.9067 - val_loss: 0.2565 - val_acc: 0.9444\n",
      "Epoch 26/300\n",
      "10/9 [================================] - 0s 19ms/step - loss: 0.2646 - acc: 0.9217 - val_loss: 0.1513 - val_acc: 0.9667\n",
      "Epoch 27/300\n",
      "10/9 [================================] - 0s 19ms/step - loss: 0.2378 - acc: 0.9333 - val_loss: 0.3059 - val_acc: 0.9056\n",
      "Epoch 28/300\n",
      "10/9 [================================] - 0s 20ms/step - loss: 0.2000 - acc: 0.9383 - val_loss: 0.2709 - val_acc: 0.9167\n",
      "Epoch 29/300\n",
      "10/9 [================================] - 0s 19ms/step - loss: 0.2818 - acc: 0.9133 - val_loss: 0.2525 - val_acc: 0.9278\n",
      "Epoch 30/300\n",
      "10/9 [================================] - 0s 18ms/step - loss: 0.3370 - acc: 0.8833 - val_loss: 0.3261 - val_acc: 0.9278\n",
      "Epoch 31/300\n",
      "10/9 [================================] - 0s 19ms/step - loss: 0.2384 - acc: 0.9267 - val_loss: 0.1835 - val_acc: 0.9611\n",
      "Epoch 32/300\n",
      "10/9 [================================] - 0s 19ms/step - loss: 0.2091 - acc: 0.9350 - val_loss: 0.1836 - val_acc: 0.9278\n",
      "Epoch 33/300\n",
      "10/9 [================================] - 0s 19ms/step - loss: 0.2567 - acc: 0.9267 - val_loss: 0.2392 - val_acc: 0.9222\n",
      "Epoch 34/300\n",
      "10/9 [================================] - 0s 19ms/step - loss: 0.2217 - acc: 0.9317 - val_loss: 0.1113 - val_acc: 0.9833\n",
      "Epoch 35/300\n",
      "10/9 [================================] - 0s 19ms/step - loss: 0.2852 - acc: 0.9067 - val_loss: 0.1750 - val_acc: 0.9389\n",
      "Epoch 36/300\n",
      "10/9 [================================] - 0s 19ms/step - loss: 0.2631 - acc: 0.9200 - val_loss: 0.1261 - val_acc: 0.9611\n",
      "Epoch 37/300\n",
      "10/9 [================================] - 0s 19ms/step - loss: 0.2620 - acc: 0.9233 - val_loss: 0.2118 - val_acc: 0.9278\n",
      "Epoch 38/300\n",
      "10/9 [================================] - 0s 19ms/step - loss: 0.2661 - acc: 0.9167 - val_loss: 0.2186 - val_acc: 0.9333\n",
      "Epoch 39/300\n",
      "10/9 [================================] - 0s 19ms/step - loss: 0.2162 - acc: 0.9300 - val_loss: 0.1674 - val_acc: 0.9556\n",
      "Epoch 40/300\n",
      "10/9 [================================] - 0s 18ms/step - loss: 0.2721 - acc: 0.9183 - val_loss: 0.1409 - val_acc: 0.9611\n",
      "Epoch 41/300\n",
      "10/9 [================================] - 0s 18ms/step - loss: 0.2129 - acc: 0.9300 - val_loss: 0.1295 - val_acc: 0.9611\n",
      "Epoch 42/300\n",
      "10/9 [================================] - 0s 19ms/step - loss: 0.3063 - acc: 0.9083 - val_loss: 0.1625 - val_acc: 0.9611\n",
      "Epoch 43/300\n",
      "10/9 [================================] - 0s 19ms/step - loss: 0.2282 - acc: 0.9300 - val_loss: 0.1664 - val_acc: 0.9556\n",
      "Epoch 44/300\n",
      "10/9 [================================] - 0s 19ms/step - loss: 0.1899 - acc: 0.9367 - val_loss: 0.2715 - val_acc: 0.9333\n",
      "Epoch 45/300\n",
      "10/9 [================================] - 0s 22ms/step - loss: 0.2576 - acc: 0.9200 - val_loss: 0.3038 - val_acc: 0.9111\n",
      "Epoch 46/300\n",
      "10/9 [================================] - 0s 20ms/step - loss: 0.2241 - acc: 0.9200 - val_loss: 0.1369 - val_acc: 0.9500\n",
      "Epoch 47/300\n",
      "10/9 [================================] - 0s 19ms/step - loss: 0.2541 - acc: 0.9300 - val_loss: 0.2713 - val_acc: 0.9278\n",
      "Epoch 48/300\n",
      "10/9 [================================] - 0s 19ms/step - loss: 0.1972 - acc: 0.9450 - val_loss: 0.0945 - val_acc: 0.9778\n",
      "Epoch 49/300\n",
      "10/9 [================================] - 0s 20ms/step - loss: 0.2560 - acc: 0.9167 - val_loss: 0.2318 - val_acc: 0.9389\n",
      "Epoch 50/300\n",
      "10/9 [================================] - 0s 19ms/step - loss: 0.2086 - acc: 0.9217 - val_loss: 0.3245 - val_acc: 0.9167\n",
      "Epoch 51/300\n",
      "10/9 [================================] - 0s 20ms/step - loss: 0.1928 - acc: 0.9350 - val_loss: 0.2502 - val_acc: 0.9278\n",
      "Epoch 52/300\n",
      "10/9 [================================] - 0s 20ms/step - loss: 0.2627 - acc: 0.9183 - val_loss: 0.1212 - val_acc: 0.9556\n",
      "Epoch 53/300\n",
      "10/9 [================================] - 0s 20ms/step - loss: 0.2490 - acc: 0.9283 - val_loss: 0.1870 - val_acc: 0.9556\n",
      "Epoch 54/300\n",
      "10/9 [================================] - 0s 20ms/step - loss: 0.2332 - acc: 0.9233 - val_loss: 0.0959 - val_acc: 0.9722\n",
      "Epoch 55/300\n",
      "10/9 [================================] - 0s 20ms/step - loss: 0.1581 - acc: 0.9550 - val_loss: 0.1013 - val_acc: 0.9611\n",
      "Epoch 56/300\n",
      "10/9 [================================] - 0s 19ms/step - loss: 0.1586 - acc: 0.9483 - val_loss: 0.2167 - val_acc: 0.9444\n",
      "Epoch 57/300\n",
      "10/9 [================================] - 0s 19ms/step - loss: 0.1515 - acc: 0.9500 - val_loss: 0.1721 - val_acc: 0.9500\n",
      "Epoch 58/300\n",
      "10/9 [================================] - 0s 19ms/step - loss: 0.2363 - acc: 0.9267 - val_loss: 0.1983 - val_acc: 0.9389\n",
      "Epoch 59/300\n",
      "10/9 [================================] - 0s 19ms/step - loss: 0.1747 - acc: 0.9467 - val_loss: 0.2733 - val_acc: 0.9278\n",
      "Epoch 60/300\n",
      "10/9 [================================] - 0s 19ms/step - loss: 0.2122 - acc: 0.9433 - val_loss: 0.0719 - val_acc: 0.9722\n",
      "Epoch 61/300\n",
      "10/9 [================================] - 0s 19ms/step - loss: 0.2034 - acc: 0.9317 - val_loss: 0.1618 - val_acc: 0.9556\n",
      "Epoch 62/300\n"
     ]
    },
    {
     "name": "stdout",
     "output_type": "stream",
     "text": [
      "10/9 [================================] - 0s 19ms/step - loss: 0.1962 - acc: 0.9450 - val_loss: 0.1242 - val_acc: 0.9556\n",
      "Epoch 63/300\n",
      "10/9 [================================] - 0s 18ms/step - loss: 0.1607 - acc: 0.9467 - val_loss: 0.1227 - val_acc: 0.9611\n",
      "Epoch 64/300\n",
      "10/9 [================================] - 0s 19ms/step - loss: 0.1972 - acc: 0.9433 - val_loss: 0.1156 - val_acc: 0.9556\n",
      "Epoch 65/300\n",
      "10/9 [================================] - 0s 19ms/step - loss: 0.2046 - acc: 0.9400 - val_loss: 0.2208 - val_acc: 0.9333\n",
      "Epoch 66/300\n",
      "10/9 [================================] - 0s 18ms/step - loss: 0.1696 - acc: 0.9417 - val_loss: 0.1174 - val_acc: 0.9500\n",
      "Epoch 67/300\n",
      "10/9 [================================] - 0s 19ms/step - loss: 0.1831 - acc: 0.9467 - val_loss: 0.1988 - val_acc: 0.9389\n",
      "Epoch 68/300\n",
      "10/9 [================================] - 0s 18ms/step - loss: 0.2171 - acc: 0.9283 - val_loss: 0.1417 - val_acc: 0.9556\n",
      "Epoch 69/300\n",
      "10/9 [================================] - 0s 19ms/step - loss: 0.2402 - acc: 0.9283 - val_loss: 0.1555 - val_acc: 0.9611\n",
      "Epoch 70/300\n",
      "10/9 [================================] - 0s 19ms/step - loss: 0.1862 - acc: 0.9633 - val_loss: 0.1704 - val_acc: 0.9389\n",
      "Epoch 71/300\n",
      "10/9 [================================] - 0s 19ms/step - loss: 0.1589 - acc: 0.9450 - val_loss: 0.2230 - val_acc: 0.9278\n",
      "Epoch 72/300\n",
      "10/9 [================================] - 0s 19ms/step - loss: 0.1112 - acc: 0.9650 - val_loss: 0.1123 - val_acc: 0.9667\n",
      "Epoch 73/300\n",
      "10/9 [================================] - 0s 20ms/step - loss: 0.2038 - acc: 0.9433 - val_loss: 0.1117 - val_acc: 0.9611\n",
      "Epoch 74/300\n",
      "10/9 [================================] - 0s 19ms/step - loss: 0.1839 - acc: 0.9467 - val_loss: 0.2813 - val_acc: 0.9000\n",
      "Epoch 75/300\n",
      "10/9 [================================] - 0s 19ms/step - loss: 0.1695 - acc: 0.9467 - val_loss: 0.2637 - val_acc: 0.9278\n",
      "Epoch 76/300\n",
      "10/9 [================================] - 0s 19ms/step - loss: 0.1313 - acc: 0.9567 - val_loss: 0.1570 - val_acc: 0.9611\n",
      "Epoch 77/300\n",
      "10/9 [================================] - 0s 19ms/step - loss: 0.1913 - acc: 0.9467 - val_loss: 0.1035 - val_acc: 0.9833\n",
      "Epoch 78/300\n",
      "10/9 [================================] - 0s 19ms/step - loss: 0.1967 - acc: 0.9350 - val_loss: 0.1309 - val_acc: 0.9611\n",
      "Epoch 79/300\n",
      "10/9 [================================] - 0s 19ms/step - loss: 0.1319 - acc: 0.9600 - val_loss: 0.0892 - val_acc: 0.9722\n",
      "Epoch 80/300\n",
      "10/9 [================================] - 0s 19ms/step - loss: 0.1885 - acc: 0.9400 - val_loss: 0.1072 - val_acc: 0.9667\n",
      "Epoch 81/300\n",
      "10/9 [================================] - 0s 19ms/step - loss: 0.1385 - acc: 0.9533 - val_loss: 0.1402 - val_acc: 0.9611\n",
      "Epoch 82/300\n",
      "10/9 [================================] - 0s 18ms/step - loss: 0.1454 - acc: 0.9467 - val_loss: 0.0952 - val_acc: 0.9611\n",
      "Epoch 83/300\n",
      "10/9 [================================] - 0s 18ms/step - loss: 0.1468 - acc: 0.9533 - val_loss: 0.1577 - val_acc: 0.9389\n",
      "Epoch 84/300\n",
      "10/9 [================================] - 0s 19ms/step - loss: 0.1767 - acc: 0.9400 - val_loss: 0.0939 - val_acc: 0.9667\n",
      "Epoch 85/300\n",
      "10/9 [================================] - 0s 19ms/step - loss: 0.1749 - acc: 0.9450 - val_loss: 0.1192 - val_acc: 0.9667\n",
      "Epoch 86/300\n",
      "10/9 [================================] - 0s 19ms/step - loss: 0.1653 - acc: 0.9533 - val_loss: 0.0865 - val_acc: 0.9778\n",
      "Epoch 87/300\n",
      "10/9 [================================] - 0s 18ms/step - loss: 0.1921 - acc: 0.9367 - val_loss: 0.2325 - val_acc: 0.9389\n",
      "Epoch 88/300\n",
      "10/9 [================================] - 0s 19ms/step - loss: 0.2549 - acc: 0.9250 - val_loss: 0.1463 - val_acc: 0.9500\n",
      "Epoch 89/300\n",
      "10/9 [================================] - 0s 19ms/step - loss: 0.1691 - acc: 0.9533 - val_loss: 0.1659 - val_acc: 0.9611\n",
      "Epoch 90/300\n",
      "10/9 [================================] - 0s 19ms/step - loss: 0.1613 - acc: 0.9500 - val_loss: 0.1904 - val_acc: 0.9389\n"
     ]
    }
   ],
   "source": [
    "from tensorflow import keras\n",
    "from keras.preprocessing.image import ImageDataGenerator\n",
    "x_train2 = np.array(x_train, copy=True) \n",
    "y_train2 = np.array(y_train, copy=True) \n",
    "\n",
    "datagen = ImageDataGenerator(\n",
    "    featurewise_center=True,\n",
    "    featurewise_std_normalization=True,\n",
    "    rotation_range=10,\n",
    "    fill_mode='nearest',\n",
    "    validation_split = 0.2\n",
    "    )\n",
    "\n",
    "\n",
    "\n",
    "datagen.fit(x_train)\n",
    "\n",
    "print(type(x_train))\n",
    "\n",
    "earlystopping = keras.callbacks.EarlyStopping(monitor='val_loss', min_delta=0, patience=30, verbose=0, mode='min')\n",
    "\n",
    "validation_generator = datagen.flow(x_train2, y_train2, batch_size=60, subset='validation')\n",
    "train_generator = datagen.flow(x_train2, y_train2, batch_size=60, subset='training')\n",
    "\n",
    "\n",
    "history = model.fit_generator(generator=train_generator,\n",
    "                    validation_data=validation_generator,\n",
    "                    use_multiprocessing=True,\n",
    "                    steps_per_epoch = len(train_generator) / 60,\n",
    "                    validation_steps = len(validation_generator) / 60,\n",
    "                    epochs = 300,\n",
    "                    workers=-1, callbacks = [earlystopping])"
   ]
  },
  {
   "cell_type": "code",
   "execution_count": 8,
   "metadata": {
    "_uuid": "ebbb6dd459ca7d20f104d3354883cc1690709a3d"
   },
   "outputs": [
    {
     "data": {
      "image/png": "[encoded data removed]",
      "text/plain": [
       "<Figure size 576x576 with 2 Axes>"
      ]
     },
     "metadata": {
      "needs_background": "light"
     },
     "output_type": "display_data"
    }
   ],
   "source": [
    "import matplotlib.pyplot as plt\n",
    "\n",
    "acc = history.history['acc']\n",
    "val_acc = history.history['val_acc']\n",
    "\n",
    "loss = history.history['loss']\n",
    "val_loss = history.history['val_loss']\n",
    "\n",
    "plt.figure(figsize=(8, 8))\n",
    "plt.subplot(2, 1, 1)\n",
    "plt.plot(acc, label='Training Accuracy')\n",
    "plt.plot(val_acc, label='Validation Accuracy')\n",
    "plt.legend(loc='lower right')\n",
    "plt.ylabel('Accuracy')\n",
    "plt.ylim([-1,1])\n",
    "plt.title('Training and Validation Accuracy')\n",
    "\n",
    "plt.subplot(2, 1, 2)\n",
    "plt.plot(loss, label='Training Loss')\n",
    "plt.plot(val_loss, label='Validation Loss')\n",
    "plt.legend(loc='upper right')\n",
    "plt.ylabel('Cross Entropy')\n",
    "plt.ylim([-1,1.0])\n",
    "plt.title('Training and Validation Loss')\n",
    "plt.xlabel('epoch')\n",
    "plt.show()"
   ]
  }
 ],
 "metadata": {
  "kernelspec": {
   "display_name": "Python 3",
   "language": "python",
   "name": "python3"
  },
  "language_info": {
   "codemirror_mode": {
    "name": "ipython",
    "version": 3
   },
   "file_extension": ".py",
   "mimetype": "text/x-python",
   "name": "python",
   "nbconvert_exporter": "python",
   "pygments_lexer": "ipython3",
   "version": "3.7.6"
  }
 },
 "nbformat": 4,
 "nbformat_minor": 4
}
