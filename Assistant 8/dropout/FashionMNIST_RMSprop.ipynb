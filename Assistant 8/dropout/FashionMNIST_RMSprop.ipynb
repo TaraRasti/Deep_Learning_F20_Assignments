{
  "nbformat": 4,
  "nbformat_minor": 0,
  "metadata": {
    "colab": {
      "name": "FashionMNIST-RMSprop.ipynb",
      "provenance": [],
      "collapsed_sections": [],
      "mount_file_id": "1f2CU4gX7LjcPTv_fVBX4TQMevSNSTj3H",
      "authorship_tag": "ABX9TyNuSPhbDOSQn9sKJQz75a2E",
      "include_colab_link": true
    },
    "kernelspec": {
      "name": "python3",
      "display_name": "Python 3"
    },
    "accelerator": "GPU"
  },
  "cells": [
    {
      "cell_type": "markdown",
      "metadata": {
        "id": "view-in-github",
        "colab_type": "text"
      },
      "source": [
        "<a href=\"https://colab.research.google.com/github/TaraRasti/Deep_Learning_F20_Assignments/blob/master/Assistant%208/dropout/FashionMNIST_RMSprop.ipynb\" target=\"_parent\"><img src=\"https://colab.research.google.com/assets/colab-badge.svg\" alt=\"Open In Colab\"/></a>"
      ]
    },
    {
      "cell_type": "code",
      "metadata": {
        "id": "rnRxA4R5BsVS"
      },
      "source": [
        "import numpy as np\n",
        "import pandas as pd \n",
        "import torch\n",
        "import torch.nn as nn\n",
        "import torch.nn.functional as F\n",
        "import torch.utils.data\n",
        "from torch.autograd import Variable\n",
        "from sklearn.model_selection import train_test_split"
      ],
      "execution_count": 1,
      "outputs": []
    },
    {
      "cell_type": "code",
      "metadata": {
        "colab": {
          "base_uri": "https://localhost:8080/"
        },
        "id": "VDcWQ-ZbDA1T",
        "outputId": "0040a126-1572-4c1c-8fda-93fa228c915f"
      },
      "source": [
        "train = pd.read_csv('/content/drive/MyDrive/fashion-mnist_train.csv')\n",
        "print(train.shape)"
      ],
      "execution_count": 2,
      "outputs": [
        {
          "output_type": "stream",
          "text": [
            "(60000, 785)\n"
          ],
          "name": "stdout"
        }
      ]
    },
    {
      "cell_type": "code",
      "metadata": {
        "colab": {
          "base_uri": "https://localhost:8080/"
        },
        "id": "MpsFbS4MDlZh",
        "outputId": "c40e638e-3475-44c1-d3aa-ecd024939053"
      },
      "source": [
        "test = pd.read_csv('/content/drive/MyDrive/fashion-mnist_test.csv')\n",
        "print(test.shape)"
      ],
      "execution_count": 3,
      "outputs": [
        {
          "output_type": "stream",
          "text": [
            "(10000, 785)\n"
          ],
          "name": "stdout"
        }
      ]
    },
    {
      "cell_type": "code",
      "metadata": {
        "colab": {
          "base_uri": "https://localhost:8080/"
        },
        "id": "wGiJmMXXDvDl",
        "outputId": "f42e5eb0-70b1-442a-c1bd-865a53970413"
      },
      "source": [
        "y_train = train['label'].values\n",
        "X_train = train.drop(['label'],1).values\n",
        "y_test = test['label'].values\n",
        "X_test = test.drop(['label'],1).values\n",
        "print('y test shape : ',y_test.shape)\n",
        "print('X test shape : ',X_test.shape)\n",
        "print('y train shape : ',y_train.shape)\n",
        "print('X train shape : ',X_train.shape)"
      ],
      "execution_count": 4,
      "outputs": [
        {
          "output_type": "stream",
          "text": [
            "y test shape :  (10000,)\n",
            "X test shape :  (10000, 784)\n",
            "y train shape :  (60000,)\n",
            "X train shape :  (60000, 784)\n"
          ],
          "name": "stdout"
        }
      ]
    },
    {
      "cell_type": "code",
      "metadata": {
        "colab": {
          "base_uri": "https://localhost:8080/"
        },
        "id": "SygbBvc9ErHm",
        "outputId": "d7a28d40-a95e-447e-9e8d-3d4e80ccca75"
      },
      "source": [
        "BATCH_SIZE = 32\n",
        "\n",
        "\n",
        "torch_X_train = torch.from_numpy(X_train).type(torch.LongTensor)\n",
        "torch_y_train = torch.from_numpy(y_train).type(torch.LongTensor)\n",
        "\n",
        "torch_X_test = torch.from_numpy(X_test).type(torch.LongTensor)\n",
        "torch_y_test = torch.from_numpy(y_test).type(torch.LongTensor)\n",
        "\n",
        "torch_X_train = torch_X_train.view(-1, 1,28,28).float()\n",
        "torch_X_test = torch_X_test.view(-1,1,28,28).float()\n",
        "print(torch_X_train.shape)\n",
        "print(torch_X_test.shape)\n",
        "\n",
        "train = torch.utils.data.TensorDataset(torch_X_train,torch_y_train)\n",
        "test = torch.utils.data.TensorDataset(torch_X_test,torch_y_test)\n",
        "\n",
        "train_loader = torch.utils.data.DataLoader(train, batch_size = BATCH_SIZE, shuffle = False)\n",
        "test_loader = torch.utils.data.DataLoader(test, batch_size = BATCH_SIZE, shuffle = False)"
      ],
      "execution_count": 5,
      "outputs": [
        {
          "output_type": "stream",
          "text": [
            "torch.Size([60000, 1, 28, 28])\n",
            "torch.Size([10000, 1, 28, 28])\n"
          ],
          "name": "stdout"
        }
      ]
    },
    {
      "cell_type": "code",
      "metadata": {
        "id": "2fDK5YCHFIP1"
      },
      "source": [
        "def fit(model, train_loader):\n",
        "    optimizer = torch.optim.RMSprop(model.parameters(),lr=0.001)\n",
        "    error = nn.CrossEntropyLoss()\n",
        "    EPOCHS = 5\n",
        "    model.train()\n",
        "    for epoch in range(EPOCHS):\n",
        "        correct = 0\n",
        "        for batch_idx, (X_batch, y_batch) in enumerate(train_loader):\n",
        "            var_X_batch = Variable(X_batch).float()\n",
        "            var_y_batch = Variable(y_batch)\n",
        "            optimizer.zero_grad()\n",
        "            output = model(var_X_batch)\n",
        "            loss = error(output, var_y_batch)\n",
        "            loss.backward()\n",
        "            optimizer.step()\n",
        "\n",
        "         \n",
        "            predicted = torch.max(output.data, 1)[1] \n",
        "            correct += (predicted == var_y_batch).sum()\n",
        "      \n",
        "            if batch_idx % 50 == 0:\n",
        "                print('Epoch : {} [{}/{} ({:.0f}%)]\\tLoss: {:.6f}\\t Accuracy:{:.3f}%'.format(\n",
        "                    epoch, batch_idx*len(X_batch), len(train_loader.dataset), 100.*batch_idx / len(train_loader), loss.item(), float(correct*100) / float(BATCH_SIZE*(batch_idx+1))))"
      ],
      "execution_count": 6,
      "outputs": []
    },
    {
      "cell_type": "code",
      "metadata": {
        "colab": {
          "base_uri": "https://localhost:8080/"
        },
        "id": "ICiL0NH7EPZD",
        "outputId": "b485908f-63ca-4dc6-eb60-2f30e0aa693b"
      },
      "source": [
        "class CNN(nn.Module):\n",
        "    def __init__(self):\n",
        "        super(CNN, self).__init__()\n",
        "        self.conv1 = nn.Conv2d(1, 32, kernel_size=5)\n",
        "        self.conv2 = nn.Conv2d(32, 32, kernel_size=5)\n",
        "        self.conv3 = nn.Conv2d(32,64, kernel_size=5)\n",
        "        self.fc1 = nn.Linear(3*3*64, 256)\n",
        "        self.fc2 = nn.Linear(256, 10)\n",
        "\n",
        "    def forward(self, x):\n",
        "        x = F.relu(self.conv1(x))\n",
        "        x = F.relu(F.max_pool2d(self.conv2(x), 2))\n",
        "        x = F.dropout(x, p=0.2, training=self.training)\n",
        "        x = F.relu(F.max_pool2d(self.conv3(x),2))\n",
        "        x = F.dropout(x, p=0.3, training=self.training)\n",
        "        x = x.view(-1,3*3*64 )\n",
        "        x = F.relu(self.fc1(x))\n",
        "        x = F.dropout(x, training=self.training)\n",
        "        x = self.fc2(x)\n",
        "        return F.log_softmax(x, dim=1)\n",
        " \n",
        "cnn = CNN()\n",
        "print(cnn)\n",
        "\n",
        "it = iter(train_loader)\n",
        "X_batch, y_batch = next(it)\n",
        "print(cnn.forward(X_batch).shape)"
      ],
      "execution_count": 7,
      "outputs": [
        {
          "output_type": "stream",
          "text": [
            "CNN(\n",
            "  (conv1): Conv2d(1, 32, kernel_size=(5, 5), stride=(1, 1))\n",
            "  (conv2): Conv2d(32, 32, kernel_size=(5, 5), stride=(1, 1))\n",
            "  (conv3): Conv2d(32, 64, kernel_size=(5, 5), stride=(1, 1))\n",
            "  (fc1): Linear(in_features=576, out_features=256, bias=True)\n",
            "  (fc2): Linear(in_features=256, out_features=10, bias=True)\n",
            ")\n",
            "torch.Size([32, 10])\n"
          ],
          "name": "stdout"
        }
      ]
    },
    {
      "cell_type": "code",
      "metadata": {
        "colab": {
          "base_uri": "https://localhost:8080/"
        },
        "id": "Fhc-0GXPE-6O",
        "outputId": "0215858b-1b9e-47cb-85f0-0f85e5ce2b23"
      },
      "source": [
        "fit(cnn,train_loader)"
      ],
      "execution_count": 8,
      "outputs": [
        {
          "output_type": "stream",
          "text": [
            "Epoch : 0 [0/60000 (0%)]\tLoss: 6.740952\t Accuracy:15.625%\n",
            "Epoch : 0 [1600/60000 (3%)]\tLoss: 1.080946\t Accuracy:46.385%\n",
            "Epoch : 0 [3200/60000 (5%)]\tLoss: 1.113285\t Accuracy:56.033%\n",
            "Epoch : 0 [4800/60000 (8%)]\tLoss: 0.873395\t Accuracy:60.865%\n",
            "Epoch : 0 [6400/60000 (11%)]\tLoss: 0.912017\t Accuracy:64.024%\n",
            "Epoch : 0 [8000/60000 (13%)]\tLoss: 1.049599\t Accuracy:65.924%\n",
            "Epoch : 0 [9600/60000 (16%)]\tLoss: 0.559770\t Accuracy:67.162%\n",
            "Epoch : 0 [11200/60000 (19%)]\tLoss: 0.819073\t Accuracy:68.136%\n",
            "Epoch : 0 [12800/60000 (21%)]\tLoss: 0.780739\t Accuracy:69.194%\n",
            "Epoch : 0 [14400/60000 (24%)]\tLoss: 0.797435\t Accuracy:69.990%\n",
            "Epoch : 0 [16000/60000 (27%)]\tLoss: 0.624795\t Accuracy:70.765%\n",
            "Epoch : 0 [17600/60000 (29%)]\tLoss: 0.455542\t Accuracy:71.365%\n",
            "Epoch : 0 [19200/60000 (32%)]\tLoss: 0.474323\t Accuracy:71.755%\n",
            "Epoch : 0 [20800/60000 (35%)]\tLoss: 0.658440\t Accuracy:72.197%\n",
            "Epoch : 0 [22400/60000 (37%)]\tLoss: 1.000255\t Accuracy:72.530%\n",
            "Epoch : 0 [24000/60000 (40%)]\tLoss: 0.569601\t Accuracy:72.828%\n",
            "Epoch : 0 [25600/60000 (43%)]\tLoss: 0.582882\t Accuracy:73.229%\n",
            "Epoch : 0 [27200/60000 (45%)]\tLoss: 0.614084\t Accuracy:73.377%\n",
            "Epoch : 0 [28800/60000 (48%)]\tLoss: 0.581632\t Accuracy:73.644%\n",
            "Epoch : 0 [30400/60000 (51%)]\tLoss: 0.520114\t Accuracy:73.948%\n",
            "Epoch : 0 [32000/60000 (53%)]\tLoss: 0.687501\t Accuracy:74.092%\n",
            "Epoch : 0 [33600/60000 (56%)]\tLoss: 0.567972\t Accuracy:74.390%\n",
            "Epoch : 0 [35200/60000 (59%)]\tLoss: 0.884660\t Accuracy:74.608%\n",
            "Epoch : 0 [36800/60000 (61%)]\tLoss: 0.758809\t Accuracy:74.753%\n",
            "Epoch : 0 [38400/60000 (64%)]\tLoss: 0.524865\t Accuracy:74.979%\n",
            "Epoch : 0 [40000/60000 (67%)]\tLoss: 0.484780\t Accuracy:75.177%\n",
            "Epoch : 0 [41600/60000 (69%)]\tLoss: 0.687969\t Accuracy:75.396%\n",
            "Epoch : 0 [43200/60000 (72%)]\tLoss: 0.712170\t Accuracy:75.583%\n",
            "Epoch : 0 [44800/60000 (75%)]\tLoss: 0.492205\t Accuracy:75.718%\n",
            "Epoch : 0 [46400/60000 (77%)]\tLoss: 0.310356\t Accuracy:75.894%\n",
            "Epoch : 0 [48000/60000 (80%)]\tLoss: 0.531611\t Accuracy:76.060%\n",
            "Epoch : 0 [49600/60000 (83%)]\tLoss: 0.568808\t Accuracy:76.231%\n",
            "Epoch : 0 [51200/60000 (85%)]\tLoss: 0.235478\t Accuracy:76.437%\n",
            "Epoch : 0 [52800/60000 (88%)]\tLoss: 0.499253\t Accuracy:76.626%\n",
            "Epoch : 0 [54400/60000 (91%)]\tLoss: 0.433457\t Accuracy:76.758%\n",
            "Epoch : 0 [56000/60000 (93%)]\tLoss: 0.531639\t Accuracy:76.922%\n",
            "Epoch : 0 [57600/60000 (96%)]\tLoss: 0.273041\t Accuracy:77.065%\n",
            "Epoch : 0 [59200/60000 (99%)]\tLoss: 0.545181\t Accuracy:77.244%\n",
            "Epoch : 1 [0/60000 (0%)]\tLoss: 0.580959\t Accuracy:78.125%\n",
            "Epoch : 1 [1600/60000 (3%)]\tLoss: 0.282952\t Accuracy:81.801%\n",
            "Epoch : 1 [3200/60000 (5%)]\tLoss: 0.835815\t Accuracy:82.488%\n",
            "Epoch : 1 [4800/60000 (8%)]\tLoss: 0.607678\t Accuracy:82.533%\n",
            "Epoch : 1 [6400/60000 (11%)]\tLoss: 0.541271\t Accuracy:82.603%\n",
            "Epoch : 1 [8000/60000 (13%)]\tLoss: 1.074687\t Accuracy:82.669%\n",
            "Epoch : 1 [9600/60000 (16%)]\tLoss: 0.564710\t Accuracy:82.631%\n",
            "Epoch : 1 [11200/60000 (19%)]\tLoss: 0.430267\t Accuracy:82.568%\n",
            "Epoch : 1 [12800/60000 (21%)]\tLoss: 0.762123\t Accuracy:82.419%\n",
            "Epoch : 1 [14400/60000 (24%)]\tLoss: 0.384244\t Accuracy:82.504%\n",
            "Epoch : 1 [16000/60000 (27%)]\tLoss: 0.487675\t Accuracy:82.385%\n",
            "Epoch : 1 [17600/60000 (29%)]\tLoss: 0.184671\t Accuracy:82.492%\n",
            "Epoch : 1 [19200/60000 (32%)]\tLoss: 0.371288\t Accuracy:82.545%\n",
            "Epoch : 1 [20800/60000 (35%)]\tLoss: 0.248658\t Accuracy:82.656%\n",
            "Epoch : 1 [22400/60000 (37%)]\tLoss: 0.316945\t Accuracy:82.734%\n",
            "Epoch : 1 [24000/60000 (40%)]\tLoss: 0.376023\t Accuracy:82.881%\n",
            "Epoch : 1 [25600/60000 (43%)]\tLoss: 0.241711\t Accuracy:82.857%\n",
            "Epoch : 1 [27200/60000 (45%)]\tLoss: 0.459943\t Accuracy:82.789%\n",
            "Epoch : 1 [28800/60000 (48%)]\tLoss: 0.617623\t Accuracy:82.783%\n",
            "Epoch : 1 [30400/60000 (51%)]\tLoss: 0.435938\t Accuracy:82.870%\n",
            "Epoch : 1 [32000/60000 (53%)]\tLoss: 0.527683\t Accuracy:82.848%\n",
            "Epoch : 1 [33600/60000 (56%)]\tLoss: 0.445965\t Accuracy:82.885%\n",
            "Epoch : 1 [35200/60000 (59%)]\tLoss: 0.506964\t Accuracy:82.905%\n",
            "Epoch : 1 [36800/60000 (61%)]\tLoss: 0.757650\t Accuracy:82.825%\n",
            "Epoch : 1 [38400/60000 (64%)]\tLoss: 0.636504\t Accuracy:82.868%\n",
            "Epoch : 1 [40000/60000 (67%)]\tLoss: 0.308447\t Accuracy:82.929%\n",
            "Epoch : 1 [41600/60000 (69%)]\tLoss: 0.510804\t Accuracy:83.011%\n",
            "Epoch : 1 [43200/60000 (72%)]\tLoss: 0.584624\t Accuracy:83.043%\n",
            "Epoch : 1 [44800/60000 (75%)]\tLoss: 0.492479\t Accuracy:83.041%\n",
            "Epoch : 1 [46400/60000 (77%)]\tLoss: 0.345916\t Accuracy:83.044%\n",
            "Epoch : 1 [48000/60000 (80%)]\tLoss: 0.518662\t Accuracy:83.078%\n",
            "Epoch : 1 [49600/60000 (83%)]\tLoss: 0.395259\t Accuracy:83.079%\n",
            "Epoch : 1 [51200/60000 (85%)]\tLoss: 0.253460\t Accuracy:83.134%\n",
            "Epoch : 1 [52800/60000 (88%)]\tLoss: 0.483680\t Accuracy:83.177%\n",
            "Epoch : 1 [54400/60000 (91%)]\tLoss: 0.316851\t Accuracy:83.188%\n",
            "Epoch : 1 [56000/60000 (93%)]\tLoss: 0.667494\t Accuracy:83.215%\n",
            "Epoch : 1 [57600/60000 (96%)]\tLoss: 0.278922\t Accuracy:83.226%\n",
            "Epoch : 1 [59200/60000 (99%)]\tLoss: 0.699191\t Accuracy:83.251%\n",
            "Epoch : 2 [0/60000 (0%)]\tLoss: 0.633709\t Accuracy:84.375%\n",
            "Epoch : 2 [1600/60000 (3%)]\tLoss: 0.335301\t Accuracy:84.191%\n",
            "Epoch : 2 [3200/60000 (5%)]\tLoss: 0.701490\t Accuracy:84.437%\n",
            "Epoch : 2 [4800/60000 (8%)]\tLoss: 0.484359\t Accuracy:84.996%\n",
            "Epoch : 2 [6400/60000 (11%)]\tLoss: 0.452219\t Accuracy:84.966%\n",
            "Epoch : 2 [8000/60000 (13%)]\tLoss: 0.601035\t Accuracy:85.047%\n",
            "Epoch : 2 [9600/60000 (16%)]\tLoss: 0.231915\t Accuracy:85.019%\n",
            "Epoch : 2 [11200/60000 (19%)]\tLoss: 0.339179\t Accuracy:84.865%\n",
            "Epoch : 2 [12800/60000 (21%)]\tLoss: 0.600957\t Accuracy:84.757%\n",
            "Epoch : 2 [14400/60000 (24%)]\tLoss: 0.751498\t Accuracy:84.735%\n",
            "Epoch : 2 [16000/60000 (27%)]\tLoss: 0.426618\t Accuracy:84.780%\n",
            "Epoch : 2 [17600/60000 (29%)]\tLoss: 0.197789\t Accuracy:84.659%\n",
            "Epoch : 2 [19200/60000 (32%)]\tLoss: 0.332467\t Accuracy:84.588%\n",
            "Epoch : 2 [20800/60000 (35%)]\tLoss: 0.436006\t Accuracy:84.553%\n",
            "Epoch : 2 [22400/60000 (37%)]\tLoss: 0.804845\t Accuracy:84.576%\n",
            "Epoch : 2 [24000/60000 (40%)]\tLoss: 0.368670\t Accuracy:84.571%\n",
            "Epoch : 2 [25600/60000 (43%)]\tLoss: 0.216309\t Accuracy:84.640%\n",
            "Epoch : 2 [27200/60000 (45%)]\tLoss: 0.419322\t Accuracy:84.559%\n",
            "Epoch : 2 [28800/60000 (48%)]\tLoss: 0.464615\t Accuracy:84.528%\n",
            "Epoch : 2 [30400/60000 (51%)]\tLoss: 0.388287\t Accuracy:84.543%\n",
            "Epoch : 2 [32000/60000 (53%)]\tLoss: 0.419552\t Accuracy:84.544%\n",
            "Epoch : 2 [33600/60000 (56%)]\tLoss: 0.436311\t Accuracy:84.589%\n",
            "Epoch : 2 [35200/60000 (59%)]\tLoss: 0.674853\t Accuracy:84.540%\n",
            "Epoch : 2 [36800/60000 (61%)]\tLoss: 0.498934\t Accuracy:84.503%\n",
            "Epoch : 2 [38400/60000 (64%)]\tLoss: 0.656823\t Accuracy:84.547%\n",
            "Epoch : 2 [40000/60000 (67%)]\tLoss: 0.228175\t Accuracy:84.542%\n",
            "Epoch : 2 [41600/60000 (69%)]\tLoss: 1.334921\t Accuracy:84.555%\n",
            "Epoch : 2 [43200/60000 (72%)]\tLoss: 0.554345\t Accuracy:84.498%\n",
            "Epoch : 2 [44800/60000 (75%)]\tLoss: 0.453409\t Accuracy:84.487%\n",
            "Epoch : 2 [46400/60000 (77%)]\tLoss: 0.752823\t Accuracy:84.437%\n",
            "Epoch : 2 [48000/60000 (80%)]\tLoss: 0.296813\t Accuracy:84.387%\n",
            "Epoch : 2 [49600/60000 (83%)]\tLoss: 0.256849\t Accuracy:84.407%\n",
            "Epoch : 2 [51200/60000 (85%)]\tLoss: 0.124949\t Accuracy:84.416%\n",
            "Epoch : 2 [52800/60000 (88%)]\tLoss: 0.439761\t Accuracy:84.439%\n",
            "Epoch : 2 [54400/60000 (91%)]\tLoss: 0.288674\t Accuracy:84.399%\n",
            "Epoch : 2 [56000/60000 (93%)]\tLoss: 0.534104\t Accuracy:84.409%\n",
            "Epoch : 2 [57600/60000 (96%)]\tLoss: 0.111138\t Accuracy:84.408%\n",
            "Epoch : 2 [59200/60000 (99%)]\tLoss: 0.460464\t Accuracy:84.437%\n",
            "Epoch : 3 [0/60000 (0%)]\tLoss: 0.303516\t Accuracy:90.625%\n",
            "Epoch : 3 [1600/60000 (3%)]\tLoss: 0.300586\t Accuracy:85.172%\n",
            "Epoch : 3 [3200/60000 (5%)]\tLoss: 0.506331\t Accuracy:85.210%\n",
            "Epoch : 3 [4800/60000 (8%)]\tLoss: 0.481040\t Accuracy:85.534%\n",
            "Epoch : 3 [6400/60000 (11%)]\tLoss: 0.462639\t Accuracy:85.448%\n",
            "Epoch : 3 [8000/60000 (13%)]\tLoss: 1.008327\t Accuracy:85.184%\n",
            "Epoch : 3 [9600/60000 (16%)]\tLoss: 0.317319\t Accuracy:85.164%\n",
            "Epoch : 3 [11200/60000 (19%)]\tLoss: 0.303353\t Accuracy:85.061%\n",
            "Epoch : 3 [12800/60000 (21%)]\tLoss: 0.552000\t Accuracy:84.866%\n",
            "Epoch : 3 [14400/60000 (24%)]\tLoss: 0.421266\t Accuracy:84.881%\n",
            "Epoch : 3 [16000/60000 (27%)]\tLoss: 0.249370\t Accuracy:84.830%\n",
            "Epoch : 3 [17600/60000 (29%)]\tLoss: 0.333889\t Accuracy:84.931%\n",
            "Epoch : 3 [19200/60000 (32%)]\tLoss: 0.196615\t Accuracy:84.937%\n",
            "Epoch : 3 [20800/60000 (35%)]\tLoss: 0.507011\t Accuracy:84.869%\n",
            "Epoch : 3 [22400/60000 (37%)]\tLoss: 0.431577\t Accuracy:84.803%\n",
            "Epoch : 3 [24000/60000 (40%)]\tLoss: 0.364318\t Accuracy:84.808%\n",
            "Epoch : 3 [25600/60000 (43%)]\tLoss: 0.266111\t Accuracy:84.878%\n",
            "Epoch : 3 [27200/60000 (45%)]\tLoss: 0.237532\t Accuracy:84.845%\n",
            "Epoch : 3 [28800/60000 (48%)]\tLoss: 0.445502\t Accuracy:84.874%\n",
            "Epoch : 3 [30400/60000 (51%)]\tLoss: 0.408668\t Accuracy:84.924%\n",
            "Epoch : 3 [32000/60000 (53%)]\tLoss: 0.421602\t Accuracy:84.899%\n",
            "Epoch : 3 [33600/60000 (56%)]\tLoss: 0.506717\t Accuracy:84.904%\n",
            "Epoch : 3 [35200/60000 (59%)]\tLoss: 0.787937\t Accuracy:84.931%\n",
            "Epoch : 3 [36800/60000 (61%)]\tLoss: 0.422249\t Accuracy:84.926%\n",
            "Epoch : 3 [38400/60000 (64%)]\tLoss: 0.496168\t Accuracy:84.981%\n",
            "Epoch : 3 [40000/60000 (67%)]\tLoss: 0.237314\t Accuracy:84.905%\n",
            "Epoch : 3 [41600/60000 (69%)]\tLoss: 0.355463\t Accuracy:84.915%\n",
            "Epoch : 3 [43200/60000 (72%)]\tLoss: 0.527391\t Accuracy:84.870%\n",
            "Epoch : 3 [44800/60000 (75%)]\tLoss: 0.266783\t Accuracy:84.877%\n",
            "Epoch : 3 [46400/60000 (77%)]\tLoss: 0.327938\t Accuracy:84.845%\n",
            "Epoch : 3 [48000/60000 (80%)]\tLoss: 0.278450\t Accuracy:84.885%\n",
            "Epoch : 3 [49600/60000 (83%)]\tLoss: 0.327762\t Accuracy:84.879%\n",
            "Epoch : 3 [51200/60000 (85%)]\tLoss: 0.194213\t Accuracy:84.912%\n",
            "Epoch : 3 [52800/60000 (88%)]\tLoss: 0.435750\t Accuracy:84.926%\n",
            "Epoch : 3 [54400/60000 (91%)]\tLoss: 0.340593\t Accuracy:84.884%\n",
            "Epoch : 3 [56000/60000 (93%)]\tLoss: 0.674298\t Accuracy:84.885%\n",
            "Epoch : 3 [57600/60000 (96%)]\tLoss: 0.290308\t Accuracy:84.887%\n",
            "Epoch : 3 [59200/60000 (99%)]\tLoss: 0.303330\t Accuracy:84.919%\n",
            "Epoch : 4 [0/60000 (0%)]\tLoss: 0.261716\t Accuracy:93.750%\n",
            "Epoch : 4 [1600/60000 (3%)]\tLoss: 0.342200\t Accuracy:84.926%\n",
            "Epoch : 4 [3200/60000 (5%)]\tLoss: 0.715064\t Accuracy:85.272%\n",
            "Epoch : 4 [4800/60000 (8%)]\tLoss: 0.355908\t Accuracy:85.844%\n",
            "Epoch : 4 [6400/60000 (11%)]\tLoss: 0.464143\t Accuracy:85.992%\n",
            "Epoch : 4 [8000/60000 (13%)]\tLoss: 0.567745\t Accuracy:85.931%\n",
            "Epoch : 4 [9600/60000 (16%)]\tLoss: 0.514517\t Accuracy:85.891%\n",
            "Epoch : 4 [11200/60000 (19%)]\tLoss: 0.296523\t Accuracy:85.969%\n",
            "Epoch : 4 [12800/60000 (21%)]\tLoss: 0.695660\t Accuracy:85.988%\n",
            "Epoch : 4 [14400/60000 (24%)]\tLoss: 0.516601\t Accuracy:85.969%\n",
            "Epoch : 4 [16000/60000 (27%)]\tLoss: 0.414585\t Accuracy:85.878%\n",
            "Epoch : 4 [17600/60000 (29%)]\tLoss: 0.171552\t Accuracy:85.799%\n",
            "Epoch : 4 [19200/60000 (32%)]\tLoss: 0.250397\t Accuracy:85.696%\n",
            "Epoch : 4 [20800/60000 (35%)]\tLoss: 0.416153\t Accuracy:85.666%\n",
            "Epoch : 4 [22400/60000 (37%)]\tLoss: 0.513872\t Accuracy:85.610%\n",
            "Epoch : 4 [24000/60000 (40%)]\tLoss: 0.287720\t Accuracy:85.644%\n",
            "Epoch : 4 [25600/60000 (43%)]\tLoss: 0.344106\t Accuracy:85.647%\n",
            "Epoch : 4 [27200/60000 (45%)]\tLoss: 0.412150\t Accuracy:85.543%\n",
            "Epoch : 4 [28800/60000 (48%)]\tLoss: 0.480363\t Accuracy:85.513%\n",
            "Epoch : 4 [30400/60000 (51%)]\tLoss: 0.489192\t Accuracy:85.522%\n",
            "Epoch : 4 [32000/60000 (53%)]\tLoss: 0.462629\t Accuracy:85.430%\n",
            "Epoch : 4 [33600/60000 (56%)]\tLoss: 0.391614\t Accuracy:85.422%\n",
            "Epoch : 4 [35200/60000 (59%)]\tLoss: 0.953541\t Accuracy:85.377%\n",
            "Epoch : 4 [36800/60000 (61%)]\tLoss: 0.450078\t Accuracy:85.323%\n",
            "Epoch : 4 [38400/60000 (64%)]\tLoss: 0.289034\t Accuracy:85.369%\n",
            "Epoch : 4 [40000/60000 (67%)]\tLoss: 0.309072\t Accuracy:85.392%\n",
            "Epoch : 4 [41600/60000 (69%)]\tLoss: 0.469146\t Accuracy:85.401%\n",
            "Epoch : 4 [43200/60000 (72%)]\tLoss: 0.780823\t Accuracy:85.402%\n",
            "Epoch : 4 [44800/60000 (75%)]\tLoss: 0.247960\t Accuracy:85.345%\n",
            "Epoch : 4 [46400/60000 (77%)]\tLoss: 0.306124\t Accuracy:85.312%\n",
            "Epoch : 4 [48000/60000 (80%)]\tLoss: 0.418491\t Accuracy:85.324%\n",
            "Epoch : 4 [49600/60000 (83%)]\tLoss: 0.316983\t Accuracy:85.298%\n",
            "Epoch : 4 [51200/60000 (85%)]\tLoss: 0.148175\t Accuracy:85.287%\n",
            "Epoch : 4 [52800/60000 (88%)]\tLoss: 0.368264\t Accuracy:85.287%\n",
            "Epoch : 4 [54400/60000 (91%)]\tLoss: 0.420478\t Accuracy:85.240%\n",
            "Epoch : 4 [56000/60000 (93%)]\tLoss: 0.637441\t Accuracy:85.208%\n",
            "Epoch : 4 [57600/60000 (96%)]\tLoss: 0.179102\t Accuracy:85.206%\n",
            "Epoch : 4 [59200/60000 (99%)]\tLoss: 0.410977\t Accuracy:85.241%\n"
          ],
          "name": "stdout"
        }
      ]
    },
    {
      "cell_type": "code",
      "metadata": {
        "id": "d5NF6JqxFCkn"
      },
      "source": [
        "def evaluate(model):\n",
        "    correct = 0 \n",
        "    for test_imgs, test_labels in test_loader:\n",
        "        test_imgs = Variable(test_imgs).float()\n",
        "        output = model(test_imgs)\n",
        "        predicted = torch.max(output,1)[1]\n",
        "        correct += (predicted == test_labels).sum()\n",
        "    print(\"Test accuracy:{:.3f} \".format( float(correct) / (len(test_loader)*BATCH_SIZE)))"
      ],
      "execution_count": 9,
      "outputs": []
    },
    {
      "cell_type": "code",
      "metadata": {
        "colab": {
          "base_uri": "https://localhost:8080/"
        },
        "id": "kVbIBS9QHhij",
        "outputId": "f314d0c8-1934-4490-e4e0-d45730ebe783"
      },
      "source": [
        "evaluate(cnn)"
      ],
      "execution_count": 10,
      "outputs": [
        {
          "output_type": "stream",
          "text": [
            "Test accuracy:0.852 \n"
          ],
          "name": "stdout"
        }
      ]
    },
    {
      "cell_type": "code",
      "metadata": {
        "id": "U1RmhvygHosQ"
      },
      "source": [
        ""
      ],
      "execution_count": 10,
      "outputs": []
    }
  ]
}